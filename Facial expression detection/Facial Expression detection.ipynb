{
 "cells": [
  {
   "cell_type": "markdown",
   "id": "dacd49e2-d052-41ab-bf58-312b3547bedd",
   "metadata": {},
   "source": [
    "### Loading Images"
   ]
  },
  {
   "cell_type": "code",
   "execution_count": 1,
   "id": "a8804d9c-c327-4943-ae0f-1462b195d2f5",
   "metadata": {},
   "outputs": [],
   "source": [
    "import os\n",
    "import random\n",
    "import cv2\n",
    "import pandas as pd\n",
    "import numpy as np\n",
    "import matplotlib.pyplot as plt"
   ]
  },
  {
   "cell_type": "code",
   "execution_count": 2,
   "id": "438e1ada-eae3-4a77-ba11-32d96655bf3e",
   "metadata": {},
   "outputs": [],
   "source": [
    "current_directory = os.getcwd()"
   ]
  },
  {
   "cell_type": "code",
   "execution_count": 3,
   "id": "c242fa6e-2094-4bf3-be26-81207f3bd71a",
   "metadata": {},
   "outputs": [
    {
     "data": {
      "text/plain": [
       "'C:\\\\Users\\\\sruji\\\\Downloads\\\\DS\\\\ML Practice\\\\CNN\\\\Facial expression detection'"
      ]
     },
     "execution_count": 3,
     "metadata": {},
     "output_type": "execute_result"
    }
   ],
   "source": [
    "current_directory"
   ]
  },
  {
   "cell_type": "code",
   "execution_count": 4,
   "id": "876ab812-bc3f-4267-9aa5-40dddb0abf8b",
   "metadata": {},
   "outputs": [],
   "source": [
    "train_path = os.path.join(current_directory, 'archive', 'train')"
   ]
  },
  {
   "cell_type": "code",
   "execution_count": 5,
   "id": "d0230f28-4a9d-40ad-8a0b-153b0b7f4673",
   "metadata": {},
   "outputs": [
    {
     "data": {
      "text/plain": [
       "'C:\\\\Users\\\\sruji\\\\Downloads\\\\DS\\\\ML Practice\\\\CNN\\\\Facial expression detection\\\\archive\\\\train'"
      ]
     },
     "execution_count": 5,
     "metadata": {},
     "output_type": "execute_result"
    }
   ],
   "source": [
    "train_path"
   ]
  },
  {
   "cell_type": "code",
   "execution_count": 6,
   "id": "9f8f2000-d36d-47e9-82a4-c3f993d27066",
   "metadata": {},
   "outputs": [],
   "source": [
    "test_path = os.path.join(current_directory, 'archive', 'test')"
   ]
  },
  {
   "cell_type": "code",
   "execution_count": 7,
   "id": "d014f6a9-031a-4968-8bc2-7600e1c16ca3",
   "metadata": {},
   "outputs": [
    {
     "data": {
      "text/plain": [
       "'C:\\\\Users\\\\sruji\\\\Downloads\\\\DS\\\\ML Practice\\\\CNN\\\\Facial expression detection\\\\archive\\\\test'"
      ]
     },
     "execution_count": 7,
     "metadata": {},
     "output_type": "execute_result"
    }
   ],
   "source": [
    "test_path"
   ]
  },
  {
   "cell_type": "code",
   "execution_count": 8,
   "id": "05cdd948-9747-4e08-aeb0-8e14b16e7014",
   "metadata": {},
   "outputs": [],
   "source": [
    "surprise_train = os.path.join(train_path, 'surprise')"
   ]
  },
  {
   "cell_type": "code",
   "execution_count": 9,
   "id": "0ce5945a-f17e-4776-addc-eef0762b0f09",
   "metadata": {},
   "outputs": [],
   "source": [
    "surprise_test = os.path.join(test_path, 'surprise')"
   ]
  },
  {
   "cell_type": "code",
   "execution_count": 10,
   "id": "ce95ca68-5679-431d-90e8-ff1ba801ecbc",
   "metadata": {},
   "outputs": [],
   "source": [
    "sad_train = os.path.join(train_path, 'sad')"
   ]
  },
  {
   "cell_type": "code",
   "execution_count": 11,
   "id": "0685d95c-153f-433c-bb93-7265a2c53e23",
   "metadata": {},
   "outputs": [],
   "source": [
    "sad_test = os.path.join(test_path, 'sad')"
   ]
  },
  {
   "cell_type": "code",
   "execution_count": 12,
   "id": "8b7b5071-0316-4d5b-8aff-ac0a53d7561d",
   "metadata": {},
   "outputs": [],
   "source": [
    "neutral_train = os.path.join(train_path, 'neutral')"
   ]
  },
  {
   "cell_type": "code",
   "execution_count": 13,
   "id": "84af51d3-c08e-4970-bc25-d14831381f08",
   "metadata": {},
   "outputs": [],
   "source": [
    "neutral_test = os.path.join(test_path, 'neutral')"
   ]
  },
  {
   "cell_type": "code",
   "execution_count": 14,
   "id": "81767318-7c49-483f-88c5-36702ac2852d",
   "metadata": {},
   "outputs": [],
   "source": [
    "happy_train = os.path.join(train_path, 'happy')"
   ]
  },
  {
   "cell_type": "code",
   "execution_count": 15,
   "id": "8352057e-fc1c-40f0-b7c9-0ceaf0867595",
   "metadata": {},
   "outputs": [],
   "source": [
    "happy_test = os.path.join(test_path, 'happy')"
   ]
  },
  {
   "cell_type": "code",
   "execution_count": 16,
   "id": "b2ba1c8b-a390-4176-942d-737b7bfdad21",
   "metadata": {},
   "outputs": [],
   "source": [
    "fear_train = os.path.join(train_path, 'fear')"
   ]
  },
  {
   "cell_type": "code",
   "execution_count": 17,
   "id": "793c57a5-a65c-45cf-a73a-8b11d0e4c2d3",
   "metadata": {},
   "outputs": [],
   "source": [
    "fear_test = os.path.join(test_path, 'fear')"
   ]
  },
  {
   "cell_type": "code",
   "execution_count": 18,
   "id": "c0ae1a4a-3c54-4880-bc87-3e02c542c935",
   "metadata": {},
   "outputs": [],
   "source": [
    "disgust_train = os.path.join(train_path, 'disgust')"
   ]
  },
  {
   "cell_type": "code",
   "execution_count": 19,
   "id": "04bbed92-8728-4175-91b7-85a9989fe2b6",
   "metadata": {},
   "outputs": [],
   "source": [
    "disgust_test = os.path.join(test_path, 'disgust')"
   ]
  },
  {
   "cell_type": "code",
   "execution_count": 20,
   "id": "95375856-5200-4575-88af-c7e2b1f6ab9a",
   "metadata": {},
   "outputs": [],
   "source": [
    "angry_train = os.path.join(train_path, 'angry')"
   ]
  },
  {
   "cell_type": "code",
   "execution_count": 21,
   "id": "76c2a86a-7205-4580-90e3-910ffee199fb",
   "metadata": {},
   "outputs": [],
   "source": [
    "angry_test = os.path.join(test_path, 'angry')"
   ]
  },
  {
   "cell_type": "code",
   "execution_count": 22,
   "id": "df17b165-1375-4307-a8d5-53ce7da5eee6",
   "metadata": {},
   "outputs": [],
   "source": [
    "labels = {'surprise':0,'sad':1, 'neutral':2, 'happy':3, 'fear':4, 'disgust':5, 'angry':6}"
   ]
  },
  {
   "cell_type": "code",
   "execution_count": 23,
   "id": "166d4d77-c9ea-4170-8df1-855aa08ab56d",
   "metadata": {},
   "outputs": [],
   "source": [
    "train_paths = {'surprise':surprise_train,'sad':sad_train, 'neutral':neutral_train, 'happy':happy_train, 'fear':fear_train, 'disgust':disgust_train, 'angry':angry_train}"
   ]
  },
  {
   "cell_type": "code",
   "execution_count": 24,
   "id": "06ce35fa-2298-4278-af2f-9bf37bd536ea",
   "metadata": {},
   "outputs": [
    {
     "data": {
      "text/plain": [
       "{'surprise': 'C:\\\\Users\\\\sruji\\\\Downloads\\\\DS\\\\ML Practice\\\\CNN\\\\Facial expression detection\\\\archive\\\\train\\\\surprise',\n",
       " 'sad': 'C:\\\\Users\\\\sruji\\\\Downloads\\\\DS\\\\ML Practice\\\\CNN\\\\Facial expression detection\\\\archive\\\\train\\\\sad',\n",
       " 'neutral': 'C:\\\\Users\\\\sruji\\\\Downloads\\\\DS\\\\ML Practice\\\\CNN\\\\Facial expression detection\\\\archive\\\\train\\\\neutral',\n",
       " 'happy': 'C:\\\\Users\\\\sruji\\\\Downloads\\\\DS\\\\ML Practice\\\\CNN\\\\Facial expression detection\\\\archive\\\\train\\\\happy',\n",
       " 'fear': 'C:\\\\Users\\\\sruji\\\\Downloads\\\\DS\\\\ML Practice\\\\CNN\\\\Facial expression detection\\\\archive\\\\train\\\\fear',\n",
       " 'disgust': 'C:\\\\Users\\\\sruji\\\\Downloads\\\\DS\\\\ML Practice\\\\CNN\\\\Facial expression detection\\\\archive\\\\train\\\\disgust',\n",
       " 'angry': 'C:\\\\Users\\\\sruji\\\\Downloads\\\\DS\\\\ML Practice\\\\CNN\\\\Facial expression detection\\\\archive\\\\train\\\\angry'}"
      ]
     },
     "execution_count": 24,
     "metadata": {},
     "output_type": "execute_result"
    }
   ],
   "source": [
    "train_paths"
   ]
  },
  {
   "cell_type": "code",
   "execution_count": 25,
   "id": "7c7533f1-688a-44da-af98-ac7dd63cc056",
   "metadata": {},
   "outputs": [],
   "source": [
    "def get_images(path, label, size=(64,64)):\n",
    "    labels=[]\n",
    "    images=[]\n",
    "    for filename in os.listdir(path):\n",
    "        if filename.lower().endswith('jpg'):\n",
    "            filepath = os.path.join(path, filename)\n",
    "            img = cv2.imread(filepath)\n",
    "            if img is None:\n",
    "                print(f'Failed to load Image: {filepath}')\n",
    "                continue\n",
    "            img = cv2.cvtColor(img, cv2.COLOR_BGR2GRAY)\n",
    "            img = cv2.resize(img, size)\n",
    "            img = img/255.0\n",
    "            images.append(img)\n",
    "            labels.append(label)\n",
    "\n",
    "        if len(images)>10000:\n",
    "            break\n",
    "    images = np.array(images).reshape(-1, size[0], size[1], 1)\n",
    "    labels = np.array(labels, dtype=np.int32)\n",
    "    return images, labels"
   ]
  },
  {
   "cell_type": "code",
   "execution_count": 27,
   "id": "38f44f91-4cfd-4fd8-b90c-7ac9e43f007c",
   "metadata": {},
   "outputs": [],
   "source": [
    "def load_dataset(train_paths, label_map, size=(64,64)):\n",
    "    all_images=[]\n",
    "    all_labels=[]\n",
    "\n",
    "    for emotion, path in train_paths.items():\n",
    "        print(f'Loading emotion {emotion}')\n",
    "        label = label_map[emotion]\n",
    "        images, labels = get_images(path, label)\n",
    "        all_images.append(images)\n",
    "        all_labels.append(labels)\n",
    "\n",
    "    X = np.vstack(all_images)\n",
    "    y = np.hstack(all_labels)\n",
    "\n",
    "    return X, y"
   ]
  },
  {
   "cell_type": "code",
   "execution_count": 28,
   "id": "1561e521-3ac3-469f-92d5-0685451fdd0a",
   "metadata": {},
   "outputs": [
    {
     "name": "stdout",
     "output_type": "stream",
     "text": [
      "Loading emotion surprise\n",
      "Loading emotion sad\n",
      "Loading emotion neutral\n",
      "Loading emotion happy\n",
      "Loading emotion fear\n",
      "Loading emotion disgust\n",
      "Loading emotion angry\n"
     ]
    }
   ],
   "source": [
    "X, y = load_dataset(train_paths, labels)"
   ]
  },
  {
   "cell_type": "code",
   "execution_count": 29,
   "id": "53451167-d0c0-45e9-8918-f57a012bca86",
   "metadata": {},
   "outputs": [
    {
     "data": {
      "text/plain": [
       "(28709, 64, 64, 1)"
      ]
     },
     "execution_count": 29,
     "metadata": {},
     "output_type": "execute_result"
    }
   ],
   "source": [
    "X.shape"
   ]
  },
  {
   "cell_type": "code",
   "execution_count": 30,
   "id": "f6589a2c-8843-47fe-b7e4-255636fcb4d8",
   "metadata": {},
   "outputs": [
    {
     "data": {
      "text/plain": [
       "(28709,)"
      ]
     },
     "execution_count": 30,
     "metadata": {},
     "output_type": "execute_result"
    }
   ],
   "source": [
    "y.shape"
   ]
  },
  {
   "cell_type": "code",
   "execution_count": 31,
   "id": "33474590-a3b1-4693-88d7-69cb5536e070",
   "metadata": {},
   "outputs": [],
   "source": [
    "test_paths = {'surprise':surprise_test,'sad':sad_test, 'neutral':neutral_test, 'happy':happy_test, 'fear':fear_test, 'disgust':disgust_test, 'angry':angry_test}"
   ]
  },
  {
   "cell_type": "code",
   "execution_count": 32,
   "id": "2cd2540a-c4e3-41e3-a6be-a3ab5987f951",
   "metadata": {},
   "outputs": [
    {
     "name": "stdout",
     "output_type": "stream",
     "text": [
      "Loading emotion surprise\n",
      "Loading emotion sad\n",
      "Loading emotion neutral\n",
      "Loading emotion happy\n",
      "Loading emotion fear\n",
      "Loading emotion disgust\n",
      "Loading emotion angry\n"
     ]
    }
   ],
   "source": [
    "X_test, y_test = load_dataset(test_paths, labels)"
   ]
  },
  {
   "cell_type": "code",
   "execution_count": 33,
   "id": "21e6b06c-d0dc-4159-854f-563d17651cb5",
   "metadata": {},
   "outputs": [
    {
     "data": {
      "text/plain": [
       "(7178, 64, 64, 1)"
      ]
     },
     "execution_count": 33,
     "metadata": {},
     "output_type": "execute_result"
    }
   ],
   "source": [
    "X_test.shape"
   ]
  },
  {
   "cell_type": "code",
   "execution_count": 34,
   "id": "61912520-c8fc-4df6-af0b-1583aef6ccec",
   "metadata": {},
   "outputs": [
    {
     "data": {
      "text/plain": [
       "(7178,)"
      ]
     },
     "execution_count": 34,
     "metadata": {},
     "output_type": "execute_result"
    }
   ],
   "source": [
    "y_test.shape"
   ]
  },
  {
   "cell_type": "markdown",
   "id": "049f201d-9b3d-4182-9d95-40d35c550f44",
   "metadata": {},
   "source": [
    "### Data Augmentation"
   ]
  },
  {
   "cell_type": "code",
   "execution_count": 35,
   "id": "5554869c-3f85-4cb5-955d-8cf636955d93",
   "metadata": {},
   "outputs": [],
   "source": [
    "from tensorflow.keras.preprocessing.image import ImageDataGenerator"
   ]
  },
  {
   "cell_type": "code",
   "execution_count": 38,
   "id": "e6f6ce3e-3ffa-4cb1-bbca-49e29748cc4e",
   "metadata": {},
   "outputs": [],
   "source": [
    "datagen = ImageDataGenerator(\n",
    "    rotation_range=15,\n",
    "    width_shift_range=0.1,\n",
    "    height_shift_range=0.1,\n",
    "    shear_range=0.1,\n",
    "    zoom_range=0.1,\n",
    "    horizontal_flip=True,\n",
    "    fill_mode='nearest'\n",
    ")"
   ]
  },
  {
   "cell_type": "code",
   "execution_count": 40,
   "id": "e0814558-0d6f-4952-93ef-ebf1bc529d09",
   "metadata": {},
   "outputs": [
    {
     "data": {
      "image/png": "[encoded data removed]",
      "text/plain": [
       "<Figure size 640x480 with 1 Axes>"
      ]
     },
     "metadata": {},
     "output_type": "display_data"
    }
   ],
   "source": [
    "for X_batch, y_batch in datagen.flow(X, y, batch_size=1):\n",
    "    plt.imshow(X_batch[0].reshape(64,64), cmap='gray')\n",
    "    plt.title(f'{y_batch[0]}')\n",
    "    plt.axis('off')\n",
    "    plt.show()\n",
    "    break"
   ]
  },
  {
   "cell_type": "markdown",
   "id": "ed4ec03d-c349-4b19-ae07-93260b4d45a2",
   "metadata": {},
   "source": [
    "### Model building"
   ]
  },
  {
   "cell_type": "code",
   "execution_count": 42,
   "id": "21bdfeb9-5d93-4070-b0ef-b5ae5ba51465",
   "metadata": {},
   "outputs": [],
   "source": [
    "from tensorflow.keras.models import Model\n",
    "from tensorflow.keras.layers import Dense, Conv2D ,Dropout, Activation, BatchNormalization, Flatten, MaxPooling2D, Input"
   ]
  },
  {
   "cell_type": "code",
   "execution_count": 43,
   "id": "edf54243-653b-4603-85fb-72a25970eef1",
   "metadata": {},
   "outputs": [],
   "source": [
    "i = Input(shape=(64,64,1))\n",
    "x = Conv2D(32, (3,3), use_bias=False, padding='same')(i)\n",
    "x = BatchNormalization()(x)\n",
    "x = Activation('relu')(x)\n",
    "x = Conv2D(32, (3,3), use_bias=False, padding='same')(x)\n",
    "x = BatchNormalization()(x)\n",
    "x = Activation('relu')(x)\n",
    "\n",
    "x = MaxPooling2D((2,2))(x)\n",
    "\n",
    "x = Conv2D(64, (3,3), use_bias=False, padding='same')(x)\n",
    "x = BatchNormalization()(x)\n",
    "x = Activation('relu')(x)\n",
    "x = Conv2D(64, (3,3), use_bias=False, padding='same')(x)\n",
    "x = BatchNormalization()(x)\n",
    "x = Activation('relu')(x)\n",
    "\n",
    "x = MaxPooling2D((2,2))(x)\n",
    "\n",
    "x = Conv2D(128, (3,3), use_bias=False, padding='same')(x)\n",
    "x = BatchNormalization()(x)\n",
    "x = Activation('relu')(x)\n",
    "x = Conv2D(128, (3,3), use_bias=False, padding='same')(x)\n",
    "x = BatchNormalization()(x)\n",
    "x = Activation('relu')(x)\n",
    "\n",
    "x = MaxPooling2D((2,2))(x)\n",
    "\n",
    "x = Flatten()(x)\n",
    "\n",
    "x = Dense(1024, activation='relu')(x)\n",
    "x = Dense(256, activation='relu')(x)\n",
    "x = Dense(len(labels), activation='softmax')(x)"
   ]
  },
  {
   "cell_type": "code",
   "execution_count": 57,
   "id": "a630a06e-55b0-4a7b-a161-8e45a32e4b39",
   "metadata": {},
   "outputs": [],
   "source": [
    "model = Model(i,x)"
   ]
  },
  {
   "cell_type": "code",
   "execution_count": 58,
   "id": "309e374e-cd15-4500-85ff-cabc3f2ec64f",
   "metadata": {},
   "outputs": [],
   "source": [
    "model.compile(optimizer='adam', loss='sparse_categorical_crossentropy', metrics=['accuracy'])"
   ]
  },
  {
   "cell_type": "code",
   "execution_count": 50,
   "id": "e61bc4c8-3936-4564-bded-1ca5286ae2b7",
   "metadata": {},
   "outputs": [
    {
     "name": "stdout",
     "output_type": "stream",
     "text": [
      "Epoch 1/5\n",
      "\u001b[1m448/448\u001b[0m \u001b[32m━━━━━━━━━━━━━━━━━━━━\u001b[0m\u001b[37m\u001b[0m \u001b[1m254s\u001b[0m 566ms/step - accuracy: 0.6215 - loss: 0.9973 - val_accuracy: 0.5945 - val_loss: 1.0759\n",
      "Epoch 2/5\n",
      "\u001b[1m448/448\u001b[0m \u001b[32m━━━━━━━━━━━━━━━━━━━━\u001b[0m\u001b[37m\u001b[0m \u001b[1m12s\u001b[0m 26ms/step - accuracy: 0.6719 - loss: 1.0012 - val_accuracy: 0.5915 - val_loss: 1.0864\n",
      "Epoch 3/5\n",
      "\u001b[1m448/448\u001b[0m \u001b[32m━━━━━━━━━━━━━━━━━━━━\u001b[0m\u001b[37m\u001b[0m \u001b[1m291s\u001b[0m 650ms/step - accuracy: 0.6212 - loss: 0.9963 - val_accuracy: 0.5850 - val_loss: 1.0949\n",
      "Epoch 4/5\n",
      "\u001b[1m448/448\u001b[0m \u001b[32m━━━━━━━━━━━━━━━━━━━━\u001b[0m\u001b[37m\u001b[0m \u001b[1m12s\u001b[0m 27ms/step - accuracy: 0.5938 - loss: 1.1035 - val_accuracy: 0.5875 - val_loss: 1.0867\n",
      "Epoch 5/5\n",
      "\u001b[1m448/448\u001b[0m \u001b[32m━━━━━━━━━━━━━━━━━━━━\u001b[0m\u001b[37m\u001b[0m \u001b[1m288s\u001b[0m 643ms/step - accuracy: 0.6254 - loss: 0.9837 - val_accuracy: 0.6140 - val_loss: 1.0187\n"
     ]
    }
   ],
   "source": [
    "result = model.fit(datagen.flow(X, y, batch_size=64),\n",
    "    validation_data=(X_test, y_test), \n",
    "    epochs=5, steps_per_epoch=len(X)//64)"
   ]
  },
  {
   "cell_type": "markdown",
   "id": "0157e887-9546-447e-9e54-e4f3da3e5693",
   "metadata": {},
   "source": [
    "### Early stop & Checkpoint"
   ]
  },
  {
   "cell_type": "code",
   "execution_count": 51,
   "id": "a8e3198c-1fb4-4fb9-8eaa-35d40145a96e",
   "metadata": {},
   "outputs": [],
   "source": [
    "from tensorflow.keras.callbacks import EarlyStopping, ModelCheckpoint"
   ]
  },
  {
   "cell_type": "code",
   "execution_count": 53,
   "id": "c1859026-7a3e-47ba-aa44-b09090d81d41",
   "metadata": {},
   "outputs": [],
   "source": [
    "earlystop = EarlyStopping(\n",
    "    monitor='val_accuracy',\n",
    "    patience=3,\n",
    "    restore_best_weights=True\n",
    ")"
   ]
  },
  {
   "cell_type": "code",
   "execution_count": 55,
   "id": "760c377c-9df8-4e87-bdbb-b9b3cf9133d0",
   "metadata": {},
   "outputs": [],
   "source": [
    "checkpoint = ModelCheckpoint(\n",
    "    'best_model.h5',\n",
    "    monitor='val_accuracy',\n",
    "    save_best_only=True,\n",
    "    verbose=1\n",
    ")"
   ]
  },
  {
   "cell_type": "code",
   "execution_count": 63,
   "id": "5a6f184e-305d-4582-900d-95f728efc558",
   "metadata": {},
   "outputs": [
    {
     "name": "stdout",
     "output_type": "stream",
     "text": [
      "Epoch 1/20\n",
      "\u001b[1m448/448\u001b[0m \u001b[32m━━━━━━━━━━━━━━━━━━━━\u001b[0m\u001b[37m\u001b[0m \u001b[1m0s\u001b[0m 558ms/step - accuracy: 0.6492 - loss: 0.9301  \n",
      "Epoch 1: val_accuracy did not improve from 0.62399\n",
      "\u001b[1m448/448\u001b[0m \u001b[32m━━━━━━━━━━━━━━━━━━━━\u001b[0m\u001b[37m\u001b[0m \u001b[1m265s\u001b[0m 591ms/step - accuracy: 0.6492 - loss: 0.9301 - val_accuracy: 0.6023 - val_loss: 1.0701\n",
      "Epoch 2/20\n",
      "\u001b[1m  1/448\u001b[0m \u001b[37m━━━━━━━━━━━━━━━━━━━━\u001b[0m \u001b[1m4:32\u001b[0m 611ms/step - accuracy: 0.6250 - loss: 0.9621\n",
      "Epoch 2: val_accuracy did not improve from 0.62399\n",
      "\u001b[1m448/448\u001b[0m \u001b[32m━━━━━━━━━━━━━━━━━━━━\u001b[0m\u001b[37m\u001b[0m \u001b[1m13s\u001b[0m 27ms/step - accuracy: 0.6250 - loss: 0.9621 - val_accuracy: 0.6024 - val_loss: 1.0772\n",
      "Epoch 3/20\n",
      "\u001b[1m448/448\u001b[0m \u001b[32m━━━━━━━━━━━━━━━━━━━━\u001b[0m\u001b[37m\u001b[0m \u001b[1m0s\u001b[0m 595ms/step - accuracy: 0.6556 - loss: 0.9107  \n",
      "Epoch 3: val_accuracy did not improve from 0.62399\n",
      "\u001b[1m448/448\u001b[0m \u001b[32m━━━━━━━━━━━━━━━━━━━━\u001b[0m\u001b[37m\u001b[0m \u001b[1m279s\u001b[0m 623ms/step - accuracy: 0.6556 - loss: 0.9108 - val_accuracy: 0.6117 - val_loss: 1.0266\n",
      "Epoch 4/20\n",
      "\u001b[1m  1/448\u001b[0m \u001b[37m━━━━━━━━━━━━━━━━━━━━\u001b[0m \u001b[1m4:21\u001b[0m 586ms/step - accuracy: 0.6719 - loss: 0.8483\n",
      "Epoch 4: val_accuracy did not improve from 0.62399\n",
      "\u001b[1m448/448\u001b[0m \u001b[32m━━━━━━━━━━━━━━━━━━━━\u001b[0m\u001b[37m\u001b[0m \u001b[1m13s\u001b[0m 28ms/step - accuracy: 0.6719 - loss: 0.8483 - val_accuracy: 0.6156 - val_loss: 1.0174\n",
      "Epoch 5/20\n",
      "\u001b[1m448/448\u001b[0m \u001b[32m━━━━━━━━━━━━━━━━━━━━\u001b[0m\u001b[37m\u001b[0m \u001b[1m0s\u001b[0m 611ms/step - accuracy: 0.6592 - loss: 0.9036  \n",
      "Epoch 5: val_accuracy did not improve from 0.62399\n",
      "\u001b[1m448/448\u001b[0m \u001b[32m━━━━━━━━━━━━━━━━━━━━\u001b[0m\u001b[37m\u001b[0m \u001b[1m287s\u001b[0m 641ms/step - accuracy: 0.6592 - loss: 0.9036 - val_accuracy: 0.6223 - val_loss: 1.0152\n",
      "Epoch 6/20\n",
      "\u001b[1m  1/448\u001b[0m \u001b[37m━━━━━━━━━━━━━━━━━━━━\u001b[0m \u001b[1m4:38\u001b[0m 623ms/step - accuracy: 0.6406 - loss: 1.0595\n",
      "Epoch 6: val_accuracy did not improve from 0.62399\n",
      "\u001b[1m448/448\u001b[0m \u001b[32m━━━━━━━━━━━━━━━━━━━━\u001b[0m\u001b[37m\u001b[0m \u001b[1m13s\u001b[0m 28ms/step - accuracy: 0.6406 - loss: 1.0595 - val_accuracy: 0.6188 - val_loss: 1.0290\n",
      "Epoch 7/20\n",
      "\u001b[1m448/448\u001b[0m \u001b[32m━━━━━━━━━━━━━━━━━━━━\u001b[0m\u001b[37m\u001b[0m \u001b[1m0s\u001b[0m 605ms/step - accuracy: 0.6617 - loss: 0.8966  \n",
      "Epoch 7: val_accuracy improved from 0.62399 to 0.62622, saving model to best_model.h5\n"
     ]
    },
    {
     "name": "stderr",
     "output_type": "stream",
     "text": [
      "WARNING:absl:You are saving your model as an HDF5 file via `model.save()` or `keras.saving.save_model(model)`. This file format is considered legacy. We recommend using instead the native Keras format, e.g. `model.save('my_model.keras')` or `keras.saving.save_model(model, 'my_model.keras')`. \n"
     ]
    },
    {
     "name": "stdout",
     "output_type": "stream",
     "text": [
      "\u001b[1m448/448\u001b[0m \u001b[32m━━━━━━━━━━━━━━━━━━━━\u001b[0m\u001b[37m\u001b[0m \u001b[1m285s\u001b[0m 637ms/step - accuracy: 0.6617 - loss: 0.8966 - val_accuracy: 0.6262 - val_loss: 0.9895\n",
      "Epoch 8/20\n",
      "\u001b[1m  1/448\u001b[0m \u001b[37m━━━━━━━━━━━━━━━━━━━━\u001b[0m \u001b[1m4:30\u001b[0m 606ms/step - accuracy: 0.6562 - loss: 0.9956\n",
      "Epoch 8: val_accuracy improved from 0.62622 to 0.62761, saving model to best_model.h5\n"
     ]
    },
    {
     "name": "stderr",
     "output_type": "stream",
     "text": [
      "WARNING:absl:You are saving your model as an HDF5 file via `model.save()` or `keras.saving.save_model(model)`. This file format is considered legacy. We recommend using instead the native Keras format, e.g. `model.save('my_model.keras')` or `keras.saving.save_model(model, 'my_model.keras')`. \n"
     ]
    },
    {
     "name": "stdout",
     "output_type": "stream",
     "text": [
      "\u001b[1m448/448\u001b[0m \u001b[32m━━━━━━━━━━━━━━━━━━━━\u001b[0m\u001b[37m\u001b[0m \u001b[1m14s\u001b[0m 29ms/step - accuracy: 0.6562 - loss: 0.9956 - val_accuracy: 0.6276 - val_loss: 0.9854\n",
      "Epoch 9/20\n",
      "\u001b[1m448/448\u001b[0m \u001b[32m━━━━━━━━━━━━━━━━━━━━\u001b[0m\u001b[37m\u001b[0m \u001b[1m0s\u001b[0m 610ms/step - accuracy: 0.6702 - loss: 0.8814  \n",
      "Epoch 9: val_accuracy did not improve from 0.62761\n",
      "\u001b[1m448/448\u001b[0m \u001b[32m━━━━━━━━━━━━━━━━━━━━\u001b[0m\u001b[37m\u001b[0m \u001b[1m286s\u001b[0m 639ms/step - accuracy: 0.6702 - loss: 0.8814 - val_accuracy: 0.6237 - val_loss: 1.0087\n",
      "Epoch 10/20\n",
      "\u001b[1m  1/448\u001b[0m \u001b[37m━━━━━━━━━━━━━━━━━━━━\u001b[0m \u001b[1m4:26\u001b[0m 595ms/step - accuracy: 0.6875 - loss: 0.9468\n",
      "Epoch 10: val_accuracy did not improve from 0.62761\n",
      "\u001b[1m448/448\u001b[0m \u001b[32m━━━━━━━━━━━━━━━━━━━━\u001b[0m\u001b[37m\u001b[0m \u001b[1m14s\u001b[0m 29ms/step - accuracy: 0.6875 - loss: 0.9468 - val_accuracy: 0.6162 - val_loss: 1.0231\n",
      "Epoch 11/20\n",
      "\u001b[1m448/448\u001b[0m \u001b[32m━━━━━━━━━━━━━━━━━━━━\u001b[0m\u001b[37m\u001b[0m \u001b[1m0s\u001b[0m 613ms/step - accuracy: 0.6764 - loss: 0.8669  \n",
      "Epoch 11: val_accuracy did not improve from 0.62761\n",
      "\u001b[1m448/448\u001b[0m \u001b[32m━━━━━━━━━━━━━━━━━━━━\u001b[0m\u001b[37m\u001b[0m \u001b[1m288s\u001b[0m 644ms/step - accuracy: 0.6764 - loss: 0.8670 - val_accuracy: 0.6195 - val_loss: 1.0149\n"
     ]
    }
   ],
   "source": [
    "history = model.fit(\n",
    "    datagen.flow(X, y, batch_size=64),\n",
    "    validation_data=(X_test, y_test),\n",
    "    epochs=20,\n",
    "    steps_per_epoch=len(X)//64,\n",
    "    callbacks=[earlystop, checkpoint]\n",
    ")"
   ]
  },
  {
   "cell_type": "code",
   "execution_count": 70,
   "id": "5de44d79-abe7-4db0-9c27-ff48872e0217",
   "metadata": {},
   "outputs": [
    {
     "name": "stdout",
     "output_type": "stream",
     "text": [
      "\u001b[1m1/1\u001b[0m \u001b[32m━━━━━━━━━━━━━━━━━━━━\u001b[0m\u001b[37m\u001b[0m \u001b[1m0s\u001b[0m 42ms/step\n",
      "angry\n"
     ]
    },
    {
     "data": {
      "image/png": "[encoded data removed]",
      "text/plain": [
       "<Figure size 640x480 with 1 Axes>"
      ]
     },
     "metadata": {},
     "output_type": "display_data"
    }
   ],
   "source": [
    "idx = random.randint(0, len(X_test)-1)\n",
    "plt.imshow(X_test[idx].squeeze(), cmap='gray')\n",
    "pred = model.predict(np.expand_dims(X_test[idx], axis=0))\n",
    "pred = np.argmax(pred)\n",
    "for key, value in labels.items():\n",
    "    if value == pred:\n",
    "        print(key)\n",
    "        break\n",
    "    else:\n",
    "        continue"
   ]
  },
  {
   "cell_type": "code",
   "execution_count": 72,
   "id": "406ef7d1-7bc2-439a-866c-d60d93bf8c21",
   "metadata": {},
   "outputs": [],
   "source": [
    "model.save('best_model.keras')"
   ]
  },
  {
   "cell_type": "markdown",
   "id": "fb45f399-5676-40fb-8e76-54f58206728a",
   "metadata": {},
   "source": [
    "### Prediction"
   ]
  },
  {
   "cell_type": "code",
   "execution_count": 137,
   "id": "b1dfd0ba-f9e5-437f-ab19-bec8cd430c15",
   "metadata": {},
   "outputs": [],
   "source": [
    "from tensorflow.keras.models import load_model"
   ]
  },
  {
   "cell_type": "code",
   "execution_count": 138,
   "id": "12e44107-2cf9-448b-9bd7-0cfb00f62cfd",
   "metadata": {},
   "outputs": [
    {
     "name": "stderr",
     "output_type": "stream",
     "text": [
      "C:\\Users\\sruji\\anaconda3\\Lib\\site-packages\\keras\\src\\saving\\saving_lib.py:802: UserWarning: Skipping variable loading for optimizer 'rmsprop', because it has 26 variables whereas the saved optimizer has 50 variables. \n",
      "  saveable.load_own_variables(weights_store.get(inner_path))\n"
     ]
    }
   ],
   "source": [
    "model = load_model('best_model.keras', compile=True)"
   ]
  },
  {
   "cell_type": "code",
   "execution_count": 139,
   "id": "7ab4d520-ffbf-4713-bfa5-7976c7569f57",
   "metadata": {},
   "outputs": [],
   "source": [
    "def predict_custom(img_name):\n",
    "    path = os.path.join(current_directory, img_name)\n",
    "    img = cv2.imread(path)\n",
    "    img = cv2.cvtColor(img, cv2.COLOR_BGR2GRAY)\n",
    "    img = cv2.resize(img, (64,64))\n",
    "    img = img.reshape(1,64,64,1)/255.0\n",
    "    pred = model.predict(img)\n",
    "    pred_class = np.argmax(pred)\n",
    "    for key, value in labels.items():\n",
    "        if value == pred_class:\n",
    "            print(key)\n",
    "            break\n",
    "        else:\n",
    "            continue\n",
    "    img_print = img.squeeze()\n",
    "    plt.imshow(img_print, cmap='gray')"
   ]
  },
  {
   "cell_type": "code",
   "execution_count": 140,
   "id": "7f6fde0b-42f2-4e9f-9cf5-b608e4defca9",
   "metadata": {},
   "outputs": [
    {
     "name": "stdout",
     "output_type": "stream",
     "text": [
      "\u001b[1m1/1\u001b[0m \u001b[32m━━━━━━━━━━━━━━━━━━━━\u001b[0m\u001b[37m\u001b[0m \u001b[1m0s\u001b[0m 153ms/step\n",
      "happy\n"
     ]
    },
    {
     "data": {
      "image/png": "[encoded data removed]",
      "text/plain": [
       "<Figure size 640x480 with 1 Axes>"
      ]
     },
     "metadata": {},
     "output_type": "display_data"
    }
   ],
   "source": [
    "predict_custom('image.jpg')"
   ]
  },
  {
   "cell_type": "code",
   "execution_count": null,
   "id": "38b75b6e-4c28-40da-9071-c1296da535ee",
   "metadata": {},
   "outputs": [],
   "source": []
  }
 ],
 "metadata": {
  "kernelspec": {
   "display_name": "Python [conda env:base] *",
   "language": "python",
   "name": "conda-base-py"
  },
  "language_info": {
   "codemirror_mode": {
    "name": "ipython",
    "version": 3
   },
   "file_extension": ".py",
   "mimetype": "text/x-python",
   "name": "python",
   "nbconvert_exporter": "python",
   "pygments_lexer": "ipython3",
   "version": "3.12.7"
  }
 },
 "nbformat": 4,
 "nbformat_minor": 5
}
