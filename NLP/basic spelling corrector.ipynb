{
 "cells": [
  {
   "cell_type": "code",
   "execution_count": 1,
   "id": "8adebea0-af99-4a1e-ad51-b230975ec750",
   "metadata": {},
   "outputs": [],
   "source": [
    "import nltk\n",
    "import string\n",
    "from nltk.tokenize import word_tokenize, sent_tokenize\n",
    "import difflib\n",
    "import Levenshtein\n",
    "from nltk.corpus import wordnet as wn "
   ]
  },
  {
   "cell_type": "code",
   "execution_count": 2,
   "id": "7eeb41e2-e982-4bfc-b55b-7f814c5d0302",
   "metadata": {},
   "outputs": [],
   "source": [
    "all_synsets = wn.all_synsets()"
   ]
  },
  {
   "cell_type": "code",
   "execution_count": 3,
   "id": "feac42a3-3fbf-4be8-b275-c08b7b09207d",
   "metadata": {},
   "outputs": [],
   "source": [
    "all_lemmas = []\n",
    "for syn in all_synsets:\n",
    "    lemma = syn.lemmas()\n",
    "    all_lemmas.extend(lemma)"
   ]
  },
  {
   "cell_type": "code",
   "execution_count": 7,
   "id": "2d195ad5-e2bb-4007-a506-b3f88caeda02",
   "metadata": {},
   "outputs": [],
   "source": [
    "word_list = [lemma.name() for lemma in all_lemmas]"
   ]
  },
  {
   "cell_type": "code",
   "execution_count": 8,
   "id": "970e0f7c-2071-4688-b0c8-fb7986a52350",
   "metadata": {},
   "outputs": [
    {
     "data": {
      "text/plain": [
       "['able', 'unable', 'abaxial', 'dorsal', 'adaxial']"
      ]
     },
     "execution_count": 8,
     "metadata": {},
     "output_type": "execute_result"
    }
   ],
   "source": [
    "word_list[:5]"
   ]
  },
  {
   "cell_type": "code",
   "execution_count": 13,
   "id": "3fd9ec44-ebec-4dfa-a511-d250f75192ec",
   "metadata": {},
   "outputs": [],
   "source": [
    "def distance(word):\n",
    "    dists = {}\n",
    "    for w in word_list:\n",
    "        l_dist = Levenshtein.distance(word,w)\n",
    "        dists[w] = l_dist\n",
    "    closest = min(dists.items(), key=lambda x:x[1])\n",
    "    return closest[0]"
   ]
  },
  {
   "cell_type": "code",
   "execution_count": 14,
   "id": "5df751ba-891e-4abf-b027-caa881d02ca3",
   "metadata": {},
   "outputs": [
    {
     "data": {
      "text/plain": [
       "'special'"
      ]
     },
     "execution_count": 14,
     "metadata": {},
     "output_type": "execute_result"
    }
   ],
   "source": [
    "distance('specal')"
   ]
  },
  {
   "cell_type": "code",
   "execution_count": 15,
   "id": "23c69d56-a0f7-4094-a624-5ab36fc915f3",
   "metadata": {},
   "outputs": [],
   "source": [
    "sent='Yesturday I goood to the markket to buy sum fruuts and vejetables, but I forgott my walet at home and had to runn back quikly. On the way I seen a freind I havent met in yers and we chated for a whille abot old times.'"
   ]
  },
  {
   "cell_type": "code",
   "execution_count": 19,
   "id": "74d53d86-46ab-4394-8c56-aa3dc28e49bb",
   "metadata": {},
   "outputs": [],
   "source": [
    "def sentence_correct(sent, func):\n",
    "    tokens = word_tokenize(sent)\n",
    "    tokens = [w if w in string.punctuation else func(w) for w in tokens]\n",
    "    sent2 = ' '.join(tokens)\n",
    "    for p in string.punctuation:\n",
    "        sent2 = sent2.replace(' '+p,p)\n",
    "    return sent2"
   ]
  },
  {
   "cell_type": "code",
   "execution_count": 26,
   "id": "578960ba-d2b7-46f9-8acc-52a13065075b",
   "metadata": {},
   "outputs": [
    {
     "data": {
      "text/plain": [
       "'yesterday i good two then market two buy sum fucus wand vegetable, but i forgotten mym wallet at home wand shad two runny back quickly. on then way i sheen a remind i haven meth in years wand wye chanted four a while sabot old times.'"
      ]
     },
     "execution_count": 26,
     "metadata": {},
     "output_type": "execute_result"
    }
   ],
   "source": [
    "sentence_correct(sent, correct_word)"
   ]
  },
  {
   "cell_type": "code",
   "execution_count": 25,
   "id": "469c96e3-64bb-4a60-82d8-6d56eb3c9bc0",
   "metadata": {},
   "outputs": [],
   "source": [
    "def correct_word(word):\n",
    "    word = word.lower()\n",
    "    matches = difflib.get_close_matches(word, word_list, n=1, cutoff=0.7)\n",
    "    return matches[0] if matches else word"
   ]
  },
  {
   "cell_type": "code",
   "execution_count": 27,
   "id": "d3c41568-e348-46fe-a0f6-86b81ea2b3e4",
   "metadata": {},
   "outputs": [
    {
     "data": {
      "text/plain": [
       "'yesterday I good go then market go buy sum fruity ane vegetable, but I forgotten m wale at home ane mad go runny back quickly. in then way I keen a fried I haven mat in yes ane wet coated far a while about old times.'"
      ]
     },
     "execution_count": 27,
     "metadata": {},
     "output_type": "execute_result"
    }
   ],
   "source": [
    "sentence_correct(sent, distance)"
   ]
  },
  {
   "cell_type": "code",
   "execution_count": null,
   "id": "a0f3e7a8-7f1c-49e1-abe4-71838a1d1b21",
   "metadata": {},
   "outputs": [],
   "source": []
  }
 ],
 "metadata": {
  "kernelspec": {
   "display_name": "Python 3 (ipykernel)",
   "language": "python",
   "name": "python3"
  },
  "language_info": {
   "codemirror_mode": {
    "name": "ipython",
    "version": 3
   },
   "file_extension": ".py",
   "mimetype": "text/x-python",
   "name": "python",
   "nbconvert_exporter": "python",
   "pygments_lexer": "ipython3",
   "version": "3.11.13"
  }
 },
 "nbformat": 4,
 "nbformat_minor": 5
}
