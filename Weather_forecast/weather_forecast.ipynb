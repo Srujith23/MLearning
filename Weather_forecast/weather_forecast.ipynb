{
 "cells": [
  {
   "cell_type": "markdown",
   "id": "5f9f2449-ffe0-46aa-bd00-9f3d1b2bc295",
   "metadata": {},
   "source": [
    "### Getting location Coordinates"
   ]
  },
  {
   "cell_type": "code",
   "execution_count": 1,
   "id": "0c5f4ff8-c99b-4674-8ccf-0b855a0d510c",
   "metadata": {},
   "outputs": [],
   "source": [
    "from geopy.geocoders import Nominatim"
   ]
  },
  {
   "cell_type": "code",
   "execution_count": 3,
   "id": "bd6a334b-0dd2-4013-b9bf-f36f066a2e06",
   "metadata": {},
   "outputs": [],
   "source": [
    "geolocator = Nominatim(user_agent='weather_forecast')"
   ]
  },
  {
   "cell_type": "code",
   "execution_count": 4,
   "id": "be897d88-5d32-413b-a651-1ca82b41a9a5",
   "metadata": {},
   "outputs": [
    {
     "name": "stdin",
     "output_type": "stream",
     "text": [
      "Please Enter the city name correctly: \n",
      " Hyderabad\n"
     ]
    }
   ],
   "source": [
    "city = input(\"Please Enter the city name correctly: \\n\")"
   ]
  },
  {
   "cell_type": "code",
   "execution_count": 8,
   "id": "1c6137b4-8faa-4695-ba66-8442d537f540",
   "metadata": {},
   "outputs": [],
   "source": [
    "location = geolocator.geocode(f\"{city}, India\")"
   ]
  },
  {
   "cell_type": "code",
   "execution_count": 11,
   "id": "6446d3cb-2cd4-428d-b09e-f94e2f01bba5",
   "metadata": {},
   "outputs": [
    {
     "name": "stdout",
     "output_type": "stream",
     "text": [
      "Latitude: 17.360589\n",
      "Longitude: 78.4740613\n"
     ]
    }
   ],
   "source": [
    "if location==None:\n",
    "    print(f\"Location {city} Not found. Please enter correct city name\\n\")\n",
    "else:\n",
    "    lat = location.latitude\n",
    "    print(f'Latitude: {location.latitude}')\n",
    "    long = location.longitude\n",
    "    print(f'Longitude: {location.longitude}')"
   ]
  },
  {
   "cell_type": "markdown",
   "id": "26b41505-a160-471f-8444-baa31b404d35",
   "metadata": {},
   "source": [
    "### Getting historical data"
   ]
  },
  {
   "cell_type": "code",
   "execution_count": 13,
   "id": "6b60a84b-ec8c-4f58-a0d6-950a4eb6784a",
   "metadata": {},
   "outputs": [],
   "source": [
    "from datetime import timedelta, datetime"
   ]
  },
  {
   "cell_type": "code",
   "execution_count": 15,
   "id": "26552938-a319-4983-960f-9c3e64cc42eb",
   "metadata": {},
   "outputs": [],
   "source": [
    "end = datetime.today() - timedelta(days=1)"
   ]
  },
  {
   "cell_type": "code",
   "execution_count": 16,
   "id": "5fc278ae-a97f-4575-957a-e8125ffe40ce",
   "metadata": {},
   "outputs": [
    {
     "data": {
      "text/plain": [
       "datetime.datetime(2025, 6, 21, 18, 3, 52, 141886)"
      ]
     },
     "execution_count": 16,
     "metadata": {},
     "output_type": "execute_result"
    }
   ],
   "source": [
    "end"
   ]
  },
  {
   "cell_type": "code",
   "execution_count": 18,
   "id": "7ab916af-4d04-4ecd-867e-2e36f4759c84",
   "metadata": {},
   "outputs": [],
   "source": [
    "start = end.replace(year=end.year-10)"
   ]
  },
  {
   "cell_type": "code",
   "execution_count": 19,
   "id": "c0bc2724-4bfb-4030-9875-edfd27cffffe",
   "metadata": {},
   "outputs": [
    {
     "data": {
      "text/plain": [
       "datetime.datetime(2015, 6, 21, 18, 3, 52, 141886)"
      ]
     },
     "execution_count": 19,
     "metadata": {},
     "output_type": "execute_result"
    }
   ],
   "source": [
    "start"
   ]
  },
  {
   "cell_type": "code",
   "execution_count": 23,
   "id": "79521688-7f5d-47f7-b881-02f6bb1d15fa",
   "metadata": {},
   "outputs": [],
   "source": [
    "from meteostat import Daily, Point\n",
    "import pandas as pd"
   ]
  },
  {
   "cell_type": "code",
   "execution_count": 24,
   "id": "1c3c27fa-e7b1-4170-a69e-bf713e57bcbb",
   "metadata": {},
   "outputs": [],
   "source": [
    "loc = Point(lat, long)"
   ]
  },
  {
   "cell_type": "code",
   "execution_count": 26,
   "id": "298d85ea-5645-4b47-90fb-e2ba89b971e5",
   "metadata": {},
   "outputs": [],
   "source": [
    "data = Daily(loc, start, end)"
   ]
  },
  {
   "cell_type": "code",
   "execution_count": 28,
   "id": "369b793c-d4d9-4761-bbf1-b46bfec479f4",
   "metadata": {},
   "outputs": [],
   "source": [
    "df = data.fetch()"
   ]
  },
  {
   "cell_type": "code",
   "execution_count": 29,
   "id": "c936e9b8-d9c3-4718-8c2f-6039306359ba",
   "metadata": {},
   "outputs": [
    {
     "data": {
      "text/html": [
       "<div>\n",
       "<style scoped>\n",
       "    .dataframe tbody tr th:only-of-type {\n",
       "        vertical-align: middle;\n",
       "    }\n",
       "\n",
       "    .dataframe tbody tr th {\n",
       "        vertical-align: top;\n",
       "    }\n",
       "\n",
       "    .dataframe thead th {\n",
       "        text-align: right;\n",
       "    }\n",
       "</style>\n",
       "<table border=\"1\" class=\"dataframe\">\n",
       "  <thead>\n",
       "    <tr style=\"text-align: right;\">\n",
       "      <th></th>\n",
       "      <th>tavg</th>\n",
       "      <th>tmin</th>\n",
       "      <th>tmax</th>\n",
       "      <th>prcp</th>\n",
       "      <th>snow</th>\n",
       "      <th>wdir</th>\n",
       "      <th>wspd</th>\n",
       "      <th>wpgt</th>\n",
       "      <th>pres</th>\n",
       "      <th>tsun</th>\n",
       "    </tr>\n",
       "    <tr>\n",
       "      <th>time</th>\n",
       "      <th></th>\n",
       "      <th></th>\n",
       "      <th></th>\n",
       "      <th></th>\n",
       "      <th></th>\n",
       "      <th></th>\n",
       "      <th></th>\n",
       "      <th></th>\n",
       "      <th></th>\n",
       "      <th></th>\n",
       "    </tr>\n",
       "  </thead>\n",
       "  <tbody>\n",
       "    <tr>\n",
       "      <th>2015-06-22</th>\n",
       "      <td>27.0</td>\n",
       "      <td>22.5</td>\n",
       "      <td>&lt;NA&gt;</td>\n",
       "      <td>8.9</td>\n",
       "      <td>&lt;NA&gt;</td>\n",
       "      <td>&lt;NA&gt;</td>\n",
       "      <td>&lt;NA&gt;</td>\n",
       "      <td>&lt;NA&gt;</td>\n",
       "      <td>&lt;NA&gt;</td>\n",
       "      <td>&lt;NA&gt;</td>\n",
       "    </tr>\n",
       "    <tr>\n",
       "      <th>2015-06-23</th>\n",
       "      <td>29.0</td>\n",
       "      <td>23.8</td>\n",
       "      <td>33.6</td>\n",
       "      <td>0.3</td>\n",
       "      <td>&lt;NA&gt;</td>\n",
       "      <td>&lt;NA&gt;</td>\n",
       "      <td>&lt;NA&gt;</td>\n",
       "      <td>&lt;NA&gt;</td>\n",
       "      <td>&lt;NA&gt;</td>\n",
       "      <td>&lt;NA&gt;</td>\n",
       "    </tr>\n",
       "    <tr>\n",
       "      <th>2015-06-24</th>\n",
       "      <td>28.6</td>\n",
       "      <td>24.6</td>\n",
       "      <td>33.6</td>\n",
       "      <td>0.0</td>\n",
       "      <td>&lt;NA&gt;</td>\n",
       "      <td>&lt;NA&gt;</td>\n",
       "      <td>&lt;NA&gt;</td>\n",
       "      <td>&lt;NA&gt;</td>\n",
       "      <td>&lt;NA&gt;</td>\n",
       "      <td>&lt;NA&gt;</td>\n",
       "    </tr>\n",
       "    <tr>\n",
       "      <th>2015-06-25</th>\n",
       "      <td>29.0</td>\n",
       "      <td>24.9</td>\n",
       "      <td>33.9</td>\n",
       "      <td>0.0</td>\n",
       "      <td>&lt;NA&gt;</td>\n",
       "      <td>&lt;NA&gt;</td>\n",
       "      <td>&lt;NA&gt;</td>\n",
       "      <td>&lt;NA&gt;</td>\n",
       "      <td>&lt;NA&gt;</td>\n",
       "      <td>&lt;NA&gt;</td>\n",
       "    </tr>\n",
       "    <tr>\n",
       "      <th>2015-06-26</th>\n",
       "      <td>&lt;NA&gt;</td>\n",
       "      <td>&lt;NA&gt;</td>\n",
       "      <td>&lt;NA&gt;</td>\n",
       "      <td>&lt;NA&gt;</td>\n",
       "      <td>&lt;NA&gt;</td>\n",
       "      <td>&lt;NA&gt;</td>\n",
       "      <td>&lt;NA&gt;</td>\n",
       "      <td>&lt;NA&gt;</td>\n",
       "      <td>&lt;NA&gt;</td>\n",
       "      <td>&lt;NA&gt;</td>\n",
       "    </tr>\n",
       "  </tbody>\n",
       "</table>\n",
       "</div>"
      ],
      "text/plain": [
       "            tavg  tmin  tmax  prcp  snow  wdir  wspd  wpgt  pres  tsun\n",
       "time                                                                  \n",
       "2015-06-22  27.0  22.5  <NA>   8.9  <NA>  <NA>  <NA>  <NA>  <NA>  <NA>\n",
       "2015-06-23  29.0  23.8  33.6   0.3  <NA>  <NA>  <NA>  <NA>  <NA>  <NA>\n",
       "2015-06-24  28.6  24.6  33.6   0.0  <NA>  <NA>  <NA>  <NA>  <NA>  <NA>\n",
       "2015-06-25  29.0  24.9  33.9   0.0  <NA>  <NA>  <NA>  <NA>  <NA>  <NA>\n",
       "2015-06-26  <NA>  <NA>  <NA>  <NA>  <NA>  <NA>  <NA>  <NA>  <NA>  <NA>"
      ]
     },
     "execution_count": 29,
     "metadata": {},
     "output_type": "execute_result"
    }
   ],
   "source": [
    "df.head()"
   ]
  },
  {
   "cell_type": "code",
   "execution_count": 34,
   "id": "e32454ac-2880-469b-b79d-148020f9f3c1",
   "metadata": {},
   "outputs": [],
   "source": [
    "df = df[['tavg', 'prcp']]"
   ]
  },
  {
   "cell_type": "code",
   "execution_count": 35,
   "id": "b386d251-f98d-4ae2-9dd6-33d961666bf4",
   "metadata": {},
   "outputs": [
    {
     "data": {
      "text/html": [
       "<div>\n",
       "<style scoped>\n",
       "    .dataframe tbody tr th:only-of-type {\n",
       "        vertical-align: middle;\n",
       "    }\n",
       "\n",
       "    .dataframe tbody tr th {\n",
       "        vertical-align: top;\n",
       "    }\n",
       "\n",
       "    .dataframe thead th {\n",
       "        text-align: right;\n",
       "    }\n",
       "</style>\n",
       "<table border=\"1\" class=\"dataframe\">\n",
       "  <thead>\n",
       "    <tr style=\"text-align: right;\">\n",
       "      <th></th>\n",
       "      <th>tavg</th>\n",
       "      <th>prcp</th>\n",
       "    </tr>\n",
       "    <tr>\n",
       "      <th>time</th>\n",
       "      <th></th>\n",
       "      <th></th>\n",
       "    </tr>\n",
       "  </thead>\n",
       "  <tbody>\n",
       "    <tr>\n",
       "      <th>2015-06-22</th>\n",
       "      <td>27.0</td>\n",
       "      <td>8.9</td>\n",
       "    </tr>\n",
       "    <tr>\n",
       "      <th>2015-06-23</th>\n",
       "      <td>29.0</td>\n",
       "      <td>0.3</td>\n",
       "    </tr>\n",
       "    <tr>\n",
       "      <th>2015-06-24</th>\n",
       "      <td>28.6</td>\n",
       "      <td>0.0</td>\n",
       "    </tr>\n",
       "    <tr>\n",
       "      <th>2015-06-25</th>\n",
       "      <td>29.0</td>\n",
       "      <td>0.0</td>\n",
       "    </tr>\n",
       "    <tr>\n",
       "      <th>2015-06-26</th>\n",
       "      <td>&lt;NA&gt;</td>\n",
       "      <td>&lt;NA&gt;</td>\n",
       "    </tr>\n",
       "  </tbody>\n",
       "</table>\n",
       "</div>"
      ],
      "text/plain": [
       "            tavg  prcp\n",
       "time                  \n",
       "2015-06-22  27.0   8.9\n",
       "2015-06-23  29.0   0.3\n",
       "2015-06-24  28.6   0.0\n",
       "2015-06-25  29.0   0.0\n",
       "2015-06-26  <NA>  <NA>"
      ]
     },
     "execution_count": 35,
     "metadata": {},
     "output_type": "execute_result"
    }
   ],
   "source": [
    "df.head()"
   ]
  },
  {
   "cell_type": "code",
   "execution_count": 36,
   "id": "3c004d21-b2a6-4095-86e4-749d1baf250e",
   "metadata": {},
   "outputs": [
    {
     "data": {
      "text/plain": [
       "tavg     268\n",
       "prcp    1375\n",
       "dtype: int64"
      ]
     },
     "execution_count": 36,
     "metadata": {},
     "output_type": "execute_result"
    }
   ],
   "source": [
    "df.isna().sum()"
   ]
  },
  {
   "cell_type": "code",
   "execution_count": 37,
   "id": "76e6c945-dd37-4874-aa71-77a9c8449e4c",
   "metadata": {},
   "outputs": [],
   "source": [
    "df['tavg'] = df['tavg'].interpolate(method='time')"
   ]
  },
  {
   "cell_type": "code",
   "execution_count": 38,
   "id": "a123c283-8ee8-4c49-afbd-7eeb8092f81e",
   "metadata": {},
   "outputs": [
    {
     "data": {
      "text/plain": [
       "tavg       0\n",
       "prcp    1375\n",
       "dtype: int64"
      ]
     },
     "execution_count": 38,
     "metadata": {},
     "output_type": "execute_result"
    }
   ],
   "source": [
    "df.isna().sum()"
   ]
  },
  {
   "cell_type": "code",
   "execution_count": 39,
   "id": "91e8e1b7-54fd-49bb-b004-64782d28c938",
   "metadata": {},
   "outputs": [],
   "source": [
    "df.dropna(subset=['prcp'], inplace=True)"
   ]
  },
  {
   "cell_type": "code",
   "execution_count": 41,
   "id": "e27ac96d-4dae-4ec2-8e3a-6067a7c8999d",
   "metadata": {},
   "outputs": [
    {
     "data": {
      "text/plain": [
       "tavg    0\n",
       "prcp    0\n",
       "dtype: int64"
      ]
     },
     "execution_count": 41,
     "metadata": {},
     "output_type": "execute_result"
    }
   ],
   "source": [
    "df.isna().sum()"
   ]
  },
  {
   "cell_type": "code",
   "execution_count": 42,
   "id": "5efbc118-ba1b-4dc9-94bf-3bd0fb0496bd",
   "metadata": {},
   "outputs": [
    {
     "data": {
      "text/plain": [
       "(2278, 2)"
      ]
     },
     "execution_count": 42,
     "metadata": {},
     "output_type": "execute_result"
    }
   ],
   "source": [
    "df.shape"
   ]
  },
  {
   "cell_type": "markdown",
   "id": "407837c9-500d-409d-9960-db0f13df9e76",
   "metadata": {},
   "source": [
    "### STL decomposition"
   ]
  },
  {
   "cell_type": "code",
   "execution_count": 44,
   "id": "3cd75815-4028-48e5-8163-526401c0bcf8",
   "metadata": {},
   "outputs": [],
   "source": [
    "from statsmodels.tsa.seasonal import STL\n",
    "import matplotlib.pyplot as plt"
   ]
  },
  {
   "cell_type": "code",
   "execution_count": 45,
   "id": "4dcf1e36-1d7c-4632-a825-9f8c65706720",
   "metadata": {},
   "outputs": [],
   "source": [
    "df_t = df[['tavg']]"
   ]
  },
  {
   "cell_type": "code",
   "execution_count": 46,
   "id": "ac2dd7e1-2639-478b-9f13-64e1b0ae9501",
   "metadata": {},
   "outputs": [
    {
     "data": {
      "text/html": [
       "<div>\n",
       "<style scoped>\n",
       "    .dataframe tbody tr th:only-of-type {\n",
       "        vertical-align: middle;\n",
       "    }\n",
       "\n",
       "    .dataframe tbody tr th {\n",
       "        vertical-align: top;\n",
       "    }\n",
       "\n",
       "    .dataframe thead th {\n",
       "        text-align: right;\n",
       "    }\n",
       "</style>\n",
       "<table border=\"1\" class=\"dataframe\">\n",
       "  <thead>\n",
       "    <tr style=\"text-align: right;\">\n",
       "      <th></th>\n",
       "      <th>tavg</th>\n",
       "    </tr>\n",
       "    <tr>\n",
       "      <th>time</th>\n",
       "      <th></th>\n",
       "    </tr>\n",
       "  </thead>\n",
       "  <tbody>\n",
       "    <tr>\n",
       "      <th>2015-06-22</th>\n",
       "      <td>27.0</td>\n",
       "    </tr>\n",
       "    <tr>\n",
       "      <th>2015-06-23</th>\n",
       "      <td>29.0</td>\n",
       "    </tr>\n",
       "    <tr>\n",
       "      <th>2015-06-24</th>\n",
       "      <td>28.6</td>\n",
       "    </tr>\n",
       "    <tr>\n",
       "      <th>2015-06-25</th>\n",
       "      <td>29.0</td>\n",
       "    </tr>\n",
       "    <tr>\n",
       "      <th>2015-06-30</th>\n",
       "      <td>29.6</td>\n",
       "    </tr>\n",
       "  </tbody>\n",
       "</table>\n",
       "</div>"
      ],
      "text/plain": [
       "            tavg\n",
       "time            \n",
       "2015-06-22  27.0\n",
       "2015-06-23  29.0\n",
       "2015-06-24  28.6\n",
       "2015-06-25  29.0\n",
       "2015-06-30  29.6"
      ]
     },
     "execution_count": 46,
     "metadata": {},
     "output_type": "execute_result"
    }
   ],
   "source": [
    "df_t.head()"
   ]
  },
  {
   "cell_type": "code",
   "execution_count": 48,
   "id": "bc56d981-6f20-4ddc-98e7-3b60726dc6c1",
   "metadata": {},
   "outputs": [],
   "source": [
    "stl = STL(df_t, period=365)\n",
    "result = stl.fit()"
   ]
  },
  {
   "cell_type": "code",
   "execution_count": 49,
   "id": "10f86ea8-bac0-4907-b870-c9d06b6a4a06",
   "metadata": {},
   "outputs": [
    {
     "data": {
      "text/plain": [
       "<matplotlib.legend.Legend at 0x229c55fb080>"
      ]
     },
     "execution_count": 49,
     "metadata": {},
     "output_type": "execute_result"
    },
    {
     "data": {
      "image/png": "[encoded data removed]",
      "text/plain": [
       "<Figure size 1400x1000 with 4 Axes>"
      ]
     },
     "metadata": {},
     "output_type": "display_data"
    }
   ],
   "source": [
    "plt.figure(figsize=(14,10))\n",
    "\n",
    "plt.subplot(411)\n",
    "plt.plot(df_t, label='Original')\n",
    "plt.legend()\n",
    "\n",
    "plt.subplot(412)\n",
    "plt.plot(result.trend, label='Trend')\n",
    "plt.legend()\n",
    "\n",
    "plt.subplot(413)\n",
    "plt.plot(result.seasonal, label='Seasonal')\n",
    "plt.legend()\n",
    "\n",
    "plt.subplot(414)\n",
    "plt.plot(result.resid, label='Residual')\n",
    "plt.legend()"
   ]
  },
  {
   "cell_type": "code",
   "execution_count": 50,
   "id": "bf5c8f86-9ed5-4b90-bbf3-1f2ba1b54b2d",
   "metadata": {},
   "outputs": [],
   "source": [
    "df_p = df[['prcp']]"
   ]
  },
  {
   "cell_type": "code",
   "execution_count": 52,
   "id": "b42e330f-aca2-4427-a334-4bf798872cd0",
   "metadata": {},
   "outputs": [],
   "source": [
    "stl_r = STL(df_p, period=365)\n",
    "result_r = stl_r.fit()"
   ]
  },
  {
   "cell_type": "code",
   "execution_count": 53,
   "id": "e0109929-e85b-4b0d-bbb8-41b523355cc6",
   "metadata": {},
   "outputs": [
    {
     "data": {
      "text/plain": [
       "<matplotlib.legend.Legend at 0x229c564f050>"
      ]
     },
     "execution_count": 53,
     "metadata": {},
     "output_type": "execute_result"
    },
    {
     "data": {
      "image/png": "[encoded data removed]",
      "text/plain": [
       "<Figure size 1400x1000 with 4 Axes>"
      ]
     },
     "metadata": {},
     "output_type": "display_data"
    }
   ],
   "source": [
    "plt.figure(figsize=(14,10))\n",
    "\n",
    "plt.subplot(411)\n",
    "plt.plot(df_p, label='Original')\n",
    "plt.legend()\n",
    "\n",
    "plt.subplot(412)\n",
    "plt.plot(result_r.trend, label='Trend')\n",
    "plt.legend()\n",
    "\n",
    "plt.subplot(413)\n",
    "plt.plot(result_r.seasonal, label='Seasonal')\n",
    "plt.legend()\n",
    "\n",
    "plt.subplot(414)\n",
    "plt.plot(result_r.resid, label='Residual')\n",
    "plt.legend()"
   ]
  },
  {
   "cell_type": "markdown",
   "id": "1bb45a43-eb85-4689-9bf7-198bb27c2e62",
   "metadata": {},
   "source": [
    "### Stationarity Test"
   ]
  },
  {
   "cell_type": "code",
   "execution_count": 61,
   "id": "a6391208-be2c-416b-9252-5bc8cae11670",
   "metadata": {},
   "outputs": [],
   "source": [
    "from statsmodels.tsa.stattools import adfuller\n",
    "from statsmodels.graphics.tsaplots import plot_acf"
   ]
  },
  {
   "cell_type": "code",
   "execution_count": 57,
   "id": "6667f868-0410-4a87-a047-36a1a5a807c3",
   "metadata": {},
   "outputs": [],
   "source": [
    "def adf(series):\n",
    "    adf_test = adfuller(series)\n",
    "    print(\"ADF Statistic:\", round(adf_test[0],3))\n",
    "    print(\"P value:\", round(adf_test[1],3))\n",
    "    print(\"Critical values\\n\")\n",
    "    for key, value in adf_test[4].items():\n",
    "        print(f'{key}:{round(value,3)}')"
   ]
  },
  {
   "cell_type": "code",
   "execution_count": 58,
   "id": "1af7663c-e767-40db-b4f8-54d2c1108d18",
   "metadata": {},
   "outputs": [
    {
     "name": "stdout",
     "output_type": "stream",
     "text": [
      "ADF Statistic: -5.998\n",
      "P value: 0.0\n",
      "Critical values\n",
      "\n",
      "1%:-3.433\n",
      "5%:-2.863\n",
      "10%:-2.567\n"
     ]
    }
   ],
   "source": [
    "adf(df_t)"
   ]
  },
  {
   "cell_type": "code",
   "execution_count": 60,
   "id": "be93415e-ec98-42c9-8425-9bda33cef9a3",
   "metadata": {},
   "outputs": [
    {
     "name": "stdout",
     "output_type": "stream",
     "text": [
      "ADF Statistic: -8.033\n",
      "P value: 0.0\n",
      "Critical values\n",
      "\n",
      "1%:-3.433\n",
      "5%:-2.863\n",
      "10%:-2.567\n"
     ]
    }
   ],
   "source": [
    "adf(df_p)"
   ]
  },
  {
   "cell_type": "code",
   "execution_count": 64,
   "id": "54993fe9-0912-4183-bd35-dacc69aae140",
   "metadata": {},
   "outputs": [
    {
     "data": {
      "image/png": "[encoded data removed]",
      "text/plain": [
       "<Figure size 640x480 with 1 Axes>"
      ]
     },
     "metadata": {},
     "output_type": "display_data"
    }
   ],
   "source": [
    " _ = plot_acf(df['prcp'], lags=40)"
   ]
  },
  {
   "cell_type": "code",
   "execution_count": 65,
   "id": "e1f68abc-f26c-4303-966d-5132eeb500a4",
   "metadata": {},
   "outputs": [
    {
     "data": {
      "image/png": "[encoded data removed]",
      "text/plain": [
       "<Figure size 640x480 with 1 Axes>"
      ]
     },
     "metadata": {},
     "output_type": "display_data"
    }
   ],
   "source": [
    "_ = plot_acf(df['tavg'], lags=40)"
   ]
  },
  {
   "cell_type": "code",
   "execution_count": 66,
   "id": "9de1a2f4-4e2b-4e37-9ac6-227e139efb96",
   "metadata": {},
   "outputs": [],
   "source": [
    "df['tavg_365'] = df['tavg'].shift(365)\n",
    "df['prcp_365'] = df['prcp'].shift(365)"
   ]
  },
  {
   "cell_type": "code",
   "execution_count": 67,
   "id": "b0b6b7fe-367b-4921-8f86-994d1a7096e1",
   "metadata": {},
   "outputs": [
    {
     "data": {
      "text/html": [
       "<div>\n",
       "<style scoped>\n",
       "    .dataframe tbody tr th:only-of-type {\n",
       "        vertical-align: middle;\n",
       "    }\n",
       "\n",
       "    .dataframe tbody tr th {\n",
       "        vertical-align: top;\n",
       "    }\n",
       "\n",
       "    .dataframe thead th {\n",
       "        text-align: right;\n",
       "    }\n",
       "</style>\n",
       "<table border=\"1\" class=\"dataframe\">\n",
       "  <thead>\n",
       "    <tr style=\"text-align: right;\">\n",
       "      <th></th>\n",
       "      <th>tavg</th>\n",
       "      <th>prcp</th>\n",
       "      <th>tavg_365</th>\n",
       "      <th>prcp_365</th>\n",
       "    </tr>\n",
       "    <tr>\n",
       "      <th>time</th>\n",
       "      <th></th>\n",
       "      <th></th>\n",
       "      <th></th>\n",
       "      <th></th>\n",
       "    </tr>\n",
       "  </thead>\n",
       "  <tbody>\n",
       "    <tr>\n",
       "      <th>2015-06-22</th>\n",
       "      <td>27.0</td>\n",
       "      <td>8.9</td>\n",
       "      <td>&lt;NA&gt;</td>\n",
       "      <td>&lt;NA&gt;</td>\n",
       "    </tr>\n",
       "    <tr>\n",
       "      <th>2015-06-23</th>\n",
       "      <td>29.0</td>\n",
       "      <td>0.3</td>\n",
       "      <td>&lt;NA&gt;</td>\n",
       "      <td>&lt;NA&gt;</td>\n",
       "    </tr>\n",
       "    <tr>\n",
       "      <th>2015-06-24</th>\n",
       "      <td>28.6</td>\n",
       "      <td>0.0</td>\n",
       "      <td>&lt;NA&gt;</td>\n",
       "      <td>&lt;NA&gt;</td>\n",
       "    </tr>\n",
       "    <tr>\n",
       "      <th>2015-06-25</th>\n",
       "      <td>29.0</td>\n",
       "      <td>0.0</td>\n",
       "      <td>&lt;NA&gt;</td>\n",
       "      <td>&lt;NA&gt;</td>\n",
       "    </tr>\n",
       "    <tr>\n",
       "      <th>2015-06-30</th>\n",
       "      <td>29.6</td>\n",
       "      <td>0.0</td>\n",
       "      <td>&lt;NA&gt;</td>\n",
       "      <td>&lt;NA&gt;</td>\n",
       "    </tr>\n",
       "  </tbody>\n",
       "</table>\n",
       "</div>"
      ],
      "text/plain": [
       "            tavg  prcp  tavg_365  prcp_365\n",
       "time                                      \n",
       "2015-06-22  27.0   8.9      <NA>      <NA>\n",
       "2015-06-23  29.0   0.3      <NA>      <NA>\n",
       "2015-06-24  28.6   0.0      <NA>      <NA>\n",
       "2015-06-25  29.0   0.0      <NA>      <NA>\n",
       "2015-06-30  29.6   0.0      <NA>      <NA>"
      ]
     },
     "execution_count": 67,
     "metadata": {},
     "output_type": "execute_result"
    }
   ],
   "source": [
    "df.head()"
   ]
  },
  {
   "cell_type": "code",
   "execution_count": 68,
   "id": "39bba749-a715-46fd-9f71-8e7f3ab21ecb",
   "metadata": {},
   "outputs": [
    {
     "data": {
      "text/html": [
       "<div>\n",
       "<style scoped>\n",
       "    .dataframe tbody tr th:only-of-type {\n",
       "        vertical-align: middle;\n",
       "    }\n",
       "\n",
       "    .dataframe tbody tr th {\n",
       "        vertical-align: top;\n",
       "    }\n",
       "\n",
       "    .dataframe thead th {\n",
       "        text-align: right;\n",
       "    }\n",
       "</style>\n",
       "<table border=\"1\" class=\"dataframe\">\n",
       "  <thead>\n",
       "    <tr style=\"text-align: right;\">\n",
       "      <th></th>\n",
       "      <th>tavg</th>\n",
       "      <th>prcp</th>\n",
       "      <th>tavg_365</th>\n",
       "      <th>prcp_365</th>\n",
       "    </tr>\n",
       "    <tr>\n",
       "      <th>time</th>\n",
       "      <th></th>\n",
       "      <th></th>\n",
       "      <th></th>\n",
       "      <th></th>\n",
       "    </tr>\n",
       "  </thead>\n",
       "  <tbody>\n",
       "    <tr>\n",
       "      <th>2025-06-17</th>\n",
       "      <td>29.8</td>\n",
       "      <td>0.0</td>\n",
       "      <td>26.5</td>\n",
       "      <td>0.3</td>\n",
       "    </tr>\n",
       "    <tr>\n",
       "      <th>2025-06-18</th>\n",
       "      <td>29.7</td>\n",
       "      <td>0.0</td>\n",
       "      <td>27.3</td>\n",
       "      <td>14.0</td>\n",
       "    </tr>\n",
       "    <tr>\n",
       "      <th>2025-06-19</th>\n",
       "      <td>28.9</td>\n",
       "      <td>0.5</td>\n",
       "      <td>28.2</td>\n",
       "      <td>0.0</td>\n",
       "    </tr>\n",
       "    <tr>\n",
       "      <th>2025-06-20</th>\n",
       "      <td>28.7</td>\n",
       "      <td>0.4</td>\n",
       "      <td>26.7</td>\n",
       "      <td>0.5</td>\n",
       "    </tr>\n",
       "    <tr>\n",
       "      <th>2025-06-21</th>\n",
       "      <td>28.3</td>\n",
       "      <td>0.2</td>\n",
       "      <td>28.4</td>\n",
       "      <td>2.0</td>\n",
       "    </tr>\n",
       "  </tbody>\n",
       "</table>\n",
       "</div>"
      ],
      "text/plain": [
       "            tavg  prcp  tavg_365  prcp_365\n",
       "time                                      \n",
       "2025-06-17  29.8   0.0      26.5       0.3\n",
       "2025-06-18  29.7   0.0      27.3      14.0\n",
       "2025-06-19  28.9   0.5      28.2       0.0\n",
       "2025-06-20  28.7   0.4      26.7       0.5\n",
       "2025-06-21  28.3   0.2      28.4       2.0"
      ]
     },
     "execution_count": 68,
     "metadata": {},
     "output_type": "execute_result"
    }
   ],
   "source": [
    "df.tail()"
   ]
  },
  {
   "cell_type": "markdown",
   "id": "4fab5a54-1119-4ce4-be67-5be65f20ec9b",
   "metadata": {},
   "source": [
    "### Model"
   ]
  },
  {
   "cell_type": "code",
   "execution_count": 69,
   "id": "1427f253-4316-46ab-865e-3c49fa178946",
   "metadata": {},
   "outputs": [
    {
     "data": {
      "text/plain": [
       "tavg          0\n",
       "prcp          0\n",
       "tavg_365    365\n",
       "prcp_365    365\n",
       "dtype: int64"
      ]
     },
     "execution_count": 69,
     "metadata": {},
     "output_type": "execute_result"
    }
   ],
   "source": [
    "df.isna().sum()"
   ]
  },
  {
   "cell_type": "code",
   "execution_count": 70,
   "id": "294d253e-5827-4d58-b8a3-86b863af5f4d",
   "metadata": {},
   "outputs": [],
   "source": [
    "df2 = df.copy()"
   ]
  },
  {
   "cell_type": "code",
   "execution_count": 72,
   "id": "0dd3f1ac-8c1a-48de-a182-44a02b068421",
   "metadata": {},
   "outputs": [
    {
     "data": {
      "text/plain": [
       "tavg        Float64\n",
       "prcp        Float64\n",
       "tavg_365    Float64\n",
       "prcp_365    Float64\n",
       "dtype: object"
      ]
     },
     "execution_count": 72,
     "metadata": {},
     "output_type": "execute_result"
    }
   ],
   "source": [
    "df2.dtypes"
   ]
  },
  {
   "cell_type": "code",
   "execution_count": 73,
   "id": "a7ddecc0-6373-40a3-9086-680f5b65ad99",
   "metadata": {},
   "outputs": [],
   "source": [
    "df2 = df2.astype('float')"
   ]
  },
  {
   "cell_type": "code",
   "execution_count": 75,
   "id": "f8fedee2-bebe-45ce-99bb-9d4e71df4ae7",
   "metadata": {},
   "outputs": [
    {
     "data": {
      "text/plain": [
       "tavg        float64\n",
       "prcp        float64\n",
       "tavg_365    float64\n",
       "prcp_365    float64\n",
       "dtype: object"
      ]
     },
     "execution_count": 75,
     "metadata": {},
     "output_type": "execute_result"
    }
   ],
   "source": [
    "df2.dtypes"
   ]
  },
  {
   "cell_type": "code",
   "execution_count": 76,
   "id": "986619f4-1715-42be-b5fb-7518454bfa82",
   "metadata": {},
   "outputs": [],
   "source": [
    "df2 = df2.asfreq('D')"
   ]
  },
  {
   "cell_type": "code",
   "execution_count": 77,
   "id": "16c18772-fc9f-4596-a87f-230da2fe92fe",
   "metadata": {},
   "outputs": [
    {
     "data": {
      "text/plain": [
       "(3653, 4)"
      ]
     },
     "execution_count": 77,
     "metadata": {},
     "output_type": "execute_result"
    }
   ],
   "source": [
    "df2.shape"
   ]
  },
  {
   "cell_type": "code",
   "execution_count": 78,
   "id": "28d120fe-7421-4d0a-8158-ef8cda6192e7",
   "metadata": {},
   "outputs": [
    {
     "data": {
      "text/plain": [
       "<Day>"
      ]
     },
     "execution_count": 78,
     "metadata": {},
     "output_type": "execute_result"
    }
   ],
   "source": [
    "df2.index.freq"
   ]
  },
  {
   "cell_type": "code",
   "execution_count": 81,
   "id": "ad854d48-677c-4ad7-926b-655d476eba25",
   "metadata": {},
   "outputs": [
    {
     "data": {
      "text/plain": [
       "tavg        1375\n",
       "prcp        1375\n",
       "tavg_365    1740\n",
       "prcp_365    1740\n",
       "dtype: int64"
      ]
     },
     "execution_count": 81,
     "metadata": {},
     "output_type": "execute_result"
    }
   ],
   "source": [
    "df2.isna().sum()"
   ]
  },
  {
   "cell_type": "code",
   "execution_count": 84,
   "id": "d3a7dfd0-7eb7-4f71-a250-c20ca3283d93",
   "metadata": {},
   "outputs": [],
   "source": [
    "df2['tavg'] = df2['tavg'].interpolate(method='time')\n",
    "df2['prcp'] = df2['prcp'].interpolate(method='time')"
   ]
  },
  {
   "cell_type": "code",
   "execution_count": 86,
   "id": "53b6d38a-23e6-4c7b-a650-ffce2fb5ae62",
   "metadata": {},
   "outputs": [],
   "source": [
    "df2['tavg_365'] = df2['tavg'].shift(365)"
   ]
  },
  {
   "cell_type": "code",
   "execution_count": 87,
   "id": "94624654-9d6c-4e71-a756-aea07788360d",
   "metadata": {},
   "outputs": [],
   "source": [
    "df2['prcp_365'] = df2['prcp'].shift(365)"
   ]
  },
  {
   "cell_type": "code",
   "execution_count": 88,
   "id": "e2e5925f-2723-4ff9-84c9-d24d5551c960",
   "metadata": {},
   "outputs": [
    {
     "data": {
      "text/plain": [
       "tavg          0\n",
       "prcp          0\n",
       "tavg_365    365\n",
       "prcp_365    365\n",
       "dtype: int64"
      ]
     },
     "execution_count": 88,
     "metadata": {},
     "output_type": "execute_result"
    }
   ],
   "source": [
    "df2.isna().sum()"
   ]
  },
  {
   "cell_type": "code",
   "execution_count": 89,
   "id": "b4627143-24f6-4229-8102-496b73f68bbd",
   "metadata": {},
   "outputs": [
    {
     "data": {
      "text/html": [
       "<div>\n",
       "<style scoped>\n",
       "    .dataframe tbody tr th:only-of-type {\n",
       "        vertical-align: middle;\n",
       "    }\n",
       "\n",
       "    .dataframe tbody tr th {\n",
       "        vertical-align: top;\n",
       "    }\n",
       "\n",
       "    .dataframe thead th {\n",
       "        text-align: right;\n",
       "    }\n",
       "</style>\n",
       "<table border=\"1\" class=\"dataframe\">\n",
       "  <thead>\n",
       "    <tr style=\"text-align: right;\">\n",
       "      <th></th>\n",
       "      <th>tavg</th>\n",
       "      <th>prcp</th>\n",
       "      <th>tavg_365</th>\n",
       "      <th>prcp_365</th>\n",
       "    </tr>\n",
       "    <tr>\n",
       "      <th>time</th>\n",
       "      <th></th>\n",
       "      <th></th>\n",
       "      <th></th>\n",
       "      <th></th>\n",
       "    </tr>\n",
       "  </thead>\n",
       "  <tbody>\n",
       "    <tr>\n",
       "      <th>2015-06-22</th>\n",
       "      <td>27.00</td>\n",
       "      <td>8.9</td>\n",
       "      <td>NaN</td>\n",
       "      <td>NaN</td>\n",
       "    </tr>\n",
       "    <tr>\n",
       "      <th>2015-06-23</th>\n",
       "      <td>29.00</td>\n",
       "      <td>0.3</td>\n",
       "      <td>NaN</td>\n",
       "      <td>NaN</td>\n",
       "    </tr>\n",
       "    <tr>\n",
       "      <th>2015-06-24</th>\n",
       "      <td>28.60</td>\n",
       "      <td>0.0</td>\n",
       "      <td>NaN</td>\n",
       "      <td>NaN</td>\n",
       "    </tr>\n",
       "    <tr>\n",
       "      <th>2015-06-25</th>\n",
       "      <td>29.00</td>\n",
       "      <td>0.0</td>\n",
       "      <td>NaN</td>\n",
       "      <td>NaN</td>\n",
       "    </tr>\n",
       "    <tr>\n",
       "      <th>2015-06-26</th>\n",
       "      <td>29.12</td>\n",
       "      <td>0.0</td>\n",
       "      <td>NaN</td>\n",
       "      <td>NaN</td>\n",
       "    </tr>\n",
       "    <tr>\n",
       "      <th>...</th>\n",
       "      <td>...</td>\n",
       "      <td>...</td>\n",
       "      <td>...</td>\n",
       "      <td>...</td>\n",
       "    </tr>\n",
       "    <tr>\n",
       "      <th>2025-06-17</th>\n",
       "      <td>29.80</td>\n",
       "      <td>0.0</td>\n",
       "      <td>28.2</td>\n",
       "      <td>0.0</td>\n",
       "    </tr>\n",
       "    <tr>\n",
       "      <th>2025-06-18</th>\n",
       "      <td>29.70</td>\n",
       "      <td>0.0</td>\n",
       "      <td>30.4</td>\n",
       "      <td>19.1</td>\n",
       "    </tr>\n",
       "    <tr>\n",
       "      <th>2025-06-19</th>\n",
       "      <td>28.90</td>\n",
       "      <td>0.5</td>\n",
       "      <td>29.4</td>\n",
       "      <td>0.0</td>\n",
       "    </tr>\n",
       "    <tr>\n",
       "      <th>2025-06-20</th>\n",
       "      <td>28.70</td>\n",
       "      <td>0.4</td>\n",
       "      <td>29.7</td>\n",
       "      <td>0.8</td>\n",
       "    </tr>\n",
       "    <tr>\n",
       "      <th>2025-06-21</th>\n",
       "      <td>28.30</td>\n",
       "      <td>0.2</td>\n",
       "      <td>28.3</td>\n",
       "      <td>0.0</td>\n",
       "    </tr>\n",
       "  </tbody>\n",
       "</table>\n",
       "<p>3653 rows × 4 columns</p>\n",
       "</div>"
      ],
      "text/plain": [
       "             tavg  prcp  tavg_365  prcp_365\n",
       "time                                       \n",
       "2015-06-22  27.00   8.9       NaN       NaN\n",
       "2015-06-23  29.00   0.3       NaN       NaN\n",
       "2015-06-24  28.60   0.0       NaN       NaN\n",
       "2015-06-25  29.00   0.0       NaN       NaN\n",
       "2015-06-26  29.12   0.0       NaN       NaN\n",
       "...           ...   ...       ...       ...\n",
       "2025-06-17  29.80   0.0      28.2       0.0\n",
       "2025-06-18  29.70   0.0      30.4      19.1\n",
       "2025-06-19  28.90   0.5      29.4       0.0\n",
       "2025-06-20  28.70   0.4      29.7       0.8\n",
       "2025-06-21  28.30   0.2      28.3       0.0\n",
       "\n",
       "[3653 rows x 4 columns]"
      ]
     },
     "execution_count": 89,
     "metadata": {},
     "output_type": "execute_result"
    }
   ],
   "source": [
    "df2"
   ]
  },
  {
   "cell_type": "code",
   "execution_count": 91,
   "id": "d6877ad5-03ca-400b-8b76-55f657854e4e",
   "metadata": {},
   "outputs": [],
   "source": [
    "df_model = df2.dropna()"
   ]
  },
  {
   "cell_type": "code",
   "execution_count": 93,
   "id": "3d5d19e9-e290-42db-a4db-06cedb70d698",
   "metadata": {},
   "outputs": [
    {
     "data": {
      "text/plain": [
       "tavg        0\n",
       "prcp        0\n",
       "tavg_365    0\n",
       "prcp_365    0\n",
       "dtype: int64"
      ]
     },
     "execution_count": 93,
     "metadata": {},
     "output_type": "execute_result"
    }
   ],
   "source": [
    "df_model.isna().sum()"
   ]
  },
  {
   "cell_type": "code",
   "execution_count": 94,
   "id": "1c851432-00ef-43af-9907-514c653f0d40",
   "metadata": {},
   "outputs": [],
   "source": [
    "from statsmodels.tsa.api import VAR"
   ]
  },
  {
   "cell_type": "code",
   "execution_count": 95,
   "id": "81cdc082-840b-4ee2-b9af-4d1f4af75064",
   "metadata": {},
   "outputs": [],
   "source": [
    "model = VAR(df_model)"
   ]
  },
  {
   "cell_type": "code",
   "execution_count": 97,
   "id": "e4530778-1e4e-4ba9-a955-935611e29529",
   "metadata": {},
   "outputs": [],
   "source": [
    "lag_selection = model.select_order(maxlags=40)"
   ]
  },
  {
   "cell_type": "code",
   "execution_count": 98,
   "id": "7f7739a6-ac99-47a9-950a-e3741f326afc",
   "metadata": {},
   "outputs": [
    {
     "data": {
      "text/html": [
       "<table class=\"simpletable\">\n",
       "<caption>VAR Order Selection (* highlights the minimums)</caption>\n",
       "<tr>\n",
       "   <td></td>      <th>AIC</th>         <th>BIC</th>         <th>FPE</th>        <th>HQIC</th>    \n",
       "</tr>\n",
       "<tr>\n",
       "  <th>0</th>  <td>     13.44</td>  <td>     13.45</td>  <td> 6.868e+05</td>  <td>     13.44</td> \n",
       "</tr>\n",
       "<tr>\n",
       "  <th>1</th>  <td>     8.462</td>  <td>     8.500</td>  <td>     4733.</td>  <td>     8.476</td> \n",
       "</tr>\n",
       "<tr>\n",
       "  <th>2</th>  <td>     8.326</td>  <td>     8.393</td>  <td>     4129.</td>  <td>     8.350</td> \n",
       "</tr>\n",
       "<tr>\n",
       "  <th>3</th>  <td>     8.302</td>  <td>     8.399</td>  <td>     4031.</td>  <td>     8.337</td> \n",
       "</tr>\n",
       "<tr>\n",
       "  <th>4</th>  <td>     8.248*</td> <td>     8.375*</td> <td>     3819.*</td> <td>     8.293*</td>\n",
       "</tr>\n",
       "<tr>\n",
       "  <th>5</th>  <td>     8.253</td>  <td>     8.411</td>  <td>     3840.</td>  <td>     8.310</td> \n",
       "</tr>\n",
       "<tr>\n",
       "  <th>6</th>  <td>     8.253</td>  <td>     8.441</td>  <td>     3841.</td>  <td>     8.321</td> \n",
       "</tr>\n",
       "<tr>\n",
       "  <th>7</th>  <td>     8.250</td>  <td>     8.467</td>  <td>     3828.</td>  <td>     8.328</td> \n",
       "</tr>\n",
       "<tr>\n",
       "  <th>8</th>  <td>     8.249</td>  <td>     8.497</td>  <td>     3825.</td>  <td>     8.338</td> \n",
       "</tr>\n",
       "<tr>\n",
       "  <th>9</th>  <td>     8.257</td>  <td>     8.534</td>  <td>     3854.</td>  <td>     8.356</td> \n",
       "</tr>\n",
       "<tr>\n",
       "  <th>10</th> <td>     8.259</td>  <td>     8.567</td>  <td>     3864.</td>  <td>     8.369</td> \n",
       "</tr>\n",
       "<tr>\n",
       "  <th>11</th> <td>     8.267</td>  <td>     8.605</td>  <td>     3894.</td>  <td>     8.388</td> \n",
       "</tr>\n",
       "<tr>\n",
       "  <th>12</th> <td>     8.274</td>  <td>     8.641</td>  <td>     3920.</td>  <td>     8.405</td> \n",
       "</tr>\n",
       "<tr>\n",
       "  <th>13</th> <td>     8.277</td>  <td>     8.674</td>  <td>     3931.</td>  <td>     8.419</td> \n",
       "</tr>\n",
       "<tr>\n",
       "  <th>14</th> <td>     8.282</td>  <td>     8.709</td>  <td>     3951.</td>  <td>     8.435</td> \n",
       "</tr>\n",
       "<tr>\n",
       "  <th>15</th> <td>     8.286</td>  <td>     8.743</td>  <td>     3969.</td>  <td>     8.450</td> \n",
       "</tr>\n",
       "<tr>\n",
       "  <th>16</th> <td>     8.289</td>  <td>     8.776</td>  <td>     3978.</td>  <td>     8.463</td> \n",
       "</tr>\n",
       "<tr>\n",
       "  <th>17</th> <td>     8.288</td>  <td>     8.805</td>  <td>     3975.</td>  <td>     8.473</td> \n",
       "</tr>\n",
       "<tr>\n",
       "  <th>18</th> <td>     8.289</td>  <td>     8.836</td>  <td>     3980.</td>  <td>     8.485</td> \n",
       "</tr>\n",
       "<tr>\n",
       "  <th>19</th> <td>     8.292</td>  <td>     8.870</td>  <td>     3994.</td>  <td>     8.499</td> \n",
       "</tr>\n",
       "<tr>\n",
       "  <th>20</th> <td>     8.297</td>  <td>     8.904</td>  <td>     4011.</td>  <td>     8.514</td> \n",
       "</tr>\n",
       "<tr>\n",
       "  <th>21</th> <td>     8.296</td>  <td>     8.933</td>  <td>     4009.</td>  <td>     8.524</td> \n",
       "</tr>\n",
       "<tr>\n",
       "  <th>22</th> <td>     8.296</td>  <td>     8.963</td>  <td>     4008.</td>  <td>     8.535</td> \n",
       "</tr>\n",
       "<tr>\n",
       "  <th>23</th> <td>     8.301</td>  <td>     8.998</td>  <td>     4026.</td>  <td>     8.550</td> \n",
       "</tr>\n",
       "<tr>\n",
       "  <th>24</th> <td>     8.302</td>  <td>     9.029</td>  <td>     4033.</td>  <td>     8.563</td> \n",
       "</tr>\n",
       "<tr>\n",
       "  <th>25</th> <td>     8.302</td>  <td>     9.059</td>  <td>     4033.</td>  <td>     8.573</td> \n",
       "</tr>\n",
       "<tr>\n",
       "  <th>26</th> <td>     8.307</td>  <td>     9.094</td>  <td>     4052.</td>  <td>     8.589</td> \n",
       "</tr>\n",
       "<tr>\n",
       "  <th>27</th> <td>     8.312</td>  <td>     9.129</td>  <td>     4071.</td>  <td>     8.604</td> \n",
       "</tr>\n",
       "<tr>\n",
       "  <th>28</th> <td>     8.318</td>  <td>     9.165</td>  <td>     4098.</td>  <td>     8.622</td> \n",
       "</tr>\n",
       "<tr>\n",
       "  <th>29</th> <td>     8.318</td>  <td>     9.195</td>  <td>     4098.</td>  <td>     8.632</td> \n",
       "</tr>\n",
       "<tr>\n",
       "  <th>30</th> <td>     8.321</td>  <td>     9.228</td>  <td>     4110.</td>  <td>     8.646</td> \n",
       "</tr>\n",
       "<tr>\n",
       "  <th>31</th> <td>     8.325</td>  <td>     9.262</td>  <td>     4126.</td>  <td>     8.660</td> \n",
       "</tr>\n",
       "<tr>\n",
       "  <th>32</th> <td>     8.329</td>  <td>     9.296</td>  <td>     4143.</td>  <td>     8.675</td> \n",
       "</tr>\n",
       "<tr>\n",
       "  <th>33</th> <td>     8.335</td>  <td>     9.332</td>  <td>     4168.</td>  <td>     8.692</td> \n",
       "</tr>\n",
       "<tr>\n",
       "  <th>34</th> <td>     8.339</td>  <td>     9.366</td>  <td>     4185.</td>  <td>     8.707</td> \n",
       "</tr>\n",
       "<tr>\n",
       "  <th>35</th> <td>     8.341</td>  <td>     9.398</td>  <td>     4195.</td>  <td>     8.720</td> \n",
       "</tr>\n",
       "<tr>\n",
       "  <th>36</th> <td>     8.343</td>  <td>     9.430</td>  <td>     4202.</td>  <td>     8.732</td> \n",
       "</tr>\n",
       "<tr>\n",
       "  <th>37</th> <td>     8.348</td>  <td>     9.465</td>  <td>     4224.</td>  <td>     8.748</td> \n",
       "</tr>\n",
       "<tr>\n",
       "  <th>38</th> <td>     8.349</td>  <td>     9.496</td>  <td>     4228.</td>  <td>     8.760</td> \n",
       "</tr>\n",
       "<tr>\n",
       "  <th>39</th> <td>     8.345</td>  <td>     9.522</td>  <td>     4212.</td>  <td>     8.767</td> \n",
       "</tr>\n",
       "<tr>\n",
       "  <th>40</th> <td>     8.351</td>  <td>     9.558</td>  <td>     4237.</td>  <td>     8.784</td> \n",
       "</tr>\n",
       "</table>"
      ],
      "text/latex": [
       "\\begin{center}\n",
       "\\begin{tabular}{lcccc}\n",
       "\\toprule\n",
       "            & \\textbf{AIC} & \\textbf{BIC} & \\textbf{FPE} & \\textbf{HQIC}  \\\\\n",
       "\\midrule\n",
       "\\textbf{0}  &       13.44  &       13.45  &   6.868e+05  &        13.44   \\\\\n",
       "\\textbf{1}  &       8.462  &       8.500  &       4733.  &        8.476   \\\\\n",
       "\\textbf{2}  &       8.326  &       8.393  &       4129.  &        8.350   \\\\\n",
       "\\textbf{3}  &       8.302  &       8.399  &       4031.  &        8.337   \\\\\n",
       "\\textbf{4}  &      8.248*  &      8.375*  &      3819.*  &       8.293*   \\\\\n",
       "\\textbf{5}  &       8.253  &       8.411  &       3840.  &        8.310   \\\\\n",
       "\\textbf{6}  &       8.253  &       8.441  &       3841.  &        8.321   \\\\\n",
       "\\textbf{7}  &       8.250  &       8.467  &       3828.  &        8.328   \\\\\n",
       "\\textbf{8}  &       8.249  &       8.497  &       3825.  &        8.338   \\\\\n",
       "\\textbf{9}  &       8.257  &       8.534  &       3854.  &        8.356   \\\\\n",
       "\\textbf{10} &       8.259  &       8.567  &       3864.  &        8.369   \\\\\n",
       "\\textbf{11} &       8.267  &       8.605  &       3894.  &        8.388   \\\\\n",
       "\\textbf{12} &       8.274  &       8.641  &       3920.  &        8.405   \\\\\n",
       "\\textbf{13} &       8.277  &       8.674  &       3931.  &        8.419   \\\\\n",
       "\\textbf{14} &       8.282  &       8.709  &       3951.  &        8.435   \\\\\n",
       "\\textbf{15} &       8.286  &       8.743  &       3969.  &        8.450   \\\\\n",
       "\\textbf{16} &       8.289  &       8.776  &       3978.  &        8.463   \\\\\n",
       "\\textbf{17} &       8.288  &       8.805  &       3975.  &        8.473   \\\\\n",
       "\\textbf{18} &       8.289  &       8.836  &       3980.  &        8.485   \\\\\n",
       "\\textbf{19} &       8.292  &       8.870  &       3994.  &        8.499   \\\\\n",
       "\\textbf{20} &       8.297  &       8.904  &       4011.  &        8.514   \\\\\n",
       "\\textbf{21} &       8.296  &       8.933  &       4009.  &        8.524   \\\\\n",
       "\\textbf{22} &       8.296  &       8.963  &       4008.  &        8.535   \\\\\n",
       "\\textbf{23} &       8.301  &       8.998  &       4026.  &        8.550   \\\\\n",
       "\\textbf{24} &       8.302  &       9.029  &       4033.  &        8.563   \\\\\n",
       "\\textbf{25} &       8.302  &       9.059  &       4033.  &        8.573   \\\\\n",
       "\\textbf{26} &       8.307  &       9.094  &       4052.  &        8.589   \\\\\n",
       "\\textbf{27} &       8.312  &       9.129  &       4071.  &        8.604   \\\\\n",
       "\\textbf{28} &       8.318  &       9.165  &       4098.  &        8.622   \\\\\n",
       "\\textbf{29} &       8.318  &       9.195  &       4098.  &        8.632   \\\\\n",
       "\\textbf{30} &       8.321  &       9.228  &       4110.  &        8.646   \\\\\n",
       "\\textbf{31} &       8.325  &       9.262  &       4126.  &        8.660   \\\\\n",
       "\\textbf{32} &       8.329  &       9.296  &       4143.  &        8.675   \\\\\n",
       "\\textbf{33} &       8.335  &       9.332  &       4168.  &        8.692   \\\\\n",
       "\\textbf{34} &       8.339  &       9.366  &       4185.  &        8.707   \\\\\n",
       "\\textbf{35} &       8.341  &       9.398  &       4195.  &        8.720   \\\\\n",
       "\\textbf{36} &       8.343  &       9.430  &       4202.  &        8.732   \\\\\n",
       "\\textbf{37} &       8.348  &       9.465  &       4224.  &        8.748   \\\\\n",
       "\\textbf{38} &       8.349  &       9.496  &       4228.  &        8.760   \\\\\n",
       "\\textbf{39} &       8.345  &       9.522  &       4212.  &        8.767   \\\\\n",
       "\\textbf{40} &       8.351  &       9.558  &       4237.  &        8.784   \\\\\n",
       "\\bottomrule\n",
       "\\end{tabular}\n",
       "%\\caption{VAR Order Selection (* highlights the minimums)}\n",
       "\\end{center}"
      ],
      "text/plain": [
       "<class 'statsmodels.iolib.table.SimpleTable'>"
      ]
     },
     "execution_count": 98,
     "metadata": {},
     "output_type": "execute_result"
    }
   ],
   "source": [
    "lag_selection.summary()"
   ]
  },
  {
   "cell_type": "code",
   "execution_count": 99,
   "id": "7dda074e-30e8-4041-a606-76f010be396e",
   "metadata": {},
   "outputs": [],
   "source": [
    "model_fitted = model.fit(4)"
   ]
  },
  {
   "cell_type": "code",
   "execution_count": 101,
   "id": "4bc12571-cfc9-4503-a330-df471c1dc5a3",
   "metadata": {},
   "outputs": [],
   "source": [
    "forecast_steps = 7"
   ]
  },
  {
   "cell_type": "code",
   "execution_count": 103,
   "id": "85f65569-eb2b-4d3e-922e-e7e95e274adb",
   "metadata": {},
   "outputs": [
    {
     "name": "stdout",
     "output_type": "stream",
     "text": [
      "  Summary of Regression Results   \n",
      "==================================\n",
      "Model:                         VAR\n",
      "Method:                        OLS\n",
      "Date:           Sun, 22, Jun, 2025\n",
      "Time:                     19:21:13\n",
      "--------------------------------------------------------------------\n",
      "No. of Equations:         4.00000    BIC:                    8.38001\n",
      "Nobs:                     3284.00    HQIC:                   8.29897\n",
      "Log likelihood:          -32123.9    FPE:                    3842.06\n",
      "AIC:                      8.25376    Det(Omega_mle):         3763.53\n",
      "--------------------------------------------------------------------\n",
      "Results for equation tavg\n",
      "==============================================================================\n",
      "                 coefficient       std. error           t-stat            prob\n",
      "------------------------------------------------------------------------------\n",
      "const               0.435034         0.141332            3.078           0.002\n",
      "L1.tavg             0.891066         0.017775           50.130           0.000\n",
      "L1.prcp             0.004768         0.001702            2.801           0.005\n",
      "L1.tavg_365         0.023311         0.018263            1.276           0.202\n",
      "L1.prcp_365         0.000324         0.001740            0.186           0.852\n",
      "L2.tavg            -0.035794         0.023603           -1.517           0.129\n",
      "L2.prcp             0.001111         0.001768            0.628           0.530\n",
      "L2.tavg_365        -0.032066         0.024019           -1.335           0.182\n",
      "L2.prcp_365        -0.001620         0.001807           -0.897           0.370\n",
      "L3.tavg             0.013934         0.023705            0.588           0.557\n",
      "L3.prcp            -0.003658         0.001754           -2.085           0.037\n",
      "L3.tavg_365         0.037577         0.024138            1.557           0.120\n",
      "L3.prcp_365         0.003839         0.001795            2.139           0.032\n",
      "L4.tavg             0.063799         0.017942            3.556           0.000\n",
      "L4.prcp             0.000420         0.001688            0.249           0.803\n",
      "L4.tavg_365         0.021041         0.018485            1.138           0.255\n",
      "L4.prcp_365         0.000534         0.001726            0.310           0.757\n",
      "==============================================================================\n",
      "\n",
      "Results for equation prcp\n",
      "==============================================================================\n",
      "                 coefficient       std. error           t-stat            prob\n",
      "------------------------------------------------------------------------------\n",
      "const               1.059459         1.463065            0.724           0.469\n",
      "L1.tavg            -1.890416         0.184006          -10.274           0.000\n",
      "L1.prcp             0.266572         0.017624           15.126           0.000\n",
      "L1.tavg_365        -0.089216         0.189062           -0.472           0.637\n",
      "L1.prcp_365        -0.027512         0.018010           -1.528           0.127\n",
      "L2.tavg             1.578521         0.244332            6.461           0.000\n",
      "L2.prcp             0.157481         0.018298            8.606           0.000\n",
      "L2.tavg_365         0.175702         0.248645            0.707           0.480\n",
      "L2.prcp_365         0.019532         0.018701            1.044           0.296\n",
      "L3.tavg            -0.007450         0.245396           -0.030           0.976\n",
      "L3.prcp             0.034227         0.018161            1.885           0.059\n",
      "L3.tavg_365         0.097537         0.249872            0.390           0.696\n",
      "L3.prcp_365         0.036269         0.018578            1.952           0.051\n",
      "L4.tavg             0.209779         0.185731            1.129           0.259\n",
      "L4.prcp             0.149150         0.017472            8.536           0.000\n",
      "L4.tavg_365        -0.068225         0.191351           -0.357           0.721\n",
      "L4.prcp_365         0.005588         0.017866            0.313           0.754\n",
      "==============================================================================\n",
      "\n",
      "Results for equation tavg_365\n",
      "==============================================================================\n",
      "                 coefficient       std. error           t-stat            prob\n",
      "------------------------------------------------------------------------------\n",
      "const               0.405271         0.137885            2.939           0.003\n",
      "L1.tavg             0.048417         0.017341            2.792           0.005\n",
      "L1.prcp            -0.002072         0.001661           -1.248           0.212\n",
      "L1.tavg_365         0.870737         0.017818           48.869           0.000\n",
      "L1.prcp_365         0.003692         0.001697            2.175           0.030\n",
      "L2.tavg            -0.017430         0.023027           -0.757           0.449\n",
      "L2.prcp             0.000400         0.001724            0.232           0.816\n",
      "L2.tavg_365        -0.001107         0.023433           -0.047           0.962\n",
      "L2.prcp_365         0.001319         0.001762            0.748           0.454\n",
      "L3.tavg            -0.020192         0.023127           -0.873           0.383\n",
      "L3.prcp            -0.002993         0.001712           -1.749           0.080\n",
      "L3.tavg_365        -0.000540         0.023549           -0.023           0.982\n",
      "L3.prcp_365        -0.002205         0.001751           -1.260           0.208\n",
      "L4.tavg             0.031807         0.017504            1.817           0.069\n",
      "L4.prcp             0.003725         0.001647            2.262           0.024\n",
      "L4.tavg_365         0.073336         0.018034            4.067           0.000\n",
      "L4.prcp_365         0.000105         0.001684            0.062           0.950\n",
      "==============================================================================\n",
      "\n",
      "Results for equation prcp_365\n",
      "==============================================================================\n",
      "                 coefficient       std. error           t-stat            prob\n",
      "------------------------------------------------------------------------------\n",
      "const               0.752339         1.433055            0.525           0.600\n",
      "L1.tavg            -0.039876         0.180231           -0.221           0.825\n",
      "L1.prcp             0.000295         0.017262            0.017           0.986\n",
      "L1.tavg_365        -1.850776         0.185184           -9.994           0.000\n",
      "L1.prcp_365         0.268046         0.017640           15.195           0.000\n",
      "L2.tavg             0.181226         0.239320            0.757           0.449\n",
      "L2.prcp            -0.025720         0.017923           -1.435           0.151\n",
      "L2.tavg_365         1.512298         0.243545            6.210           0.000\n",
      "L2.prcp_365         0.176086         0.018318            9.613           0.000\n",
      "L3.tavg            -0.095080         0.240362           -0.396           0.692\n",
      "L3.prcp             0.042096         0.017789            2.366           0.018\n",
      "L3.tavg_365        -0.009834         0.244747           -0.040           0.968\n",
      "L3.prcp_365         0.030263         0.018197            1.663           0.096\n",
      "L4.tavg             0.007080         0.181921            0.039           0.969\n",
      "L4.prcp             0.051969         0.017114            3.037           0.002\n",
      "L4.tavg_365         0.304749         0.187426            1.626           0.104\n",
      "L4.prcp_365         0.154593         0.017500            8.834           0.000\n",
      "==============================================================================\n",
      "\n",
      "Correlation matrix of residuals\n",
      "                tavg      prcp  tavg_365  prcp_365\n",
      "tavg        1.000000 -0.190525  0.026047 -0.008887\n",
      "prcp       -0.190525  1.000000 -0.015640  0.022208\n",
      "tavg_365    0.026047 -0.015640  1.000000 -0.209931\n",
      "prcp_365   -0.008887  0.022208 -0.209931  1.000000\n",
      "\n",
      "\n",
      "\n"
     ]
    }
   ],
   "source": [
    "print(model_fitted.summary())"
   ]
  },
  {
   "cell_type": "code",
   "execution_count": 108,
   "id": "9db33609-ea2e-4fde-98a0-9f22f6c9bdb8",
   "metadata": {},
   "outputs": [],
   "source": [
    "forecast = model_fitted.forecast(df_model.values[-4:], steps=forecast_steps)"
   ]
  },
  {
   "cell_type": "code",
   "execution_count": 109,
   "id": "bfcf0ea5-34f2-4f21-91b7-5815ddcdebca",
   "metadata": {},
   "outputs": [
    {
     "data": {
      "text/plain": [
       "array([[28.38260723,  2.62221484, 28.46015424,  6.90545993],\n",
       "       [28.46387133,  1.90754713, 28.53495771,  2.93093193],\n",
       "       [28.45015664,  2.09865531, 28.62584332,  3.36216323],\n",
       "       [28.4107732 ,  2.43246107, 28.55802873,  2.49449079],\n",
       "       [28.37714801,  2.90300042, 28.52730427,  3.67905092],\n",
       "       [28.36297348,  2.93797694, 28.50576872,  3.17715022],\n",
       "       [28.34433665,  3.02405867, 28.49550865,  3.32337654]])"
      ]
     },
     "execution_count": 109,
     "metadata": {},
     "output_type": "execute_result"
    }
   ],
   "source": [
    "forecast"
   ]
  },
  {
   "cell_type": "code",
   "execution_count": 110,
   "id": "44afd641-cc77-4db5-b9dc-4525cc85c552",
   "metadata": {},
   "outputs": [],
   "source": [
    "last_date = df_model.index[-1]"
   ]
  },
  {
   "cell_type": "code",
   "execution_count": 111,
   "id": "e33e66b9-d8ae-4c3a-af87-897703fc4ea4",
   "metadata": {},
   "outputs": [
    {
     "data": {
      "text/plain": [
       "Timestamp('2025-06-21 00:00:00')"
      ]
     },
     "execution_count": 111,
     "metadata": {},
     "output_type": "execute_result"
    }
   ],
   "source": [
    "last_date"
   ]
  },
  {
   "cell_type": "code",
   "execution_count": 112,
   "id": "85cbee63-d23d-4c5b-ac17-ab616c82717b",
   "metadata": {},
   "outputs": [],
   "source": [
    "forecast_df = pd.DataFrame(forecast, columns=df_model.columns)"
   ]
  },
  {
   "cell_type": "code",
   "execution_count": 113,
   "id": "747bcb8a-9d19-4651-92cb-23021b1a1d3b",
   "metadata": {},
   "outputs": [
    {
     "data": {
      "text/html": [
       "<div>\n",
       "<style scoped>\n",
       "    .dataframe tbody tr th:only-of-type {\n",
       "        vertical-align: middle;\n",
       "    }\n",
       "\n",
       "    .dataframe tbody tr th {\n",
       "        vertical-align: top;\n",
       "    }\n",
       "\n",
       "    .dataframe thead th {\n",
       "        text-align: right;\n",
       "    }\n",
       "</style>\n",
       "<table border=\"1\" class=\"dataframe\">\n",
       "  <thead>\n",
       "    <tr style=\"text-align: right;\">\n",
       "      <th></th>\n",
       "      <th>tavg</th>\n",
       "      <th>prcp</th>\n",
       "      <th>tavg_365</th>\n",
       "      <th>prcp_365</th>\n",
       "    </tr>\n",
       "  </thead>\n",
       "  <tbody>\n",
       "    <tr>\n",
       "      <th>0</th>\n",
       "      <td>28.382607</td>\n",
       "      <td>2.622215</td>\n",
       "      <td>28.460154</td>\n",
       "      <td>6.905460</td>\n",
       "    </tr>\n",
       "    <tr>\n",
       "      <th>1</th>\n",
       "      <td>28.463871</td>\n",
       "      <td>1.907547</td>\n",
       "      <td>28.534958</td>\n",
       "      <td>2.930932</td>\n",
       "    </tr>\n",
       "    <tr>\n",
       "      <th>2</th>\n",
       "      <td>28.450157</td>\n",
       "      <td>2.098655</td>\n",
       "      <td>28.625843</td>\n",
       "      <td>3.362163</td>\n",
       "    </tr>\n",
       "    <tr>\n",
       "      <th>3</th>\n",
       "      <td>28.410773</td>\n",
       "      <td>2.432461</td>\n",
       "      <td>28.558029</td>\n",
       "      <td>2.494491</td>\n",
       "    </tr>\n",
       "    <tr>\n",
       "      <th>4</th>\n",
       "      <td>28.377148</td>\n",
       "      <td>2.903000</td>\n",
       "      <td>28.527304</td>\n",
       "      <td>3.679051</td>\n",
       "    </tr>\n",
       "    <tr>\n",
       "      <th>5</th>\n",
       "      <td>28.362973</td>\n",
       "      <td>2.937977</td>\n",
       "      <td>28.505769</td>\n",
       "      <td>3.177150</td>\n",
       "    </tr>\n",
       "    <tr>\n",
       "      <th>6</th>\n",
       "      <td>28.344337</td>\n",
       "      <td>3.024059</td>\n",
       "      <td>28.495509</td>\n",
       "      <td>3.323377</td>\n",
       "    </tr>\n",
       "  </tbody>\n",
       "</table>\n",
       "</div>"
      ],
      "text/plain": [
       "        tavg      prcp   tavg_365  prcp_365\n",
       "0  28.382607  2.622215  28.460154  6.905460\n",
       "1  28.463871  1.907547  28.534958  2.930932\n",
       "2  28.450157  2.098655  28.625843  3.362163\n",
       "3  28.410773  2.432461  28.558029  2.494491\n",
       "4  28.377148  2.903000  28.527304  3.679051\n",
       "5  28.362973  2.937977  28.505769  3.177150\n",
       "6  28.344337  3.024059  28.495509  3.323377"
      ]
     },
     "execution_count": 113,
     "metadata": {},
     "output_type": "execute_result"
    }
   ],
   "source": [
    "forecast_df"
   ]
  },
  {
   "cell_type": "code",
   "execution_count": 117,
   "id": "bfd81101-ea5f-489a-9290-ecdf54c09ea9",
   "metadata": {},
   "outputs": [],
   "source": [
    "forecast_df.index = pd.date_range(start = last_date+timedelta(days=1), periods=forecast_steps, freq='D')"
   ]
  },
  {
   "cell_type": "code",
   "execution_count": 118,
   "id": "ee3007e9-1ac5-4547-ab84-52622538a4e6",
   "metadata": {},
   "outputs": [
    {
     "data": {
      "text/html": [
       "<div>\n",
       "<style scoped>\n",
       "    .dataframe tbody tr th:only-of-type {\n",
       "        vertical-align: middle;\n",
       "    }\n",
       "\n",
       "    .dataframe tbody tr th {\n",
       "        vertical-align: top;\n",
       "    }\n",
       "\n",
       "    .dataframe thead th {\n",
       "        text-align: right;\n",
       "    }\n",
       "</style>\n",
       "<table border=\"1\" class=\"dataframe\">\n",
       "  <thead>\n",
       "    <tr style=\"text-align: right;\">\n",
       "      <th></th>\n",
       "      <th>tavg</th>\n",
       "      <th>prcp</th>\n",
       "      <th>tavg_365</th>\n",
       "      <th>prcp_365</th>\n",
       "    </tr>\n",
       "  </thead>\n",
       "  <tbody>\n",
       "    <tr>\n",
       "      <th>2025-06-22</th>\n",
       "      <td>28.382607</td>\n",
       "      <td>2.622215</td>\n",
       "      <td>28.460154</td>\n",
       "      <td>6.905460</td>\n",
       "    </tr>\n",
       "    <tr>\n",
       "      <th>2025-06-23</th>\n",
       "      <td>28.463871</td>\n",
       "      <td>1.907547</td>\n",
       "      <td>28.534958</td>\n",
       "      <td>2.930932</td>\n",
       "    </tr>\n",
       "    <tr>\n",
       "      <th>2025-06-24</th>\n",
       "      <td>28.450157</td>\n",
       "      <td>2.098655</td>\n",
       "      <td>28.625843</td>\n",
       "      <td>3.362163</td>\n",
       "    </tr>\n",
       "    <tr>\n",
       "      <th>2025-06-25</th>\n",
       "      <td>28.410773</td>\n",
       "      <td>2.432461</td>\n",
       "      <td>28.558029</td>\n",
       "      <td>2.494491</td>\n",
       "    </tr>\n",
       "    <tr>\n",
       "      <th>2025-06-26</th>\n",
       "      <td>28.377148</td>\n",
       "      <td>2.903000</td>\n",
       "      <td>28.527304</td>\n",
       "      <td>3.679051</td>\n",
       "    </tr>\n",
       "    <tr>\n",
       "      <th>2025-06-27</th>\n",
       "      <td>28.362973</td>\n",
       "      <td>2.937977</td>\n",
       "      <td>28.505769</td>\n",
       "      <td>3.177150</td>\n",
       "    </tr>\n",
       "    <tr>\n",
       "      <th>2025-06-28</th>\n",
       "      <td>28.344337</td>\n",
       "      <td>3.024059</td>\n",
       "      <td>28.495509</td>\n",
       "      <td>3.323377</td>\n",
       "    </tr>\n",
       "  </tbody>\n",
       "</table>\n",
       "</div>"
      ],
      "text/plain": [
       "                 tavg      prcp   tavg_365  prcp_365\n",
       "2025-06-22  28.382607  2.622215  28.460154  6.905460\n",
       "2025-06-23  28.463871  1.907547  28.534958  2.930932\n",
       "2025-06-24  28.450157  2.098655  28.625843  3.362163\n",
       "2025-06-25  28.410773  2.432461  28.558029  2.494491\n",
       "2025-06-26  28.377148  2.903000  28.527304  3.679051\n",
       "2025-06-27  28.362973  2.937977  28.505769  3.177150\n",
       "2025-06-28  28.344337  3.024059  28.495509  3.323377"
      ]
     },
     "execution_count": 118,
     "metadata": {},
     "output_type": "execute_result"
    }
   ],
   "source": [
    "forecast_df"
   ]
  },
  {
   "cell_type": "markdown",
   "id": "dcee2d6b-7420-475d-8db5-9d7fa326eea0",
   "metadata": {},
   "source": [
    "### Rain Prediction"
   ]
  },
  {
   "cell_type": "code",
   "execution_count": 149,
   "id": "4efeaa24-1cf8-4238-8088-c565261a9b9a",
   "metadata": {},
   "outputs": [],
   "source": [
    "Rain = (df_model['prcp'] > 0.5).astype(int)\n",
    "features = df_model[['tavg','tavg_365', 'prcp_365']]\n",
    "features['Rain'] = Rain"
   ]
  },
  {
   "cell_type": "code",
   "execution_count": 150,
   "id": "66c8ea2b-4a6c-4e56-8d1c-61df4e0a30bd",
   "metadata": {},
   "outputs": [],
   "source": [
    "X = df_model[['tavg','tavg_365', 'prcp_365']]"
   ]
  },
  {
   "cell_type": "code",
   "execution_count": 151,
   "id": "6e39813f-324d-4eca-b20f-b7dca12c1678",
   "metadata": {},
   "outputs": [],
   "source": [
    "y = features['Rain']"
   ]
  },
  {
   "cell_type": "code",
   "execution_count": 152,
   "id": "29991daa-3516-4c01-a491-deb3c10a2d6e",
   "metadata": {},
   "outputs": [
    {
     "data": {
      "text/html": [
       "<div>\n",
       "<style scoped>\n",
       "    .dataframe tbody tr th:only-of-type {\n",
       "        vertical-align: middle;\n",
       "    }\n",
       "\n",
       "    .dataframe tbody tr th {\n",
       "        vertical-align: top;\n",
       "    }\n",
       "\n",
       "    .dataframe thead th {\n",
       "        text-align: right;\n",
       "    }\n",
       "</style>\n",
       "<table border=\"1\" class=\"dataframe\">\n",
       "  <thead>\n",
       "    <tr style=\"text-align: right;\">\n",
       "      <th></th>\n",
       "      <th>tavg</th>\n",
       "      <th>tavg_365</th>\n",
       "      <th>prcp_365</th>\n",
       "      <th>Rain</th>\n",
       "    </tr>\n",
       "    <tr>\n",
       "      <th>time</th>\n",
       "      <th></th>\n",
       "      <th></th>\n",
       "      <th></th>\n",
       "      <th></th>\n",
       "    </tr>\n",
       "  </thead>\n",
       "  <tbody>\n",
       "    <tr>\n",
       "      <th>2016-06-21</th>\n",
       "      <td>30.7</td>\n",
       "      <td>27.00</td>\n",
       "      <td>8.9</td>\n",
       "      <td>0</td>\n",
       "    </tr>\n",
       "    <tr>\n",
       "      <th>2016-06-22</th>\n",
       "      <td>29.4</td>\n",
       "      <td>29.00</td>\n",
       "      <td>0.3</td>\n",
       "      <td>1</td>\n",
       "    </tr>\n",
       "    <tr>\n",
       "      <th>2016-06-23</th>\n",
       "      <td>31.1</td>\n",
       "      <td>28.60</td>\n",
       "      <td>0.0</td>\n",
       "      <td>0</td>\n",
       "    </tr>\n",
       "    <tr>\n",
       "      <th>2016-06-24</th>\n",
       "      <td>29.4</td>\n",
       "      <td>29.00</td>\n",
       "      <td>0.0</td>\n",
       "      <td>0</td>\n",
       "    </tr>\n",
       "    <tr>\n",
       "      <th>2016-06-25</th>\n",
       "      <td>28.5</td>\n",
       "      <td>29.12</td>\n",
       "      <td>0.0</td>\n",
       "      <td>0</td>\n",
       "    </tr>\n",
       "    <tr>\n",
       "      <th>...</th>\n",
       "      <td>...</td>\n",
       "      <td>...</td>\n",
       "      <td>...</td>\n",
       "      <td>...</td>\n",
       "    </tr>\n",
       "    <tr>\n",
       "      <th>2025-06-17</th>\n",
       "      <td>29.8</td>\n",
       "      <td>28.20</td>\n",
       "      <td>0.0</td>\n",
       "      <td>0</td>\n",
       "    </tr>\n",
       "    <tr>\n",
       "      <th>2025-06-18</th>\n",
       "      <td>29.7</td>\n",
       "      <td>30.40</td>\n",
       "      <td>19.1</td>\n",
       "      <td>0</td>\n",
       "    </tr>\n",
       "    <tr>\n",
       "      <th>2025-06-19</th>\n",
       "      <td>28.9</td>\n",
       "      <td>29.40</td>\n",
       "      <td>0.0</td>\n",
       "      <td>0</td>\n",
       "    </tr>\n",
       "    <tr>\n",
       "      <th>2025-06-20</th>\n",
       "      <td>28.7</td>\n",
       "      <td>29.70</td>\n",
       "      <td>0.8</td>\n",
       "      <td>0</td>\n",
       "    </tr>\n",
       "    <tr>\n",
       "      <th>2025-06-21</th>\n",
       "      <td>28.3</td>\n",
       "      <td>28.30</td>\n",
       "      <td>0.0</td>\n",
       "      <td>0</td>\n",
       "    </tr>\n",
       "  </tbody>\n",
       "</table>\n",
       "<p>3288 rows × 4 columns</p>\n",
       "</div>"
      ],
      "text/plain": [
       "            tavg  tavg_365  prcp_365  Rain\n",
       "time                                      \n",
       "2016-06-21  30.7     27.00       8.9     0\n",
       "2016-06-22  29.4     29.00       0.3     1\n",
       "2016-06-23  31.1     28.60       0.0     0\n",
       "2016-06-24  29.4     29.00       0.0     0\n",
       "2016-06-25  28.5     29.12       0.0     0\n",
       "...          ...       ...       ...   ...\n",
       "2025-06-17  29.8     28.20       0.0     0\n",
       "2025-06-18  29.7     30.40      19.1     0\n",
       "2025-06-19  28.9     29.40       0.0     0\n",
       "2025-06-20  28.7     29.70       0.8     0\n",
       "2025-06-21  28.3     28.30       0.0     0\n",
       "\n",
       "[3288 rows x 4 columns]"
      ]
     },
     "execution_count": 152,
     "metadata": {},
     "output_type": "execute_result"
    }
   ],
   "source": [
    "features"
   ]
  },
  {
   "cell_type": "code",
   "execution_count": 153,
   "id": "788c3592-5118-4464-aafa-f9874483e0b2",
   "metadata": {},
   "outputs": [],
   "source": [
    "from sklearn.ensemble import RandomForestClassifier\n",
    "from sklearn.model_selection import train_test_split, GridSearchCV\n",
    "from sklearn.metrics import accuracy_score, classification_report"
   ]
  },
  {
   "cell_type": "code",
   "execution_count": 154,
   "id": "45902ab1-15a1-4a36-ba81-e9a67f81f6e8",
   "metadata": {},
   "outputs": [],
   "source": [
    "X_train, X_test, y_train, y_test = train_test_split(X, y, test_size=0.2, random_state=42)"
   ]
  },
  {
   "cell_type": "code",
   "execution_count": 155,
   "id": "b78051a0-6a5c-4e52-bb12-6284dc3202c4",
   "metadata": {},
   "outputs": [],
   "source": [
    "model = RandomForestClassifier()\n",
    "param_grid = {\n",
    "    'n_estimators': [50, 100, 200],\n",
    "    'max_depth': [None, 5, 10, 20],\n",
    "    'min_samples_split': [2, 5, 10],\n",
    "    'min_samples_leaf': [1, 2, 4],\n",
    "    'bootstrap': [True, False]\n",
    "}\n"
   ]
  },
  {
   "cell_type": "code",
   "execution_count": 156,
   "id": "6eb36644-9661-4500-a202-2b52463fe40d",
   "metadata": {},
   "outputs": [],
   "source": [
    "gcv = GridSearchCV(model, param_grid, scoring='accuracy', cv=5, n_jobs=-1)"
   ]
  },
  {
   "cell_type": "code",
   "execution_count": 157,
   "id": "ed3a761b-276e-4e4a-8f94-9f418759b7b8",
   "metadata": {},
   "outputs": [
    {
     "data": {
      "text/html": [
       "<style>#sk-container-id-3 {\n",
       "  /* Definition of color scheme common for light and dark mode */\n",
       "  --sklearn-color-text: #000;\n",
       "  --sklearn-color-text-muted: #666;\n",
       "  --sklearn-color-line: gray;\n",
       "  /* Definition of color scheme for unfitted estimators */\n",
       "  --sklearn-color-unfitted-level-0: #fff5e6;\n",
       "  --sklearn-color-unfitted-level-1: #f6e4d2;\n",
       "  --sklearn-color-unfitted-level-2: #ffe0b3;\n",
       "  --sklearn-color-unfitted-level-3: chocolate;\n",
       "  /* Definition of color scheme for fitted estimators */\n",
       "  --sklearn-color-fitted-level-0: #f0f8ff;\n",
       "  --sklearn-color-fitted-level-1: #d4ebff;\n",
       "  --sklearn-color-fitted-level-2: #b3dbfd;\n",
       "  --sklearn-color-fitted-level-3: cornflowerblue;\n",
       "\n",
       "  /* Specific color for light theme */\n",
       "  --sklearn-color-text-on-default-background: var(--sg-text-color, var(--theme-code-foreground, var(--jp-content-font-color1, black)));\n",
       "  --sklearn-color-background: var(--sg-background-color, var(--theme-background, var(--jp-layout-color0, white)));\n",
       "  --sklearn-color-border-box: var(--sg-text-color, var(--theme-code-foreground, var(--jp-content-font-color1, black)));\n",
       "  --sklearn-color-icon: #696969;\n",
       "\n",
       "  @media (prefers-color-scheme: dark) {\n",
       "    /* Redefinition of color scheme for dark theme */\n",
       "    --sklearn-color-text-on-default-background: var(--sg-text-color, var(--theme-code-foreground, var(--jp-content-font-color1, white)));\n",
       "    --sklearn-color-background: var(--sg-background-color, var(--theme-background, var(--jp-layout-color0, #111)));\n",
       "    --sklearn-color-border-box: var(--sg-text-color, var(--theme-code-foreground, var(--jp-content-font-color1, white)));\n",
       "    --sklearn-color-icon: #878787;\n",
       "  }\n",
       "}\n",
       "\n",
       "#sk-container-id-3 {\n",
       "  color: var(--sklearn-color-text);\n",
       "}\n",
       "\n",
       "#sk-container-id-3 pre {\n",
       "  padding: 0;\n",
       "}\n",
       "\n",
       "#sk-container-id-3 input.sk-hidden--visually {\n",
       "  border: 0;\n",
       "  clip: rect(1px 1px 1px 1px);\n",
       "  clip: rect(1px, 1px, 1px, 1px);\n",
       "  height: 1px;\n",
       "  margin: -1px;\n",
       "  overflow: hidden;\n",
       "  padding: 0;\n",
       "  position: absolute;\n",
       "  width: 1px;\n",
       "}\n",
       "\n",
       "#sk-container-id-3 div.sk-dashed-wrapped {\n",
       "  border: 1px dashed var(--sklearn-color-line);\n",
       "  margin: 0 0.4em 0.5em 0.4em;\n",
       "  box-sizing: border-box;\n",
       "  padding-bottom: 0.4em;\n",
       "  background-color: var(--sklearn-color-background);\n",
       "}\n",
       "\n",
       "#sk-container-id-3 div.sk-container {\n",
       "  /* jupyter's `normalize.less` sets `[hidden] { display: none; }`\n",
       "     but bootstrap.min.css set `[hidden] { display: none !important; }`\n",
       "     so we also need the `!important` here to be able to override the\n",
       "     default hidden behavior on the sphinx rendered scikit-learn.org.\n",
       "     See: https://github.com/scikit-learn/scikit-learn/issues/21755 */\n",
       "  display: inline-block !important;\n",
       "  position: relative;\n",
       "}\n",
       "\n",
       "#sk-container-id-3 div.sk-text-repr-fallback {\n",
       "  display: none;\n",
       "}\n",
       "\n",
       "div.sk-parallel-item,\n",
       "div.sk-serial,\n",
       "div.sk-item {\n",
       "  /* draw centered vertical line to link estimators */\n",
       "  background-image: linear-gradient(var(--sklearn-color-text-on-default-background), var(--sklearn-color-text-on-default-background));\n",
       "  background-size: 2px 100%;\n",
       "  background-repeat: no-repeat;\n",
       "  background-position: center center;\n",
       "}\n",
       "\n",
       "/* Parallel-specific style estimator block */\n",
       "\n",
       "#sk-container-id-3 div.sk-parallel-item::after {\n",
       "  content: \"\";\n",
       "  width: 100%;\n",
       "  border-bottom: 2px solid var(--sklearn-color-text-on-default-background);\n",
       "  flex-grow: 1;\n",
       "}\n",
       "\n",
       "#sk-container-id-3 div.sk-parallel {\n",
       "  display: flex;\n",
       "  align-items: stretch;\n",
       "  justify-content: center;\n",
       "  background-color: var(--sklearn-color-background);\n",
       "  position: relative;\n",
       "}\n",
       "\n",
       "#sk-container-id-3 div.sk-parallel-item {\n",
       "  display: flex;\n",
       "  flex-direction: column;\n",
       "}\n",
       "\n",
       "#sk-container-id-3 div.sk-parallel-item:first-child::after {\n",
       "  align-self: flex-end;\n",
       "  width: 50%;\n",
       "}\n",
       "\n",
       "#sk-container-id-3 div.sk-parallel-item:last-child::after {\n",
       "  align-self: flex-start;\n",
       "  width: 50%;\n",
       "}\n",
       "\n",
       "#sk-container-id-3 div.sk-parallel-item:only-child::after {\n",
       "  width: 0;\n",
       "}\n",
       "\n",
       "/* Serial-specific style estimator block */\n",
       "\n",
       "#sk-container-id-3 div.sk-serial {\n",
       "  display: flex;\n",
       "  flex-direction: column;\n",
       "  align-items: center;\n",
       "  background-color: var(--sklearn-color-background);\n",
       "  padding-right: 1em;\n",
       "  padding-left: 1em;\n",
       "}\n",
       "\n",
       "\n",
       "/* Toggleable style: style used for estimator/Pipeline/ColumnTransformer box that is\n",
       "clickable and can be expanded/collapsed.\n",
       "- Pipeline and ColumnTransformer use this feature and define the default style\n",
       "- Estimators will overwrite some part of the style using the `sk-estimator` class\n",
       "*/\n",
       "\n",
       "/* Pipeline and ColumnTransformer style (default) */\n",
       "\n",
       "#sk-container-id-3 div.sk-toggleable {\n",
       "  /* Default theme specific background. It is overwritten whether we have a\n",
       "  specific estimator or a Pipeline/ColumnTransformer */\n",
       "  background-color: var(--sklearn-color-background);\n",
       "}\n",
       "\n",
       "/* Toggleable label */\n",
       "#sk-container-id-3 label.sk-toggleable__label {\n",
       "  cursor: pointer;\n",
       "  display: flex;\n",
       "  width: 100%;\n",
       "  margin-bottom: 0;\n",
       "  padding: 0.5em;\n",
       "  box-sizing: border-box;\n",
       "  text-align: center;\n",
       "  align-items: start;\n",
       "  justify-content: space-between;\n",
       "  gap: 0.5em;\n",
       "}\n",
       "\n",
       "#sk-container-id-3 label.sk-toggleable__label .caption {\n",
       "  font-size: 0.6rem;\n",
       "  font-weight: lighter;\n",
       "  color: var(--sklearn-color-text-muted);\n",
       "}\n",
       "\n",
       "#sk-container-id-3 label.sk-toggleable__label-arrow:before {\n",
       "  /* Arrow on the left of the label */\n",
       "  content: \"▸\";\n",
       "  float: left;\n",
       "  margin-right: 0.25em;\n",
       "  color: var(--sklearn-color-icon);\n",
       "}\n",
       "\n",
       "#sk-container-id-3 label.sk-toggleable__label-arrow:hover:before {\n",
       "  color: var(--sklearn-color-text);\n",
       "}\n",
       "\n",
       "/* Toggleable content - dropdown */\n",
       "\n",
       "#sk-container-id-3 div.sk-toggleable__content {\n",
       "  max-height: 0;\n",
       "  max-width: 0;\n",
       "  overflow: hidden;\n",
       "  text-align: left;\n",
       "  /* unfitted */\n",
       "  background-color: var(--sklearn-color-unfitted-level-0);\n",
       "}\n",
       "\n",
       "#sk-container-id-3 div.sk-toggleable__content.fitted {\n",
       "  /* fitted */\n",
       "  background-color: var(--sklearn-color-fitted-level-0);\n",
       "}\n",
       "\n",
       "#sk-container-id-3 div.sk-toggleable__content pre {\n",
       "  margin: 0.2em;\n",
       "  border-radius: 0.25em;\n",
       "  color: var(--sklearn-color-text);\n",
       "  /* unfitted */\n",
       "  background-color: var(--sklearn-color-unfitted-level-0);\n",
       "}\n",
       "\n",
       "#sk-container-id-3 div.sk-toggleable__content.fitted pre {\n",
       "  /* unfitted */\n",
       "  background-color: var(--sklearn-color-fitted-level-0);\n",
       "}\n",
       "\n",
       "#sk-container-id-3 input.sk-toggleable__control:checked~div.sk-toggleable__content {\n",
       "  /* Expand drop-down */\n",
       "  max-height: 200px;\n",
       "  max-width: 100%;\n",
       "  overflow: auto;\n",
       "}\n",
       "\n",
       "#sk-container-id-3 input.sk-toggleable__control:checked~label.sk-toggleable__label-arrow:before {\n",
       "  content: \"▾\";\n",
       "}\n",
       "\n",
       "/* Pipeline/ColumnTransformer-specific style */\n",
       "\n",
       "#sk-container-id-3 div.sk-label input.sk-toggleable__control:checked~label.sk-toggleable__label {\n",
       "  color: var(--sklearn-color-text);\n",
       "  background-color: var(--sklearn-color-unfitted-level-2);\n",
       "}\n",
       "\n",
       "#sk-container-id-3 div.sk-label.fitted input.sk-toggleable__control:checked~label.sk-toggleable__label {\n",
       "  background-color: var(--sklearn-color-fitted-level-2);\n",
       "}\n",
       "\n",
       "/* Estimator-specific style */\n",
       "\n",
       "/* Colorize estimator box */\n",
       "#sk-container-id-3 div.sk-estimator input.sk-toggleable__control:checked~label.sk-toggleable__label {\n",
       "  /* unfitted */\n",
       "  background-color: var(--sklearn-color-unfitted-level-2);\n",
       "}\n",
       "\n",
       "#sk-container-id-3 div.sk-estimator.fitted input.sk-toggleable__control:checked~label.sk-toggleable__label {\n",
       "  /* fitted */\n",
       "  background-color: var(--sklearn-color-fitted-level-2);\n",
       "}\n",
       "\n",
       "#sk-container-id-3 div.sk-label label.sk-toggleable__label,\n",
       "#sk-container-id-3 div.sk-label label {\n",
       "  /* The background is the default theme color */\n",
       "  color: var(--sklearn-color-text-on-default-background);\n",
       "}\n",
       "\n",
       "/* On hover, darken the color of the background */\n",
       "#sk-container-id-3 div.sk-label:hover label.sk-toggleable__label {\n",
       "  color: var(--sklearn-color-text);\n",
       "  background-color: var(--sklearn-color-unfitted-level-2);\n",
       "}\n",
       "\n",
       "/* Label box, darken color on hover, fitted */\n",
       "#sk-container-id-3 div.sk-label.fitted:hover label.sk-toggleable__label.fitted {\n",
       "  color: var(--sklearn-color-text);\n",
       "  background-color: var(--sklearn-color-fitted-level-2);\n",
       "}\n",
       "\n",
       "/* Estimator label */\n",
       "\n",
       "#sk-container-id-3 div.sk-label label {\n",
       "  font-family: monospace;\n",
       "  font-weight: bold;\n",
       "  display: inline-block;\n",
       "  line-height: 1.2em;\n",
       "}\n",
       "\n",
       "#sk-container-id-3 div.sk-label-container {\n",
       "  text-align: center;\n",
       "}\n",
       "\n",
       "/* Estimator-specific */\n",
       "#sk-container-id-3 div.sk-estimator {\n",
       "  font-family: monospace;\n",
       "  border: 1px dotted var(--sklearn-color-border-box);\n",
       "  border-radius: 0.25em;\n",
       "  box-sizing: border-box;\n",
       "  margin-bottom: 0.5em;\n",
       "  /* unfitted */\n",
       "  background-color: var(--sklearn-color-unfitted-level-0);\n",
       "}\n",
       "\n",
       "#sk-container-id-3 div.sk-estimator.fitted {\n",
       "  /* fitted */\n",
       "  background-color: var(--sklearn-color-fitted-level-0);\n",
       "}\n",
       "\n",
       "/* on hover */\n",
       "#sk-container-id-3 div.sk-estimator:hover {\n",
       "  /* unfitted */\n",
       "  background-color: var(--sklearn-color-unfitted-level-2);\n",
       "}\n",
       "\n",
       "#sk-container-id-3 div.sk-estimator.fitted:hover {\n",
       "  /* fitted */\n",
       "  background-color: var(--sklearn-color-fitted-level-2);\n",
       "}\n",
       "\n",
       "/* Specification for estimator info (e.g. \"i\" and \"?\") */\n",
       "\n",
       "/* Common style for \"i\" and \"?\" */\n",
       "\n",
       ".sk-estimator-doc-link,\n",
       "a:link.sk-estimator-doc-link,\n",
       "a:visited.sk-estimator-doc-link {\n",
       "  float: right;\n",
       "  font-size: smaller;\n",
       "  line-height: 1em;\n",
       "  font-family: monospace;\n",
       "  background-color: var(--sklearn-color-background);\n",
       "  border-radius: 1em;\n",
       "  height: 1em;\n",
       "  width: 1em;\n",
       "  text-decoration: none !important;\n",
       "  margin-left: 0.5em;\n",
       "  text-align: center;\n",
       "  /* unfitted */\n",
       "  border: var(--sklearn-color-unfitted-level-1) 1pt solid;\n",
       "  color: var(--sklearn-color-unfitted-level-1);\n",
       "}\n",
       "\n",
       ".sk-estimator-doc-link.fitted,\n",
       "a:link.sk-estimator-doc-link.fitted,\n",
       "a:visited.sk-estimator-doc-link.fitted {\n",
       "  /* fitted */\n",
       "  border: var(--sklearn-color-fitted-level-1) 1pt solid;\n",
       "  color: var(--sklearn-color-fitted-level-1);\n",
       "}\n",
       "\n",
       "/* On hover */\n",
       "div.sk-estimator:hover .sk-estimator-doc-link:hover,\n",
       ".sk-estimator-doc-link:hover,\n",
       "div.sk-label-container:hover .sk-estimator-doc-link:hover,\n",
       ".sk-estimator-doc-link:hover {\n",
       "  /* unfitted */\n",
       "  background-color: var(--sklearn-color-unfitted-level-3);\n",
       "  color: var(--sklearn-color-background);\n",
       "  text-decoration: none;\n",
       "}\n",
       "\n",
       "div.sk-estimator.fitted:hover .sk-estimator-doc-link.fitted:hover,\n",
       ".sk-estimator-doc-link.fitted:hover,\n",
       "div.sk-label-container:hover .sk-estimator-doc-link.fitted:hover,\n",
       ".sk-estimator-doc-link.fitted:hover {\n",
       "  /* fitted */\n",
       "  background-color: var(--sklearn-color-fitted-level-3);\n",
       "  color: var(--sklearn-color-background);\n",
       "  text-decoration: none;\n",
       "}\n",
       "\n",
       "/* Span, style for the box shown on hovering the info icon */\n",
       ".sk-estimator-doc-link span {\n",
       "  display: none;\n",
       "  z-index: 9999;\n",
       "  position: relative;\n",
       "  font-weight: normal;\n",
       "  right: .2ex;\n",
       "  padding: .5ex;\n",
       "  margin: .5ex;\n",
       "  width: min-content;\n",
       "  min-width: 20ex;\n",
       "  max-width: 50ex;\n",
       "  color: var(--sklearn-color-text);\n",
       "  box-shadow: 2pt 2pt 4pt #999;\n",
       "  /* unfitted */\n",
       "  background: var(--sklearn-color-unfitted-level-0);\n",
       "  border: .5pt solid var(--sklearn-color-unfitted-level-3);\n",
       "}\n",
       "\n",
       ".sk-estimator-doc-link.fitted span {\n",
       "  /* fitted */\n",
       "  background: var(--sklearn-color-fitted-level-0);\n",
       "  border: var(--sklearn-color-fitted-level-3);\n",
       "}\n",
       "\n",
       ".sk-estimator-doc-link:hover span {\n",
       "  display: block;\n",
       "}\n",
       "\n",
       "/* \"?\"-specific style due to the `<a>` HTML tag */\n",
       "\n",
       "#sk-container-id-3 a.estimator_doc_link {\n",
       "  float: right;\n",
       "  font-size: 1rem;\n",
       "  line-height: 1em;\n",
       "  font-family: monospace;\n",
       "  background-color: var(--sklearn-color-background);\n",
       "  border-radius: 1rem;\n",
       "  height: 1rem;\n",
       "  width: 1rem;\n",
       "  text-decoration: none;\n",
       "  /* unfitted */\n",
       "  color: var(--sklearn-color-unfitted-level-1);\n",
       "  border: var(--sklearn-color-unfitted-level-1) 1pt solid;\n",
       "}\n",
       "\n",
       "#sk-container-id-3 a.estimator_doc_link.fitted {\n",
       "  /* fitted */\n",
       "  border: var(--sklearn-color-fitted-level-1) 1pt solid;\n",
       "  color: var(--sklearn-color-fitted-level-1);\n",
       "}\n",
       "\n",
       "/* On hover */\n",
       "#sk-container-id-3 a.estimator_doc_link:hover {\n",
       "  /* unfitted */\n",
       "  background-color: var(--sklearn-color-unfitted-level-3);\n",
       "  color: var(--sklearn-color-background);\n",
       "  text-decoration: none;\n",
       "}\n",
       "\n",
       "#sk-container-id-3 a.estimator_doc_link.fitted:hover {\n",
       "  /* fitted */\n",
       "  background-color: var(--sklearn-color-fitted-level-3);\n",
       "}\n",
       "</style><div id=\"sk-container-id-3\" class=\"sk-top-container\"><div class=\"sk-text-repr-fallback\"><pre>GridSearchCV(cv=5, estimator=RandomForestClassifier(), n_jobs=-1,\n",
       "             param_grid={&#x27;bootstrap&#x27;: [True, False],\n",
       "                         &#x27;max_depth&#x27;: [None, 5, 10, 20],\n",
       "                         &#x27;min_samples_leaf&#x27;: [1, 2, 4],\n",
       "                         &#x27;min_samples_split&#x27;: [2, 5, 10],\n",
       "                         &#x27;n_estimators&#x27;: [50, 100, 200]},\n",
       "             scoring=&#x27;accuracy&#x27;)</pre><b>In a Jupyter environment, please rerun this cell to show the HTML representation or trust the notebook. <br />On GitHub, the HTML representation is unable to render, please try loading this page with nbviewer.org.</b></div><div class=\"sk-container\" hidden><div class=\"sk-item sk-dashed-wrapped\"><div class=\"sk-label-container\"><div class=\"sk-label fitted sk-toggleable\"><input class=\"sk-toggleable__control sk-hidden--visually\" id=\"sk-estimator-id-5\" type=\"checkbox\" ><label for=\"sk-estimator-id-5\" class=\"sk-toggleable__label fitted sk-toggleable__label-arrow\"><div><div>GridSearchCV</div></div><div><a class=\"sk-estimator-doc-link fitted\" rel=\"noreferrer\" target=\"_blank\" href=\"https://scikit-learn.org/1.6/modules/generated/sklearn.model_selection.GridSearchCV.html\">?<span>Documentation for GridSearchCV</span></a><span class=\"sk-estimator-doc-link fitted\">i<span>Fitted</span></span></div></label><div class=\"sk-toggleable__content fitted\"><pre>GridSearchCV(cv=5, estimator=RandomForestClassifier(), n_jobs=-1,\n",
       "             param_grid={&#x27;bootstrap&#x27;: [True, False],\n",
       "                         &#x27;max_depth&#x27;: [None, 5, 10, 20],\n",
       "                         &#x27;min_samples_leaf&#x27;: [1, 2, 4],\n",
       "                         &#x27;min_samples_split&#x27;: [2, 5, 10],\n",
       "                         &#x27;n_estimators&#x27;: [50, 100, 200]},\n",
       "             scoring=&#x27;accuracy&#x27;)</pre></div> </div></div><div class=\"sk-parallel\"><div class=\"sk-parallel-item\"><div class=\"sk-item\"><div class=\"sk-label-container\"><div class=\"sk-label fitted sk-toggleable\"><input class=\"sk-toggleable__control sk-hidden--visually\" id=\"sk-estimator-id-6\" type=\"checkbox\" ><label for=\"sk-estimator-id-6\" class=\"sk-toggleable__label fitted sk-toggleable__label-arrow\"><div><div>best_estimator_: RandomForestClassifier</div></div></label><div class=\"sk-toggleable__content fitted\"><pre>RandomForestClassifier(max_depth=5, min_samples_leaf=2, n_estimators=50)</pre></div> </div></div><div class=\"sk-serial\"><div class=\"sk-item\"><div class=\"sk-estimator fitted sk-toggleable\"><input class=\"sk-toggleable__control sk-hidden--visually\" id=\"sk-estimator-id-7\" type=\"checkbox\" ><label for=\"sk-estimator-id-7\" class=\"sk-toggleable__label fitted sk-toggleable__label-arrow\"><div><div>RandomForestClassifier</div></div><div><a class=\"sk-estimator-doc-link fitted\" rel=\"noreferrer\" target=\"_blank\" href=\"https://scikit-learn.org/1.6/modules/generated/sklearn.ensemble.RandomForestClassifier.html\">?<span>Documentation for RandomForestClassifier</span></a></div></label><div class=\"sk-toggleable__content fitted\"><pre>RandomForestClassifier(max_depth=5, min_samples_leaf=2, n_estimators=50)</pre></div> </div></div></div></div></div></div></div></div></div>"
      ],
      "text/plain": [
       "GridSearchCV(cv=5, estimator=RandomForestClassifier(), n_jobs=-1,\n",
       "             param_grid={'bootstrap': [True, False],\n",
       "                         'max_depth': [None, 5, 10, 20],\n",
       "                         'min_samples_leaf': [1, 2, 4],\n",
       "                         'min_samples_split': [2, 5, 10],\n",
       "                         'n_estimators': [50, 100, 200]},\n",
       "             scoring='accuracy')"
      ]
     },
     "execution_count": 157,
     "metadata": {},
     "output_type": "execute_result"
    }
   ],
   "source": [
    "gcv.fit(X_train, y_train)"
   ]
  },
  {
   "cell_type": "code",
   "execution_count": 158,
   "id": "20fcca9c-3276-4b30-ac15-6d29a337abc1",
   "metadata": {},
   "outputs": [
    {
     "data": {
      "text/plain": [
       "{'bootstrap': True,\n",
       " 'max_depth': 5,\n",
       " 'min_samples_leaf': 2,\n",
       " 'min_samples_split': 2,\n",
       " 'n_estimators': 50}"
      ]
     },
     "execution_count": 158,
     "metadata": {},
     "output_type": "execute_result"
    }
   ],
   "source": [
    "gcv.best_params_"
   ]
  },
  {
   "cell_type": "code",
   "execution_count": 159,
   "id": "b10e519b-bcaa-4e36-bb1d-41b7e798693d",
   "metadata": {},
   "outputs": [],
   "source": [
    "best_model = gcv.best_estimator_"
   ]
  },
  {
   "cell_type": "code",
   "execution_count": 160,
   "id": "a52f625c-fc71-494d-8a57-a8cc4e6662c9",
   "metadata": {},
   "outputs": [],
   "source": [
    "y_pred = best_model.predict(X_test)"
   ]
  },
  {
   "cell_type": "code",
   "execution_count": 161,
   "id": "e98f2f29-1bd5-405d-bc6a-1d00680a1742",
   "metadata": {},
   "outputs": [
    {
     "name": "stdout",
     "output_type": "stream",
     "text": [
      "0.7340425531914894\n"
     ]
    }
   ],
   "source": [
    "print(accuracy_score(y_test, y_pred))"
   ]
  },
  {
   "cell_type": "code",
   "execution_count": 162,
   "id": "0204d5af-85cf-4d6f-ba08-4a0df0dd78f5",
   "metadata": {},
   "outputs": [
    {
     "data": {
      "text/html": [
       "<div>\n",
       "<style scoped>\n",
       "    .dataframe tbody tr th:only-of-type {\n",
       "        vertical-align: middle;\n",
       "    }\n",
       "\n",
       "    .dataframe tbody tr th {\n",
       "        vertical-align: top;\n",
       "    }\n",
       "\n",
       "    .dataframe thead th {\n",
       "        text-align: right;\n",
       "    }\n",
       "</style>\n",
       "<table border=\"1\" class=\"dataframe\">\n",
       "  <thead>\n",
       "    <tr style=\"text-align: right;\">\n",
       "      <th></th>\n",
       "      <th>tavg</th>\n",
       "      <th>prcp</th>\n",
       "      <th>tavg_365</th>\n",
       "      <th>prcp_365</th>\n",
       "      <th>Rain</th>\n",
       "    </tr>\n",
       "  </thead>\n",
       "  <tbody>\n",
       "    <tr>\n",
       "      <th>2025-06-22</th>\n",
       "      <td>28.382607</td>\n",
       "      <td>2.622215</td>\n",
       "      <td>28.460154</td>\n",
       "      <td>6.905460</td>\n",
       "      <td>0</td>\n",
       "    </tr>\n",
       "    <tr>\n",
       "      <th>2025-06-23</th>\n",
       "      <td>28.463871</td>\n",
       "      <td>1.907547</td>\n",
       "      <td>28.534958</td>\n",
       "      <td>2.930932</td>\n",
       "      <td>0</td>\n",
       "    </tr>\n",
       "    <tr>\n",
       "      <th>2025-06-24</th>\n",
       "      <td>28.450157</td>\n",
       "      <td>2.098655</td>\n",
       "      <td>28.625843</td>\n",
       "      <td>3.362163</td>\n",
       "      <td>0</td>\n",
       "    </tr>\n",
       "    <tr>\n",
       "      <th>2025-06-25</th>\n",
       "      <td>28.410773</td>\n",
       "      <td>2.432461</td>\n",
       "      <td>28.558029</td>\n",
       "      <td>2.494491</td>\n",
       "      <td>0</td>\n",
       "    </tr>\n",
       "    <tr>\n",
       "      <th>2025-06-26</th>\n",
       "      <td>28.377148</td>\n",
       "      <td>2.903000</td>\n",
       "      <td>28.527304</td>\n",
       "      <td>3.679051</td>\n",
       "      <td>0</td>\n",
       "    </tr>\n",
       "  </tbody>\n",
       "</table>\n",
       "</div>"
      ],
      "text/plain": [
       "                 tavg      prcp   tavg_365  prcp_365  Rain\n",
       "2025-06-22  28.382607  2.622215  28.460154  6.905460     0\n",
       "2025-06-23  28.463871  1.907547  28.534958  2.930932     0\n",
       "2025-06-24  28.450157  2.098655  28.625843  3.362163     0\n",
       "2025-06-25  28.410773  2.432461  28.558029  2.494491     0\n",
       "2025-06-26  28.377148  2.903000  28.527304  3.679051     0"
      ]
     },
     "execution_count": 162,
     "metadata": {},
     "output_type": "execute_result"
    }
   ],
   "source": [
    "forecast_df.head()"
   ]
  },
  {
   "cell_type": "code",
   "execution_count": 163,
   "id": "c33a845f-ba75-4f61-9fda-165156969be8",
   "metadata": {},
   "outputs": [],
   "source": [
    "forecast_df['Rain'] = best_model.predict(forecast_df[['tavg', 'tavg_365', 'prcp_365']])"
   ]
  },
  {
   "cell_type": "code",
   "execution_count": 165,
   "id": "03db4ce2-198a-47f4-8889-379ec1e70e50",
   "metadata": {},
   "outputs": [
    {
     "data": {
      "text/html": [
       "<div>\n",
       "<style scoped>\n",
       "    .dataframe tbody tr th:only-of-type {\n",
       "        vertical-align: middle;\n",
       "    }\n",
       "\n",
       "    .dataframe tbody tr th {\n",
       "        vertical-align: top;\n",
       "    }\n",
       "\n",
       "    .dataframe thead th {\n",
       "        text-align: right;\n",
       "    }\n",
       "</style>\n",
       "<table border=\"1\" class=\"dataframe\">\n",
       "  <thead>\n",
       "    <tr style=\"text-align: right;\">\n",
       "      <th></th>\n",
       "      <th>tavg</th>\n",
       "      <th>prcp</th>\n",
       "      <th>tavg_365</th>\n",
       "      <th>prcp_365</th>\n",
       "      <th>Rain</th>\n",
       "    </tr>\n",
       "  </thead>\n",
       "  <tbody>\n",
       "    <tr>\n",
       "      <th>2025-06-22</th>\n",
       "      <td>28.382607</td>\n",
       "      <td>2.622215</td>\n",
       "      <td>28.460154</td>\n",
       "      <td>6.905460</td>\n",
       "      <td>0</td>\n",
       "    </tr>\n",
       "    <tr>\n",
       "      <th>2025-06-23</th>\n",
       "      <td>28.463871</td>\n",
       "      <td>1.907547</td>\n",
       "      <td>28.534958</td>\n",
       "      <td>2.930932</td>\n",
       "      <td>0</td>\n",
       "    </tr>\n",
       "    <tr>\n",
       "      <th>2025-06-24</th>\n",
       "      <td>28.450157</td>\n",
       "      <td>2.098655</td>\n",
       "      <td>28.625843</td>\n",
       "      <td>3.362163</td>\n",
       "      <td>0</td>\n",
       "    </tr>\n",
       "    <tr>\n",
       "      <th>2025-06-25</th>\n",
       "      <td>28.410773</td>\n",
       "      <td>2.432461</td>\n",
       "      <td>28.558029</td>\n",
       "      <td>2.494491</td>\n",
       "      <td>0</td>\n",
       "    </tr>\n",
       "    <tr>\n",
       "      <th>2025-06-26</th>\n",
       "      <td>28.377148</td>\n",
       "      <td>2.903000</td>\n",
       "      <td>28.527304</td>\n",
       "      <td>3.679051</td>\n",
       "      <td>0</td>\n",
       "    </tr>\n",
       "    <tr>\n",
       "      <th>2025-06-27</th>\n",
       "      <td>28.362973</td>\n",
       "      <td>2.937977</td>\n",
       "      <td>28.505769</td>\n",
       "      <td>3.177150</td>\n",
       "      <td>0</td>\n",
       "    </tr>\n",
       "    <tr>\n",
       "      <th>2025-06-28</th>\n",
       "      <td>28.344337</td>\n",
       "      <td>3.024059</td>\n",
       "      <td>28.495509</td>\n",
       "      <td>3.323377</td>\n",
       "      <td>0</td>\n",
       "    </tr>\n",
       "  </tbody>\n",
       "</table>\n",
       "</div>"
      ],
      "text/plain": [
       "                 tavg      prcp   tavg_365  prcp_365  Rain\n",
       "2025-06-22  28.382607  2.622215  28.460154  6.905460     0\n",
       "2025-06-23  28.463871  1.907547  28.534958  2.930932     0\n",
       "2025-06-24  28.450157  2.098655  28.625843  3.362163     0\n",
       "2025-06-25  28.410773  2.432461  28.558029  2.494491     0\n",
       "2025-06-26  28.377148  2.903000  28.527304  3.679051     0\n",
       "2025-06-27  28.362973  2.937977  28.505769  3.177150     0\n",
       "2025-06-28  28.344337  3.024059  28.495509  3.323377     0"
      ]
     },
     "execution_count": 165,
     "metadata": {},
     "output_type": "execute_result"
    }
   ],
   "source": [
    "forecast_df"
   ]
  },
  {
   "cell_type": "code",
   "execution_count": 179,
   "id": "030a676e-c2e7-4a65-846a-a0e8e227a9d9",
   "metadata": {},
   "outputs": [
    {
     "name": "stdout",
     "output_type": "stream",
     "text": [
      "*********************Next 7 days Forecast*******************\n"
     ]
    },
    {
     "data": {
      "text/html": [
       "<div>\n",
       "<style scoped>\n",
       "    .dataframe tbody tr th:only-of-type {\n",
       "        vertical-align: middle;\n",
       "    }\n",
       "\n",
       "    .dataframe tbody tr th {\n",
       "        vertical-align: top;\n",
       "    }\n",
       "\n",
       "    .dataframe thead th {\n",
       "        text-align: right;\n",
       "    }\n",
       "</style>\n",
       "<table border=\"1\" class=\"dataframe\">\n",
       "  <thead>\n",
       "    <tr style=\"text-align: right;\">\n",
       "      <th></th>\n",
       "      <th>tavg</th>\n",
       "      <th>Rain</th>\n",
       "    </tr>\n",
       "  </thead>\n",
       "  <tbody>\n",
       "    <tr>\n",
       "      <th>2025-06-22</th>\n",
       "      <td>28.382607</td>\n",
       "      <td>No Rain</td>\n",
       "    </tr>\n",
       "    <tr>\n",
       "      <th>2025-06-23</th>\n",
       "      <td>28.463871</td>\n",
       "      <td>No Rain</td>\n",
       "    </tr>\n",
       "    <tr>\n",
       "      <th>2025-06-24</th>\n",
       "      <td>28.450157</td>\n",
       "      <td>No Rain</td>\n",
       "    </tr>\n",
       "    <tr>\n",
       "      <th>2025-06-25</th>\n",
       "      <td>28.410773</td>\n",
       "      <td>No Rain</td>\n",
       "    </tr>\n",
       "    <tr>\n",
       "      <th>2025-06-26</th>\n",
       "      <td>28.377148</td>\n",
       "      <td>No Rain</td>\n",
       "    </tr>\n",
       "    <tr>\n",
       "      <th>2025-06-27</th>\n",
       "      <td>28.362973</td>\n",
       "      <td>No Rain</td>\n",
       "    </tr>\n",
       "    <tr>\n",
       "      <th>2025-06-28</th>\n",
       "      <td>28.344337</td>\n",
       "      <td>No Rain</td>\n",
       "    </tr>\n",
       "  </tbody>\n",
       "</table>\n",
       "</div>"
      ],
      "text/plain": [
       "                 tavg     Rain\n",
       "2025-06-22  28.382607  No Rain\n",
       "2025-06-23  28.463871  No Rain\n",
       "2025-06-24  28.450157  No Rain\n",
       "2025-06-25  28.410773  No Rain\n",
       "2025-06-26  28.377148  No Rain\n",
       "2025-06-27  28.362973  No Rain\n",
       "2025-06-28  28.344337  No Rain"
      ]
     },
     "execution_count": 179,
     "metadata": {},
     "output_type": "execute_result"
    }
   ],
   "source": [
    "print(\"*********************Next 7 days Forecast*******************\")\n",
    "forecast_final = forecast_df[['tavg', 'Rain']].copy()\n",
    "forecast_final['Rain'] = forecast_final['Rain'].map({0:'No Rain', 1:'Rain'})\n",
    "forecast_final"
   ]
  },
  {
   "cell_type": "code",
   "execution_count": null,
   "id": "0eaa841e-d7e5-45d1-8462-61635b79f2b6",
   "metadata": {},
   "outputs": [],
   "source": [
    "'"
   ]
  }
 ],
 "metadata": {
  "kernelspec": {
   "display_name": "Python [conda env:base] *",
   "language": "python",
   "name": "conda-base-py"
  },
  "language_info": {
   "codemirror_mode": {
    "name": "ipython",
    "version": 3
   },
   "file_extension": ".py",
   "mimetype": "text/x-python",
   "name": "python",
   "nbconvert_exporter": "python",
   "pygments_lexer": "ipython3",
   "version": "3.12.7"
  }
 },
 "nbformat": 4,
 "nbformat_minor": 5
}
