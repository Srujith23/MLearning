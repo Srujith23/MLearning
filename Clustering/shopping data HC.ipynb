{
 "cells": [
  {
   "cell_type": "code",
   "execution_count": 54,
   "id": "72609d1c-1693-4729-832a-fd08ec724814",
   "metadata": {},
   "outputs": [],
   "source": [
    "import pandas as pd\n",
    "import numpy as np\n",
    "import seaborn as sns\n",
    "from sklearn.preprocessing import StandardScaler, OneHotEncoder\n",
    "from scipy.cluster.hierarchy import linkage, fcluster, dendrogram\n",
    "import scipy.cluster.hierarchy as sch\n",
    "import matplotlib.pyplot as plt\n",
    "import umap.umap_ as umap"
   ]
  },
  {
   "cell_type": "code",
   "execution_count": 2,
   "id": "12947a06-4ec9-4228-86ae-8e1ac49ebd5d",
   "metadata": {},
   "outputs": [],
   "source": [
    "df = pd.read_csv('../../Datasets/shopping-data.csv')"
   ]
  },
  {
   "cell_type": "code",
   "execution_count": 3,
   "id": "166d9af0-df4e-4297-bd40-ef7a6c7744ec",
   "metadata": {},
   "outputs": [
    {
     "data": {
      "text/html": [
       "<div>\n",
       "<style scoped>\n",
       "    .dataframe tbody tr th:only-of-type {\n",
       "        vertical-align: middle;\n",
       "    }\n",
       "\n",
       "    .dataframe tbody tr th {\n",
       "        vertical-align: top;\n",
       "    }\n",
       "\n",
       "    .dataframe thead th {\n",
       "        text-align: right;\n",
       "    }\n",
       "</style>\n",
       "<table border=\"1\" class=\"dataframe\">\n",
       "  <thead>\n",
       "    <tr style=\"text-align: right;\">\n",
       "      <th></th>\n",
       "      <th>CustomerID</th>\n",
       "      <th>Genre</th>\n",
       "      <th>Age</th>\n",
       "      <th>Annual Income (k$)</th>\n",
       "      <th>Spending Score (1-100)</th>\n",
       "    </tr>\n",
       "  </thead>\n",
       "  <tbody>\n",
       "    <tr>\n",
       "      <th>0</th>\n",
       "      <td>1</td>\n",
       "      <td>Male</td>\n",
       "      <td>19</td>\n",
       "      <td>15</td>\n",
       "      <td>39</td>\n",
       "    </tr>\n",
       "    <tr>\n",
       "      <th>1</th>\n",
       "      <td>2</td>\n",
       "      <td>Male</td>\n",
       "      <td>21</td>\n",
       "      <td>15</td>\n",
       "      <td>81</td>\n",
       "    </tr>\n",
       "    <tr>\n",
       "      <th>2</th>\n",
       "      <td>3</td>\n",
       "      <td>Female</td>\n",
       "      <td>20</td>\n",
       "      <td>16</td>\n",
       "      <td>6</td>\n",
       "    </tr>\n",
       "    <tr>\n",
       "      <th>3</th>\n",
       "      <td>4</td>\n",
       "      <td>Female</td>\n",
       "      <td>23</td>\n",
       "      <td>16</td>\n",
       "      <td>77</td>\n",
       "    </tr>\n",
       "    <tr>\n",
       "      <th>4</th>\n",
       "      <td>5</td>\n",
       "      <td>Female</td>\n",
       "      <td>31</td>\n",
       "      <td>17</td>\n",
       "      <td>40</td>\n",
       "    </tr>\n",
       "  </tbody>\n",
       "</table>\n",
       "</div>"
      ],
      "text/plain": [
       "   CustomerID   Genre  Age  Annual Income (k$)  Spending Score (1-100)\n",
       "0           1    Male   19                  15                      39\n",
       "1           2    Male   21                  15                      81\n",
       "2           3  Female   20                  16                       6\n",
       "3           4  Female   23                  16                      77\n",
       "4           5  Female   31                  17                      40"
      ]
     },
     "execution_count": 3,
     "metadata": {},
     "output_type": "execute_result"
    }
   ],
   "source": [
    "df.head()"
   ]
  },
  {
   "cell_type": "code",
   "execution_count": 7,
   "id": "ba76b1e1-3fd6-4216-b8fc-b84e2e60b87c",
   "metadata": {},
   "outputs": [],
   "source": [
    "ohe = OneHotEncoder(handle_unknown='ignore', sparse_output=False).set_output(transform='pandas')"
   ]
  },
  {
   "cell_type": "code",
   "execution_count": 8,
   "id": "2ec1db06-f707-409e-b11c-e4e74e5bfa29",
   "metadata": {},
   "outputs": [],
   "source": [
    "ohet = ohe.fit_transform(df[['Genre']])"
   ]
  },
  {
   "cell_type": "code",
   "execution_count": 9,
   "id": "e0d2830f-090d-4b31-86d9-7645aea5f3dc",
   "metadata": {},
   "outputs": [
    {
     "data": {
      "text/html": [
       "<div>\n",
       "<style scoped>\n",
       "    .dataframe tbody tr th:only-of-type {\n",
       "        vertical-align: middle;\n",
       "    }\n",
       "\n",
       "    .dataframe tbody tr th {\n",
       "        vertical-align: top;\n",
       "    }\n",
       "\n",
       "    .dataframe thead th {\n",
       "        text-align: right;\n",
       "    }\n",
       "</style>\n",
       "<table border=\"1\" class=\"dataframe\">\n",
       "  <thead>\n",
       "    <tr style=\"text-align: right;\">\n",
       "      <th></th>\n",
       "      <th>Genre_Female</th>\n",
       "      <th>Genre_Male</th>\n",
       "    </tr>\n",
       "  </thead>\n",
       "  <tbody>\n",
       "    <tr>\n",
       "      <th>0</th>\n",
       "      <td>0.0</td>\n",
       "      <td>1.0</td>\n",
       "    </tr>\n",
       "    <tr>\n",
       "      <th>1</th>\n",
       "      <td>0.0</td>\n",
       "      <td>1.0</td>\n",
       "    </tr>\n",
       "    <tr>\n",
       "      <th>2</th>\n",
       "      <td>1.0</td>\n",
       "      <td>0.0</td>\n",
       "    </tr>\n",
       "    <tr>\n",
       "      <th>3</th>\n",
       "      <td>1.0</td>\n",
       "      <td>0.0</td>\n",
       "    </tr>\n",
       "    <tr>\n",
       "      <th>4</th>\n",
       "      <td>1.0</td>\n",
       "      <td>0.0</td>\n",
       "    </tr>\n",
       "    <tr>\n",
       "      <th>...</th>\n",
       "      <td>...</td>\n",
       "      <td>...</td>\n",
       "    </tr>\n",
       "    <tr>\n",
       "      <th>195</th>\n",
       "      <td>1.0</td>\n",
       "      <td>0.0</td>\n",
       "    </tr>\n",
       "    <tr>\n",
       "      <th>196</th>\n",
       "      <td>1.0</td>\n",
       "      <td>0.0</td>\n",
       "    </tr>\n",
       "    <tr>\n",
       "      <th>197</th>\n",
       "      <td>0.0</td>\n",
       "      <td>1.0</td>\n",
       "    </tr>\n",
       "    <tr>\n",
       "      <th>198</th>\n",
       "      <td>0.0</td>\n",
       "      <td>1.0</td>\n",
       "    </tr>\n",
       "    <tr>\n",
       "      <th>199</th>\n",
       "      <td>0.0</td>\n",
       "      <td>1.0</td>\n",
       "    </tr>\n",
       "  </tbody>\n",
       "</table>\n",
       "<p>200 rows × 2 columns</p>\n",
       "</div>"
      ],
      "text/plain": [
       "     Genre_Female  Genre_Male\n",
       "0             0.0         1.0\n",
       "1             0.0         1.0\n",
       "2             1.0         0.0\n",
       "3             1.0         0.0\n",
       "4             1.0         0.0\n",
       "..            ...         ...\n",
       "195           1.0         0.0\n",
       "196           1.0         0.0\n",
       "197           0.0         1.0\n",
       "198           0.0         1.0\n",
       "199           0.0         1.0\n",
       "\n",
       "[200 rows x 2 columns]"
      ]
     },
     "execution_count": 9,
     "metadata": {},
     "output_type": "execute_result"
    }
   ],
   "source": [
    "ohet"
   ]
  },
  {
   "cell_type": "code",
   "execution_count": 12,
   "id": "cf1259b9-0bc6-4fc0-b642-5ab77982d09a",
   "metadata": {},
   "outputs": [],
   "source": [
    "scaled = pd.DataFrame(StandardScaler().fit_transform(df.iloc[:,2:]))"
   ]
  },
  {
   "cell_type": "code",
   "execution_count": 13,
   "id": "33ee12c7-a2c6-46d6-960d-6091da5706eb",
   "metadata": {},
   "outputs": [
    {
     "data": {
      "text/html": [
       "<div>\n",
       "<style scoped>\n",
       "    .dataframe tbody tr th:only-of-type {\n",
       "        vertical-align: middle;\n",
       "    }\n",
       "\n",
       "    .dataframe tbody tr th {\n",
       "        vertical-align: top;\n",
       "    }\n",
       "\n",
       "    .dataframe thead th {\n",
       "        text-align: right;\n",
       "    }\n",
       "</style>\n",
       "<table border=\"1\" class=\"dataframe\">\n",
       "  <thead>\n",
       "    <tr style=\"text-align: right;\">\n",
       "      <th></th>\n",
       "      <th>0</th>\n",
       "      <th>1</th>\n",
       "      <th>2</th>\n",
       "    </tr>\n",
       "  </thead>\n",
       "  <tbody>\n",
       "    <tr>\n",
       "      <th>0</th>\n",
       "      <td>-1.424569</td>\n",
       "      <td>-1.738999</td>\n",
       "      <td>-0.434801</td>\n",
       "    </tr>\n",
       "    <tr>\n",
       "      <th>1</th>\n",
       "      <td>-1.281035</td>\n",
       "      <td>-1.738999</td>\n",
       "      <td>1.195704</td>\n",
       "    </tr>\n",
       "    <tr>\n",
       "      <th>2</th>\n",
       "      <td>-1.352802</td>\n",
       "      <td>-1.700830</td>\n",
       "      <td>-1.715913</td>\n",
       "    </tr>\n",
       "    <tr>\n",
       "      <th>3</th>\n",
       "      <td>-1.137502</td>\n",
       "      <td>-1.700830</td>\n",
       "      <td>1.040418</td>\n",
       "    </tr>\n",
       "    <tr>\n",
       "      <th>4</th>\n",
       "      <td>-0.563369</td>\n",
       "      <td>-1.662660</td>\n",
       "      <td>-0.395980</td>\n",
       "    </tr>\n",
       "    <tr>\n",
       "      <th>...</th>\n",
       "      <td>...</td>\n",
       "      <td>...</td>\n",
       "      <td>...</td>\n",
       "    </tr>\n",
       "    <tr>\n",
       "      <th>195</th>\n",
       "      <td>-0.276302</td>\n",
       "      <td>2.268791</td>\n",
       "      <td>1.118061</td>\n",
       "    </tr>\n",
       "    <tr>\n",
       "      <th>196</th>\n",
       "      <td>0.441365</td>\n",
       "      <td>2.497807</td>\n",
       "      <td>-0.861839</td>\n",
       "    </tr>\n",
       "    <tr>\n",
       "      <th>197</th>\n",
       "      <td>-0.491602</td>\n",
       "      <td>2.497807</td>\n",
       "      <td>0.923953</td>\n",
       "    </tr>\n",
       "    <tr>\n",
       "      <th>198</th>\n",
       "      <td>-0.491602</td>\n",
       "      <td>2.917671</td>\n",
       "      <td>-1.250054</td>\n",
       "    </tr>\n",
       "    <tr>\n",
       "      <th>199</th>\n",
       "      <td>-0.635135</td>\n",
       "      <td>2.917671</td>\n",
       "      <td>1.273347</td>\n",
       "    </tr>\n",
       "  </tbody>\n",
       "</table>\n",
       "<p>200 rows × 3 columns</p>\n",
       "</div>"
      ],
      "text/plain": [
       "            0         1         2\n",
       "0   -1.424569 -1.738999 -0.434801\n",
       "1   -1.281035 -1.738999  1.195704\n",
       "2   -1.352802 -1.700830 -1.715913\n",
       "3   -1.137502 -1.700830  1.040418\n",
       "4   -0.563369 -1.662660 -0.395980\n",
       "..        ...       ...       ...\n",
       "195 -0.276302  2.268791  1.118061\n",
       "196  0.441365  2.497807 -0.861839\n",
       "197 -0.491602  2.497807  0.923953\n",
       "198 -0.491602  2.917671 -1.250054\n",
       "199 -0.635135  2.917671  1.273347\n",
       "\n",
       "[200 rows x 3 columns]"
      ]
     },
     "execution_count": 13,
     "metadata": {},
     "output_type": "execute_result"
    }
   ],
   "source": [
    "scaled"
   ]
  },
  {
   "cell_type": "code",
   "execution_count": 16,
   "id": "8b375730-499d-4b28-8c8b-d6b01c83f6a5",
   "metadata": {},
   "outputs": [],
   "source": [
    "X_scaled = pd.concat([scaled, ohet], axis=1)"
   ]
  },
  {
   "cell_type": "code",
   "execution_count": 17,
   "id": "077b074a-a253-4773-8113-a4c309a0e42b",
   "metadata": {},
   "outputs": [
    {
     "data": {
      "text/html": [
       "<div>\n",
       "<style scoped>\n",
       "    .dataframe tbody tr th:only-of-type {\n",
       "        vertical-align: middle;\n",
       "    }\n",
       "\n",
       "    .dataframe tbody tr th {\n",
       "        vertical-align: top;\n",
       "    }\n",
       "\n",
       "    .dataframe thead th {\n",
       "        text-align: right;\n",
       "    }\n",
       "</style>\n",
       "<table border=\"1\" class=\"dataframe\">\n",
       "  <thead>\n",
       "    <tr style=\"text-align: right;\">\n",
       "      <th></th>\n",
       "      <th>0</th>\n",
       "      <th>1</th>\n",
       "      <th>2</th>\n",
       "      <th>Genre_Female</th>\n",
       "      <th>Genre_Male</th>\n",
       "    </tr>\n",
       "  </thead>\n",
       "  <tbody>\n",
       "    <tr>\n",
       "      <th>0</th>\n",
       "      <td>-1.424569</td>\n",
       "      <td>-1.738999</td>\n",
       "      <td>-0.434801</td>\n",
       "      <td>0.0</td>\n",
       "      <td>1.0</td>\n",
       "    </tr>\n",
       "    <tr>\n",
       "      <th>1</th>\n",
       "      <td>-1.281035</td>\n",
       "      <td>-1.738999</td>\n",
       "      <td>1.195704</td>\n",
       "      <td>0.0</td>\n",
       "      <td>1.0</td>\n",
       "    </tr>\n",
       "    <tr>\n",
       "      <th>2</th>\n",
       "      <td>-1.352802</td>\n",
       "      <td>-1.700830</td>\n",
       "      <td>-1.715913</td>\n",
       "      <td>1.0</td>\n",
       "      <td>0.0</td>\n",
       "    </tr>\n",
       "    <tr>\n",
       "      <th>3</th>\n",
       "      <td>-1.137502</td>\n",
       "      <td>-1.700830</td>\n",
       "      <td>1.040418</td>\n",
       "      <td>1.0</td>\n",
       "      <td>0.0</td>\n",
       "    </tr>\n",
       "    <tr>\n",
       "      <th>4</th>\n",
       "      <td>-0.563369</td>\n",
       "      <td>-1.662660</td>\n",
       "      <td>-0.395980</td>\n",
       "      <td>1.0</td>\n",
       "      <td>0.0</td>\n",
       "    </tr>\n",
       "    <tr>\n",
       "      <th>...</th>\n",
       "      <td>...</td>\n",
       "      <td>...</td>\n",
       "      <td>...</td>\n",
       "      <td>...</td>\n",
       "      <td>...</td>\n",
       "    </tr>\n",
       "    <tr>\n",
       "      <th>195</th>\n",
       "      <td>-0.276302</td>\n",
       "      <td>2.268791</td>\n",
       "      <td>1.118061</td>\n",
       "      <td>1.0</td>\n",
       "      <td>0.0</td>\n",
       "    </tr>\n",
       "    <tr>\n",
       "      <th>196</th>\n",
       "      <td>0.441365</td>\n",
       "      <td>2.497807</td>\n",
       "      <td>-0.861839</td>\n",
       "      <td>1.0</td>\n",
       "      <td>0.0</td>\n",
       "    </tr>\n",
       "    <tr>\n",
       "      <th>197</th>\n",
       "      <td>-0.491602</td>\n",
       "      <td>2.497807</td>\n",
       "      <td>0.923953</td>\n",
       "      <td>0.0</td>\n",
       "      <td>1.0</td>\n",
       "    </tr>\n",
       "    <tr>\n",
       "      <th>198</th>\n",
       "      <td>-0.491602</td>\n",
       "      <td>2.917671</td>\n",
       "      <td>-1.250054</td>\n",
       "      <td>0.0</td>\n",
       "      <td>1.0</td>\n",
       "    </tr>\n",
       "    <tr>\n",
       "      <th>199</th>\n",
       "      <td>-0.635135</td>\n",
       "      <td>2.917671</td>\n",
       "      <td>1.273347</td>\n",
       "      <td>0.0</td>\n",
       "      <td>1.0</td>\n",
       "    </tr>\n",
       "  </tbody>\n",
       "</table>\n",
       "<p>200 rows × 5 columns</p>\n",
       "</div>"
      ],
      "text/plain": [
       "            0         1         2  Genre_Female  Genre_Male\n",
       "0   -1.424569 -1.738999 -0.434801           0.0         1.0\n",
       "1   -1.281035 -1.738999  1.195704           0.0         1.0\n",
       "2   -1.352802 -1.700830 -1.715913           1.0         0.0\n",
       "3   -1.137502 -1.700830  1.040418           1.0         0.0\n",
       "4   -0.563369 -1.662660 -0.395980           1.0         0.0\n",
       "..        ...       ...       ...           ...         ...\n",
       "195 -0.276302  2.268791  1.118061           1.0         0.0\n",
       "196  0.441365  2.497807 -0.861839           1.0         0.0\n",
       "197 -0.491602  2.497807  0.923953           0.0         1.0\n",
       "198 -0.491602  2.917671 -1.250054           0.0         1.0\n",
       "199 -0.635135  2.917671  1.273347           0.0         1.0\n",
       "\n",
       "[200 rows x 5 columns]"
      ]
     },
     "execution_count": 17,
     "metadata": {},
     "output_type": "execute_result"
    }
   ],
   "source": [
    "X_scaled"
   ]
  },
  {
   "cell_type": "code",
   "execution_count": 21,
   "id": "0b6bf9cf-172f-426a-8f05-3f6613036d09",
   "metadata": {},
   "outputs": [],
   "source": [
    "X_scaled = X_scaled.rename(columns={0:'Age', 1:'Annual Income (k$)', 2:'Spending Score (1-100)'})"
   ]
  },
  {
   "cell_type": "code",
   "execution_count": 22,
   "id": "cb89d81a-2b0f-4fb0-9229-254211a85ee9",
   "metadata": {},
   "outputs": [
    {
     "data": {
      "text/html": [
       "<div>\n",
       "<style scoped>\n",
       "    .dataframe tbody tr th:only-of-type {\n",
       "        vertical-align: middle;\n",
       "    }\n",
       "\n",
       "    .dataframe tbody tr th {\n",
       "        vertical-align: top;\n",
       "    }\n",
       "\n",
       "    .dataframe thead th {\n",
       "        text-align: right;\n",
       "    }\n",
       "</style>\n",
       "<table border=\"1\" class=\"dataframe\">\n",
       "  <thead>\n",
       "    <tr style=\"text-align: right;\">\n",
       "      <th></th>\n",
       "      <th>Age</th>\n",
       "      <th>Annual Income (k$)</th>\n",
       "      <th>Spending Score (1-100)</th>\n",
       "      <th>Genre_Female</th>\n",
       "      <th>Genre_Male</th>\n",
       "    </tr>\n",
       "  </thead>\n",
       "  <tbody>\n",
       "    <tr>\n",
       "      <th>0</th>\n",
       "      <td>-1.424569</td>\n",
       "      <td>-1.738999</td>\n",
       "      <td>-0.434801</td>\n",
       "      <td>0.0</td>\n",
       "      <td>1.0</td>\n",
       "    </tr>\n",
       "    <tr>\n",
       "      <th>1</th>\n",
       "      <td>-1.281035</td>\n",
       "      <td>-1.738999</td>\n",
       "      <td>1.195704</td>\n",
       "      <td>0.0</td>\n",
       "      <td>1.0</td>\n",
       "    </tr>\n",
       "    <tr>\n",
       "      <th>2</th>\n",
       "      <td>-1.352802</td>\n",
       "      <td>-1.700830</td>\n",
       "      <td>-1.715913</td>\n",
       "      <td>1.0</td>\n",
       "      <td>0.0</td>\n",
       "    </tr>\n",
       "    <tr>\n",
       "      <th>3</th>\n",
       "      <td>-1.137502</td>\n",
       "      <td>-1.700830</td>\n",
       "      <td>1.040418</td>\n",
       "      <td>1.0</td>\n",
       "      <td>0.0</td>\n",
       "    </tr>\n",
       "    <tr>\n",
       "      <th>4</th>\n",
       "      <td>-0.563369</td>\n",
       "      <td>-1.662660</td>\n",
       "      <td>-0.395980</td>\n",
       "      <td>1.0</td>\n",
       "      <td>0.0</td>\n",
       "    </tr>\n",
       "    <tr>\n",
       "      <th>...</th>\n",
       "      <td>...</td>\n",
       "      <td>...</td>\n",
       "      <td>...</td>\n",
       "      <td>...</td>\n",
       "      <td>...</td>\n",
       "    </tr>\n",
       "    <tr>\n",
       "      <th>195</th>\n",
       "      <td>-0.276302</td>\n",
       "      <td>2.268791</td>\n",
       "      <td>1.118061</td>\n",
       "      <td>1.0</td>\n",
       "      <td>0.0</td>\n",
       "    </tr>\n",
       "    <tr>\n",
       "      <th>196</th>\n",
       "      <td>0.441365</td>\n",
       "      <td>2.497807</td>\n",
       "      <td>-0.861839</td>\n",
       "      <td>1.0</td>\n",
       "      <td>0.0</td>\n",
       "    </tr>\n",
       "    <tr>\n",
       "      <th>197</th>\n",
       "      <td>-0.491602</td>\n",
       "      <td>2.497807</td>\n",
       "      <td>0.923953</td>\n",
       "      <td>0.0</td>\n",
       "      <td>1.0</td>\n",
       "    </tr>\n",
       "    <tr>\n",
       "      <th>198</th>\n",
       "      <td>-0.491602</td>\n",
       "      <td>2.917671</td>\n",
       "      <td>-1.250054</td>\n",
       "      <td>0.0</td>\n",
       "      <td>1.0</td>\n",
       "    </tr>\n",
       "    <tr>\n",
       "      <th>199</th>\n",
       "      <td>-0.635135</td>\n",
       "      <td>2.917671</td>\n",
       "      <td>1.273347</td>\n",
       "      <td>0.0</td>\n",
       "      <td>1.0</td>\n",
       "    </tr>\n",
       "  </tbody>\n",
       "</table>\n",
       "<p>200 rows × 5 columns</p>\n",
       "</div>"
      ],
      "text/plain": [
       "          Age  Annual Income (k$)  Spending Score (1-100)  Genre_Female  \\\n",
       "0   -1.424569           -1.738999               -0.434801           0.0   \n",
       "1   -1.281035           -1.738999                1.195704           0.0   \n",
       "2   -1.352802           -1.700830               -1.715913           1.0   \n",
       "3   -1.137502           -1.700830                1.040418           1.0   \n",
       "4   -0.563369           -1.662660               -0.395980           1.0   \n",
       "..        ...                 ...                     ...           ...   \n",
       "195 -0.276302            2.268791                1.118061           1.0   \n",
       "196  0.441365            2.497807               -0.861839           1.0   \n",
       "197 -0.491602            2.497807                0.923953           0.0   \n",
       "198 -0.491602            2.917671               -1.250054           0.0   \n",
       "199 -0.635135            2.917671                1.273347           0.0   \n",
       "\n",
       "     Genre_Male  \n",
       "0           1.0  \n",
       "1           1.0  \n",
       "2           0.0  \n",
       "3           0.0  \n",
       "4           0.0  \n",
       "..          ...  \n",
       "195         0.0  \n",
       "196         0.0  \n",
       "197         1.0  \n",
       "198         1.0  \n",
       "199         1.0  \n",
       "\n",
       "[200 rows x 5 columns]"
      ]
     },
     "execution_count": 22,
     "metadata": {},
     "output_type": "execute_result"
    }
   ],
   "source": [
    "X_scaled"
   ]
  },
  {
   "cell_type": "code",
   "execution_count": 25,
   "id": "709b6b43-ed86-4683-93c7-3d6f3183b411",
   "metadata": {},
   "outputs": [],
   "source": [
    "Z = linkage(X_scaled, method='ward')"
   ]
  },
  {
   "cell_type": "code",
   "execution_count": 31,
   "id": "8d53aeef-0afd-430a-b9dc-894f717646d9",
   "metadata": {},
   "outputs": [
    {
     "data": {
      "image/png": "[encoded data removed]",
      "text/plain": [
       "<Figure size 1000x600 with 1 Axes>"
      ]
     },
     "metadata": {},
     "output_type": "display_data"
    }
   ],
   "source": [
    "plt.figure(figsize=(10,6))\n",
    "dendrogram(Z, truncate_mode='lastp', p=10)\n",
    "plt.xlabel('Data points')\n",
    "plt.ylabel('Distances')\n",
    "plt.show()"
   ]
  },
  {
   "cell_type": "code",
   "execution_count": 32,
   "id": "2e989580-a31c-453c-a521-4d1b487d1f88",
   "metadata": {},
   "outputs": [],
   "source": [
    "clusters = fcluster(Z, t=4, criterion='maxclust')"
   ]
  },
  {
   "cell_type": "markdown",
   "id": "fb97e081-b996-444f-bb47-119a65372ed9",
   "metadata": {},
   "source": [
    "### PCA"
   ]
  },
  {
   "cell_type": "code",
   "execution_count": 33,
   "id": "8af2135e-b740-4c33-bc5a-b22a2473c5bd",
   "metadata": {},
   "outputs": [],
   "source": [
    "from sklearn.decomposition import PCA"
   ]
  },
  {
   "cell_type": "code",
   "execution_count": 34,
   "id": "890028eb-0d66-4600-b069-e91dbfc10eb7",
   "metadata": {},
   "outputs": [],
   "source": [
    "pca = PCA()"
   ]
  },
  {
   "cell_type": "code",
   "execution_count": 35,
   "id": "c2ad7bcb-d4e8-4671-b651-ef6f032d33fe",
   "metadata": {},
   "outputs": [],
   "source": [
    "comps = pca.fit_transform(X_scaled)"
   ]
  },
  {
   "cell_type": "code",
   "execution_count": 36,
   "id": "abbc03f1-c6e8-4a90-b2ef-773eb2d270a2",
   "metadata": {},
   "outputs": [
    {
     "data": {
      "text/plain": [
       "array([1.33858719e+00, 1.00774493e+00, 6.76157705e-01, 4.87861928e-01,\n",
       "       6.52076725e-17])"
      ]
     },
     "execution_count": 36,
     "metadata": {},
     "output_type": "execute_result"
    }
   ],
   "source": [
    "pca.explained_variance_"
   ]
  },
  {
   "cell_type": "code",
   "execution_count": 37,
   "id": "99c88f69-550a-4c8a-bc57-c377ab68ebcb",
   "metadata": {},
   "outputs": [
    {
     "data": {
      "text/plain": [
       "array([3.81325658e-01, 2.87078048e-01, 1.92618219e-01, 1.38978074e-01,\n",
       "       1.85758229e-17])"
      ]
     },
     "execution_count": 37,
     "metadata": {},
     "output_type": "execute_result"
    }
   ],
   "source": [
    "pca.explained_variance_ratio_"
   ]
  },
  {
   "cell_type": "code",
   "execution_count": 38,
   "id": "4dd8a531-471d-4b98-af36-9e345f5c7a07",
   "metadata": {},
   "outputs": [],
   "source": [
    "cumsum = np.cumsum(pca.explained_variance_ratio_)"
   ]
  },
  {
   "cell_type": "code",
   "execution_count": 41,
   "id": "c32aaf38-5a4e-43f9-a935-65e4dd631e39",
   "metadata": {},
   "outputs": [
    {
     "data": {
      "text/plain": [
       "<Axes: >"
      ]
     },
     "execution_count": 41,
     "metadata": {},
     "output_type": "execute_result"
    },
    {
     "data": {
      "image/png": "[encoded data removed]",
      "text/plain": [
       "<Figure size 640x480 with 1 Axes>"
      ]
     },
     "metadata": {},
     "output_type": "display_data"
    }
   ],
   "source": [
    "sns.set(style='whitegrid')\n",
    "sns.lineplot(x=range(1, len(cumsum)+1), y=cumsum, marker='o')"
   ]
  },
  {
   "cell_type": "code",
   "execution_count": 42,
   "id": "98792bed-3387-4148-84ac-683608eee223",
   "metadata": {},
   "outputs": [],
   "source": [
    "pca = PCA(n_components=2)"
   ]
  },
  {
   "cell_type": "code",
   "execution_count": 44,
   "id": "df44afd3-5966-41c9-b459-60f41f51a4d6",
   "metadata": {},
   "outputs": [],
   "source": [
    "p_comps = pca.fit_transform(X_scaled)"
   ]
  },
  {
   "cell_type": "code",
   "execution_count": 45,
   "id": "67f0984a-4fb7-4cc8-b0c7-5e1d3c9cbd5e",
   "metadata": {},
   "outputs": [],
   "source": [
    "import plotly.express as px"
   ]
  },
  {
   "cell_type": "code",
   "execution_count": 48,
   "id": "8c3eee40-400a-45e4-9081-ce80eb6d890d",
   "metadata": {},
   "outputs": [],
   "source": [
    "plot_df = pd.DataFrame(p_comps, columns=['PCA 1','PCA 2'])\n",
    "plot_df['clusters'] = clusters"
   ]
  },
  {
   "cell_type": "code",
   "execution_count": 52,
   "id": "bd3305c6-81c7-4e67-a47e-a1d583d30983",
   "metadata": {},
   "outputs": [
    {
     "data": {
      "application/vnd.plotly.v1+json": {
       "config": {
        "plotlyServerURL": "https://plot.ly"
       },
       "data": [
        {
         "hovertemplate": "PCA 1=%{x}<br>PCA 2=%{y}<br>clusters=%{marker.color}<extra></extra>",
         "legendgroup": "",
         "marker": {
          "color": [
           4,
           2,
           4,
           2,
           4,
           2,
           4,
           2,
           4,
           2,
           4,
           2,
           4,
           2,
           4,
           2,
           4,
           2,
           4,
           2,
           4,
           2,
           4,
           2,
           4,
           2,
           4,
           2,
           4,
           2,
           4,
           2,
           4,
           2,
           4,
           2,
           4,
           2,
           4,
           2,
           4,
           2,
           4,
           2,
           4,
           2,
           4,
           2,
           2,
           2,
           4,
           2,
           2,
           4,
           4,
           4,
           4,
           4,
           2,
           4,
           4,
           2,
           4,
           4,
           4,
           2,
           4,
           4,
           2,
           2,
           4,
           4,
           4,
           4,
           4,
           2,
           4,
           4,
           2,
           4,
           4,
           4,
           4,
           4,
           2,
           4,
           4,
           2,
           2,
           4,
           4,
           2,
           4,
           2,
           2,
           2,
           4,
           2,
           4,
           2,
           2,
           4,
           4,
           2,
           4,
           2,
           4,
           4,
           4,
           4,
           4,
           2,
           2,
           2,
           2,
           2,
           4,
           4,
           4,
           4,
           2,
           2,
           2,
           1,
           2,
           1,
           4,
           1,
           3,
           1,
           3,
           1,
           2,
           1,
           3,
           1,
           3,
           1,
           3,
           1,
           3,
           1,
           2,
           1,
           3,
           1,
           4,
           1,
           3,
           1,
           3,
           1,
           3,
           1,
           3,
           1,
           3,
           1,
           3,
           1,
           3,
           1,
           3,
           1,
           3,
           1,
           3,
           1,
           3,
           1,
           3,
           1,
           3,
           1,
           3,
           1,
           3,
           1,
           3,
           1,
           3,
           1,
           3,
           1,
           3,
           1,
           3,
           1,
           3,
           1,
           3,
           1,
           3,
           1,
           3,
           1,
           3,
           1,
           3,
           1
          ],
          "coloraxis": "coloraxis",
          "symbol": "circle"
         },
         "mode": "markers",
         "name": "",
         "orientation": "v",
         "showlegend": false,
         "type": "scatter",
         "x": [
          -0.5757236143616535,
          -1.6235949417613722,
          0.27961435126736506,
          -1.5110639639752634,
          -0.09546841836820667,
          -1.5358034365927664,
          1.035644131982614,
          -1.9791591796987185,
          2.680280338347293,
          -1.024548929035529,
          2.531136954177543,
          -1.510231837140084,
          1.9502561704421157,
          -1.4664497056385604,
          1.038952178466245,
          -1.5257596783486427,
          0.2377451040848472,
          -1.2727937269272183,
          1.3557424849356567,
          -1.4888602254611476,
          0.32986560888261496,
          -1.2157888025533556,
          1.6091424497144706,
          -0.9136762554592035,
          1.7632342295795147,
          -1.2656000973506403,
          0.8153596906768182,
          -0.38745349842124405,
          0.5882139693567229,
          -1.8041118566306478,
          2.4340500885697205,
          -1.523786989691342,
          2.0753486754609747,
          -2.1032905662602635,
          1.502742288902593,
          -1.7471487917136013,
          1.0649577811596764,
          -1.074360233949454,
          0.5106276905656469,
          -1.6395841646209064,
          1.7303459280387736,
          -1.8071653230050562,
          0.9378746122521151,
          -0.7029358153579117,
          1.1107365158938372,
          -1.1665824126589737,
          0.4211505331269536,
          -0.5238140727699021,
          -0.2858163708291993,
          -0.18461324647790311,
          0.4496320655854769,
          -0.48225327069096646,
          -0.5174107105716876,
          0.8318905199161475,
          0.690249210426558,
          0.7444911686481154,
          0.6025593690530631,
          1.7194341329632303,
          -0.6422306905998448,
          0.9068154862333885,
          1.4934528880405928,
          -1.0598678673995783,
          1.3529760549484613,
          0.5036433380398669,
          1.2730428784809904,
          -1.222898743566224,
          0.19175956780893347,
          1.5115164532358982,
          -1.172297181390576,
          -0.28278086956955156,
          1.5163213256792654,
          0.6115403146948399,
          1.07635138839336,
          0.8848389797681906,
          1.1710913360915058,
          -0.6902726243300502,
          0.20190498984816818,
          0.18230273923631082,
          -0.8839704624982084,
          0.7052593092474548,
          0.9604525496686844,
          -0.11041279374015452,
          1.7400573266039785,
          0.49873679168474805,
          -1.121968164438911,
          0.6418330676772582,
          0.5666355561360337,
          -1.021139249106709,
          -0.5522119065480751,
          0.6404379055126328,
          1.3035389590536304,
          -0.7469033498014591,
          0.5507753653651967,
          0.2955821249439673,
          -0.16394820349698006,
          -0.7457388734040012,
          0.45828065154833475,
          -0.6358273385182711,
          0.7407909480306296,
          -0.8675652015126861,
          -0.594996999479404,
          0.5291312084622771,
          1.2356222396042247,
          -0.7296061475258215,
          0.4068708669962032,
          -0.7235590393485816,
          1.3331431084527958,
          0.9319710070935203,
          1.7224696241062376,
          1.484471922165535,
          1.3244346979183614,
          -1.1545659758741897,
          0.13367386571796344,
          -0.8405804950138991,
          -1.0440076968620222,
          -1.048123965722137,
          1.3698571786315483,
          0.22369265988637393,
          0.7596447806042984,
          0.32601840117831227,
          -0.7138476306667362,
          0.18390121887451732,
          -0.2103497880155226,
          -1.0671845796042774,
          -0.27866462094271827,
          -1.1870800683958365,
          0.6643272861801959,
          -1.1290123314196272,
          2.1305662534197167,
          -0.683037145413297,
          1.5780653383477021,
          -0.6324355832376489,
          -0.31724972610030117,
          -1.025920227208021,
          0.31826516975725655,
          -1.5937217413230358,
          1.3813738482600715,
          -0.9349223393508954,
          0.12937220403246563,
          -0.8538665459427827,
          2.090918335659787,
          -1.485094301627994,
          -0.3355858365195899,
          -1.419048617157419,
          0.3737732681713829,
          -1.7999298643215844,
          0.8809952257821375,
          -1.064879541384698,
          0.4574903639366897,
          -1.3063049086022627,
          1.1463099837839057,
          -0.9985792666882597,
          1.0182238167289333,
          -0.8174848253263086,
          1.2794641653274028,
          -1.7297679109908946,
          1.280443259016118,
          -1.2770151537672558,
          1.1286385724891739,
          -1.1402205761778492,
          1.2135620041087545,
          -1.465908119492047,
          0.2556889999037184,
          -1.6412878022390363,
          1.2438128976343568,
          -0.9018068158778773,
          1.0016570673767236,
          -1.602286638722184,
          0.40842747706095306,
          -0.6822887476083899,
          1.0904695256908603,
          -1.213001982525558,
          0.9701400235419119,
          -1.2732910489243554,
          1.5995804631619246,
          -1.510854737507669,
          1.945082987857027,
          -1.1009468775536544,
          2.0155593357518753,
          -1.2781557358226585,
          0.3072662020498322,
          -1.423123046793999,
          1.3228959821518873,
          -1.6311423903164421,
          0.3151663902077828,
          -1.7316569110844855,
          1.3803767793399553,
          -1.0424451373366965,
          0.9110752277622267,
          -1.2023388383319429,
          0.39271079942540216,
          -0.9670024387484343,
          0.8341356930975877,
          -1.2802574666852968,
          1.2165974750184803,
          -1.1142329487158193,
          0.7781064086941907,
          -1.0416130307347982,
          0.47402115270945644,
          -1.4055114803041249
         ],
         "xaxis": "x",
         "y": [
          -1.6848736318614965,
          -1.726481380550998,
          -1.7253142537608344,
          -1.7962046233647018,
          -1.707346596498025,
          -1.7585764746657018,
          -1.627479441196913,
          -1.738179678268559,
          -1.4292571161630383,
          -1.6666721366204005,
          -1.4365568864947902,
          -1.688023729290404,
          -1.5275605353198907,
          -1.6426672248510608,
          -1.4410609644099923,
          -1.5328031546166654,
          -1.5441514751769052,
          -1.483909721463732,
          -1.3221625042070138,
          -1.5348793228560507,
          -1.3151986251642631,
          -1.3700010253748334,
          -1.344290423022309,
          -1.323262872193607,
          -1.228142907374345,
          -1.2216437105505404,
          -1.2602956057603871,
          -1.1906699884023615,
          -1.228478798663346,
          -1.3125282264589793,
          -1.017895752525033,
          -1.2625749499848438,
          -0.9140021779935974,
          -1.0581176292765075,
          -1.0453013804853546,
          -1.1569902742195959,
          -1.0206296174741005,
          -1.097414868267285,
          -0.9248217974329929,
          -0.999999486579723,
          -0.8542070199313205,
          -0.8592949129821299,
          -0.7270544966047807,
          -0.8931382091209332,
          -0.8320123423124546,
          -0.9075474302091691,
          -0.8211541358061292,
          -0.8460906034477775,
          -0.8378857160407884,
          -0.8349800452398088,
          -0.7433851596864374,
          -0.6602198449861094,
          -0.7336347427593686,
          -0.5844249837950888,
          -0.6964922802592464,
          -0.5817219854981288,
          -0.6623175206864784,
          -0.5170376825150766,
          -0.622203132062858,
          -0.46424076736633657,
          -0.45014099877003055,
          -0.5231757608738046,
          -0.5271284185861831,
          -0.5534341820409632,
          -0.37896934841087343,
          -0.45282568800252654,
          -0.521855640777245,
          -0.48341506912259796,
          -0.45137285260203674,
          -0.5346573002190262,
          -0.3350177331139653,
          -0.4695444118273828,
          -0.420055314091142,
          -0.4274742173395555,
          -0.15241447205829764,
          -0.2077769435228721,
          -0.2940026552701443,
          -0.18107818798880437,
          -0.32490519075971636,
          -0.2765330371349642,
          -0.1595595161440848,
          -0.1914027620381973,
          -0.1344327289271683,
          -0.28301122997883726,
          -0.3331100781667054,
          -0.1673358181424827,
          -0.1707100955363932,
          -0.21547413378894836,
          -0.16531818481079347,
          -0.12723501190613087,
          -0.07260142380984534,
          -0.015515959659725749,
          0.05761149656363845,
          -0.05936202442724095,
          -0.0731043942735626,
          0.01956391698827925,
          -0.056611079872226355,
          -0.08884731784562665,
          0.10305154059033975,
          0.05495324612821395,
          -0.009077788000192561,
          0.021277029164126826,
          0.1506592175174996,
          0.09533233938222857,
          0.12768771027229034,
          -0.01304330212237394,
          0.08187668510833612,
          0.18357146126504606,
          0.207090686835508,
          0.19888579942851892,
          0.19319359074322148,
          0.009354048000511324,
          0.08769718124252704,
          0.17074336302619347,
          0.0903025540838088,
          0.08963570284189468,
          0.1609793637118561,
          0.12368217496576912,
          0.21958762046255503,
          0.20329697856523835,
          0.2858310353529555,
          0.20388029021979437,
          0.26375106279571486,
          0.3422128254733405,
          0.30780945808053317,
          0.2685596618667585,
          0.48341767461918284,
          0.4154685691455981,
          0.5320992807358647,
          0.4337597647686572,
          0.5167849425723918,
          0.43521260016914687,
          0.38145819383207863,
          0.35096100335054575,
          0.5578400416005527,
          0.36805913686742137,
          0.47569897689212326,
          0.5032047205646983,
          0.5891091303723412,
          0.43175478318787847,
          0.5727478052974693,
          0.5580501356972356,
          0.5315422032194876,
          0.487540908724956,
          0.7097698784677391,
          0.6240417023670446,
          0.7177488529701566,
          0.5393400126788688,
          0.6353786769606362,
          0.6781987587966842,
          0.7686428398488323,
          0.6875826224415367,
          0.6520267176079373,
          0.5839584792176911,
          0.6606245970942142,
          0.5541993266366791,
          0.7768833205851249,
          0.5702161093713694,
          0.7725248143836556,
          0.5755153259773791,
          0.6915842333740729,
          0.6014851981431579,
          0.8605563324263656,
          0.6698347172886938,
          1.0354220832094576,
          0.8482606371859283,
          1.0681796007110393,
          0.8607264053387085,
          0.9751753981601963,
          1.046099124672747,
          1.110713973936761,
          1.027569663216365,
          1.1080821622984078,
          1.02117500995985,
          1.0512797118431465,
          0.9419487705846321,
          1.17276646528146,
          1.0704970285213744,
          1.365384847894591,
          1.2499687058714912,
          1.3515404247375549,
          1.2870447083902024,
          1.5355438482584618,
          1.318587656324617,
          1.4259751446476758,
          1.463412470290356,
          1.5368019362286467,
          1.567284537360808,
          1.6013762608272695,
          1.52204273798309,
          1.5848473530966298,
          1.5331888895203618,
          2.0943930029748263,
          1.8988007566397362,
          2.2575125097823023,
          2.173308355740704,
          2.470015563796627,
          2.517265338492751,
          2.994849113041225,
          2.9230536263621207
         ],
         "yaxis": "y"
        }
       ],
       "layout": {
        "coloraxis": {
         "colorbar": {
          "title": {
           "text": "clusters"
          }
         },
         "colorscale": [
          [
           0,
           "#0d0887"
          ],
          [
           0.1111111111111111,
           "#46039f"
          ],
          [
           0.2222222222222222,
           "#7201a8"
          ],
          [
           0.3333333333333333,
           "#9c179e"
          ],
          [
           0.4444444444444444,
           "#bd3786"
          ],
          [
           0.5555555555555556,
           "#d8576b"
          ],
          [
           0.6666666666666666,
           "#ed7953"
          ],
          [
           0.7777777777777778,
           "#fb9f3a"
          ],
          [
           0.8888888888888888,
           "#fdca26"
          ],
          [
           1,
           "#f0f921"
          ]
         ]
        },
        "height": 600,
        "legend": {
         "tracegroupgap": 0
        },
        "margin": {
         "t": 60
        },
        "template": {
         "data": {
          "bar": [
           {
            "error_x": {
             "color": "#2a3f5f"
            },
            "error_y": {
             "color": "#2a3f5f"
            },
            "marker": {
             "line": {
              "color": "#E5ECF6",
              "width": 0.5
             },
             "pattern": {
              "fillmode": "overlay",
              "size": 10,
              "solidity": 0.2
             }
            },
            "type": "bar"
           }
          ],
          "barpolar": [
           {
            "marker": {
             "line": {
              "color": "#E5ECF6",
              "width": 0.5
             },
             "pattern": {
              "fillmode": "overlay",
              "size": 10,
              "solidity": 0.2
             }
            },
            "type": "barpolar"
           }
          ],
          "carpet": [
           {
            "aaxis": {
             "endlinecolor": "#2a3f5f",
             "gridcolor": "white",
             "linecolor": "white",
             "minorgridcolor": "white",
             "startlinecolor": "#2a3f5f"
            },
            "baxis": {
             "endlinecolor": "#2a3f5f",
             "gridcolor": "white",
             "linecolor": "white",
             "minorgridcolor": "white",
             "startlinecolor": "#2a3f5f"
            },
            "type": "carpet"
           }
          ],
          "choropleth": [
           {
            "colorbar": {
             "outlinewidth": 0,
             "ticks": ""
            },
            "type": "choropleth"
           }
          ],
          "contour": [
           {
            "colorbar": {
             "outlinewidth": 0,
             "ticks": ""
            },
            "colorscale": [
             [
              0,
              "#0d0887"
             ],
             [
              0.1111111111111111,
              "#46039f"
             ],
             [
              0.2222222222222222,
              "#7201a8"
             ],
             [
              0.3333333333333333,
              "#9c179e"
             ],
             [
              0.4444444444444444,
              "#bd3786"
             ],
             [
              0.5555555555555556,
              "#d8576b"
             ],
             [
              0.6666666666666666,
              "#ed7953"
             ],
             [
              0.7777777777777778,
              "#fb9f3a"
             ],
             [
              0.8888888888888888,
              "#fdca26"
             ],
             [
              1,
              "#f0f921"
             ]
            ],
            "type": "contour"
           }
          ],
          "contourcarpet": [
           {
            "colorbar": {
             "outlinewidth": 0,
             "ticks": ""
            },
            "type": "contourcarpet"
           }
          ],
          "heatmap": [
           {
            "colorbar": {
             "outlinewidth": 0,
             "ticks": ""
            },
            "colorscale": [
             [
              0,
              "#0d0887"
             ],
             [
              0.1111111111111111,
              "#46039f"
             ],
             [
              0.2222222222222222,
              "#7201a8"
             ],
             [
              0.3333333333333333,
              "#9c179e"
             ],
             [
              0.4444444444444444,
              "#bd3786"
             ],
             [
              0.5555555555555556,
              "#d8576b"
             ],
             [
              0.6666666666666666,
              "#ed7953"
             ],
             [
              0.7777777777777778,
              "#fb9f3a"
             ],
             [
              0.8888888888888888,
              "#fdca26"
             ],
             [
              1,
              "#f0f921"
             ]
            ],
            "type": "heatmap"
           }
          ],
          "heatmapgl": [
           {
            "colorbar": {
             "outlinewidth": 0,
             "ticks": ""
            },
            "colorscale": [
             [
              0,
              "#0d0887"
             ],
             [
              0.1111111111111111,
              "#46039f"
             ],
             [
              0.2222222222222222,
              "#7201a8"
             ],
             [
              0.3333333333333333,
              "#9c179e"
             ],
             [
              0.4444444444444444,
              "#bd3786"
             ],
             [
              0.5555555555555556,
              "#d8576b"
             ],
             [
              0.6666666666666666,
              "#ed7953"
             ],
             [
              0.7777777777777778,
              "#fb9f3a"
             ],
             [
              0.8888888888888888,
              "#fdca26"
             ],
             [
              1,
              "#f0f921"
             ]
            ],
            "type": "heatmapgl"
           }
          ],
          "histogram": [
           {
            "marker": {
             "pattern": {
              "fillmode": "overlay",
              "size": 10,
              "solidity": 0.2
             }
            },
            "type": "histogram"
           }
          ],
          "histogram2d": [
           {
            "colorbar": {
             "outlinewidth": 0,
             "ticks": ""
            },
            "colorscale": [
             [
              0,
              "#0d0887"
             ],
             [
              0.1111111111111111,
              "#46039f"
             ],
             [
              0.2222222222222222,
              "#7201a8"
             ],
             [
              0.3333333333333333,
              "#9c179e"
             ],
             [
              0.4444444444444444,
              "#bd3786"
             ],
             [
              0.5555555555555556,
              "#d8576b"
             ],
             [
              0.6666666666666666,
              "#ed7953"
             ],
             [
              0.7777777777777778,
              "#fb9f3a"
             ],
             [
              0.8888888888888888,
              "#fdca26"
             ],
             [
              1,
              "#f0f921"
             ]
            ],
            "type": "histogram2d"
           }
          ],
          "histogram2dcontour": [
           {
            "colorbar": {
             "outlinewidth": 0,
             "ticks": ""
            },
            "colorscale": [
             [
              0,
              "#0d0887"
             ],
             [
              0.1111111111111111,
              "#46039f"
             ],
             [
              0.2222222222222222,
              "#7201a8"
             ],
             [
              0.3333333333333333,
              "#9c179e"
             ],
             [
              0.4444444444444444,
              "#bd3786"
             ],
             [
              0.5555555555555556,
              "#d8576b"
             ],
             [
              0.6666666666666666,
              "#ed7953"
             ],
             [
              0.7777777777777778,
              "#fb9f3a"
             ],
             [
              0.8888888888888888,
              "#fdca26"
             ],
             [
              1,
              "#f0f921"
             ]
            ],
            "type": "histogram2dcontour"
           }
          ],
          "mesh3d": [
           {
            "colorbar": {
             "outlinewidth": 0,
             "ticks": ""
            },
            "type": "mesh3d"
           }
          ],
          "parcoords": [
           {
            "line": {
             "colorbar": {
              "outlinewidth": 0,
              "ticks": ""
             }
            },
            "type": "parcoords"
           }
          ],
          "pie": [
           {
            "automargin": true,
            "type": "pie"
           }
          ],
          "scatter": [
           {
            "fillpattern": {
             "fillmode": "overlay",
             "size": 10,
             "solidity": 0.2
            },
            "type": "scatter"
           }
          ],
          "scatter3d": [
           {
            "line": {
             "colorbar": {
              "outlinewidth": 0,
              "ticks": ""
             }
            },
            "marker": {
             "colorbar": {
              "outlinewidth": 0,
              "ticks": ""
             }
            },
            "type": "scatter3d"
           }
          ],
          "scattercarpet": [
           {
            "marker": {
             "colorbar": {
              "outlinewidth": 0,
              "ticks": ""
             }
            },
            "type": "scattercarpet"
           }
          ],
          "scattergeo": [
           {
            "marker": {
             "colorbar": {
              "outlinewidth": 0,
              "ticks": ""
             }
            },
            "type": "scattergeo"
           }
          ],
          "scattergl": [
           {
            "marker": {
             "colorbar": {
              "outlinewidth": 0,
              "ticks": ""
             }
            },
            "type": "scattergl"
           }
          ],
          "scattermapbox": [
           {
            "marker": {
             "colorbar": {
              "outlinewidth": 0,
              "ticks": ""
             }
            },
            "type": "scattermapbox"
           }
          ],
          "scatterpolar": [
           {
            "marker": {
             "colorbar": {
              "outlinewidth": 0,
              "ticks": ""
             }
            },
            "type": "scatterpolar"
           }
          ],
          "scatterpolargl": [
           {
            "marker": {
             "colorbar": {
              "outlinewidth": 0,
              "ticks": ""
             }
            },
            "type": "scatterpolargl"
           }
          ],
          "scatterternary": [
           {
            "marker": {
             "colorbar": {
              "outlinewidth": 0,
              "ticks": ""
             }
            },
            "type": "scatterternary"
           }
          ],
          "surface": [
           {
            "colorbar": {
             "outlinewidth": 0,
             "ticks": ""
            },
            "colorscale": [
             [
              0,
              "#0d0887"
             ],
             [
              0.1111111111111111,
              "#46039f"
             ],
             [
              0.2222222222222222,
              "#7201a8"
             ],
             [
              0.3333333333333333,
              "#9c179e"
             ],
             [
              0.4444444444444444,
              "#bd3786"
             ],
             [
              0.5555555555555556,
              "#d8576b"
             ],
             [
              0.6666666666666666,
              "#ed7953"
             ],
             [
              0.7777777777777778,
              "#fb9f3a"
             ],
             [
              0.8888888888888888,
              "#fdca26"
             ],
             [
              1,
              "#f0f921"
             ]
            ],
            "type": "surface"
           }
          ],
          "table": [
           {
            "cells": {
             "fill": {
              "color": "#EBF0F8"
             },
             "line": {
              "color": "white"
             }
            },
            "header": {
             "fill": {
              "color": "#C8D4E3"
             },
             "line": {
              "color": "white"
             }
            },
            "type": "table"
           }
          ]
         },
         "layout": {
          "annotationdefaults": {
           "arrowcolor": "#2a3f5f",
           "arrowhead": 0,
           "arrowwidth": 1
          },
          "autotypenumbers": "strict",
          "coloraxis": {
           "colorbar": {
            "outlinewidth": 0,
            "ticks": ""
           }
          },
          "colorscale": {
           "diverging": [
            [
             0,
             "#8e0152"
            ],
            [
             0.1,
             "#c51b7d"
            ],
            [
             0.2,
             "#de77ae"
            ],
            [
             0.3,
             "#f1b6da"
            ],
            [
             0.4,
             "#fde0ef"
            ],
            [
             0.5,
             "#f7f7f7"
            ],
            [
             0.6,
             "#e6f5d0"
            ],
            [
             0.7,
             "#b8e186"
            ],
            [
             0.8,
             "#7fbc41"
            ],
            [
             0.9,
             "#4d9221"
            ],
            [
             1,
             "#276419"
            ]
           ],
           "sequential": [
            [
             0,
             "#0d0887"
            ],
            [
             0.1111111111111111,
             "#46039f"
            ],
            [
             0.2222222222222222,
             "#7201a8"
            ],
            [
             0.3333333333333333,
             "#9c179e"
            ],
            [
             0.4444444444444444,
             "#bd3786"
            ],
            [
             0.5555555555555556,
             "#d8576b"
            ],
            [
             0.6666666666666666,
             "#ed7953"
            ],
            [
             0.7777777777777778,
             "#fb9f3a"
            ],
            [
             0.8888888888888888,
             "#fdca26"
            ],
            [
             1,
             "#f0f921"
            ]
           ],
           "sequentialminus": [
            [
             0,
             "#0d0887"
            ],
            [
             0.1111111111111111,
             "#46039f"
            ],
            [
             0.2222222222222222,
             "#7201a8"
            ],
            [
             0.3333333333333333,
             "#9c179e"
            ],
            [
             0.4444444444444444,
             "#bd3786"
            ],
            [
             0.5555555555555556,
             "#d8576b"
            ],
            [
             0.6666666666666666,
             "#ed7953"
            ],
            [
             0.7777777777777778,
             "#fb9f3a"
            ],
            [
             0.8888888888888888,
             "#fdca26"
            ],
            [
             1,
             "#f0f921"
            ]
           ]
          },
          "colorway": [
           "#636efa",
           "#EF553B",
           "#00cc96",
           "#ab63fa",
           "#FFA15A",
           "#19d3f3",
           "#FF6692",
           "#B6E880",
           "#FF97FF",
           "#FECB52"
          ],
          "font": {
           "color": "#2a3f5f"
          },
          "geo": {
           "bgcolor": "white",
           "lakecolor": "white",
           "landcolor": "#E5ECF6",
           "showlakes": true,
           "showland": true,
           "subunitcolor": "white"
          },
          "hoverlabel": {
           "align": "left"
          },
          "hovermode": "closest",
          "mapbox": {
           "style": "light"
          },
          "paper_bgcolor": "white",
          "plot_bgcolor": "#E5ECF6",
          "polar": {
           "angularaxis": {
            "gridcolor": "white",
            "linecolor": "white",
            "ticks": ""
           },
           "bgcolor": "#E5ECF6",
           "radialaxis": {
            "gridcolor": "white",
            "linecolor": "white",
            "ticks": ""
           }
          },
          "scene": {
           "xaxis": {
            "backgroundcolor": "#E5ECF6",
            "gridcolor": "white",
            "gridwidth": 2,
            "linecolor": "white",
            "showbackground": true,
            "ticks": "",
            "zerolinecolor": "white"
           },
           "yaxis": {
            "backgroundcolor": "#E5ECF6",
            "gridcolor": "white",
            "gridwidth": 2,
            "linecolor": "white",
            "showbackground": true,
            "ticks": "",
            "zerolinecolor": "white"
           },
           "zaxis": {
            "backgroundcolor": "#E5ECF6",
            "gridcolor": "white",
            "gridwidth": 2,
            "linecolor": "white",
            "showbackground": true,
            "ticks": "",
            "zerolinecolor": "white"
           }
          },
          "shapedefaults": {
           "line": {
            "color": "#2a3f5f"
           }
          },
          "ternary": {
           "aaxis": {
            "gridcolor": "white",
            "linecolor": "white",
            "ticks": ""
           },
           "baxis": {
            "gridcolor": "white",
            "linecolor": "white",
            "ticks": ""
           },
           "bgcolor": "#E5ECF6",
           "caxis": {
            "gridcolor": "white",
            "linecolor": "white",
            "ticks": ""
           }
          },
          "title": {
           "x": 0.05
          },
          "xaxis": {
           "automargin": true,
           "gridcolor": "white",
           "linecolor": "white",
           "ticks": "",
           "title": {
            "standoff": 15
           },
           "zerolinecolor": "white",
           "zerolinewidth": 2
          },
          "yaxis": {
           "automargin": true,
           "gridcolor": "white",
           "linecolor": "white",
           "ticks": "",
           "title": {
            "standoff": 15
           },
           "zerolinecolor": "white",
           "zerolinewidth": 2
          }
         }
        },
        "width": 700,
        "xaxis": {
         "anchor": "y",
         "autorange": true,
         "domain": [
          0,
          1
         ],
         "range": [
          -2.4120746121319514,
          2.989064384218981
         ],
         "title": {
          "text": "PCA 1"
         },
         "type": "linear"
        },
        "yaxis": {
         "anchor": "x",
         "autorange": true,
         "domain": [
          0,
          1
         ],
         "range": [
          -2.111483067273333,
          3.3101275569498565
         ],
         "title": {
          "text": "PCA 2"
         },
         "type": "linear"
        }
       }
      },
      "image/png": "[encoded data removed]",
      "text/html": [
       "<div>                            <div id=\"b6916189-30bb-4e21-a5f1-5eea8701a277\" class=\"plotly-graph-div\" style=\"height:600px; width:700px;\"></div>            <script type=\"text/javascript\">                require([\"plotly\"], function(Plotly) {                    window.PLOTLYENV=window.PLOTLYENV || {};                                    if (document.getElementById(\"b6916189-30bb-4e21-a5f1-5eea8701a277\")) {                    Plotly.newPlot(                        \"b6916189-30bb-4e21-a5f1-5eea8701a277\",                        [{\"hovertemplate\":\"PCA 1=%{x}<br>PCA 2=%{y}<br>clusters=%{marker.color}<extra></extra>\",\"legendgroup\":\"\",\"marker\":{\"color\":[4,2,4,2,4,2,4,2,4,2,4,2,4,2,4,2,4,2,4,2,4,2,4,2,4,2,4,2,4,2,4,2,4,2,4,2,4,2,4,2,4,2,4,2,4,2,4,2,2,2,4,2,2,4,4,4,4,4,2,4,4,2,4,4,4,2,4,4,2,2,4,4,4,4,4,2,4,4,2,4,4,4,4,4,2,4,4,2,2,4,4,2,4,2,2,2,4,2,4,2,2,4,4,2,4,2,4,4,4,4,4,2,2,2,2,2,4,4,4,4,2,2,2,1,2,1,4,1,3,1,3,1,2,1,3,1,3,1,3,1,3,1,2,1,3,1,4,1,3,1,3,1,3,1,3,1,3,1,3,1,3,1,3,1,3,1,3,1,3,1,3,1,3,1,3,1,3,1,3,1,3,1,3,1,3,1,3,1,3,1,3,1,3,1,3,1,3,1,3,1],\"coloraxis\":\"coloraxis\",\"symbol\":\"circle\"},\"mode\":\"markers\",\"name\":\"\",\"orientation\":\"v\",\"showlegend\":false,\"x\":[-0.5757236143616535,-1.6235949417613722,0.27961435126736506,-1.5110639639752634,-0.09546841836820667,-1.5358034365927664,1.035644131982614,-1.9791591796987185,2.680280338347293,-1.024548929035529,2.531136954177543,-1.510231837140084,1.9502561704421157,-1.4664497056385604,1.038952178466245,-1.5257596783486427,0.2377451040848472,-1.2727937269272183,1.3557424849356567,-1.4888602254611476,0.32986560888261496,-1.2157888025533556,1.6091424497144706,-0.9136762554592035,1.7632342295795147,-1.2656000973506403,0.8153596906768182,-0.38745349842124405,0.5882139693567229,-1.8041118566306478,2.4340500885697205,-1.523786989691342,2.0753486754609747,-2.1032905662602635,1.502742288902593,-1.7471487917136013,1.0649577811596764,-1.074360233949454,0.5106276905656469,-1.6395841646209064,1.7303459280387736,-1.8071653230050562,0.9378746122521151,-0.7029358153579117,1.1107365158938372,-1.1665824126589737,0.4211505331269536,-0.5238140727699021,-0.2858163708291993,-0.18461324647790311,0.4496320655854769,-0.48225327069096646,-0.5174107105716876,0.8318905199161475,0.690249210426558,0.7444911686481154,0.6025593690530631,1.7194341329632303,-0.6422306905998448,0.9068154862333885,1.4934528880405928,-1.0598678673995783,1.3529760549484613,0.5036433380398669,1.2730428784809904,-1.222898743566224,0.19175956780893347,1.5115164532358982,-1.172297181390576,-0.28278086956955156,1.5163213256792654,0.6115403146948399,1.07635138839336,0.8848389797681906,1.1710913360915058,-0.6902726243300502,0.20190498984816818,0.18230273923631082,-0.8839704624982084,0.7052593092474548,0.9604525496686844,-0.11041279374015452,1.7400573266039785,0.49873679168474805,-1.121968164438911,0.6418330676772582,0.5666355561360337,-1.021139249106709,-0.5522119065480751,0.6404379055126328,1.3035389590536304,-0.7469033498014591,0.5507753653651967,0.2955821249439673,-0.16394820349698006,-0.7457388734040012,0.45828065154833475,-0.6358273385182711,0.7407909480306296,-0.8675652015126861,-0.594996999479404,0.5291312084622771,1.2356222396042247,-0.7296061475258215,0.4068708669962032,-0.7235590393485816,1.3331431084527958,0.9319710070935203,1.7224696241062376,1.484471922165535,1.3244346979183614,-1.1545659758741897,0.13367386571796344,-0.8405804950138991,-1.0440076968620222,-1.048123965722137,1.3698571786315483,0.22369265988637393,0.7596447806042984,0.32601840117831227,-0.7138476306667362,0.18390121887451732,-0.2103497880155226,-1.0671845796042774,-0.27866462094271827,-1.1870800683958365,0.6643272861801959,-1.1290123314196272,2.1305662534197167,-0.683037145413297,1.5780653383477021,-0.6324355832376489,-0.31724972610030117,-1.025920227208021,0.31826516975725655,-1.5937217413230358,1.3813738482600715,-0.9349223393508954,0.12937220403246563,-0.8538665459427827,2.090918335659787,-1.485094301627994,-0.3355858365195899,-1.419048617157419,0.3737732681713829,-1.7999298643215844,0.8809952257821375,-1.064879541384698,0.4574903639366897,-1.3063049086022627,1.1463099837839057,-0.9985792666882597,1.0182238167289333,-0.8174848253263086,1.2794641653274028,-1.7297679109908946,1.280443259016118,-1.2770151537672558,1.1286385724891739,-1.1402205761778492,1.2135620041087545,-1.465908119492047,0.2556889999037184,-1.6412878022390363,1.2438128976343568,-0.9018068158778773,1.0016570673767236,-1.602286638722184,0.40842747706095306,-0.6822887476083899,1.0904695256908603,-1.213001982525558,0.9701400235419119,-1.2732910489243554,1.5995804631619246,-1.510854737507669,1.945082987857027,-1.1009468775536544,2.0155593357518753,-1.2781557358226585,0.3072662020498322,-1.423123046793999,1.3228959821518873,-1.6311423903164421,0.3151663902077828,-1.7316569110844855,1.3803767793399553,-1.0424451373366965,0.9110752277622267,-1.2023388383319429,0.39271079942540216,-0.9670024387484343,0.8341356930975877,-1.2802574666852968,1.2165974750184803,-1.1142329487158193,0.7781064086941907,-1.0416130307347982,0.47402115270945644,-1.4055114803041249],\"xaxis\":\"x\",\"y\":[-1.6848736318614965,-1.726481380550998,-1.7253142537608344,-1.7962046233647018,-1.707346596498025,-1.7585764746657018,-1.627479441196913,-1.738179678268559,-1.4292571161630383,-1.6666721366204005,-1.4365568864947902,-1.688023729290404,-1.5275605353198907,-1.6426672248510608,-1.4410609644099923,-1.5328031546166654,-1.5441514751769052,-1.483909721463732,-1.3221625042070138,-1.5348793228560507,-1.3151986251642631,-1.3700010253748334,-1.344290423022309,-1.323262872193607,-1.228142907374345,-1.2216437105505404,-1.2602956057603871,-1.1906699884023615,-1.228478798663346,-1.3125282264589793,-1.017895752525033,-1.2625749499848438,-0.9140021779935974,-1.0581176292765075,-1.0453013804853546,-1.1569902742195959,-1.0206296174741005,-1.097414868267285,-0.9248217974329929,-0.999999486579723,-0.8542070199313205,-0.8592949129821299,-0.7270544966047807,-0.8931382091209332,-0.8320123423124546,-0.9075474302091691,-0.8211541358061292,-0.8460906034477775,-0.8378857160407884,-0.8349800452398088,-0.7433851596864374,-0.6602198449861094,-0.7336347427593686,-0.5844249837950888,-0.6964922802592464,-0.5817219854981288,-0.6623175206864784,-0.5170376825150766,-0.622203132062858,-0.46424076736633657,-0.45014099877003055,-0.5231757608738046,-0.5271284185861831,-0.5534341820409632,-0.37896934841087343,-0.45282568800252654,-0.521855640777245,-0.48341506912259796,-0.45137285260203674,-0.5346573002190262,-0.3350177331139653,-0.4695444118273828,-0.420055314091142,-0.4274742173395555,-0.15241447205829764,-0.2077769435228721,-0.2940026552701443,-0.18107818798880437,-0.32490519075971636,-0.2765330371349642,-0.1595595161440848,-0.1914027620381973,-0.1344327289271683,-0.28301122997883726,-0.3331100781667054,-0.1673358181424827,-0.1707100955363932,-0.21547413378894836,-0.16531818481079347,-0.12723501190613087,-0.07260142380984534,-0.015515959659725749,0.05761149656363845,-0.05936202442724095,-0.0731043942735626,0.01956391698827925,-0.056611079872226355,-0.08884731784562665,0.10305154059033975,0.05495324612821395,-0.009077788000192561,0.021277029164126826,0.1506592175174996,0.09533233938222857,0.12768771027229034,-0.01304330212237394,0.08187668510833612,0.18357146126504606,0.207090686835508,0.19888579942851892,0.19319359074322148,0.009354048000511324,0.08769718124252704,0.17074336302619347,0.0903025540838088,0.08963570284189468,0.1609793637118561,0.12368217496576912,0.21958762046255503,0.20329697856523835,0.2858310353529555,0.20388029021979437,0.26375106279571486,0.3422128254733405,0.30780945808053317,0.2685596618667585,0.48341767461918284,0.4154685691455981,0.5320992807358647,0.4337597647686572,0.5167849425723918,0.43521260016914687,0.38145819383207863,0.35096100335054575,0.5578400416005527,0.36805913686742137,0.47569897689212326,0.5032047205646983,0.5891091303723412,0.43175478318787847,0.5727478052974693,0.5580501356972356,0.5315422032194876,0.487540908724956,0.7097698784677391,0.6240417023670446,0.7177488529701566,0.5393400126788688,0.6353786769606362,0.6781987587966842,0.7686428398488323,0.6875826224415367,0.6520267176079373,0.5839584792176911,0.6606245970942142,0.5541993266366791,0.7768833205851249,0.5702161093713694,0.7725248143836556,0.5755153259773791,0.6915842333740729,0.6014851981431579,0.8605563324263656,0.6698347172886938,1.0354220832094576,0.8482606371859283,1.0681796007110393,0.8607264053387085,0.9751753981601963,1.046099124672747,1.110713973936761,1.027569663216365,1.1080821622984078,1.02117500995985,1.0512797118431465,0.9419487705846321,1.17276646528146,1.0704970285213744,1.365384847894591,1.2499687058714912,1.3515404247375549,1.2870447083902024,1.5355438482584618,1.318587656324617,1.4259751446476758,1.463412470290356,1.5368019362286467,1.567284537360808,1.6013762608272695,1.52204273798309,1.5848473530966298,1.5331888895203618,2.0943930029748263,1.8988007566397362,2.2575125097823023,2.173308355740704,2.470015563796627,2.517265338492751,2.994849113041225,2.9230536263621207],\"yaxis\":\"y\",\"type\":\"scatter\"}],                        {\"template\":{\"data\":{\"histogram2dcontour\":[{\"type\":\"histogram2dcontour\",\"colorbar\":{\"outlinewidth\":0,\"ticks\":\"\"},\"colorscale\":[[0.0,\"#0d0887\"],[0.1111111111111111,\"#46039f\"],[0.2222222222222222,\"#7201a8\"],[0.3333333333333333,\"#9c179e\"],[0.4444444444444444,\"#bd3786\"],[0.5555555555555556,\"#d8576b\"],[0.6666666666666666,\"#ed7953\"],[0.7777777777777778,\"#fb9f3a\"],[0.8888888888888888,\"#fdca26\"],[1.0,\"#f0f921\"]]}],\"choropleth\":[{\"type\":\"choropleth\",\"colorbar\":{\"outlinewidth\":0,\"ticks\":\"\"}}],\"histogram2d\":[{\"type\":\"histogram2d\",\"colorbar\":{\"outlinewidth\":0,\"ticks\":\"\"},\"colorscale\":[[0.0,\"#0d0887\"],[0.1111111111111111,\"#46039f\"],[0.2222222222222222,\"#7201a8\"],[0.3333333333333333,\"#9c179e\"],[0.4444444444444444,\"#bd3786\"],[0.5555555555555556,\"#d8576b\"],[0.6666666666666666,\"#ed7953\"],[0.7777777777777778,\"#fb9f3a\"],[0.8888888888888888,\"#fdca26\"],[1.0,\"#f0f921\"]]}],\"heatmap\":[{\"type\":\"heatmap\",\"colorbar\":{\"outlinewidth\":0,\"ticks\":\"\"},\"colorscale\":[[0.0,\"#0d0887\"],[0.1111111111111111,\"#46039f\"],[0.2222222222222222,\"#7201a8\"],[0.3333333333333333,\"#9c179e\"],[0.4444444444444444,\"#bd3786\"],[0.5555555555555556,\"#d8576b\"],[0.6666666666666666,\"#ed7953\"],[0.7777777777777778,\"#fb9f3a\"],[0.8888888888888888,\"#fdca26\"],[1.0,\"#f0f921\"]]}],\"heatmapgl\":[{\"type\":\"heatmapgl\",\"colorbar\":{\"outlinewidth\":0,\"ticks\":\"\"},\"colorscale\":[[0.0,\"#0d0887\"],[0.1111111111111111,\"#46039f\"],[0.2222222222222222,\"#7201a8\"],[0.3333333333333333,\"#9c179e\"],[0.4444444444444444,\"#bd3786\"],[0.5555555555555556,\"#d8576b\"],[0.6666666666666666,\"#ed7953\"],[0.7777777777777778,\"#fb9f3a\"],[0.8888888888888888,\"#fdca26\"],[1.0,\"#f0f921\"]]}],\"contourcarpet\":[{\"type\":\"contourcarpet\",\"colorbar\":{\"outlinewidth\":0,\"ticks\":\"\"}}],\"contour\":[{\"type\":\"contour\",\"colorbar\":{\"outlinewidth\":0,\"ticks\":\"\"},\"colorscale\":[[0.0,\"#0d0887\"],[0.1111111111111111,\"#46039f\"],[0.2222222222222222,\"#7201a8\"],[0.3333333333333333,\"#9c179e\"],[0.4444444444444444,\"#bd3786\"],[0.5555555555555556,\"#d8576b\"],[0.6666666666666666,\"#ed7953\"],[0.7777777777777778,\"#fb9f3a\"],[0.8888888888888888,\"#fdca26\"],[1.0,\"#f0f921\"]]}],\"surface\":[{\"type\":\"surface\",\"colorbar\":{\"outlinewidth\":0,\"ticks\":\"\"},\"colorscale\":[[0.0,\"#0d0887\"],[0.1111111111111111,\"#46039f\"],[0.2222222222222222,\"#7201a8\"],[0.3333333333333333,\"#9c179e\"],[0.4444444444444444,\"#bd3786\"],[0.5555555555555556,\"#d8576b\"],[0.6666666666666666,\"#ed7953\"],[0.7777777777777778,\"#fb9f3a\"],[0.8888888888888888,\"#fdca26\"],[1.0,\"#f0f921\"]]}],\"mesh3d\":[{\"type\":\"mesh3d\",\"colorbar\":{\"outlinewidth\":0,\"ticks\":\"\"}}],\"scatter\":[{\"fillpattern\":{\"fillmode\":\"overlay\",\"size\":10,\"solidity\":0.2},\"type\":\"scatter\"}],\"parcoords\":[{\"type\":\"parcoords\",\"line\":{\"colorbar\":{\"outlinewidth\":0,\"ticks\":\"\"}}}],\"scatterpolargl\":[{\"type\":\"scatterpolargl\",\"marker\":{\"colorbar\":{\"outlinewidth\":0,\"ticks\":\"\"}}}],\"bar\":[{\"error_x\":{\"color\":\"#2a3f5f\"},\"error_y\":{\"color\":\"#2a3f5f\"},\"marker\":{\"line\":{\"color\":\"#E5ECF6\",\"width\":0.5},\"pattern\":{\"fillmode\":\"overlay\",\"size\":10,\"solidity\":0.2}},\"type\":\"bar\"}],\"scattergeo\":[{\"type\":\"scattergeo\",\"marker\":{\"colorbar\":{\"outlinewidth\":0,\"ticks\":\"\"}}}],\"scatterpolar\":[{\"type\":\"scatterpolar\",\"marker\":{\"colorbar\":{\"outlinewidth\":0,\"ticks\":\"\"}}}],\"histogram\":[{\"marker\":{\"pattern\":{\"fillmode\":\"overlay\",\"size\":10,\"solidity\":0.2}},\"type\":\"histogram\"}],\"scattergl\":[{\"type\":\"scattergl\",\"marker\":{\"colorbar\":{\"outlinewidth\":0,\"ticks\":\"\"}}}],\"scatter3d\":[{\"type\":\"scatter3d\",\"line\":{\"colorbar\":{\"outlinewidth\":0,\"ticks\":\"\"}},\"marker\":{\"colorbar\":{\"outlinewidth\":0,\"ticks\":\"\"}}}],\"scattermapbox\":[{\"type\":\"scattermapbox\",\"marker\":{\"colorbar\":{\"outlinewidth\":0,\"ticks\":\"\"}}}],\"scatterternary\":[{\"type\":\"scatterternary\",\"marker\":{\"colorbar\":{\"outlinewidth\":0,\"ticks\":\"\"}}}],\"scattercarpet\":[{\"type\":\"scattercarpet\",\"marker\":{\"colorbar\":{\"outlinewidth\":0,\"ticks\":\"\"}}}],\"carpet\":[{\"aaxis\":{\"endlinecolor\":\"#2a3f5f\",\"gridcolor\":\"white\",\"linecolor\":\"white\",\"minorgridcolor\":\"white\",\"startlinecolor\":\"#2a3f5f\"},\"baxis\":{\"endlinecolor\":\"#2a3f5f\",\"gridcolor\":\"white\",\"linecolor\":\"white\",\"minorgridcolor\":\"white\",\"startlinecolor\":\"#2a3f5f\"},\"type\":\"carpet\"}],\"table\":[{\"cells\":{\"fill\":{\"color\":\"#EBF0F8\"},\"line\":{\"color\":\"white\"}},\"header\":{\"fill\":{\"color\":\"#C8D4E3\"},\"line\":{\"color\":\"white\"}},\"type\":\"table\"}],\"barpolar\":[{\"marker\":{\"line\":{\"color\":\"#E5ECF6\",\"width\":0.5},\"pattern\":{\"fillmode\":\"overlay\",\"size\":10,\"solidity\":0.2}},\"type\":\"barpolar\"}],\"pie\":[{\"automargin\":true,\"type\":\"pie\"}]},\"layout\":{\"autotypenumbers\":\"strict\",\"colorway\":[\"#636efa\",\"#EF553B\",\"#00cc96\",\"#ab63fa\",\"#FFA15A\",\"#19d3f3\",\"#FF6692\",\"#B6E880\",\"#FF97FF\",\"#FECB52\"],\"font\":{\"color\":\"#2a3f5f\"},\"hovermode\":\"closest\",\"hoverlabel\":{\"align\":\"left\"},\"paper_bgcolor\":\"white\",\"plot_bgcolor\":\"#E5ECF6\",\"polar\":{\"bgcolor\":\"#E5ECF6\",\"angularaxis\":{\"gridcolor\":\"white\",\"linecolor\":\"white\",\"ticks\":\"\"},\"radialaxis\":{\"gridcolor\":\"white\",\"linecolor\":\"white\",\"ticks\":\"\"}},\"ternary\":{\"bgcolor\":\"#E5ECF6\",\"aaxis\":{\"gridcolor\":\"white\",\"linecolor\":\"white\",\"ticks\":\"\"},\"baxis\":{\"gridcolor\":\"white\",\"linecolor\":\"white\",\"ticks\":\"\"},\"caxis\":{\"gridcolor\":\"white\",\"linecolor\":\"white\",\"ticks\":\"\"}},\"coloraxis\":{\"colorbar\":{\"outlinewidth\":0,\"ticks\":\"\"}},\"colorscale\":{\"sequential\":[[0.0,\"#0d0887\"],[0.1111111111111111,\"#46039f\"],[0.2222222222222222,\"#7201a8\"],[0.3333333333333333,\"#9c179e\"],[0.4444444444444444,\"#bd3786\"],[0.5555555555555556,\"#d8576b\"],[0.6666666666666666,\"#ed7953\"],[0.7777777777777778,\"#fb9f3a\"],[0.8888888888888888,\"#fdca26\"],[1.0,\"#f0f921\"]],\"sequentialminus\":[[0.0,\"#0d0887\"],[0.1111111111111111,\"#46039f\"],[0.2222222222222222,\"#7201a8\"],[0.3333333333333333,\"#9c179e\"],[0.4444444444444444,\"#bd3786\"],[0.5555555555555556,\"#d8576b\"],[0.6666666666666666,\"#ed7953\"],[0.7777777777777778,\"#fb9f3a\"],[0.8888888888888888,\"#fdca26\"],[1.0,\"#f0f921\"]],\"diverging\":[[0,\"#8e0152\"],[0.1,\"#c51b7d\"],[0.2,\"#de77ae\"],[0.3,\"#f1b6da\"],[0.4,\"#fde0ef\"],[0.5,\"#f7f7f7\"],[0.6,\"#e6f5d0\"],[0.7,\"#b8e186\"],[0.8,\"#7fbc41\"],[0.9,\"#4d9221\"],[1,\"#276419\"]]},\"xaxis\":{\"gridcolor\":\"white\",\"linecolor\":\"white\",\"ticks\":\"\",\"title\":{\"standoff\":15},\"zerolinecolor\":\"white\",\"automargin\":true,\"zerolinewidth\":2},\"yaxis\":{\"gridcolor\":\"white\",\"linecolor\":\"white\",\"ticks\":\"\",\"title\":{\"standoff\":15},\"zerolinecolor\":\"white\",\"automargin\":true,\"zerolinewidth\":2},\"scene\":{\"xaxis\":{\"backgroundcolor\":\"#E5ECF6\",\"gridcolor\":\"white\",\"linecolor\":\"white\",\"showbackground\":true,\"ticks\":\"\",\"zerolinecolor\":\"white\",\"gridwidth\":2},\"yaxis\":{\"backgroundcolor\":\"#E5ECF6\",\"gridcolor\":\"white\",\"linecolor\":\"white\",\"showbackground\":true,\"ticks\":\"\",\"zerolinecolor\":\"white\",\"gridwidth\":2},\"zaxis\":{\"backgroundcolor\":\"#E5ECF6\",\"gridcolor\":\"white\",\"linecolor\":\"white\",\"showbackground\":true,\"ticks\":\"\",\"zerolinecolor\":\"white\",\"gridwidth\":2}},\"shapedefaults\":{\"line\":{\"color\":\"#2a3f5f\"}},\"annotationdefaults\":{\"arrowcolor\":\"#2a3f5f\",\"arrowhead\":0,\"arrowwidth\":1},\"geo\":{\"bgcolor\":\"white\",\"landcolor\":\"#E5ECF6\",\"subunitcolor\":\"white\",\"showland\":true,\"showlakes\":true,\"lakecolor\":\"white\"},\"title\":{\"x\":0.05},\"mapbox\":{\"style\":\"light\"}}},\"xaxis\":{\"anchor\":\"y\",\"domain\":[0.0,1.0],\"title\":{\"text\":\"PCA 1\"}},\"yaxis\":{\"anchor\":\"x\",\"domain\":[0.0,1.0],\"title\":{\"text\":\"PCA 2\"}},\"coloraxis\":{\"colorbar\":{\"title\":{\"text\":\"clusters\"}},\"colorscale\":[[0.0,\"#0d0887\"],[0.1111111111111111,\"#46039f\"],[0.2222222222222222,\"#7201a8\"],[0.3333333333333333,\"#9c179e\"],[0.4444444444444444,\"#bd3786\"],[0.5555555555555556,\"#d8576b\"],[0.6666666666666666,\"#ed7953\"],[0.7777777777777778,\"#fb9f3a\"],[0.8888888888888888,\"#fdca26\"],[1.0,\"#f0f921\"]]},\"legend\":{\"tracegroupgap\":0},\"margin\":{\"t\":60},\"height\":600,\"width\":700},                        {\"responsive\": true}                    ).then(function(){\n",
       "                            \n",
       "var gd = document.getElementById('b6916189-30bb-4e21-a5f1-5eea8701a277');\n",
       "var x = new MutationObserver(function (mutations, observer) {{\n",
       "        var display = window.getComputedStyle(gd).display;\n",
       "        if (!display || display === 'none') {{\n",
       "            console.log([gd, 'removed!']);\n",
       "            Plotly.purge(gd);\n",
       "            observer.disconnect();\n",
       "        }}\n",
       "}});\n",
       "\n",
       "// Listen for the removal of the full notebook cells\n",
       "var notebookContainer = gd.closest('#notebook-container');\n",
       "if (notebookContainer) {{\n",
       "    x.observe(notebookContainer, {childList: true});\n",
       "}}\n",
       "\n",
       "// Listen for the clearing of the current output cell\n",
       "var outputEl = gd.closest('.output');\n",
       "if (outputEl) {{\n",
       "    x.observe(outputEl, {childList: true});\n",
       "}}\n",
       "\n",
       "                        })                };                });            </script>        </div>"
      ]
     },
     "metadata": {},
     "output_type": "display_data"
    }
   ],
   "source": [
    "fig = px.scatter(\n",
    "    plot_df,\n",
    "    x='PCA 1',\n",
    "    y='PCA 2',\n",
    "    color='clusters',\n",
    "    height=600,\n",
    "    width=700\n",
    ")\n",
    "fig.show()"
   ]
  },
  {
   "cell_type": "markdown",
   "id": "9f4747ab-f494-42c0-b653-51f5f98a0bc4",
   "metadata": {},
   "source": [
    "### UMAP"
   ]
  },
  {
   "cell_type": "code",
   "execution_count": 79,
   "id": "a40cc06a-49a4-40b6-9747-1aca3154022e",
   "metadata": {},
   "outputs": [],
   "source": [
    "reducer = umap.UMAP(n_components=2, n_neighbors=15, min_dist=1, random_state=42, metric='euclidean')"
   ]
  },
  {
   "cell_type": "code",
   "execution_count": 80,
   "id": "74195caf-cf5b-47f0-9257-ce6ea12e098d",
   "metadata": {},
   "outputs": [
    {
     "name": "stderr",
     "output_type": "stream",
     "text": [
      "D:\\PythonDS\\Lib\\site-packages\\sklearn\\utils\\deprecation.py:151: FutureWarning:\n",
      "\n",
      "'force_all_finite' was renamed to 'ensure_all_finite' in 1.6 and will be removed in 1.8.\n",
      "\n",
      "D:\\PythonDS\\Lib\\site-packages\\umap\\umap_.py:1952: UserWarning:\n",
      "\n",
      "n_jobs value 1 overridden to 1 by setting random_state. Use no seed for parallelism.\n",
      "\n"
     ]
    }
   ],
   "source": [
    "embedding = reducer.fit_transform(X_scaled)"
   ]
  },
  {
   "cell_type": "code",
   "execution_count": 81,
   "id": "9a5ed0f2-b50a-416e-8782-1d5e3d690926",
   "metadata": {},
   "outputs": [],
   "source": [
    "plot_df = pd.DataFrame(embedding, columns=['UMAP 1','UMAP 2'])\n",
    "plot_df['clusters'] = clusters"
   ]
  },
  {
   "cell_type": "code",
   "execution_count": 82,
   "id": "20686109-4a40-4652-8270-727a2d7becd1",
   "metadata": {},
   "outputs": [
    {
     "data": {
      "application/vnd.plotly.v1+json": {
       "config": {
        "plotlyServerURL": "https://plot.ly"
       },
       "data": [
        {
         "hovertemplate": "UMAP 1=%{x}<br>UMAP 2=%{y}<br>clusters=%{marker.color}<extra></extra>",
         "legendgroup": "",
         "marker": {
          "color": [
           4,
           2,
           4,
           2,
           4,
           2,
           4,
           2,
           4,
           2,
           4,
           2,
           4,
           2,
           4,
           2,
           4,
           2,
           4,
           2,
           4,
           2,
           4,
           2,
           4,
           2,
           4,
           2,
           4,
           2,
           4,
           2,
           4,
           2,
           4,
           2,
           4,
           2,
           4,
           2,
           4,
           2,
           4,
           2,
           4,
           2,
           4,
           2,
           2,
           2,
           4,
           2,
           2,
           4,
           4,
           4,
           4,
           4,
           2,
           4,
           4,
           2,
           4,
           4,
           4,
           2,
           4,
           4,
           2,
           2,
           4,
           4,
           4,
           4,
           4,
           2,
           4,
           4,
           2,
           4,
           4,
           4,
           4,
           4,
           2,
           4,
           4,
           2,
           2,
           4,
           4,
           2,
           4,
           2,
           2,
           2,
           4,
           2,
           4,
           2,
           2,
           4,
           4,
           2,
           4,
           2,
           4,
           4,
           4,
           4,
           4,
           2,
           2,
           2,
           2,
           2,
           4,
           4,
           4,
           4,
           2,
           2,
           2,
           1,
           2,
           1,
           4,
           1,
           3,
           1,
           3,
           1,
           2,
           1,
           3,
           1,
           3,
           1,
           3,
           1,
           3,
           1,
           2,
           1,
           3,
           1,
           4,
           1,
           3,
           1,
           3,
           1,
           3,
           1,
           3,
           1,
           3,
           1,
           3,
           1,
           3,
           1,
           3,
           1,
           3,
           1,
           3,
           1,
           3,
           1,
           3,
           1,
           3,
           1,
           3,
           1,
           3,
           1,
           3,
           1,
           3,
           1,
           3,
           1,
           3,
           1,
           3,
           1,
           3,
           1,
           3,
           1,
           3,
           1,
           3,
           1,
           3,
           1,
           3,
           1
          ],
          "coloraxis": "coloraxis",
          "symbol": "circle"
         },
         "mode": "markers",
         "name": "",
         "orientation": "v",
         "showlegend": false,
         "type": "scatter",
         "x": [
          4.796453952789307,
          4.013490200042725,
          9.99201488494873,
          9.354629516601562,
          10.926523208618164,
          9.893351554870605,
          9.706820487976074,
          9.13582992553711,
          9.237390518188477,
          10.404340744018555,
          8.727985382080078,
          10.019519805908203,
          10.347044944763184,
          9.641156196594238,
          8.522744178771973,
          3.41614031791687,
          10.891322135925293,
          3.6320509910583496,
          8.209805488586426,
          10.18802547454834,
          6.272947311401367,
          3.3510491847991943,
          9.538982391357422,
          3.991396903991699,
          10.128055572509766,
          4.456093788146973,
          10.975054740905762,
          4.988485813140869,
          10.725725173950195,
          9.33907413482666,
          9.218753814697266,
          10.674185752868652,
          9.385499000549316,
          3.269686460494995,
          9.963802337646484,
          9.84852123260498,
          9.94944953918457,
          11.032689094543457,
          10.78365421295166,
          10.417716979980469,
          11.818696975708008,
          3.485440492630005,
          7.505515098571777,
          11.49240493774414,
          10.691140174865723,
          11.491178512573242,
          11.888627052307129,
          12.08004379272461,
          11.754323959350586,
          11.571742057800293,
          11.806859016418457,
          4.6774139404296875,
          11.864306449890137,
          6.977259635925293,
          11.632146835327148,
          7.6851806640625,
          12.29626178741455,
          7.451836585998535,
          12.459980010986328,
          7.225163459777832,
          7.215761184692383,
          3.4747300148010254,
          12.413057327270508,
          12.622748374938965,
          7.548577785491943,
          3.7370893955230713,
          12.244815826416016,
          12.62349796295166,
          3.198801040649414,
          12.673660278320312,
          6.919988632202148,
          11.962647438049316,
          12.539087295532227,
          13.027252197265625,
          7.074959754943848,
          4.258094310760498,
          12.692917823791504,
          6.159843444824219,
          13.232219696044922,
          12.705984115600586,
          6.607929706573486,
          5.381990909576416,
          6.887971878051758,
          13.004578590393066,
          13.185986518859863,
          6.821408748626709,
          13.335549354553223,
          13.588912010192871,
          12.79794692993164,
          13.0799560546875,
          13.556411743164062,
          3.95354962348938,
          7.165438175201416,
          13.694803237915039,
          13.803120613098145,
          3.9198737144470215,
          13.47474479675293,
          13.475863456726074,
          6.960977554321289,
          3.5646324157714844,
          14.317468643188477,
          13.8849515914917,
          6.117617130279541,
          3.561466693878174,
          6.515654563903809,
          14.195595741271973,
          13.477227210998535,
          6.788251876831055,
          6.339261531829834,
          6.1285881996154785,
          5.989040374755859,
          14.07127571105957,
          13.672674179077148,
          3.0294954776763916,
          14.276662826538086,
          14.597734451293945,
          13.904093742370605,
          13.32270622253418,
          14.188899993896484,
          13.73591136932373,
          2.6508429050445557,
          14.111380577087402,
          12.954681396484375,
          -0.1281992346048355,
          14.913675308227539,
          5.181013584136963,
          7.580451011657715,
          -0.9318634271621704,
          8.86337661743164,
          0.5348676443099976,
          8.585511207580566,
          0.7066987156867981,
          15.338855743408203,
          5.002528190612793,
          7.649199485778809,
          4.704164028167725,
          15.129355430603027,
          0.7326041460037231,
          7.39191198348999,
          4.7292046546936035,
          14.893380165100098,
          -0.24285466969013214,
          14.802887916564941,
          3.7393276691436768,
          8.429431915283203,
          -0.7313479781150818,
          7.95999002456665,
          4.447019577026367,
          15.287775039672852,
          -0.47500860691070557,
          8.688146591186523,
          -0.8125653862953186,
          15.461854934692383,
          4.008308410644531,
          15.76952838897705,
          4.193216323852539,
          8.850730895996094,
          4.2137885093688965,
          8.890329360961914,
          5.003932476043701,
          14.965331077575684,
          4.0237717628479,
          7.955424785614014,
          3.641875743865967,
          8.677515029907227,
          3.352762460708618,
          9.319597244262695,
          3.160869598388672,
          15.893963813781738,
          1.3382540941238403,
          9.589142799377441,
          0.6457567811012268,
          9.335887908935547,
          -0.3400389850139618,
          15.500829696655273,
          3.2287168502807617,
          9.504785537719727,
          1.0284857749938965,
          9.478763580322266,
          -0.0574127733707428,
          16.243886947631836,
          2.521925210952759,
          9.8053617477417,
          2.391019821166992,
          16.5992374420166,
          -0.21365776658058167,
          15.883319854736328,
          0.8330390453338623,
          16.425514221191406,
          2.0325868129730225,
          16.827049255371094,
          2.2655675411224365,
          10.161262512207031,
          1.8897782564163208,
          16.688282012939453,
          1.6611108779907227,
          16.728281021118164,
          1.0684672594070435,
          10.696779251098633,
          0.8280986547470093
         ],
         "xaxis": "x",
         "y": [
          6.902544021606445,
          8.238789558410645,
          9.979394912719727,
          13.621689796447754,
          10.310596466064453,
          13.165428161621094,
          9.47056770324707,
          12.961700439453125,
          6.849725246429443,
          13.225995063781738,
          7.028804779052734,
          13.899710655212402,
          7.154784679412842,
          13.821281433105469,
          7.572870254516602,
          8.01222038269043,
          9.721336364746094,
          7.120323657989502,
          6.603142738342285,
          12.994144439697266,
          6.581679821014404,
          7.332239151000977,
          8.399349212646484,
          7.522757530212402,
          7.455355167388916,
          7.710628509521484,
          8.307833671569824,
          6.717810153961182,
          8.998720169067383,
          12.555954933166504,
          6.676517963409424,
          13.396652221679688,
          6.462805271148682,
          8.280647277832031,
          8.107349395751953,
          12.568062782287598,
          8.69019889831543,
          12.717842102050781,
          9.451634407043457,
          12.357742309570312,
          5.296686172485352,
          7.484578609466553,
          6.233764171600342,
          11.719675064086914,
          7.902333736419678,
          12.40958309173584,
          6.321922302246094,
          11.158361434936523,
          10.559391021728516,
          10.404329299926758,
          6.585376739501953,
          6.141853332519531,
          10.870004653930664,
          7.531519889831543,
          7.008061408996582,
          5.743288993835449,
          6.451588153839111,
          8.907431602478027,
          11.566110610961914,
          6.400291442871094,
          8.548501014709473,
          5.988182067871094,
          4.58119535446167,
          5.77720832824707,
          8.220786094665527,
          6.124545097351074,
          7.700552463531494,
          4.462820529937744,
          5.876219272613525,
          10.49150276184082,
          9.08669662475586,
          7.586193561553955,
          5.086533069610596,
          5.129964351654053,
          7.381035327911377,
          5.345327854156494,
          7.691169261932373,
          5.125860691070557,
          11.910859107971191,
          7.140812397003174,
          6.953769207000732,
          5.28432035446167,
          8.294677734375,
          7.975489616394043,
          12.389158248901367,
          5.561991214752197,
          5.797818183898926,
          12.612852096557617,
          10.04931354522705,
          6.565816879272461,
          4.442390441894531,
          5.031827926635742,
          5.240448474884033,
          8.463722229003906,
          10.268900871276855,
          4.893232822418213,
          7.592985153198242,
          11.111931800842285,
          4.908721923828125,
          4.5153913497924805,
          11.59164047241211,
          6.896853923797607,
          8.279632568359375,
          5.104184150695801,
          5.444671630859375,
          11.766676902770996,
          4.627951622009277,
          6.06110954284668,
          8.518568992614746,
          9.004351615905762,
          8.17083740234375,
          12.701637268066406,
          9.215924263000488,
          4.78773307800293,
          12.24809455871582,
          12.461028099060059,
          5.457034111022949,
          6.829894065856934,
          6.717085361480713,
          7.270195484161377,
          4.928635120391846,
          9.296948432922363,
          8.802419662475586,
          5.537555694580078,
          11.22415828704834,
          1.535325050354004,
          4.081287860870361,
          5.076858997344971,
          4.767194747924805,
          5.404712200164795,
          3.629525661468506,
          5.232299327850342,
          10.947503089904785,
          2.09258770942688,
          2.2633056640625,
          0.33408039808273315,
          8.499592781066895,
          4.809272289276123,
          2.572023391723633,
          2.3058605194091797,
          7.765606880187988,
          5.328321933746338,
          10.458332061767578,
          0.3904210925102234,
          1.8829317092895508,
          4.55689811706543,
          4.301665782928467,
          1.5150346755981445,
          9.596722602844238,
          5.110206604003906,
          3.256159782409668,
          4.650237083435059,
          8.761725425720215,
          1.9739413261413574,
          7.93841552734375,
          -0.14270290732383728,
          2.6615514755249023,
          1.2129149436950684,
          2.273228883743286,
          1.0667121410369873,
          6.9145283699035645,
          0.7302796244621277,
          2.013967752456665,
          0.4278542101383209,
          3.8311927318573,
          1.5748138427734375,
          3.1383209228515625,
          -0.023402752354741096,
          9.447915077209473,
          4.559493541717529,
          2.658935070037842,
          4.021765232086182,
          2.0201408863067627,
          4.16708517074585,
          7.4125165939331055,
          0.9062344431877136,
          4.389305114746094,
          4.105029582977295,
          4.0920610427856445,
          3.9625775814056396,
          9.44901180267334,
          0.819214403629303,
          3.2139198780059814,
          0.5251003503799438,
          9.023478507995605,
          3.5795111656188965,
          7.8036603927612305,
          3.5932040214538574,
          8.300393104553223,
          1.0220599174499512,
          9.195466041564941,
          1.603514552116394,
          2.1726369857788086,
          1.415004014968872,
          7.902392387390137,
          1.3858728408813477,
          8.463577270507812,
          2.755669593811035,
          2.8939123153686523,
          2.3840553760528564
         ],
         "yaxis": "y"
        }
       ],
       "layout": {
        "coloraxis": {
         "colorbar": {
          "title": {
           "text": "clusters"
          }
         },
         "colorscale": [
          [
           0,
           "#0d0887"
          ],
          [
           0.1111111111111111,
           "#46039f"
          ],
          [
           0.2222222222222222,
           "#7201a8"
          ],
          [
           0.3333333333333333,
           "#9c179e"
          ],
          [
           0.4444444444444444,
           "#bd3786"
          ],
          [
           0.5555555555555556,
           "#d8576b"
          ],
          [
           0.6666666666666666,
           "#ed7953"
          ],
          [
           0.7777777777777778,
           "#fb9f3a"
          ],
          [
           0.8888888888888888,
           "#fdca26"
          ],
          [
           1,
           "#f0f921"
          ]
         ]
        },
        "height": 600,
        "legend": {
         "tracegroupgap": 0
        },
        "margin": {
         "t": 60
        },
        "template": {
         "data": {
          "bar": [
           {
            "error_x": {
             "color": "#2a3f5f"
            },
            "error_y": {
             "color": "#2a3f5f"
            },
            "marker": {
             "line": {
              "color": "#E5ECF6",
              "width": 0.5
             },
             "pattern": {
              "fillmode": "overlay",
              "size": 10,
              "solidity": 0.2
             }
            },
            "type": "bar"
           }
          ],
          "barpolar": [
           {
            "marker": {
             "line": {
              "color": "#E5ECF6",
              "width": 0.5
             },
             "pattern": {
              "fillmode": "overlay",
              "size": 10,
              "solidity": 0.2
             }
            },
            "type": "barpolar"
           }
          ],
          "carpet": [
           {
            "aaxis": {
             "endlinecolor": "#2a3f5f",
             "gridcolor": "white",
             "linecolor": "white",
             "minorgridcolor": "white",
             "startlinecolor": "#2a3f5f"
            },
            "baxis": {
             "endlinecolor": "#2a3f5f",
             "gridcolor": "white",
             "linecolor": "white",
             "minorgridcolor": "white",
             "startlinecolor": "#2a3f5f"
            },
            "type": "carpet"
           }
          ],
          "choropleth": [
           {
            "colorbar": {
             "outlinewidth": 0,
             "ticks": ""
            },
            "type": "choropleth"
           }
          ],
          "contour": [
           {
            "colorbar": {
             "outlinewidth": 0,
             "ticks": ""
            },
            "colorscale": [
             [
              0,
              "#0d0887"
             ],
             [
              0.1111111111111111,
              "#46039f"
             ],
             [
              0.2222222222222222,
              "#7201a8"
             ],
             [
              0.3333333333333333,
              "#9c179e"
             ],
             [
              0.4444444444444444,
              "#bd3786"
             ],
             [
              0.5555555555555556,
              "#d8576b"
             ],
             [
              0.6666666666666666,
              "#ed7953"
             ],
             [
              0.7777777777777778,
              "#fb9f3a"
             ],
             [
              0.8888888888888888,
              "#fdca26"
             ],
             [
              1,
              "#f0f921"
             ]
            ],
            "type": "contour"
           }
          ],
          "contourcarpet": [
           {
            "colorbar": {
             "outlinewidth": 0,
             "ticks": ""
            },
            "type": "contourcarpet"
           }
          ],
          "heatmap": [
           {
            "colorbar": {
             "outlinewidth": 0,
             "ticks": ""
            },
            "colorscale": [
             [
              0,
              "#0d0887"
             ],
             [
              0.1111111111111111,
              "#46039f"
             ],
             [
              0.2222222222222222,
              "#7201a8"
             ],
             [
              0.3333333333333333,
              "#9c179e"
             ],
             [
              0.4444444444444444,
              "#bd3786"
             ],
             [
              0.5555555555555556,
              "#d8576b"
             ],
             [
              0.6666666666666666,
              "#ed7953"
             ],
             [
              0.7777777777777778,
              "#fb9f3a"
             ],
             [
              0.8888888888888888,
              "#fdca26"
             ],
             [
              1,
              "#f0f921"
             ]
            ],
            "type": "heatmap"
           }
          ],
          "heatmapgl": [
           {
            "colorbar": {
             "outlinewidth": 0,
             "ticks": ""
            },
            "colorscale": [
             [
              0,
              "#0d0887"
             ],
             [
              0.1111111111111111,
              "#46039f"
             ],
             [
              0.2222222222222222,
              "#7201a8"
             ],
             [
              0.3333333333333333,
              "#9c179e"
             ],
             [
              0.4444444444444444,
              "#bd3786"
             ],
             [
              0.5555555555555556,
              "#d8576b"
             ],
             [
              0.6666666666666666,
              "#ed7953"
             ],
             [
              0.7777777777777778,
              "#fb9f3a"
             ],
             [
              0.8888888888888888,
              "#fdca26"
             ],
             [
              1,
              "#f0f921"
             ]
            ],
            "type": "heatmapgl"
           }
          ],
          "histogram": [
           {
            "marker": {
             "pattern": {
              "fillmode": "overlay",
              "size": 10,
              "solidity": 0.2
             }
            },
            "type": "histogram"
           }
          ],
          "histogram2d": [
           {
            "colorbar": {
             "outlinewidth": 0,
             "ticks": ""
            },
            "colorscale": [
             [
              0,
              "#0d0887"
             ],
             [
              0.1111111111111111,
              "#46039f"
             ],
             [
              0.2222222222222222,
              "#7201a8"
             ],
             [
              0.3333333333333333,
              "#9c179e"
             ],
             [
              0.4444444444444444,
              "#bd3786"
             ],
             [
              0.5555555555555556,
              "#d8576b"
             ],
             [
              0.6666666666666666,
              "#ed7953"
             ],
             [
              0.7777777777777778,
              "#fb9f3a"
             ],
             [
              0.8888888888888888,
              "#fdca26"
             ],
             [
              1,
              "#f0f921"
             ]
            ],
            "type": "histogram2d"
           }
          ],
          "histogram2dcontour": [
           {
            "colorbar": {
             "outlinewidth": 0,
             "ticks": ""
            },
            "colorscale": [
             [
              0,
              "#0d0887"
             ],
             [
              0.1111111111111111,
              "#46039f"
             ],
             [
              0.2222222222222222,
              "#7201a8"
             ],
             [
              0.3333333333333333,
              "#9c179e"
             ],
             [
              0.4444444444444444,
              "#bd3786"
             ],
             [
              0.5555555555555556,
              "#d8576b"
             ],
             [
              0.6666666666666666,
              "#ed7953"
             ],
             [
              0.7777777777777778,
              "#fb9f3a"
             ],
             [
              0.8888888888888888,
              "#fdca26"
             ],
             [
              1,
              "#f0f921"
             ]
            ],
            "type": "histogram2dcontour"
           }
          ],
          "mesh3d": [
           {
            "colorbar": {
             "outlinewidth": 0,
             "ticks": ""
            },
            "type": "mesh3d"
           }
          ],
          "parcoords": [
           {
            "line": {
             "colorbar": {
              "outlinewidth": 0,
              "ticks": ""
             }
            },
            "type": "parcoords"
           }
          ],
          "pie": [
           {
            "automargin": true,
            "type": "pie"
           }
          ],
          "scatter": [
           {
            "fillpattern": {
             "fillmode": "overlay",
             "size": 10,
             "solidity": 0.2
            },
            "type": "scatter"
           }
          ],
          "scatter3d": [
           {
            "line": {
             "colorbar": {
              "outlinewidth": 0,
              "ticks": ""
             }
            },
            "marker": {
             "colorbar": {
              "outlinewidth": 0,
              "ticks": ""
             }
            },
            "type": "scatter3d"
           }
          ],
          "scattercarpet": [
           {
            "marker": {
             "colorbar": {
              "outlinewidth": 0,
              "ticks": ""
             }
            },
            "type": "scattercarpet"
           }
          ],
          "scattergeo": [
           {
            "marker": {
             "colorbar": {
              "outlinewidth": 0,
              "ticks": ""
             }
            },
            "type": "scattergeo"
           }
          ],
          "scattergl": [
           {
            "marker": {
             "colorbar": {
              "outlinewidth": 0,
              "ticks": ""
             }
            },
            "type": "scattergl"
           }
          ],
          "scattermapbox": [
           {
            "marker": {
             "colorbar": {
              "outlinewidth": 0,
              "ticks": ""
             }
            },
            "type": "scattermapbox"
           }
          ],
          "scatterpolar": [
           {
            "marker": {
             "colorbar": {
              "outlinewidth": 0,
              "ticks": ""
             }
            },
            "type": "scatterpolar"
           }
          ],
          "scatterpolargl": [
           {
            "marker": {
             "colorbar": {
              "outlinewidth": 0,
              "ticks": ""
             }
            },
            "type": "scatterpolargl"
           }
          ],
          "scatterternary": [
           {
            "marker": {
             "colorbar": {
              "outlinewidth": 0,
              "ticks": ""
             }
            },
            "type": "scatterternary"
           }
          ],
          "surface": [
           {
            "colorbar": {
             "outlinewidth": 0,
             "ticks": ""
            },
            "colorscale": [
             [
              0,
              "#0d0887"
             ],
             [
              0.1111111111111111,
              "#46039f"
             ],
             [
              0.2222222222222222,
              "#7201a8"
             ],
             [
              0.3333333333333333,
              "#9c179e"
             ],
             [
              0.4444444444444444,
              "#bd3786"
             ],
             [
              0.5555555555555556,
              "#d8576b"
             ],
             [
              0.6666666666666666,
              "#ed7953"
             ],
             [
              0.7777777777777778,
              "#fb9f3a"
             ],
             [
              0.8888888888888888,
              "#fdca26"
             ],
             [
              1,
              "#f0f921"
             ]
            ],
            "type": "surface"
           }
          ],
          "table": [
           {
            "cells": {
             "fill": {
              "color": "#EBF0F8"
             },
             "line": {
              "color": "white"
             }
            },
            "header": {
             "fill": {
              "color": "#C8D4E3"
             },
             "line": {
              "color": "white"
             }
            },
            "type": "table"
           }
          ]
         },
         "layout": {
          "annotationdefaults": {
           "arrowcolor": "#2a3f5f",
           "arrowhead": 0,
           "arrowwidth": 1
          },
          "autotypenumbers": "strict",
          "coloraxis": {
           "colorbar": {
            "outlinewidth": 0,
            "ticks": ""
           }
          },
          "colorscale": {
           "diverging": [
            [
             0,
             "#8e0152"
            ],
            [
             0.1,
             "#c51b7d"
            ],
            [
             0.2,
             "#de77ae"
            ],
            [
             0.3,
             "#f1b6da"
            ],
            [
             0.4,
             "#fde0ef"
            ],
            [
             0.5,
             "#f7f7f7"
            ],
            [
             0.6,
             "#e6f5d0"
            ],
            [
             0.7,
             "#b8e186"
            ],
            [
             0.8,
             "#7fbc41"
            ],
            [
             0.9,
             "#4d9221"
            ],
            [
             1,
             "#276419"
            ]
           ],
           "sequential": [
            [
             0,
             "#0d0887"
            ],
            [
             0.1111111111111111,
             "#46039f"
            ],
            [
             0.2222222222222222,
             "#7201a8"
            ],
            [
             0.3333333333333333,
             "#9c179e"
            ],
            [
             0.4444444444444444,
             "#bd3786"
            ],
            [
             0.5555555555555556,
             "#d8576b"
            ],
            [
             0.6666666666666666,
             "#ed7953"
            ],
            [
             0.7777777777777778,
             "#fb9f3a"
            ],
            [
             0.8888888888888888,
             "#fdca26"
            ],
            [
             1,
             "#f0f921"
            ]
           ],
           "sequentialminus": [
            [
             0,
             "#0d0887"
            ],
            [
             0.1111111111111111,
             "#46039f"
            ],
            [
             0.2222222222222222,
             "#7201a8"
            ],
            [
             0.3333333333333333,
             "#9c179e"
            ],
            [
             0.4444444444444444,
             "#bd3786"
            ],
            [
             0.5555555555555556,
             "#d8576b"
            ],
            [
             0.6666666666666666,
             "#ed7953"
            ],
            [
             0.7777777777777778,
             "#fb9f3a"
            ],
            [
             0.8888888888888888,
             "#fdca26"
            ],
            [
             1,
             "#f0f921"
            ]
           ]
          },
          "colorway": [
           "#636efa",
           "#EF553B",
           "#00cc96",
           "#ab63fa",
           "#FFA15A",
           "#19d3f3",
           "#FF6692",
           "#B6E880",
           "#FF97FF",
           "#FECB52"
          ],
          "font": {
           "color": "#2a3f5f"
          },
          "geo": {
           "bgcolor": "white",
           "lakecolor": "white",
           "landcolor": "#E5ECF6",
           "showlakes": true,
           "showland": true,
           "subunitcolor": "white"
          },
          "hoverlabel": {
           "align": "left"
          },
          "hovermode": "closest",
          "mapbox": {
           "style": "light"
          },
          "paper_bgcolor": "white",
          "plot_bgcolor": "#E5ECF6",
          "polar": {
           "angularaxis": {
            "gridcolor": "white",
            "linecolor": "white",
            "ticks": ""
           },
           "bgcolor": "#E5ECF6",
           "radialaxis": {
            "gridcolor": "white",
            "linecolor": "white",
            "ticks": ""
           }
          },
          "scene": {
           "xaxis": {
            "backgroundcolor": "#E5ECF6",
            "gridcolor": "white",
            "gridwidth": 2,
            "linecolor": "white",
            "showbackground": true,
            "ticks": "",
            "zerolinecolor": "white"
           },
           "yaxis": {
            "backgroundcolor": "#E5ECF6",
            "gridcolor": "white",
            "gridwidth": 2,
            "linecolor": "white",
            "showbackground": true,
            "ticks": "",
            "zerolinecolor": "white"
           },
           "zaxis": {
            "backgroundcolor": "#E5ECF6",
            "gridcolor": "white",
            "gridwidth": 2,
            "linecolor": "white",
            "showbackground": true,
            "ticks": "",
            "zerolinecolor": "white"
           }
          },
          "shapedefaults": {
           "line": {
            "color": "#2a3f5f"
           }
          },
          "ternary": {
           "aaxis": {
            "gridcolor": "white",
            "linecolor": "white",
            "ticks": ""
           },
           "baxis": {
            "gridcolor": "white",
            "linecolor": "white",
            "ticks": ""
           },
           "bgcolor": "#E5ECF6",
           "caxis": {
            "gridcolor": "white",
            "linecolor": "white",
            "ticks": ""
           }
          },
          "title": {
           "x": 0.05
          },
          "xaxis": {
           "automargin": true,
           "gridcolor": "white",
           "linecolor": "white",
           "ticks": "",
           "title": {
            "standoff": 15
           },
           "zerolinecolor": "white",
           "zerolinewidth": 2
          },
          "yaxis": {
           "automargin": true,
           "gridcolor": "white",
           "linecolor": "white",
           "ticks": "",
           "title": {
            "standoff": 15
           },
           "zerolinecolor": "white",
           "zerolinewidth": 2
          }
         }
        },
        "width": 700,
        "xaxis": {
         "anchor": "y",
         "autorange": true,
         "domain": [
          0,
          1
         ],
         "range": [
          -2.0782181102531565,
          17.97340393846208
         ],
         "title": {
          "text": "UMAP 1"
         },
         "type": "linear"
        },
        "yaxis": {
         "anchor": "x",
         "autorange": true,
         "domain": [
          0,
          1
         ],
         "range": [
          -1.0667731725091865,
          14.823780920397752
         ],
         "title": {
          "text": "UMAP 2"
         },
         "type": "linear"
        }
       }
      },
      "image/png": "[encoded data removed]",
      "text/html": [
       "<div>                            <div id=\"64a4aa86-45d8-4a4e-9e5f-14fd7ffc1fdc\" class=\"plotly-graph-div\" style=\"height:600px; width:700px;\"></div>            <script type=\"text/javascript\">                require([\"plotly\"], function(Plotly) {                    window.PLOTLYENV=window.PLOTLYENV || {};                                    if (document.getElementById(\"64a4aa86-45d8-4a4e-9e5f-14fd7ffc1fdc\")) {                    Plotly.newPlot(                        \"64a4aa86-45d8-4a4e-9e5f-14fd7ffc1fdc\",                        [{\"hovertemplate\":\"UMAP 1=%{x}<br>UMAP 2=%{y}<br>clusters=%{marker.color}<extra></extra>\",\"legendgroup\":\"\",\"marker\":{\"color\":[4,2,4,2,4,2,4,2,4,2,4,2,4,2,4,2,4,2,4,2,4,2,4,2,4,2,4,2,4,2,4,2,4,2,4,2,4,2,4,2,4,2,4,2,4,2,4,2,2,2,4,2,2,4,4,4,4,4,2,4,4,2,4,4,4,2,4,4,2,2,4,4,4,4,4,2,4,4,2,4,4,4,4,4,2,4,4,2,2,4,4,2,4,2,2,2,4,2,4,2,2,4,4,2,4,2,4,4,4,4,4,2,2,2,2,2,4,4,4,4,2,2,2,1,2,1,4,1,3,1,3,1,2,1,3,1,3,1,3,1,3,1,2,1,3,1,4,1,3,1,3,1,3,1,3,1,3,1,3,1,3,1,3,1,3,1,3,1,3,1,3,1,3,1,3,1,3,1,3,1,3,1,3,1,3,1,3,1,3,1,3,1,3,1,3,1,3,1,3,1],\"coloraxis\":\"coloraxis\",\"symbol\":\"circle\"},\"mode\":\"markers\",\"name\":\"\",\"orientation\":\"v\",\"showlegend\":false,\"x\":[4.796453952789307,4.013490200042725,9.99201488494873,9.354629516601562,10.926523208618164,9.893351554870605,9.706820487976074,9.13582992553711,9.237390518188477,10.404340744018555,8.727985382080078,10.019519805908203,10.347044944763184,9.641156196594238,8.522744178771973,3.41614031791687,10.891322135925293,3.6320509910583496,8.209805488586426,10.18802547454834,6.272947311401367,3.3510491847991943,9.538982391357422,3.991396903991699,10.128055572509766,4.456093788146973,10.975054740905762,4.988485813140869,10.725725173950195,9.33907413482666,9.218753814697266,10.674185752868652,9.385499000549316,3.269686460494995,9.963802337646484,9.84852123260498,9.94944953918457,11.032689094543457,10.78365421295166,10.417716979980469,11.818696975708008,3.485440492630005,7.505515098571777,11.49240493774414,10.691140174865723,11.491178512573242,11.888627052307129,12.08004379272461,11.754323959350586,11.571742057800293,11.806859016418457,4.6774139404296875,11.864306449890137,6.977259635925293,11.632146835327148,7.6851806640625,12.29626178741455,7.451836585998535,12.459980010986328,7.225163459777832,7.215761184692383,3.4747300148010254,12.413057327270508,12.622748374938965,7.548577785491943,3.7370893955230713,12.244815826416016,12.62349796295166,3.198801040649414,12.673660278320312,6.919988632202148,11.962647438049316,12.539087295532227,13.027252197265625,7.074959754943848,4.258094310760498,12.692917823791504,6.159843444824219,13.232219696044922,12.705984115600586,6.607929706573486,5.381990909576416,6.887971878051758,13.004578590393066,13.185986518859863,6.821408748626709,13.335549354553223,13.588912010192871,12.79794692993164,13.0799560546875,13.556411743164062,3.95354962348938,7.165438175201416,13.694803237915039,13.803120613098145,3.9198737144470215,13.47474479675293,13.475863456726074,6.960977554321289,3.5646324157714844,14.317468643188477,13.8849515914917,6.117617130279541,3.561466693878174,6.515654563903809,14.195595741271973,13.477227210998535,6.788251876831055,6.339261531829834,6.1285881996154785,5.989040374755859,14.07127571105957,13.672674179077148,3.0294954776763916,14.276662826538086,14.597734451293945,13.904093742370605,13.32270622253418,14.188899993896484,13.73591136932373,2.6508429050445557,14.111380577087402,12.954681396484375,-0.1281992346048355,14.913675308227539,5.181013584136963,7.580451011657715,-0.9318634271621704,8.86337661743164,0.5348676443099976,8.585511207580566,0.7066987156867981,15.338855743408203,5.002528190612793,7.649199485778809,4.704164028167725,15.129355430603027,0.7326041460037231,7.39191198348999,4.7292046546936035,14.893380165100098,-0.24285466969013214,14.802887916564941,3.7393276691436768,8.429431915283203,-0.7313479781150818,7.95999002456665,4.447019577026367,15.287775039672852,-0.47500860691070557,8.688146591186523,-0.8125653862953186,15.461854934692383,4.008308410644531,15.76952838897705,4.193216323852539,8.850730895996094,4.2137885093688965,8.890329360961914,5.003932476043701,14.965331077575684,4.0237717628479,7.955424785614014,3.641875743865967,8.677515029907227,3.352762460708618,9.319597244262695,3.160869598388672,15.893963813781738,1.3382540941238403,9.589142799377441,0.6457567811012268,9.335887908935547,-0.3400389850139618,15.500829696655273,3.2287168502807617,9.504785537719727,1.0284857749938965,9.478763580322266,-0.0574127733707428,16.243886947631836,2.521925210952759,9.8053617477417,2.391019821166992,16.5992374420166,-0.21365776658058167,15.883319854736328,0.8330390453338623,16.425514221191406,2.0325868129730225,16.827049255371094,2.2655675411224365,10.161262512207031,1.8897782564163208,16.688282012939453,1.6611108779907227,16.728281021118164,1.0684672594070435,10.696779251098633,0.8280986547470093],\"xaxis\":\"x\",\"y\":[6.902544021606445,8.238789558410645,9.979394912719727,13.621689796447754,10.310596466064453,13.165428161621094,9.47056770324707,12.961700439453125,6.849725246429443,13.225995063781738,7.028804779052734,13.899710655212402,7.154784679412842,13.821281433105469,7.572870254516602,8.01222038269043,9.721336364746094,7.120323657989502,6.603142738342285,12.994144439697266,6.581679821014404,7.332239151000977,8.399349212646484,7.522757530212402,7.455355167388916,7.710628509521484,8.307833671569824,6.717810153961182,8.998720169067383,12.555954933166504,6.676517963409424,13.396652221679688,6.462805271148682,8.280647277832031,8.107349395751953,12.568062782287598,8.69019889831543,12.717842102050781,9.451634407043457,12.357742309570312,5.296686172485352,7.484578609466553,6.233764171600342,11.719675064086914,7.902333736419678,12.40958309173584,6.321922302246094,11.158361434936523,10.559391021728516,10.404329299926758,6.585376739501953,6.141853332519531,10.870004653930664,7.531519889831543,7.008061408996582,5.743288993835449,6.451588153839111,8.907431602478027,11.566110610961914,6.400291442871094,8.548501014709473,5.988182067871094,4.58119535446167,5.77720832824707,8.220786094665527,6.124545097351074,7.700552463531494,4.462820529937744,5.876219272613525,10.49150276184082,9.08669662475586,7.586193561553955,5.086533069610596,5.129964351654053,7.381035327911377,5.345327854156494,7.691169261932373,5.125860691070557,11.910859107971191,7.140812397003174,6.953769207000732,5.28432035446167,8.294677734375,7.975489616394043,12.389158248901367,5.561991214752197,5.797818183898926,12.612852096557617,10.04931354522705,6.565816879272461,4.442390441894531,5.031827926635742,5.240448474884033,8.463722229003906,10.268900871276855,4.893232822418213,7.592985153198242,11.111931800842285,4.908721923828125,4.5153913497924805,11.59164047241211,6.896853923797607,8.279632568359375,5.104184150695801,5.444671630859375,11.766676902770996,4.627951622009277,6.06110954284668,8.518568992614746,9.004351615905762,8.17083740234375,12.701637268066406,9.215924263000488,4.78773307800293,12.24809455871582,12.461028099060059,5.457034111022949,6.829894065856934,6.717085361480713,7.270195484161377,4.928635120391846,9.296948432922363,8.802419662475586,5.537555694580078,11.22415828704834,1.535325050354004,4.081287860870361,5.076858997344971,4.767194747924805,5.404712200164795,3.629525661468506,5.232299327850342,10.947503089904785,2.09258770942688,2.2633056640625,0.33408039808273315,8.499592781066895,4.809272289276123,2.572023391723633,2.3058605194091797,7.765606880187988,5.328321933746338,10.458332061767578,0.3904210925102234,1.8829317092895508,4.55689811706543,4.301665782928467,1.5150346755981445,9.596722602844238,5.110206604003906,3.256159782409668,4.650237083435059,8.761725425720215,1.9739413261413574,7.93841552734375,-0.14270290732383728,2.6615514755249023,1.2129149436950684,2.273228883743286,1.0667121410369873,6.9145283699035645,0.7302796244621277,2.013967752456665,0.4278542101383209,3.8311927318573,1.5748138427734375,3.1383209228515625,-0.023402752354741096,9.447915077209473,4.559493541717529,2.658935070037842,4.021765232086182,2.0201408863067627,4.16708517074585,7.4125165939331055,0.9062344431877136,4.389305114746094,4.105029582977295,4.0920610427856445,3.9625775814056396,9.44901180267334,0.819214403629303,3.2139198780059814,0.5251003503799438,9.023478507995605,3.5795111656188965,7.8036603927612305,3.5932040214538574,8.300393104553223,1.0220599174499512,9.195466041564941,1.603514552116394,2.1726369857788086,1.415004014968872,7.902392387390137,1.3858728408813477,8.463577270507812,2.755669593811035,2.8939123153686523,2.3840553760528564],\"yaxis\":\"y\",\"type\":\"scatter\"}],                        {\"template\":{\"data\":{\"histogram2dcontour\":[{\"type\":\"histogram2dcontour\",\"colorbar\":{\"outlinewidth\":0,\"ticks\":\"\"},\"colorscale\":[[0.0,\"#0d0887\"],[0.1111111111111111,\"#46039f\"],[0.2222222222222222,\"#7201a8\"],[0.3333333333333333,\"#9c179e\"],[0.4444444444444444,\"#bd3786\"],[0.5555555555555556,\"#d8576b\"],[0.6666666666666666,\"#ed7953\"],[0.7777777777777778,\"#fb9f3a\"],[0.8888888888888888,\"#fdca26\"],[1.0,\"#f0f921\"]]}],\"choropleth\":[{\"type\":\"choropleth\",\"colorbar\":{\"outlinewidth\":0,\"ticks\":\"\"}}],\"histogram2d\":[{\"type\":\"histogram2d\",\"colorbar\":{\"outlinewidth\":0,\"ticks\":\"\"},\"colorscale\":[[0.0,\"#0d0887\"],[0.1111111111111111,\"#46039f\"],[0.2222222222222222,\"#7201a8\"],[0.3333333333333333,\"#9c179e\"],[0.4444444444444444,\"#bd3786\"],[0.5555555555555556,\"#d8576b\"],[0.6666666666666666,\"#ed7953\"],[0.7777777777777778,\"#fb9f3a\"],[0.8888888888888888,\"#fdca26\"],[1.0,\"#f0f921\"]]}],\"heatmap\":[{\"type\":\"heatmap\",\"colorbar\":{\"outlinewidth\":0,\"ticks\":\"\"},\"colorscale\":[[0.0,\"#0d0887\"],[0.1111111111111111,\"#46039f\"],[0.2222222222222222,\"#7201a8\"],[0.3333333333333333,\"#9c179e\"],[0.4444444444444444,\"#bd3786\"],[0.5555555555555556,\"#d8576b\"],[0.6666666666666666,\"#ed7953\"],[0.7777777777777778,\"#fb9f3a\"],[0.8888888888888888,\"#fdca26\"],[1.0,\"#f0f921\"]]}],\"heatmapgl\":[{\"type\":\"heatmapgl\",\"colorbar\":{\"outlinewidth\":0,\"ticks\":\"\"},\"colorscale\":[[0.0,\"#0d0887\"],[0.1111111111111111,\"#46039f\"],[0.2222222222222222,\"#7201a8\"],[0.3333333333333333,\"#9c179e\"],[0.4444444444444444,\"#bd3786\"],[0.5555555555555556,\"#d8576b\"],[0.6666666666666666,\"#ed7953\"],[0.7777777777777778,\"#fb9f3a\"],[0.8888888888888888,\"#fdca26\"],[1.0,\"#f0f921\"]]}],\"contourcarpet\":[{\"type\":\"contourcarpet\",\"colorbar\":{\"outlinewidth\":0,\"ticks\":\"\"}}],\"contour\":[{\"type\":\"contour\",\"colorbar\":{\"outlinewidth\":0,\"ticks\":\"\"},\"colorscale\":[[0.0,\"#0d0887\"],[0.1111111111111111,\"#46039f\"],[0.2222222222222222,\"#7201a8\"],[0.3333333333333333,\"#9c179e\"],[0.4444444444444444,\"#bd3786\"],[0.5555555555555556,\"#d8576b\"],[0.6666666666666666,\"#ed7953\"],[0.7777777777777778,\"#fb9f3a\"],[0.8888888888888888,\"#fdca26\"],[1.0,\"#f0f921\"]]}],\"surface\":[{\"type\":\"surface\",\"colorbar\":{\"outlinewidth\":0,\"ticks\":\"\"},\"colorscale\":[[0.0,\"#0d0887\"],[0.1111111111111111,\"#46039f\"],[0.2222222222222222,\"#7201a8\"],[0.3333333333333333,\"#9c179e\"],[0.4444444444444444,\"#bd3786\"],[0.5555555555555556,\"#d8576b\"],[0.6666666666666666,\"#ed7953\"],[0.7777777777777778,\"#fb9f3a\"],[0.8888888888888888,\"#fdca26\"],[1.0,\"#f0f921\"]]}],\"mesh3d\":[{\"type\":\"mesh3d\",\"colorbar\":{\"outlinewidth\":0,\"ticks\":\"\"}}],\"scatter\":[{\"fillpattern\":{\"fillmode\":\"overlay\",\"size\":10,\"solidity\":0.2},\"type\":\"scatter\"}],\"parcoords\":[{\"type\":\"parcoords\",\"line\":{\"colorbar\":{\"outlinewidth\":0,\"ticks\":\"\"}}}],\"scatterpolargl\":[{\"type\":\"scatterpolargl\",\"marker\":{\"colorbar\":{\"outlinewidth\":0,\"ticks\":\"\"}}}],\"bar\":[{\"error_x\":{\"color\":\"#2a3f5f\"},\"error_y\":{\"color\":\"#2a3f5f\"},\"marker\":{\"line\":{\"color\":\"#E5ECF6\",\"width\":0.5},\"pattern\":{\"fillmode\":\"overlay\",\"size\":10,\"solidity\":0.2}},\"type\":\"bar\"}],\"scattergeo\":[{\"type\":\"scattergeo\",\"marker\":{\"colorbar\":{\"outlinewidth\":0,\"ticks\":\"\"}}}],\"scatterpolar\":[{\"type\":\"scatterpolar\",\"marker\":{\"colorbar\":{\"outlinewidth\":0,\"ticks\":\"\"}}}],\"histogram\":[{\"marker\":{\"pattern\":{\"fillmode\":\"overlay\",\"size\":10,\"solidity\":0.2}},\"type\":\"histogram\"}],\"scattergl\":[{\"type\":\"scattergl\",\"marker\":{\"colorbar\":{\"outlinewidth\":0,\"ticks\":\"\"}}}],\"scatter3d\":[{\"type\":\"scatter3d\",\"line\":{\"colorbar\":{\"outlinewidth\":0,\"ticks\":\"\"}},\"marker\":{\"colorbar\":{\"outlinewidth\":0,\"ticks\":\"\"}}}],\"scattermapbox\":[{\"type\":\"scattermapbox\",\"marker\":{\"colorbar\":{\"outlinewidth\":0,\"ticks\":\"\"}}}],\"scatterternary\":[{\"type\":\"scatterternary\",\"marker\":{\"colorbar\":{\"outlinewidth\":0,\"ticks\":\"\"}}}],\"scattercarpet\":[{\"type\":\"scattercarpet\",\"marker\":{\"colorbar\":{\"outlinewidth\":0,\"ticks\":\"\"}}}],\"carpet\":[{\"aaxis\":{\"endlinecolor\":\"#2a3f5f\",\"gridcolor\":\"white\",\"linecolor\":\"white\",\"minorgridcolor\":\"white\",\"startlinecolor\":\"#2a3f5f\"},\"baxis\":{\"endlinecolor\":\"#2a3f5f\",\"gridcolor\":\"white\",\"linecolor\":\"white\",\"minorgridcolor\":\"white\",\"startlinecolor\":\"#2a3f5f\"},\"type\":\"carpet\"}],\"table\":[{\"cells\":{\"fill\":{\"color\":\"#EBF0F8\"},\"line\":{\"color\":\"white\"}},\"header\":{\"fill\":{\"color\":\"#C8D4E3\"},\"line\":{\"color\":\"white\"}},\"type\":\"table\"}],\"barpolar\":[{\"marker\":{\"line\":{\"color\":\"#E5ECF6\",\"width\":0.5},\"pattern\":{\"fillmode\":\"overlay\",\"size\":10,\"solidity\":0.2}},\"type\":\"barpolar\"}],\"pie\":[{\"automargin\":true,\"type\":\"pie\"}]},\"layout\":{\"autotypenumbers\":\"strict\",\"colorway\":[\"#636efa\",\"#EF553B\",\"#00cc96\",\"#ab63fa\",\"#FFA15A\",\"#19d3f3\",\"#FF6692\",\"#B6E880\",\"#FF97FF\",\"#FECB52\"],\"font\":{\"color\":\"#2a3f5f\"},\"hovermode\":\"closest\",\"hoverlabel\":{\"align\":\"left\"},\"paper_bgcolor\":\"white\",\"plot_bgcolor\":\"#E5ECF6\",\"polar\":{\"bgcolor\":\"#E5ECF6\",\"angularaxis\":{\"gridcolor\":\"white\",\"linecolor\":\"white\",\"ticks\":\"\"},\"radialaxis\":{\"gridcolor\":\"white\",\"linecolor\":\"white\",\"ticks\":\"\"}},\"ternary\":{\"bgcolor\":\"#E5ECF6\",\"aaxis\":{\"gridcolor\":\"white\",\"linecolor\":\"white\",\"ticks\":\"\"},\"baxis\":{\"gridcolor\":\"white\",\"linecolor\":\"white\",\"ticks\":\"\"},\"caxis\":{\"gridcolor\":\"white\",\"linecolor\":\"white\",\"ticks\":\"\"}},\"coloraxis\":{\"colorbar\":{\"outlinewidth\":0,\"ticks\":\"\"}},\"colorscale\":{\"sequential\":[[0.0,\"#0d0887\"],[0.1111111111111111,\"#46039f\"],[0.2222222222222222,\"#7201a8\"],[0.3333333333333333,\"#9c179e\"],[0.4444444444444444,\"#bd3786\"],[0.5555555555555556,\"#d8576b\"],[0.6666666666666666,\"#ed7953\"],[0.7777777777777778,\"#fb9f3a\"],[0.8888888888888888,\"#fdca26\"],[1.0,\"#f0f921\"]],\"sequentialminus\":[[0.0,\"#0d0887\"],[0.1111111111111111,\"#46039f\"],[0.2222222222222222,\"#7201a8\"],[0.3333333333333333,\"#9c179e\"],[0.4444444444444444,\"#bd3786\"],[0.5555555555555556,\"#d8576b\"],[0.6666666666666666,\"#ed7953\"],[0.7777777777777778,\"#fb9f3a\"],[0.8888888888888888,\"#fdca26\"],[1.0,\"#f0f921\"]],\"diverging\":[[0,\"#8e0152\"],[0.1,\"#c51b7d\"],[0.2,\"#de77ae\"],[0.3,\"#f1b6da\"],[0.4,\"#fde0ef\"],[0.5,\"#f7f7f7\"],[0.6,\"#e6f5d0\"],[0.7,\"#b8e186\"],[0.8,\"#7fbc41\"],[0.9,\"#4d9221\"],[1,\"#276419\"]]},\"xaxis\":{\"gridcolor\":\"white\",\"linecolor\":\"white\",\"ticks\":\"\",\"title\":{\"standoff\":15},\"zerolinecolor\":\"white\",\"automargin\":true,\"zerolinewidth\":2},\"yaxis\":{\"gridcolor\":\"white\",\"linecolor\":\"white\",\"ticks\":\"\",\"title\":{\"standoff\":15},\"zerolinecolor\":\"white\",\"automargin\":true,\"zerolinewidth\":2},\"scene\":{\"xaxis\":{\"backgroundcolor\":\"#E5ECF6\",\"gridcolor\":\"white\",\"linecolor\":\"white\",\"showbackground\":true,\"ticks\":\"\",\"zerolinecolor\":\"white\",\"gridwidth\":2},\"yaxis\":{\"backgroundcolor\":\"#E5ECF6\",\"gridcolor\":\"white\",\"linecolor\":\"white\",\"showbackground\":true,\"ticks\":\"\",\"zerolinecolor\":\"white\",\"gridwidth\":2},\"zaxis\":{\"backgroundcolor\":\"#E5ECF6\",\"gridcolor\":\"white\",\"linecolor\":\"white\",\"showbackground\":true,\"ticks\":\"\",\"zerolinecolor\":\"white\",\"gridwidth\":2}},\"shapedefaults\":{\"line\":{\"color\":\"#2a3f5f\"}},\"annotationdefaults\":{\"arrowcolor\":\"#2a3f5f\",\"arrowhead\":0,\"arrowwidth\":1},\"geo\":{\"bgcolor\":\"white\",\"landcolor\":\"#E5ECF6\",\"subunitcolor\":\"white\",\"showland\":true,\"showlakes\":true,\"lakecolor\":\"white\"},\"title\":{\"x\":0.05},\"mapbox\":{\"style\":\"light\"}}},\"xaxis\":{\"anchor\":\"y\",\"domain\":[0.0,1.0],\"title\":{\"text\":\"UMAP 1\"}},\"yaxis\":{\"anchor\":\"x\",\"domain\":[0.0,1.0],\"title\":{\"text\":\"UMAP 2\"}},\"coloraxis\":{\"colorbar\":{\"title\":{\"text\":\"clusters\"}},\"colorscale\":[[0.0,\"#0d0887\"],[0.1111111111111111,\"#46039f\"],[0.2222222222222222,\"#7201a8\"],[0.3333333333333333,\"#9c179e\"],[0.4444444444444444,\"#bd3786\"],[0.5555555555555556,\"#d8576b\"],[0.6666666666666666,\"#ed7953\"],[0.7777777777777778,\"#fb9f3a\"],[0.8888888888888888,\"#fdca26\"],[1.0,\"#f0f921\"]]},\"legend\":{\"tracegroupgap\":0},\"margin\":{\"t\":60},\"height\":600,\"width\":700},                        {\"responsive\": true}                    ).then(function(){\n",
       "                            \n",
       "var gd = document.getElementById('64a4aa86-45d8-4a4e-9e5f-14fd7ffc1fdc');\n",
       "var x = new MutationObserver(function (mutations, observer) {{\n",
       "        var display = window.getComputedStyle(gd).display;\n",
       "        if (!display || display === 'none') {{\n",
       "            console.log([gd, 'removed!']);\n",
       "            Plotly.purge(gd);\n",
       "            observer.disconnect();\n",
       "        }}\n",
       "}});\n",
       "\n",
       "// Listen for the removal of the full notebook cells\n",
       "var notebookContainer = gd.closest('#notebook-container');\n",
       "if (notebookContainer) {{\n",
       "    x.observe(notebookContainer, {childList: true});\n",
       "}}\n",
       "\n",
       "// Listen for the clearing of the current output cell\n",
       "var outputEl = gd.closest('.output');\n",
       "if (outputEl) {{\n",
       "    x.observe(outputEl, {childList: true});\n",
       "}}\n",
       "\n",
       "                        })                };                });            </script>        </div>"
      ]
     },
     "metadata": {},
     "output_type": "display_data"
    }
   ],
   "source": [
    "fig = px.scatter(\n",
    "    plot_df,\n",
    "    x='UMAP 1',\n",
    "    y='UMAP 2',\n",
    "    color='clusters',\n",
    "    height=600,\n",
    "    width=700\n",
    ")\n",
    "fig.show()"
   ]
  },
  {
   "cell_type": "markdown",
   "id": "daf9e00f-39da-4877-977d-7473fdf1657c",
   "metadata": {},
   "source": [
    "### t-SNE"
   ]
  },
  {
   "cell_type": "code",
   "execution_count": 83,
   "id": "31e341c3-98d0-4267-a0c8-2adf77ea68ce",
   "metadata": {},
   "outputs": [],
   "source": [
    "from sklearn.manifold import TSNE"
   ]
  },
  {
   "cell_type": "code",
   "execution_count": 109,
   "id": "bcb611c1-3965-4fe3-b3e4-0dfa3b5690cb",
   "metadata": {},
   "outputs": [],
   "source": [
    "tsne = TSNE(n_components=2, perplexity=20, learning_rate=0.2, max_iter=500, random_state=42)"
   ]
  },
  {
   "cell_type": "code",
   "execution_count": 110,
   "id": "5d817c5a-a5c1-41bf-842b-9ff13a08fbd3",
   "metadata": {},
   "outputs": [],
   "source": [
    "t_comps = tsne.fit_transform(X_scaled)"
   ]
  },
  {
   "cell_type": "code",
   "execution_count": 111,
   "id": "77bb27e1-6265-4047-97c8-111495d4dd58",
   "metadata": {},
   "outputs": [],
   "source": [
    "plot_df = pd.DataFrame(t_comps, columns=['TSNE 1','TSNE 2'])\n",
    "plot_df['clusters'] = clusters"
   ]
  },
  {
   "cell_type": "code",
   "execution_count": 113,
   "id": "b4fe7b8d-b284-43b3-8690-4c720f0e59bf",
   "metadata": {},
   "outputs": [
    {
     "data": {
      "application/vnd.plotly.v1+json": {
       "config": {
        "plotlyServerURL": "https://plot.ly"
       },
       "data": [
        {
         "hovertemplate": "TSNE 1=%{x}<br>TSNE 2=%{y}<br>clusters=%{marker.color}<extra></extra>",
         "legendgroup": "",
         "marker": {
          "color": [
           4,
           2,
           4,
           2,
           4,
           2,
           4,
           2,
           4,
           2,
           4,
           2,
           4,
           2,
           4,
           2,
           4,
           2,
           4,
           2,
           4,
           2,
           4,
           2,
           4,
           2,
           4,
           2,
           4,
           2,
           4,
           2,
           4,
           2,
           4,
           2,
           4,
           2,
           4,
           2,
           4,
           2,
           4,
           2,
           4,
           2,
           4,
           2,
           2,
           2,
           4,
           2,
           2,
           4,
           4,
           4,
           4,
           4,
           2,
           4,
           4,
           2,
           4,
           4,
           4,
           2,
           4,
           4,
           2,
           2,
           4,
           4,
           4,
           4,
           4,
           2,
           4,
           4,
           2,
           4,
           4,
           4,
           4,
           4,
           2,
           4,
           4,
           2,
           2,
           4,
           4,
           2,
           4,
           2,
           2,
           2,
           4,
           2,
           4,
           2,
           2,
           4,
           4,
           2,
           4,
           2,
           4,
           4,
           4,
           4,
           4,
           2,
           2,
           2,
           2,
           2,
           4,
           4,
           4,
           4,
           2,
           2,
           2,
           1,
           2,
           1,
           4,
           1,
           3,
           1,
           3,
           1,
           2,
           1,
           3,
           1,
           3,
           1,
           3,
           1,
           3,
           1,
           2,
           1,
           3,
           1,
           4,
           1,
           3,
           1,
           3,
           1,
           3,
           1,
           3,
           1,
           3,
           1,
           3,
           1,
           3,
           1,
           3,
           1,
           3,
           1,
           3,
           1,
           3,
           1,
           3,
           1,
           3,
           1,
           3,
           1,
           3,
           1,
           3,
           1,
           3,
           1,
           3,
           1,
           3,
           1,
           3,
           1,
           3,
           1,
           3,
           1,
           3,
           1,
           3,
           1,
           3,
           1,
           3,
           1
          ],
          "coloraxis": "coloraxis",
          "size": 10,
          "symbol": "circle"
         },
         "mode": "markers",
         "name": "",
         "orientation": "v",
         "showlegend": false,
         "type": "scatter",
         "x": [
          -2.640448808670044,
          -3.703723430633545,
          -1.757359504699707,
          -4.17664098739624,
          -1.4744325876235962,
          -4.1441426277160645,
          -1.3315109014511108,
          -4.503805637359619,
          5.568850994110107,
          -4.001096725463867,
          5.622720718383789,
          -4.824820518493652,
          -0.23320871591567993,
          -4.115861415863037,
          -0.17166081070899963,
          -3.6726582050323486,
          -1.236621379852295,
          -3.3830645084381104,
          5.571635723114014,
          -4.816493034362793,
          -0.2114318311214447,
          -3.535522937774658,
          -0.6575395464897156,
          -3.4274110794067383,
          -0.313216894865036,
          -3.6665501594543457,
          -0.45838311314582825,
          -2.8940987586975098,
          -0.7956600189208984,
          -4.218003749847412,
          5.546483516693115,
          -3.8310389518737793,
          5.481959819793701,
          -3.9304981231689453,
          -0.4274817109107971,
          -3.980195999145508,
          -0.6934085488319397,
          -3.5145316123962402,
          -0.9308871626853943,
          -3.7304141521453857,
          3.065734624862671,
          -3.9325501918792725,
          5.881878852844238,
          -2.238034725189209,
          -0.01548011228442192,
          -3.0508768558502197,
          1.9901703596115112,
          -1.5245721340179443,
          -1.3988696336746216,
          -1.3676493167877197,
          1.9072527885437012,
          -2.144521951675415,
          -1.5876731872558594,
          7.409112453460693,
          1.78495192527771,
          5.997197151184082,
          2.040947198867798,
          7.902790069580078,
          -1.4098868370056152,
          6.591621398925781,
          7.984889507293701,
          -1.5115026235580444,
          3.3825366497039795,
          2.5649337768554688,
          7.661658763885498,
          -1.5191802978515625,
          1.590124487876892,
          3.3985774517059326,
          -1.5294835567474365,
          -1.1260669231414795,
          7.997460842132568,
          1.727360486984253,
          3.1289775371551514,
          3.1045968532562256,
          7.363580226898193,
          -1.5079717636108398,
          1.932032585144043,
          5.763854503631592,
          -0.9511380195617676,
          2.055657148361206,
          7.2017107009887695,
          -0.5285782814025879,
          7.917904376983643,
          1.8968256711959839,
          -1.064650297164917,
          6.301998615264893,
          2.92795991897583,
          -0.927648663520813,
          -0.4177257716655731,
          2.3637399673461914,
          3.5645816326141357,
          -1.1545648574829102,
          6.378572940826416,
          1.3397811651229858,
          0.14499352872371674,
          -1.434406042098999,
          2.2192976474761963,
          -0.6085988283157349,
          6.299549579620361,
          -1.3215508460998535,
          -0.2986021339893341,
          2.4572806358337402,
          8.051836013793945,
          -1.5459359884262085,
          6.512934684753418,
          -0.4003564417362213,
          3.5821638107299805,
          6.825929164886475,
          8.056112289428711,
          7.983657360076904,
          7.952073097229004,
          -0.7813587784767151,
          1.1659398078918457,
          -1.2420910596847534,
          -0.5938217639923096,
          -0.6364575624465942,
          3.598656415939331,
          2.7797293663024902,
          2.6807029247283936,
          2.819045305252075,
          -1.7021814584732056,
          1.2224029302597046,
          1.1901276111602783,
          -4.742072582244873,
          0.29350873827934265,
          -7.545140743255615,
          5.796048164367676,
          -4.827718257904053,
          5.780494213104248,
          -4.369992733001709,
          5.150450706481934,
          -4.358763217926025,
          0.31856995820999146,
          -7.35466194152832,
          3.4198551177978516,
          -8.059417724609375,
          2.9743306636810303,
          -4.392714500427246,
          3.375680446624756,
          -7.293588161468506,
          3.3147811889648438,
          -5.041330337524414,
          0.4698646664619446,
          -7.938567161560059,
          3.5668787956237793,
          -5.242502212524414,
          5.784560680389404,
          -7.473890781402588,
          1.9237078428268433,
          -5.000550270080566,
          4.932408809661865,
          -4.851430892944336,
          2.8186025619506836,
          -7.284881114959717,
          2.998901128768921,
          -8.14570426940918,
          4.40590763092041,
          -7.674749851226807,
          4.227146148681641,
          -7.503620624542236,
          3.145547389984131,
          -7.888610363006592,
          3.4237570762634277,
          -8.152219772338867,
          5.378937244415283,
          -7.389006614685059,
          4.825984477996826,
          -8.15609073638916,
          2.1643102169036865,
          -4.719234943389893,
          4.625638008117676,
          -4.937937259674072,
          4.374583721160889,
          -5.2459540367126465,
          3.1962666511535645,
          -7.968100547790527,
          5.659237861633301,
          -4.8705573081970215,
          5.6673359870910645,
          -5.4242844581604,
          2.320927858352661,
          -7.957160949707031,
          4.829469680786133,
          -8.011778831481934,
          2.383126735687256,
          -5.703930854797363,
          3.2238428592681885,
          -5.200822830200195,
          2.7075343132019043,
          -7.930587291717529,
          2.4035634994506836,
          -7.799623966217041,
          3.6608195304870605,
          -7.940590858459473,
          3.0084714889526367,
          -7.882371425628662,
          2.9290008544921875,
          -6.769172191619873,
          3.3358709812164307,
          -6.851461410522461
         ],
         "xaxis": "x",
         "y": [
          1.7704423666000366,
          0.9409763216972351,
          -4.241292953491211,
          -2.046624183654785,
          -3.436474561691284,
          -2.0190346240997314,
          -4.557777404785156,
          -2.1721010208129883,
          -2.965402364730835,
          -2.1490349769592285,
          -2.9510645866394043,
          -2.4654786586761475,
          -5.5605854988098145,
          -2.0271825790405273,
          -2.9541821479797363,
          1.0025304555892944,
          -3.7535054683685303,
          1.2847342491149902,
          -2.0240275859832764,
          -2.4614109992980957,
          -2.710141658782959,
          1.1745259761810303,
          -5.178709506988525,
          1.3237574100494385,
          -5.401336669921875,
          1.080818772315979,
          -4.597409725189209,
          1.8749138116836548,
          -4.284830570220947,
          -2.011482000350952,
          -2.905850648880005,
          -1.8550783395767212,
          -2.8294036388397217,
          0.8070392608642578,
          -5.1779985427856445,
          -1.878296136856079,
          -4.756860256195068,
          -1.8761931657791138,
          -4.132425308227539,
          -1.7659553289413452,
          -6.061489105224609,
          0.8765208125114441,
          -0.9739868640899658,
          -1.4757474660873413,
          -4.864255905151367,
          -1.5876357555389404,
          -4.634653568267822,
          -1.3114814758300781,
          -1.535231351852417,
          -1.6418821811676025,
          -4.472812652587891,
          2.727377414703369,
          -1.308488130569458,
          -1.0860296487808228,
          -4.42337703704834,
          -0.662854790687561,
          -4.513056755065918,
          -1.7241350412368774,
          -0.9562326073646545,
          -0.6994554400444031,
          -1.7066885232925415,
          3.9381730556488037,
          -5.815044403076172,
          -4.774032115936279,
          -1.324915885925293,
          3.9474079608917236,
          -3.6747071743011475,
          -5.859445571899414,
          3.949589252471924,
          -1.255106806755066,
          -1.6687062978744507,
          -3.9069230556488037,
          -5.426412105560303,
          -5.327887058258057,
          -0.9560914635658264,
          4.155404567718506,
          -3.5365004539489746,
          0.1464519202709198,
          0.08580644428730011,
          -3.7462425231933594,
          -0.7927407622337341,
          3.1344025135040283,
          -1.543796420097351,
          -3.555752992630005,
          0.2221609354019165,
          -0.17179636657238007,
          -4.552271842956543,
          0.274204283952713,
          -1.1439173221588135,
          -3.640322685241699,
          -5.742267608642578,
          4.415955543518066,
          0.02022998221218586,
          -1.859309434890747,
          -0.713205873966217,
          4.349144458770752,
          -3.347447156906128,
          -0.06459522992372513,
          0.15062646567821503,
          4.371856689453125,
          0.5667308568954468,
          -3.411959171295166,
          -1.4752507209777832,
          4.397311687469482,
          0.00936378538608551,
          0.6413187980651855,
          -5.662964344024658,
          -0.2368500977754593,
          -1.492392659187317,
          -1.4063301086425781,
          -1.3620134592056274,
          0.6049997210502625,
          -1.5176115036010742,
          4.443307399749756,
          0.7310666441917419,
          0.6788016557693481,
          -5.5013909339904785,
          -3.476336717605591,
          -3.115445613861084,
          -3.456857204437256,
          4.545717239379883,
          -1.3998587131500244,
          -1.9937056303024292,
          4.287503719329834,
          0.8916120529174805,
          0.3669056296348572,
          1.3753262758255005,
          4.227534770965576,
          2.551483392715454,
          4.665032863616943,
          2.9897098541259766,
          4.637514114379883,
          0.8131670355796814,
          0.31607621908187866,
          4.559422969818115,
          0.6682824492454529,
          0.12827689945697784,
          4.961469650268555,
          4.582813262939453,
          0.39999401569366455,
          -0.009437482804059982,
          4.3928632736206055,
          0.7244074940681458,
          0.7771999835968018,
          4.4294867515563965,
          4.360807418823242,
          1.5828828811645508,
          0.5239723920822144,
          0.7416595816612244,
          4.473563194274902,
          3.044872999191284,
          4.418489456176758,
          0.2573961615562439,
          0.5874822735786438,
          0.17995791137218475,
          0.8533470034599304,
          3.705120801925659,
          0.6353005170822144,
          3.874183177947998,
          0.5173914432525635,
          -1.837264895439148,
          0.7954880595207214,
          4.539026260375977,
          1.084025263786316,
          2.488337993621826,
          0.9411101341247559,
          3.0548033714294434,
          1.3542444705963135,
          1.0080121755599976,
          5.532761096954346,
          3.2887704372406006,
          5.362700462341309,
          3.546574115753174,
          4.503953456878662,
          0.31022578477859497,
          1.3358066082000732,
          2.5833327770233154,
          5.52794885635376,
          2.5899178981781006,
          4.636256694793701,
          1.2877507209777832,
          1.8715484142303467,
          2.947521924972534,
          1.862439513206482,
          1.3311477899551392,
          4.6306681632995605,
          0.8522643446922302,
          5.5844645500183105,
          1.3292006254196167,
          2.223888635635376,
          1.4177541732788086,
          2.2378358840942383,
          3.211143970489502,
          2.525658369064331,
          1.582572340965271,
          2.6340696811676025,
          1.6886252164840698,
          4.685043811798096,
          2.9944677352905273,
          4.6265764236450195
         ],
         "yaxis": "y"
        }
       ],
       "layout": {
        "coloraxis": {
         "colorbar": {
          "title": {
           "text": "clusters"
          }
         },
         "colorscale": [
          [
           0,
           "#0d0887"
          ],
          [
           0.1111111111111111,
           "#46039f"
          ],
          [
           0.2222222222222222,
           "#7201a8"
          ],
          [
           0.3333333333333333,
           "#9c179e"
          ],
          [
           0.4444444444444444,
           "#bd3786"
          ],
          [
           0.5555555555555556,
           "#d8576b"
          ],
          [
           0.6666666666666666,
           "#ed7953"
          ],
          [
           0.7777777777777778,
           "#fb9f3a"
          ],
          [
           0.8888888888888888,
           "#fdca26"
          ],
          [
           1,
           "#f0f921"
          ]
         ]
        },
        "height": 600,
        "legend": {
         "tracegroupgap": 0
        },
        "margin": {
         "t": 60
        },
        "template": {
         "data": {
          "bar": [
           {
            "error_x": {
             "color": "#2a3f5f"
            },
            "error_y": {
             "color": "#2a3f5f"
            },
            "marker": {
             "line": {
              "color": "#E5ECF6",
              "width": 0.5
             },
             "pattern": {
              "fillmode": "overlay",
              "size": 10,
              "solidity": 0.2
             }
            },
            "type": "bar"
           }
          ],
          "barpolar": [
           {
            "marker": {
             "line": {
              "color": "#E5ECF6",
              "width": 0.5
             },
             "pattern": {
              "fillmode": "overlay",
              "size": 10,
              "solidity": 0.2
             }
            },
            "type": "barpolar"
           }
          ],
          "carpet": [
           {
            "aaxis": {
             "endlinecolor": "#2a3f5f",
             "gridcolor": "white",
             "linecolor": "white",
             "minorgridcolor": "white",
             "startlinecolor": "#2a3f5f"
            },
            "baxis": {
             "endlinecolor": "#2a3f5f",
             "gridcolor": "white",
             "linecolor": "white",
             "minorgridcolor": "white",
             "startlinecolor": "#2a3f5f"
            },
            "type": "carpet"
           }
          ],
          "choropleth": [
           {
            "colorbar": {
             "outlinewidth": 0,
             "ticks": ""
            },
            "type": "choropleth"
           }
          ],
          "contour": [
           {
            "colorbar": {
             "outlinewidth": 0,
             "ticks": ""
            },
            "colorscale": [
             [
              0,
              "#0d0887"
             ],
             [
              0.1111111111111111,
              "#46039f"
             ],
             [
              0.2222222222222222,
              "#7201a8"
             ],
             [
              0.3333333333333333,
              "#9c179e"
             ],
             [
              0.4444444444444444,
              "#bd3786"
             ],
             [
              0.5555555555555556,
              "#d8576b"
             ],
             [
              0.6666666666666666,
              "#ed7953"
             ],
             [
              0.7777777777777778,
              "#fb9f3a"
             ],
             [
              0.8888888888888888,
              "#fdca26"
             ],
             [
              1,
              "#f0f921"
             ]
            ],
            "type": "contour"
           }
          ],
          "contourcarpet": [
           {
            "colorbar": {
             "outlinewidth": 0,
             "ticks": ""
            },
            "type": "contourcarpet"
           }
          ],
          "heatmap": [
           {
            "colorbar": {
             "outlinewidth": 0,
             "ticks": ""
            },
            "colorscale": [
             [
              0,
              "#0d0887"
             ],
             [
              0.1111111111111111,
              "#46039f"
             ],
             [
              0.2222222222222222,
              "#7201a8"
             ],
             [
              0.3333333333333333,
              "#9c179e"
             ],
             [
              0.4444444444444444,
              "#bd3786"
             ],
             [
              0.5555555555555556,
              "#d8576b"
             ],
             [
              0.6666666666666666,
              "#ed7953"
             ],
             [
              0.7777777777777778,
              "#fb9f3a"
             ],
             [
              0.8888888888888888,
              "#fdca26"
             ],
             [
              1,
              "#f0f921"
             ]
            ],
            "type": "heatmap"
           }
          ],
          "heatmapgl": [
           {
            "colorbar": {
             "outlinewidth": 0,
             "ticks": ""
            },
            "colorscale": [
             [
              0,
              "#0d0887"
             ],
             [
              0.1111111111111111,
              "#46039f"
             ],
             [
              0.2222222222222222,
              "#7201a8"
             ],
             [
              0.3333333333333333,
              "#9c179e"
             ],
             [
              0.4444444444444444,
              "#bd3786"
             ],
             [
              0.5555555555555556,
              "#d8576b"
             ],
             [
              0.6666666666666666,
              "#ed7953"
             ],
             [
              0.7777777777777778,
              "#fb9f3a"
             ],
             [
              0.8888888888888888,
              "#fdca26"
             ],
             [
              1,
              "#f0f921"
             ]
            ],
            "type": "heatmapgl"
           }
          ],
          "histogram": [
           {
            "marker": {
             "pattern": {
              "fillmode": "overlay",
              "size": 10,
              "solidity": 0.2
             }
            },
            "type": "histogram"
           }
          ],
          "histogram2d": [
           {
            "colorbar": {
             "outlinewidth": 0,
             "ticks": ""
            },
            "colorscale": [
             [
              0,
              "#0d0887"
             ],
             [
              0.1111111111111111,
              "#46039f"
             ],
             [
              0.2222222222222222,
              "#7201a8"
             ],
             [
              0.3333333333333333,
              "#9c179e"
             ],
             [
              0.4444444444444444,
              "#bd3786"
             ],
             [
              0.5555555555555556,
              "#d8576b"
             ],
             [
              0.6666666666666666,
              "#ed7953"
             ],
             [
              0.7777777777777778,
              "#fb9f3a"
             ],
             [
              0.8888888888888888,
              "#fdca26"
             ],
             [
              1,
              "#f0f921"
             ]
            ],
            "type": "histogram2d"
           }
          ],
          "histogram2dcontour": [
           {
            "colorbar": {
             "outlinewidth": 0,
             "ticks": ""
            },
            "colorscale": [
             [
              0,
              "#0d0887"
             ],
             [
              0.1111111111111111,
              "#46039f"
             ],
             [
              0.2222222222222222,
              "#7201a8"
             ],
             [
              0.3333333333333333,
              "#9c179e"
             ],
             [
              0.4444444444444444,
              "#bd3786"
             ],
             [
              0.5555555555555556,
              "#d8576b"
             ],
             [
              0.6666666666666666,
              "#ed7953"
             ],
             [
              0.7777777777777778,
              "#fb9f3a"
             ],
             [
              0.8888888888888888,
              "#fdca26"
             ],
             [
              1,
              "#f0f921"
             ]
            ],
            "type": "histogram2dcontour"
           }
          ],
          "mesh3d": [
           {
            "colorbar": {
             "outlinewidth": 0,
             "ticks": ""
            },
            "type": "mesh3d"
           }
          ],
          "parcoords": [
           {
            "line": {
             "colorbar": {
              "outlinewidth": 0,
              "ticks": ""
             }
            },
            "type": "parcoords"
           }
          ],
          "pie": [
           {
            "automargin": true,
            "type": "pie"
           }
          ],
          "scatter": [
           {
            "fillpattern": {
             "fillmode": "overlay",
             "size": 10,
             "solidity": 0.2
            },
            "type": "scatter"
           }
          ],
          "scatter3d": [
           {
            "line": {
             "colorbar": {
              "outlinewidth": 0,
              "ticks": ""
             }
            },
            "marker": {
             "colorbar": {
              "outlinewidth": 0,
              "ticks": ""
             }
            },
            "type": "scatter3d"
           }
          ],
          "scattercarpet": [
           {
            "marker": {
             "colorbar": {
              "outlinewidth": 0,
              "ticks": ""
             }
            },
            "type": "scattercarpet"
           }
          ],
          "scattergeo": [
           {
            "marker": {
             "colorbar": {
              "outlinewidth": 0,
              "ticks": ""
             }
            },
            "type": "scattergeo"
           }
          ],
          "scattergl": [
           {
            "marker": {
             "colorbar": {
              "outlinewidth": 0,
              "ticks": ""
             }
            },
            "type": "scattergl"
           }
          ],
          "scattermapbox": [
           {
            "marker": {
             "colorbar": {
              "outlinewidth": 0,
              "ticks": ""
             }
            },
            "type": "scattermapbox"
           }
          ],
          "scatterpolar": [
           {
            "marker": {
             "colorbar": {
              "outlinewidth": 0,
              "ticks": ""
             }
            },
            "type": "scatterpolar"
           }
          ],
          "scatterpolargl": [
           {
            "marker": {
             "colorbar": {
              "outlinewidth": 0,
              "ticks": ""
             }
            },
            "type": "scatterpolargl"
           }
          ],
          "scatterternary": [
           {
            "marker": {
             "colorbar": {
              "outlinewidth": 0,
              "ticks": ""
             }
            },
            "type": "scatterternary"
           }
          ],
          "surface": [
           {
            "colorbar": {
             "outlinewidth": 0,
             "ticks": ""
            },
            "colorscale": [
             [
              0,
              "#0d0887"
             ],
             [
              0.1111111111111111,
              "#46039f"
             ],
             [
              0.2222222222222222,
              "#7201a8"
             ],
             [
              0.3333333333333333,
              "#9c179e"
             ],
             [
              0.4444444444444444,
              "#bd3786"
             ],
             [
              0.5555555555555556,
              "#d8576b"
             ],
             [
              0.6666666666666666,
              "#ed7953"
             ],
             [
              0.7777777777777778,
              "#fb9f3a"
             ],
             [
              0.8888888888888888,
              "#fdca26"
             ],
             [
              1,
              "#f0f921"
             ]
            ],
            "type": "surface"
           }
          ],
          "table": [
           {
            "cells": {
             "fill": {
              "color": "#EBF0F8"
             },
             "line": {
              "color": "white"
             }
            },
            "header": {
             "fill": {
              "color": "#C8D4E3"
             },
             "line": {
              "color": "white"
             }
            },
            "type": "table"
           }
          ]
         },
         "layout": {
          "annotationdefaults": {
           "arrowcolor": "#2a3f5f",
           "arrowhead": 0,
           "arrowwidth": 1
          },
          "autotypenumbers": "strict",
          "coloraxis": {
           "colorbar": {
            "outlinewidth": 0,
            "ticks": ""
           }
          },
          "colorscale": {
           "diverging": [
            [
             0,
             "#8e0152"
            ],
            [
             0.1,
             "#c51b7d"
            ],
            [
             0.2,
             "#de77ae"
            ],
            [
             0.3,
             "#f1b6da"
            ],
            [
             0.4,
             "#fde0ef"
            ],
            [
             0.5,
             "#f7f7f7"
            ],
            [
             0.6,
             "#e6f5d0"
            ],
            [
             0.7,
             "#b8e186"
            ],
            [
             0.8,
             "#7fbc41"
            ],
            [
             0.9,
             "#4d9221"
            ],
            [
             1,
             "#276419"
            ]
           ],
           "sequential": [
            [
             0,
             "#0d0887"
            ],
            [
             0.1111111111111111,
             "#46039f"
            ],
            [
             0.2222222222222222,
             "#7201a8"
            ],
            [
             0.3333333333333333,
             "#9c179e"
            ],
            [
             0.4444444444444444,
             "#bd3786"
            ],
            [
             0.5555555555555556,
             "#d8576b"
            ],
            [
             0.6666666666666666,
             "#ed7953"
            ],
            [
             0.7777777777777778,
             "#fb9f3a"
            ],
            [
             0.8888888888888888,
             "#fdca26"
            ],
            [
             1,
             "#f0f921"
            ]
           ],
           "sequentialminus": [
            [
             0,
             "#0d0887"
            ],
            [
             0.1111111111111111,
             "#46039f"
            ],
            [
             0.2222222222222222,
             "#7201a8"
            ],
            [
             0.3333333333333333,
             "#9c179e"
            ],
            [
             0.4444444444444444,
             "#bd3786"
            ],
            [
             0.5555555555555556,
             "#d8576b"
            ],
            [
             0.6666666666666666,
             "#ed7953"
            ],
            [
             0.7777777777777778,
             "#fb9f3a"
            ],
            [
             0.8888888888888888,
             "#fdca26"
            ],
            [
             1,
             "#f0f921"
            ]
           ]
          },
          "colorway": [
           "#636efa",
           "#EF553B",
           "#00cc96",
           "#ab63fa",
           "#FFA15A",
           "#19d3f3",
           "#FF6692",
           "#B6E880",
           "#FF97FF",
           "#FECB52"
          ],
          "font": {
           "color": "#2a3f5f"
          },
          "geo": {
           "bgcolor": "white",
           "lakecolor": "white",
           "landcolor": "#E5ECF6",
           "showlakes": true,
           "showland": true,
           "subunitcolor": "white"
          },
          "hoverlabel": {
           "align": "left"
          },
          "hovermode": "closest",
          "mapbox": {
           "style": "light"
          },
          "paper_bgcolor": "white",
          "plot_bgcolor": "#E5ECF6",
          "polar": {
           "angularaxis": {
            "gridcolor": "white",
            "linecolor": "white",
            "ticks": ""
           },
           "bgcolor": "#E5ECF6",
           "radialaxis": {
            "gridcolor": "white",
            "linecolor": "white",
            "ticks": ""
           }
          },
          "scene": {
           "xaxis": {
            "backgroundcolor": "#E5ECF6",
            "gridcolor": "white",
            "gridwidth": 2,
            "linecolor": "white",
            "showbackground": true,
            "ticks": "",
            "zerolinecolor": "white"
           },
           "yaxis": {
            "backgroundcolor": "#E5ECF6",
            "gridcolor": "white",
            "gridwidth": 2,
            "linecolor": "white",
            "showbackground": true,
            "ticks": "",
            "zerolinecolor": "white"
           },
           "zaxis": {
            "backgroundcolor": "#E5ECF6",
            "gridcolor": "white",
            "gridwidth": 2,
            "linecolor": "white",
            "showbackground": true,
            "ticks": "",
            "zerolinecolor": "white"
           }
          },
          "shapedefaults": {
           "line": {
            "color": "#2a3f5f"
           }
          },
          "ternary": {
           "aaxis": {
            "gridcolor": "white",
            "linecolor": "white",
            "ticks": ""
           },
           "baxis": {
            "gridcolor": "white",
            "linecolor": "white",
            "ticks": ""
           },
           "bgcolor": "#E5ECF6",
           "caxis": {
            "gridcolor": "white",
            "linecolor": "white",
            "ticks": ""
           }
          },
          "title": {
           "x": 0.05
          },
          "xaxis": {
           "automargin": true,
           "gridcolor": "white",
           "linecolor": "white",
           "ticks": "",
           "title": {
            "standoff": 15
           },
           "zerolinecolor": "white",
           "zerolinewidth": 2
          },
          "yaxis": {
           "automargin": true,
           "gridcolor": "white",
           "linecolor": "white",
           "ticks": "",
           "title": {
            "standoff": 15
           },
           "zerolinecolor": "white",
           "zerolinewidth": 2
          }
         }
        },
        "width": 700,
        "xaxis": {
         "anchor": "y",
         "autorange": true,
         "domain": [
          0,
          1
         ],
         "range": [
          -9.302479601593218,
          9.202501154632769
         ],
         "title": {
          "text": "TSNE 1"
         },
         "type": "linear"
        },
        "yaxis": {
         "anchor": "x",
         "autorange": true,
         "domain": [
          0,
          1
         ],
         "range": [
          -6.909917858439691,
          6.432893303233392
         ],
         "title": {
          "text": "TSNE 2"
         },
         "type": "linear"
        }
       }
      },
      "image/png": "[encoded data removed]",
      "text/html": [
       "<div>                            <div id=\"e354f2c4-2d85-40ed-afe0-0a95cd7aae27\" class=\"plotly-graph-div\" style=\"height:600px; width:700px;\"></div>            <script type=\"text/javascript\">                require([\"plotly\"], function(Plotly) {                    window.PLOTLYENV=window.PLOTLYENV || {};                                    if (document.getElementById(\"e354f2c4-2d85-40ed-afe0-0a95cd7aae27\")) {                    Plotly.newPlot(                        \"e354f2c4-2d85-40ed-afe0-0a95cd7aae27\",                        [{\"hovertemplate\":\"TSNE 1=%{x}<br>TSNE 2=%{y}<br>clusters=%{marker.color}<extra></extra>\",\"legendgroup\":\"\",\"marker\":{\"color\":[4,2,4,2,4,2,4,2,4,2,4,2,4,2,4,2,4,2,4,2,4,2,4,2,4,2,4,2,4,2,4,2,4,2,4,2,4,2,4,2,4,2,4,2,4,2,4,2,2,2,4,2,2,4,4,4,4,4,2,4,4,2,4,4,4,2,4,4,2,2,4,4,4,4,4,2,4,4,2,4,4,4,4,4,2,4,4,2,2,4,4,2,4,2,2,2,4,2,4,2,2,4,4,2,4,2,4,4,4,4,4,2,2,2,2,2,4,4,4,4,2,2,2,1,2,1,4,1,3,1,3,1,2,1,3,1,3,1,3,1,3,1,2,1,3,1,4,1,3,1,3,1,3,1,3,1,3,1,3,1,3,1,3,1,3,1,3,1,3,1,3,1,3,1,3,1,3,1,3,1,3,1,3,1,3,1,3,1,3,1,3,1,3,1,3,1,3,1,3,1],\"coloraxis\":\"coloraxis\",\"symbol\":\"circle\",\"size\":10},\"mode\":\"markers\",\"name\":\"\",\"orientation\":\"v\",\"showlegend\":false,\"x\":[-2.640448808670044,-3.703723430633545,-1.757359504699707,-4.17664098739624,-1.4744325876235962,-4.1441426277160645,-1.3315109014511108,-4.503805637359619,5.568850994110107,-4.001096725463867,5.622720718383789,-4.824820518493652,-0.23320871591567993,-4.115861415863037,-0.17166081070899963,-3.6726582050323486,-1.236621379852295,-3.3830645084381104,5.571635723114014,-4.816493034362793,-0.2114318311214447,-3.535522937774658,-0.6575395464897156,-3.4274110794067383,-0.313216894865036,-3.6665501594543457,-0.45838311314582825,-2.8940987586975098,-0.7956600189208984,-4.218003749847412,5.546483516693115,-3.8310389518737793,5.481959819793701,-3.9304981231689453,-0.4274817109107971,-3.980195999145508,-0.6934085488319397,-3.5145316123962402,-0.9308871626853943,-3.7304141521453857,3.065734624862671,-3.9325501918792725,5.881878852844238,-2.238034725189209,-0.01548011228442192,-3.0508768558502197,1.9901703596115112,-1.5245721340179443,-1.3988696336746216,-1.3676493167877197,1.9072527885437012,-2.144521951675415,-1.5876731872558594,7.409112453460693,1.78495192527771,5.997197151184082,2.040947198867798,7.902790069580078,-1.4098868370056152,6.591621398925781,7.984889507293701,-1.5115026235580444,3.3825366497039795,2.5649337768554688,7.661658763885498,-1.5191802978515625,1.590124487876892,3.3985774517059326,-1.5294835567474365,-1.1260669231414795,7.997460842132568,1.727360486984253,3.1289775371551514,3.1045968532562256,7.363580226898193,-1.5079717636108398,1.932032585144043,5.763854503631592,-0.9511380195617676,2.055657148361206,7.2017107009887695,-0.5285782814025879,7.917904376983643,1.8968256711959839,-1.064650297164917,6.301998615264893,2.92795991897583,-0.927648663520813,-0.4177257716655731,2.3637399673461914,3.5645816326141357,-1.1545648574829102,6.378572940826416,1.3397811651229858,0.14499352872371674,-1.434406042098999,2.2192976474761963,-0.6085988283157349,6.299549579620361,-1.3215508460998535,-0.2986021339893341,2.4572806358337402,8.051836013793945,-1.5459359884262085,6.512934684753418,-0.4003564417362213,3.5821638107299805,6.825929164886475,8.056112289428711,7.983657360076904,7.952073097229004,-0.7813587784767151,1.1659398078918457,-1.2420910596847534,-0.5938217639923096,-0.6364575624465942,3.598656415939331,2.7797293663024902,2.6807029247283936,2.819045305252075,-1.7021814584732056,1.2224029302597046,1.1901276111602783,-4.742072582244873,0.29350873827934265,-7.545140743255615,5.796048164367676,-4.827718257904053,5.780494213104248,-4.369992733001709,5.150450706481934,-4.358763217926025,0.31856995820999146,-7.35466194152832,3.4198551177978516,-8.059417724609375,2.9743306636810303,-4.392714500427246,3.375680446624756,-7.293588161468506,3.3147811889648438,-5.041330337524414,0.4698646664619446,-7.938567161560059,3.5668787956237793,-5.242502212524414,5.784560680389404,-7.473890781402588,1.9237078428268433,-5.000550270080566,4.932408809661865,-4.851430892944336,2.8186025619506836,-7.284881114959717,2.998901128768921,-8.14570426940918,4.40590763092041,-7.674749851226807,4.227146148681641,-7.503620624542236,3.145547389984131,-7.888610363006592,3.4237570762634277,-8.152219772338867,5.378937244415283,-7.389006614685059,4.825984477996826,-8.15609073638916,2.1643102169036865,-4.719234943389893,4.625638008117676,-4.937937259674072,4.374583721160889,-5.2459540367126465,3.1962666511535645,-7.968100547790527,5.659237861633301,-4.8705573081970215,5.6673359870910645,-5.4242844581604,2.320927858352661,-7.957160949707031,4.829469680786133,-8.011778831481934,2.383126735687256,-5.703930854797363,3.2238428592681885,-5.200822830200195,2.7075343132019043,-7.930587291717529,2.4035634994506836,-7.799623966217041,3.6608195304870605,-7.940590858459473,3.0084714889526367,-7.882371425628662,2.9290008544921875,-6.769172191619873,3.3358709812164307,-6.851461410522461],\"xaxis\":\"x\",\"y\":[1.7704423666000366,0.9409763216972351,-4.241292953491211,-2.046624183654785,-3.436474561691284,-2.0190346240997314,-4.557777404785156,-2.1721010208129883,-2.965402364730835,-2.1490349769592285,-2.9510645866394043,-2.4654786586761475,-5.5605854988098145,-2.0271825790405273,-2.9541821479797363,1.0025304555892944,-3.7535054683685303,1.2847342491149902,-2.0240275859832764,-2.4614109992980957,-2.710141658782959,1.1745259761810303,-5.178709506988525,1.3237574100494385,-5.401336669921875,1.080818772315979,-4.597409725189209,1.8749138116836548,-4.284830570220947,-2.011482000350952,-2.905850648880005,-1.8550783395767212,-2.8294036388397217,0.8070392608642578,-5.1779985427856445,-1.878296136856079,-4.756860256195068,-1.8761931657791138,-4.132425308227539,-1.7659553289413452,-6.061489105224609,0.8765208125114441,-0.9739868640899658,-1.4757474660873413,-4.864255905151367,-1.5876357555389404,-4.634653568267822,-1.3114814758300781,-1.535231351852417,-1.6418821811676025,-4.472812652587891,2.727377414703369,-1.308488130569458,-1.0860296487808228,-4.42337703704834,-0.662854790687561,-4.513056755065918,-1.7241350412368774,-0.9562326073646545,-0.6994554400444031,-1.7066885232925415,3.9381730556488037,-5.815044403076172,-4.774032115936279,-1.324915885925293,3.9474079608917236,-3.6747071743011475,-5.859445571899414,3.949589252471924,-1.255106806755066,-1.6687062978744507,-3.9069230556488037,-5.426412105560303,-5.327887058258057,-0.9560914635658264,4.155404567718506,-3.5365004539489746,0.1464519202709198,0.08580644428730011,-3.7462425231933594,-0.7927407622337341,3.1344025135040283,-1.543796420097351,-3.555752992630005,0.2221609354019165,-0.17179636657238007,-4.552271842956543,0.274204283952713,-1.1439173221588135,-3.640322685241699,-5.742267608642578,4.415955543518066,0.02022998221218586,-1.859309434890747,-0.713205873966217,4.349144458770752,-3.347447156906128,-0.06459522992372513,0.15062646567821503,4.371856689453125,0.5667308568954468,-3.411959171295166,-1.4752507209777832,4.397311687469482,0.00936378538608551,0.6413187980651855,-5.662964344024658,-0.2368500977754593,-1.492392659187317,-1.4063301086425781,-1.3620134592056274,0.6049997210502625,-1.5176115036010742,4.443307399749756,0.7310666441917419,0.6788016557693481,-5.5013909339904785,-3.476336717605591,-3.115445613861084,-3.456857204437256,4.545717239379883,-1.3998587131500244,-1.9937056303024292,4.287503719329834,0.8916120529174805,0.3669056296348572,1.3753262758255005,4.227534770965576,2.551483392715454,4.665032863616943,2.9897098541259766,4.637514114379883,0.8131670355796814,0.31607621908187866,4.559422969818115,0.6682824492454529,0.12827689945697784,4.961469650268555,4.582813262939453,0.39999401569366455,-0.009437482804059982,4.3928632736206055,0.7244074940681458,0.7771999835968018,4.4294867515563965,4.360807418823242,1.5828828811645508,0.5239723920822144,0.7416595816612244,4.473563194274902,3.044872999191284,4.418489456176758,0.2573961615562439,0.5874822735786438,0.17995791137218475,0.8533470034599304,3.705120801925659,0.6353005170822144,3.874183177947998,0.5173914432525635,-1.837264895439148,0.7954880595207214,4.539026260375977,1.084025263786316,2.488337993621826,0.9411101341247559,3.0548033714294434,1.3542444705963135,1.0080121755599976,5.532761096954346,3.2887704372406006,5.362700462341309,3.546574115753174,4.503953456878662,0.31022578477859497,1.3358066082000732,2.5833327770233154,5.52794885635376,2.5899178981781006,4.636256694793701,1.2877507209777832,1.8715484142303467,2.947521924972534,1.862439513206482,1.3311477899551392,4.6306681632995605,0.8522643446922302,5.5844645500183105,1.3292006254196167,2.223888635635376,1.4177541732788086,2.2378358840942383,3.211143970489502,2.525658369064331,1.582572340965271,2.6340696811676025,1.6886252164840698,4.685043811798096,2.9944677352905273,4.6265764236450195],\"yaxis\":\"y\",\"type\":\"scatter\"}],                        {\"template\":{\"data\":{\"histogram2dcontour\":[{\"type\":\"histogram2dcontour\",\"colorbar\":{\"outlinewidth\":0,\"ticks\":\"\"},\"colorscale\":[[0.0,\"#0d0887\"],[0.1111111111111111,\"#46039f\"],[0.2222222222222222,\"#7201a8\"],[0.3333333333333333,\"#9c179e\"],[0.4444444444444444,\"#bd3786\"],[0.5555555555555556,\"#d8576b\"],[0.6666666666666666,\"#ed7953\"],[0.7777777777777778,\"#fb9f3a\"],[0.8888888888888888,\"#fdca26\"],[1.0,\"#f0f921\"]]}],\"choropleth\":[{\"type\":\"choropleth\",\"colorbar\":{\"outlinewidth\":0,\"ticks\":\"\"}}],\"histogram2d\":[{\"type\":\"histogram2d\",\"colorbar\":{\"outlinewidth\":0,\"ticks\":\"\"},\"colorscale\":[[0.0,\"#0d0887\"],[0.1111111111111111,\"#46039f\"],[0.2222222222222222,\"#7201a8\"],[0.3333333333333333,\"#9c179e\"],[0.4444444444444444,\"#bd3786\"],[0.5555555555555556,\"#d8576b\"],[0.6666666666666666,\"#ed7953\"],[0.7777777777777778,\"#fb9f3a\"],[0.8888888888888888,\"#fdca26\"],[1.0,\"#f0f921\"]]}],\"heatmap\":[{\"type\":\"heatmap\",\"colorbar\":{\"outlinewidth\":0,\"ticks\":\"\"},\"colorscale\":[[0.0,\"#0d0887\"],[0.1111111111111111,\"#46039f\"],[0.2222222222222222,\"#7201a8\"],[0.3333333333333333,\"#9c179e\"],[0.4444444444444444,\"#bd3786\"],[0.5555555555555556,\"#d8576b\"],[0.6666666666666666,\"#ed7953\"],[0.7777777777777778,\"#fb9f3a\"],[0.8888888888888888,\"#fdca26\"],[1.0,\"#f0f921\"]]}],\"heatmapgl\":[{\"type\":\"heatmapgl\",\"colorbar\":{\"outlinewidth\":0,\"ticks\":\"\"},\"colorscale\":[[0.0,\"#0d0887\"],[0.1111111111111111,\"#46039f\"],[0.2222222222222222,\"#7201a8\"],[0.3333333333333333,\"#9c179e\"],[0.4444444444444444,\"#bd3786\"],[0.5555555555555556,\"#d8576b\"],[0.6666666666666666,\"#ed7953\"],[0.7777777777777778,\"#fb9f3a\"],[0.8888888888888888,\"#fdca26\"],[1.0,\"#f0f921\"]]}],\"contourcarpet\":[{\"type\":\"contourcarpet\",\"colorbar\":{\"outlinewidth\":0,\"ticks\":\"\"}}],\"contour\":[{\"type\":\"contour\",\"colorbar\":{\"outlinewidth\":0,\"ticks\":\"\"},\"colorscale\":[[0.0,\"#0d0887\"],[0.1111111111111111,\"#46039f\"],[0.2222222222222222,\"#7201a8\"],[0.3333333333333333,\"#9c179e\"],[0.4444444444444444,\"#bd3786\"],[0.5555555555555556,\"#d8576b\"],[0.6666666666666666,\"#ed7953\"],[0.7777777777777778,\"#fb9f3a\"],[0.8888888888888888,\"#fdca26\"],[1.0,\"#f0f921\"]]}],\"surface\":[{\"type\":\"surface\",\"colorbar\":{\"outlinewidth\":0,\"ticks\":\"\"},\"colorscale\":[[0.0,\"#0d0887\"],[0.1111111111111111,\"#46039f\"],[0.2222222222222222,\"#7201a8\"],[0.3333333333333333,\"#9c179e\"],[0.4444444444444444,\"#bd3786\"],[0.5555555555555556,\"#d8576b\"],[0.6666666666666666,\"#ed7953\"],[0.7777777777777778,\"#fb9f3a\"],[0.8888888888888888,\"#fdca26\"],[1.0,\"#f0f921\"]]}],\"mesh3d\":[{\"type\":\"mesh3d\",\"colorbar\":{\"outlinewidth\":0,\"ticks\":\"\"}}],\"scatter\":[{\"fillpattern\":{\"fillmode\":\"overlay\",\"size\":10,\"solidity\":0.2},\"type\":\"scatter\"}],\"parcoords\":[{\"type\":\"parcoords\",\"line\":{\"colorbar\":{\"outlinewidth\":0,\"ticks\":\"\"}}}],\"scatterpolargl\":[{\"type\":\"scatterpolargl\",\"marker\":{\"colorbar\":{\"outlinewidth\":0,\"ticks\":\"\"}}}],\"bar\":[{\"error_x\":{\"color\":\"#2a3f5f\"},\"error_y\":{\"color\":\"#2a3f5f\"},\"marker\":{\"line\":{\"color\":\"#E5ECF6\",\"width\":0.5},\"pattern\":{\"fillmode\":\"overlay\",\"size\":10,\"solidity\":0.2}},\"type\":\"bar\"}],\"scattergeo\":[{\"type\":\"scattergeo\",\"marker\":{\"colorbar\":{\"outlinewidth\":0,\"ticks\":\"\"}}}],\"scatterpolar\":[{\"type\":\"scatterpolar\",\"marker\":{\"colorbar\":{\"outlinewidth\":0,\"ticks\":\"\"}}}],\"histogram\":[{\"marker\":{\"pattern\":{\"fillmode\":\"overlay\",\"size\":10,\"solidity\":0.2}},\"type\":\"histogram\"}],\"scattergl\":[{\"type\":\"scattergl\",\"marker\":{\"colorbar\":{\"outlinewidth\":0,\"ticks\":\"\"}}}],\"scatter3d\":[{\"type\":\"scatter3d\",\"line\":{\"colorbar\":{\"outlinewidth\":0,\"ticks\":\"\"}},\"marker\":{\"colorbar\":{\"outlinewidth\":0,\"ticks\":\"\"}}}],\"scattermapbox\":[{\"type\":\"scattermapbox\",\"marker\":{\"colorbar\":{\"outlinewidth\":0,\"ticks\":\"\"}}}],\"scatterternary\":[{\"type\":\"scatterternary\",\"marker\":{\"colorbar\":{\"outlinewidth\":0,\"ticks\":\"\"}}}],\"scattercarpet\":[{\"type\":\"scattercarpet\",\"marker\":{\"colorbar\":{\"outlinewidth\":0,\"ticks\":\"\"}}}],\"carpet\":[{\"aaxis\":{\"endlinecolor\":\"#2a3f5f\",\"gridcolor\":\"white\",\"linecolor\":\"white\",\"minorgridcolor\":\"white\",\"startlinecolor\":\"#2a3f5f\"},\"baxis\":{\"endlinecolor\":\"#2a3f5f\",\"gridcolor\":\"white\",\"linecolor\":\"white\",\"minorgridcolor\":\"white\",\"startlinecolor\":\"#2a3f5f\"},\"type\":\"carpet\"}],\"table\":[{\"cells\":{\"fill\":{\"color\":\"#EBF0F8\"},\"line\":{\"color\":\"white\"}},\"header\":{\"fill\":{\"color\":\"#C8D4E3\"},\"line\":{\"color\":\"white\"}},\"type\":\"table\"}],\"barpolar\":[{\"marker\":{\"line\":{\"color\":\"#E5ECF6\",\"width\":0.5},\"pattern\":{\"fillmode\":\"overlay\",\"size\":10,\"solidity\":0.2}},\"type\":\"barpolar\"}],\"pie\":[{\"automargin\":true,\"type\":\"pie\"}]},\"layout\":{\"autotypenumbers\":\"strict\",\"colorway\":[\"#636efa\",\"#EF553B\",\"#00cc96\",\"#ab63fa\",\"#FFA15A\",\"#19d3f3\",\"#FF6692\",\"#B6E880\",\"#FF97FF\",\"#FECB52\"],\"font\":{\"color\":\"#2a3f5f\"},\"hovermode\":\"closest\",\"hoverlabel\":{\"align\":\"left\"},\"paper_bgcolor\":\"white\",\"plot_bgcolor\":\"#E5ECF6\",\"polar\":{\"bgcolor\":\"#E5ECF6\",\"angularaxis\":{\"gridcolor\":\"white\",\"linecolor\":\"white\",\"ticks\":\"\"},\"radialaxis\":{\"gridcolor\":\"white\",\"linecolor\":\"white\",\"ticks\":\"\"}},\"ternary\":{\"bgcolor\":\"#E5ECF6\",\"aaxis\":{\"gridcolor\":\"white\",\"linecolor\":\"white\",\"ticks\":\"\"},\"baxis\":{\"gridcolor\":\"white\",\"linecolor\":\"white\",\"ticks\":\"\"},\"caxis\":{\"gridcolor\":\"white\",\"linecolor\":\"white\",\"ticks\":\"\"}},\"coloraxis\":{\"colorbar\":{\"outlinewidth\":0,\"ticks\":\"\"}},\"colorscale\":{\"sequential\":[[0.0,\"#0d0887\"],[0.1111111111111111,\"#46039f\"],[0.2222222222222222,\"#7201a8\"],[0.3333333333333333,\"#9c179e\"],[0.4444444444444444,\"#bd3786\"],[0.5555555555555556,\"#d8576b\"],[0.6666666666666666,\"#ed7953\"],[0.7777777777777778,\"#fb9f3a\"],[0.8888888888888888,\"#fdca26\"],[1.0,\"#f0f921\"]],\"sequentialminus\":[[0.0,\"#0d0887\"],[0.1111111111111111,\"#46039f\"],[0.2222222222222222,\"#7201a8\"],[0.3333333333333333,\"#9c179e\"],[0.4444444444444444,\"#bd3786\"],[0.5555555555555556,\"#d8576b\"],[0.6666666666666666,\"#ed7953\"],[0.7777777777777778,\"#fb9f3a\"],[0.8888888888888888,\"#fdca26\"],[1.0,\"#f0f921\"]],\"diverging\":[[0,\"#8e0152\"],[0.1,\"#c51b7d\"],[0.2,\"#de77ae\"],[0.3,\"#f1b6da\"],[0.4,\"#fde0ef\"],[0.5,\"#f7f7f7\"],[0.6,\"#e6f5d0\"],[0.7,\"#b8e186\"],[0.8,\"#7fbc41\"],[0.9,\"#4d9221\"],[1,\"#276419\"]]},\"xaxis\":{\"gridcolor\":\"white\",\"linecolor\":\"white\",\"ticks\":\"\",\"title\":{\"standoff\":15},\"zerolinecolor\":\"white\",\"automargin\":true,\"zerolinewidth\":2},\"yaxis\":{\"gridcolor\":\"white\",\"linecolor\":\"white\",\"ticks\":\"\",\"title\":{\"standoff\":15},\"zerolinecolor\":\"white\",\"automargin\":true,\"zerolinewidth\":2},\"scene\":{\"xaxis\":{\"backgroundcolor\":\"#E5ECF6\",\"gridcolor\":\"white\",\"linecolor\":\"white\",\"showbackground\":true,\"ticks\":\"\",\"zerolinecolor\":\"white\",\"gridwidth\":2},\"yaxis\":{\"backgroundcolor\":\"#E5ECF6\",\"gridcolor\":\"white\",\"linecolor\":\"white\",\"showbackground\":true,\"ticks\":\"\",\"zerolinecolor\":\"white\",\"gridwidth\":2},\"zaxis\":{\"backgroundcolor\":\"#E5ECF6\",\"gridcolor\":\"white\",\"linecolor\":\"white\",\"showbackground\":true,\"ticks\":\"\",\"zerolinecolor\":\"white\",\"gridwidth\":2}},\"shapedefaults\":{\"line\":{\"color\":\"#2a3f5f\"}},\"annotationdefaults\":{\"arrowcolor\":\"#2a3f5f\",\"arrowhead\":0,\"arrowwidth\":1},\"geo\":{\"bgcolor\":\"white\",\"landcolor\":\"#E5ECF6\",\"subunitcolor\":\"white\",\"showland\":true,\"showlakes\":true,\"lakecolor\":\"white\"},\"title\":{\"x\":0.05},\"mapbox\":{\"style\":\"light\"}}},\"xaxis\":{\"anchor\":\"y\",\"domain\":[0.0,1.0],\"title\":{\"text\":\"TSNE 1\"}},\"yaxis\":{\"anchor\":\"x\",\"domain\":[0.0,1.0],\"title\":{\"text\":\"TSNE 2\"}},\"coloraxis\":{\"colorbar\":{\"title\":{\"text\":\"clusters\"}},\"colorscale\":[[0.0,\"#0d0887\"],[0.1111111111111111,\"#46039f\"],[0.2222222222222222,\"#7201a8\"],[0.3333333333333333,\"#9c179e\"],[0.4444444444444444,\"#bd3786\"],[0.5555555555555556,\"#d8576b\"],[0.6666666666666666,\"#ed7953\"],[0.7777777777777778,\"#fb9f3a\"],[0.8888888888888888,\"#fdca26\"],[1.0,\"#f0f921\"]]},\"legend\":{\"tracegroupgap\":0},\"margin\":{\"t\":60},\"height\":600,\"width\":700},                        {\"responsive\": true}                    ).then(function(){\n",
       "                            \n",
       "var gd = document.getElementById('e354f2c4-2d85-40ed-afe0-0a95cd7aae27');\n",
       "var x = new MutationObserver(function (mutations, observer) {{\n",
       "        var display = window.getComputedStyle(gd).display;\n",
       "        if (!display || display === 'none') {{\n",
       "            console.log([gd, 'removed!']);\n",
       "            Plotly.purge(gd);\n",
       "            observer.disconnect();\n",
       "        }}\n",
       "}});\n",
       "\n",
       "// Listen for the removal of the full notebook cells\n",
       "var notebookContainer = gd.closest('#notebook-container');\n",
       "if (notebookContainer) {{\n",
       "    x.observe(notebookContainer, {childList: true});\n",
       "}}\n",
       "\n",
       "// Listen for the clearing of the current output cell\n",
       "var outputEl = gd.closest('.output');\n",
       "if (outputEl) {{\n",
       "    x.observe(outputEl, {childList: true});\n",
       "}}\n",
       "\n",
       "                        })                };                });            </script>        </div>"
      ]
     },
     "metadata": {},
     "output_type": "display_data"
    }
   ],
   "source": [
    "fig = px.scatter(\n",
    "    plot_df,\n",
    "    x='TSNE 1',\n",
    "    y='TSNE 2',\n",
    "    color='clusters',\n",
    "    height=600,\n",
    "    width=700\n",
    ")\n",
    "fig.update_traces(marker= dict(size=10))\n",
    "fig.show()"
   ]
  },
  {
   "cell_type": "code",
   "execution_count": null,
   "id": "d1f7ebe2-03ad-4d95-adf9-dd4504126265",
   "metadata": {},
   "outputs": [],
   "source": []
  }
 ],
 "metadata": {
  "kernelspec": {
   "display_name": "Python 3 (ipykernel)",
   "language": "python",
   "name": "python3"
  },
  "language_info": {
   "codemirror_mode": {
    "name": "ipython",
    "version": 3
   },
   "file_extension": ".py",
   "mimetype": "text/x-python",
   "name": "python",
   "nbconvert_exporter": "python",
   "pygments_lexer": "ipython3",
   "version": "3.11.7"
  }
 },
 "nbformat": 4,
 "nbformat_minor": 5
}
