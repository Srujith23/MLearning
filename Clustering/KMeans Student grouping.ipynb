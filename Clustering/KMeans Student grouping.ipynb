{
 "cells": [
  {
   "cell_type": "code",
   "execution_count": 18,
   "id": "dcc6499a-36af-4d3f-bd87-7b737c8edb9b",
   "metadata": {},
   "outputs": [],
   "source": [
    "import pandas as pd\n",
    "import numpy as np\n",
    "import seaborn as sns\n",
    "from sklearn.cluster import KMeans\n",
    "from sklearn.metrics import silhouette_score\n",
    "from sklearn.preprocessing import StandardScaler\n",
    "import matplotlib.pyplot as plt"
   ]
  },
  {
   "cell_type": "code",
   "execution_count": 2,
   "id": "cc49ff12-1b03-4e93-ae05-4b5761cd4669",
   "metadata": {},
   "outputs": [],
   "source": [
    "df = pd.read_csv('../../Datasets/student_clustering.csv')"
   ]
  },
  {
   "cell_type": "code",
   "execution_count": 3,
   "id": "99f80ac8-1549-40c7-9b75-a398bbea8d3b",
   "metadata": {},
   "outputs": [
    {
     "data": {
      "text/html": [
       "<div>\n",
       "<style scoped>\n",
       "    .dataframe tbody tr th:only-of-type {\n",
       "        vertical-align: middle;\n",
       "    }\n",
       "\n",
       "    .dataframe tbody tr th {\n",
       "        vertical-align: top;\n",
       "    }\n",
       "\n",
       "    .dataframe thead th {\n",
       "        text-align: right;\n",
       "    }\n",
       "</style>\n",
       "<table border=\"1\" class=\"dataframe\">\n",
       "  <thead>\n",
       "    <tr style=\"text-align: right;\">\n",
       "      <th></th>\n",
       "      <th>cgpa</th>\n",
       "      <th>iq</th>\n",
       "    </tr>\n",
       "  </thead>\n",
       "  <tbody>\n",
       "    <tr>\n",
       "      <th>0</th>\n",
       "      <td>5.13</td>\n",
       "      <td>88</td>\n",
       "    </tr>\n",
       "    <tr>\n",
       "      <th>1</th>\n",
       "      <td>5.90</td>\n",
       "      <td>113</td>\n",
       "    </tr>\n",
       "    <tr>\n",
       "      <th>2</th>\n",
       "      <td>8.36</td>\n",
       "      <td>93</td>\n",
       "    </tr>\n",
       "    <tr>\n",
       "      <th>3</th>\n",
       "      <td>8.27</td>\n",
       "      <td>97</td>\n",
       "    </tr>\n",
       "    <tr>\n",
       "      <th>4</th>\n",
       "      <td>5.45</td>\n",
       "      <td>110</td>\n",
       "    </tr>\n",
       "  </tbody>\n",
       "</table>\n",
       "</div>"
      ],
      "text/plain": [
       "   cgpa   iq\n",
       "0  5.13   88\n",
       "1  5.90  113\n",
       "2  8.36   93\n",
       "3  8.27   97\n",
       "4  5.45  110"
      ]
     },
     "execution_count": 3,
     "metadata": {},
     "output_type": "execute_result"
    }
   ],
   "source": [
    "df.head()"
   ]
  },
  {
   "cell_type": "code",
   "execution_count": 6,
   "id": "6fd8105c-7330-436f-899f-c9d1cd3ae4a9",
   "metadata": {},
   "outputs": [
    {
     "data": {
      "text/plain": [
       "cgpa    0\n",
       "iq      0\n",
       "dtype: int64"
      ]
     },
     "execution_count": 6,
     "metadata": {},
     "output_type": "execute_result"
    }
   ],
   "source": [
    "df.isnull().sum()"
   ]
  },
  {
   "cell_type": "code",
   "execution_count": 9,
   "id": "cd231f36-e9c7-43b3-b990-8d9e0cf69466",
   "metadata": {},
   "outputs": [
    {
     "data": {
      "text/plain": [
       "<Axes: xlabel='cgpa', ylabel='iq'>"
      ]
     },
     "execution_count": 9,
     "metadata": {},
     "output_type": "execute_result"
    },
    {
     "data": {
      "image/png": "[encoded data removed]",
      "text/plain": [
       "<Figure size 640x480 with 1 Axes>"
      ]
     },
     "metadata": {},
     "output_type": "display_data"
    }
   ],
   "source": [
    "sns.scatterplot(x=df['cgpa'], y=df['iq'])"
   ]
  },
  {
   "cell_type": "code",
   "execution_count": 10,
   "id": "49dedc55-5d27-42af-8565-771b52828b56",
   "metadata": {},
   "outputs": [],
   "source": [
    "scaler = StandardScaler()"
   ]
  },
  {
   "cell_type": "code",
   "execution_count": 11,
   "id": "1b243382-3443-4f12-9bb5-f3a88742630c",
   "metadata": {},
   "outputs": [],
   "source": [
    "df_scaled = scaler.fit_transform(df)"
   ]
  },
  {
   "cell_type": "code",
   "execution_count": 12,
   "id": "91f32479-f459-4747-8b7a-b8a5cff0cf7a",
   "metadata": {},
   "outputs": [
    {
     "data": {
      "text/plain": [
       "array([[-1.14404869, -1.15364097],\n",
       "       [-0.6687506 ,  0.9071682 ],\n",
       "       [ 0.84973424, -0.74147914],\n",
       "       [ 0.79417991, -0.41174967],\n",
       "       [-0.94652221,  0.6598711 ],\n",
       "       [-0.681096  ,  0.57743873],\n",
       "       [ 0.88059775, -0.32931731],\n",
       "       [ 1.12133315,  1.07203293],\n",
       "       [-0.73665032,  0.6598711 ],\n",
       "       [ 0.68307127, -0.65904677],\n",
       "       [-1.47120193, -1.31850571],\n",
       "       [-0.54529655,  0.6598711 ],\n",
       "       [ 0.72628018, -0.41174967],\n",
       "       [-1.22429383, -1.15364097],\n",
       "       [-0.78603195,  0.49500636],\n",
       "       [ 0.81887072, -0.57661441],\n",
       "       [-0.9156587 ,  0.74230346],\n",
       "       [ 0.54727181, -0.90634387],\n",
       "       [-0.57616006,  0.74230346],\n",
       "       [-0.70578681,  0.9071682 ],\n",
       "       [ 0.30036371, -0.32931731],\n",
       "       [-1.31071166, -1.31850571],\n",
       "       [ 0.49171749, -0.82391151],\n",
       "       [-1.36009328, -1.23607334],\n",
       "       [-1.24898464, -1.15364097],\n",
       "       [ 0.58430803, -0.32931731],\n",
       "       [-1.31071166, -1.23607334],\n",
       "       [ 1.35589585,  1.4017624 ],\n",
       "       [ 0.65220775, -0.65904677],\n",
       "       [-0.95886762,  0.33014163],\n",
       "       [ 1.15836936,  1.23689766],\n",
       "       [-0.60085087,  0.82473583],\n",
       "       [ 1.13985126,  1.31933003],\n",
       "       [-1.02676735,  0.33014163],\n",
       "       [ 0.48554478, -0.49418204],\n",
       "       [ 0.62751694, -0.49418204],\n",
       "       [ 0.97318829,  1.31933003],\n",
       "       [-0.66257789,  0.49500636],\n",
       "       [-0.95269491, -1.48337044],\n",
       "       [-0.87244978,  0.9071682 ],\n",
       "       [-1.01442194, -1.40093807],\n",
       "       [ 0.89294315, -0.49418204],\n",
       "       [ 0.63986235, -0.74147914],\n",
       "       [-1.03294005, -1.31850571],\n",
       "       [ 1.22009639,  1.1544653 ],\n",
       "       [ 1.10898774,  1.1544653 ],\n",
       "       [ 0.71393478, -0.65904677],\n",
       "       [-0.36011547,  0.49500636],\n",
       "       [ 0.90528856,  1.4017624 ],\n",
       "       [-0.81072276,  0.57743873],\n",
       "       [-1.13787599, -1.56580281],\n",
       "       [-1.25515734, -1.31850571],\n",
       "       [ 1.11516045,  1.1544653 ],\n",
       "       [ 0.70158937, -0.49418204],\n",
       "       [ 1.12750585,  1.07203293],\n",
       "       [-0.57616006,  0.49500636],\n",
       "       [-0.69961411,  0.74230346],\n",
       "       [ 1.17071477,  1.07203293],\n",
       "       [-0.6872687 ,  0.57743873],\n",
       "       [ 1.28799612,  1.23689766],\n",
       "       [-0.59467817,  0.1652769 ],\n",
       "       [ 0.83738883, -0.49418204],\n",
       "       [ 1.02874261, -0.57661441],\n",
       "       [ 1.19540558,  1.31933003],\n",
       "       [-1.09466707, -1.23607334],\n",
       "       [ 1.09046964,  0.9071682 ],\n",
       "       [ 0.95467018, -0.74147914],\n",
       "       [-1.27984815, -1.40093807],\n",
       "       [-0.74899573,  0.74230346],\n",
       "       [ 0.80652532, -0.57661441],\n",
       "       [-0.56998736,  0.57743873],\n",
       "       [ 1.06577883,  1.1544653 ],\n",
       "       [ 0.58430803, -0.65904677],\n",
       "       [-1.05145816, -1.56580281],\n",
       "       [-0.88479519,  0.57743873],\n",
       "       [ 1.15836936,  1.31933003],\n",
       "       [-0.72430492,  0.82473583],\n",
       "       [ 1.42996828,  1.23689766],\n",
       "       [-1.13170329, -1.15364097],\n",
       "       [ 1.07195153, -0.82391151],\n",
       "       [ 0.71393478, -0.90634387],\n",
       "       [ 1.2509599 ,  1.56662713],\n",
       "       [-0.93417681,  0.74230346],\n",
       "       [-1.28602085, -1.40093807],\n",
       "       [ 1.22626909,  1.1544653 ],\n",
       "       [-1.29219356, -1.15364097],\n",
       "       [ 1.2447872 ,  1.23689766],\n",
       "       [-0.76751384,  0.57743873],\n",
       "       [ 1.09664234,  1.23689766],\n",
       "       [-0.73047762,  0.49500636],\n",
       "       [ 1.10898774,  1.23689766],\n",
       "       [ 1.38675936,  0.98960056],\n",
       "       [ 0.75097099, -0.82391151],\n",
       "       [-1.19343032, -1.31850571],\n",
       "       [ 1.04108802, -0.57661441],\n",
       "       [ 0.73862559, -0.65904677],\n",
       "       [ 1.26330531,  1.31933003],\n",
       "       [ 1.0040518 , -0.57661441],\n",
       "       [-1.23663923, -0.90634387],\n",
       "       [ 1.32503233,  1.31933003],\n",
       "       [-0.681096  ,  0.6598711 ],\n",
       "       [-1.21812113, -1.31850571],\n",
       "       [-1.25515734, -1.15364097],\n",
       "       [ 1.18923288,  1.4017624 ],\n",
       "       [-1.24898464, -1.07120861],\n",
       "       [-1.31688437, -1.31850571],\n",
       "       [ 0.62134424, -0.82391151],\n",
       "       [-1.37243869, -0.98877624],\n",
       "       [ 1.2324418 ,  1.31933003],\n",
       "       [ 1.26330531,  1.31933003],\n",
       "       [ 0.67689856, -0.65904677],\n",
       "       [ 1.15836936,  1.23689766],\n",
       "       [-0.66257789,  0.57743873],\n",
       "       [-0.81072276,  0.74230346],\n",
       "       [ 0.78800721, -0.90634387],\n",
       "       [ 1.17688747,  1.31933003],\n",
       "       [ 0.78183451, -0.57661441],\n",
       "       [-0.76751384,  0.49500636],\n",
       "       [ 1.22626909,  1.23689766],\n",
       "       [-1.23663923, -1.23607334],\n",
       "       [-1.36009328, -1.23607334],\n",
       "       [-0.79837735,  0.57743873],\n",
       "       [ 0.87442505, -0.74147914],\n",
       "       [ 1.07195153,  1.4017624 ],\n",
       "       [ 0.5287537 , -0.41174967],\n",
       "       [-1.10083978, -1.40093807],\n",
       "       [ 0.67689856, -0.32931731],\n",
       "       [-0.57616006,  0.57743873],\n",
       "       [-1.19343032, -1.23607334],\n",
       "       [ 0.78183451, -0.49418204],\n",
       "       [ 0.81269802, -0.74147914],\n",
       "       [-0.52060573,  0.74230346],\n",
       "       [-1.21812113, -1.56580281],\n",
       "       [-1.36626599, -1.31850571],\n",
       "       [-0.76751384,  0.82473583],\n",
       "       [ 1.20157828,  1.31933003],\n",
       "       [-0.64405979,  0.57743873],\n",
       "       [-1.42182031, -1.23607334],\n",
       "       [ 0.56578992, -0.16445257],\n",
       "       [ 0.60899884, -0.49418204],\n",
       "       [ 0.7571437 , -0.65904677],\n",
       "       [-1.34157518, -1.40093807],\n",
       "       [-0.69344141,  0.74230346],\n",
       "       [-1.20577572, -1.23607334],\n",
       "       [-1.23663923, -1.23607334],\n",
       "       [ 0.98553369,  1.31933003],\n",
       "       [-1.02676735, -1.15364097],\n",
       "       [ 1.20775099,  1.23689766],\n",
       "       [-0.37246087,  0.412574  ],\n",
       "       [-1.31071166, -1.15364097],\n",
       "       [ 0.9978791 ,  1.23689766],\n",
       "       [-1.29219356, -1.40093807],\n",
       "       [ 1.10281504,  1.23689766],\n",
       "       [ 1.12750585,  1.1544653 ],\n",
       "       [-1.29836626, -1.31850571],\n",
       "       [ 0.7694891 , -0.57661441],\n",
       "       [-0.23048871,  0.74230346],\n",
       "       [ 0.96084288,  1.31933003],\n",
       "       [-0.58233276,  0.6598711 ],\n",
       "       [ 0.84356153, -0.74147914],\n",
       "       [-1.21812113, -1.31850571],\n",
       "       [ 1.22626909,  1.4017624 ],\n",
       "       [-0.45887871,  0.49500636],\n",
       "       [ 0.83121613, -0.82391151],\n",
       "       [ 1.18923288,  1.23689766],\n",
       "       [-1.42799301, -1.31850571],\n",
       "       [-0.54529655,  0.57743873],\n",
       "       [-1.13170329, -1.40093807],\n",
       "       [-1.24281194, -1.15364097],\n",
       "       [ 1.04726072,  1.4017624 ],\n",
       "       [ 1.28182342,  1.48419476],\n",
       "       [-0.73047762,  0.6598711 ],\n",
       "       [ 1.18306017,  1.23689766],\n",
       "       [-1.30453896, -1.15364097],\n",
       "       [-1.10083978, -1.07120861],\n",
       "       [ 0.91146126, -0.32931731],\n",
       "       [ 1.20775099,  1.07203293],\n",
       "       [-0.6872687 ,  0.49500636],\n",
       "       [-1.23046653, -1.15364097],\n",
       "       [ 1.18923288,  1.07203293],\n",
       "       [ 1.18923288,  1.23689766],\n",
       "       [-0.62554168,  0.49500636],\n",
       "       [-0.50208763,  0.6598711 ],\n",
       "       [-0.60085087,  0.412574  ],\n",
       "       [ 0.55961722, -0.49418204],\n",
       "       [-1.35392058, -1.15364097],\n",
       "       [ 0.57196262, -0.74147914],\n",
       "       [ 0.7694891 , -0.90634387],\n",
       "       [ 1.21392369,  1.1544653 ],\n",
       "       [-0.40332439,  0.74230346],\n",
       "       [ 0.87442505, -0.74147914],\n",
       "       [ 0.89911586, -0.65904677],\n",
       "       [-1.37243869, -1.07120861],\n",
       "       [-1.36009328, -1.40093807],\n",
       "       [ 1.11516045, -0.49418204],\n",
       "       [-1.42182031, -1.07120861],\n",
       "       [ 0.97936099,  1.31933003],\n",
       "       [-0.69961411,  0.82473583],\n",
       "       [-0.46505141,  0.49500636],\n",
       "       [ 1.13367855,  1.23689766]])"
      ]
     },
     "execution_count": 12,
     "metadata": {},
     "output_type": "execute_result"
    }
   ],
   "source": [
    "df_scaled"
   ]
  },
  {
   "cell_type": "code",
   "execution_count": 14,
   "id": "ddff3137-7718-4d36-a581-1a76352aed64",
   "metadata": {},
   "outputs": [
    {
     "name": "stderr",
     "output_type": "stream",
     "text": [
      "D:\\PythonDS\\Lib\\site-packages\\sklearn\\cluster\\_kmeans.py:1419: UserWarning: KMeans is known to have a memory leak on Windows with MKL, when there are less chunks than available threads. You can avoid it by setting the environment variable OMP_NUM_THREADS=1.\n",
      "  warnings.warn(\n",
      "D:\\PythonDS\\Lib\\site-packages\\sklearn\\cluster\\_kmeans.py:1419: UserWarning: KMeans is known to have a memory leak on Windows with MKL, when there are less chunks than available threads. You can avoid it by setting the environment variable OMP_NUM_THREADS=1.\n",
      "  warnings.warn(\n",
      "D:\\PythonDS\\Lib\\site-packages\\sklearn\\cluster\\_kmeans.py:1419: UserWarning: KMeans is known to have a memory leak on Windows with MKL, when there are less chunks than available threads. You can avoid it by setting the environment variable OMP_NUM_THREADS=1.\n",
      "  warnings.warn(\n",
      "D:\\PythonDS\\Lib\\site-packages\\sklearn\\cluster\\_kmeans.py:1419: UserWarning: KMeans is known to have a memory leak on Windows with MKL, when there are less chunks than available threads. You can avoid it by setting the environment variable OMP_NUM_THREADS=1.\n",
      "  warnings.warn(\n",
      "D:\\PythonDS\\Lib\\site-packages\\sklearn\\cluster\\_kmeans.py:1419: UserWarning: KMeans is known to have a memory leak on Windows with MKL, when there are less chunks than available threads. You can avoid it by setting the environment variable OMP_NUM_THREADS=1.\n",
      "  warnings.warn(\n",
      "D:\\PythonDS\\Lib\\site-packages\\sklearn\\cluster\\_kmeans.py:1419: UserWarning: KMeans is known to have a memory leak on Windows with MKL, when there are less chunks than available threads. You can avoid it by setting the environment variable OMP_NUM_THREADS=1.\n",
      "  warnings.warn(\n",
      "D:\\PythonDS\\Lib\\site-packages\\sklearn\\cluster\\_kmeans.py:1419: UserWarning: KMeans is known to have a memory leak on Windows with MKL, when there are less chunks than available threads. You can avoid it by setting the environment variable OMP_NUM_THREADS=1.\n",
      "  warnings.warn(\n",
      "D:\\PythonDS\\Lib\\site-packages\\sklearn\\cluster\\_kmeans.py:1419: UserWarning: KMeans is known to have a memory leak on Windows with MKL, when there are less chunks than available threads. You can avoid it by setting the environment variable OMP_NUM_THREADS=1.\n",
      "  warnings.warn(\n",
      "D:\\PythonDS\\Lib\\site-packages\\sklearn\\cluster\\_kmeans.py:1419: UserWarning: KMeans is known to have a memory leak on Windows with MKL, when there are less chunks than available threads. You can avoid it by setting the environment variable OMP_NUM_THREADS=1.\n",
      "  warnings.warn(\n",
      "D:\\PythonDS\\Lib\\site-packages\\sklearn\\cluster\\_kmeans.py:1419: UserWarning: KMeans is known to have a memory leak on Windows with MKL, when there are less chunks than available threads. You can avoid it by setting the environment variable OMP_NUM_THREADS=1.\n",
      "  warnings.warn(\n"
     ]
    }
   ],
   "source": [
    "wcss = []\n",
    "for i in range(1,11):\n",
    "    km=KMeans(n_clusters=i, init='k-means++', n_init=10)\n",
    "    km.fit_predict(df_scaled)\n",
    "    wcss.append(km.inertia_)"
   ]
  },
  {
   "cell_type": "code",
   "execution_count": 15,
   "id": "3f3b8efc-466a-402b-977a-88cd241ef57f",
   "metadata": {},
   "outputs": [
    {
     "data": {
      "text/plain": [
       "[400.0,\n",
       " 190.80730946983087,\n",
       " 96.9025901050082,\n",
       " 8.477237626556294,\n",
       " 7.318389571309994,\n",
       " 6.508184953449993,\n",
       " 5.797936281416637,\n",
       " 5.191345939759792,\n",
       " 4.700827746543471,\n",
       " 4.143624139507649]"
      ]
     },
     "execution_count": 15,
     "metadata": {},
     "output_type": "execute_result"
    }
   ],
   "source": [
    "wcss"
   ]
  },
  {
   "cell_type": "code",
   "execution_count": 24,
   "id": "56a913da-a949-4179-9b47-b5197ca13047",
   "metadata": {},
   "outputs": [
    {
     "data": {
      "image/png": "[encoded data removed]",
      "text/plain": [
       "<Figure size 640x480 with 1 Axes>"
      ]
     },
     "metadata": {},
     "output_type": "display_data"
    }
   ],
   "source": [
    "sns.lineplot(x=range(1,11), y=wcss, marker='o', color='green')\n",
    "plt.grid(True)"
   ]
  },
  {
   "cell_type": "code",
   "execution_count": 25,
   "id": "a755355d-30be-4637-9521-6dcacab6a310",
   "metadata": {},
   "outputs": [],
   "source": [
    "km = KMeans(n_clusters=4, init='k-means++', n_init=10)"
   ]
  },
  {
   "cell_type": "code",
   "execution_count": 26,
   "id": "3241ccfe-e95b-4574-bb3d-98c9b40044b9",
   "metadata": {},
   "outputs": [
    {
     "name": "stderr",
     "output_type": "stream",
     "text": [
      "D:\\PythonDS\\Lib\\site-packages\\sklearn\\cluster\\_kmeans.py:1419: UserWarning: KMeans is known to have a memory leak on Windows with MKL, when there are less chunks than available threads. You can avoid it by setting the environment variable OMP_NUM_THREADS=1.\n",
      "  warnings.warn(\n"
     ]
    }
   ],
   "source": [
    "clusters = km.fit_predict(df_scaled)"
   ]
  },
  {
   "cell_type": "code",
   "execution_count": 27,
   "id": "de64f306-e741-40f1-81a9-aeee29297dcf",
   "metadata": {},
   "outputs": [],
   "source": [
    "df['cluster']= clusters"
   ]
  },
  {
   "cell_type": "code",
   "execution_count": 28,
   "id": "6cc63de4-e62b-4716-b042-0366ea113d64",
   "metadata": {},
   "outputs": [
    {
     "data": {
      "text/plain": [
       "array([1, 2, 3, 3, 2, 2, 3, 0, 2, 3, 1, 2, 3, 1, 2, 3, 2, 3, 2, 2, 3, 1,\n",
       "       3, 1, 1, 3, 1, 0, 3, 2, 0, 2, 0, 2, 3, 3, 0, 2, 1, 2, 1, 3, 3, 1,\n",
       "       0, 0, 3, 2, 0, 2, 1, 1, 0, 3, 0, 2, 2, 0, 2, 0, 2, 3, 3, 0, 1, 0,\n",
       "       3, 1, 2, 3, 2, 0, 3, 1, 2, 0, 2, 0, 1, 3, 3, 0, 2, 1, 0, 1, 0, 2,\n",
       "       0, 2, 0, 0, 3, 1, 3, 3, 0, 3, 1, 0, 2, 1, 1, 0, 1, 1, 3, 1, 0, 0,\n",
       "       3, 0, 2, 2, 3, 0, 3, 2, 0, 1, 1, 2, 3, 0, 3, 1, 3, 2, 1, 3, 3, 2,\n",
       "       1, 1, 2, 0, 2, 1, 3, 3, 3, 1, 2, 1, 1, 0, 1, 0, 2, 1, 0, 1, 0, 0,\n",
       "       1, 3, 2, 0, 2, 3, 1, 0, 2, 3, 0, 1, 2, 1, 1, 0, 0, 2, 0, 1, 1, 3,\n",
       "       0, 2, 1, 0, 0, 2, 2, 2, 3, 1, 3, 3, 0, 2, 3, 3, 1, 1, 3, 1, 0, 2,\n",
       "       2, 0])"
      ]
     },
     "execution_count": 28,
     "metadata": {},
     "output_type": "execute_result"
    }
   ],
   "source": [
    "km.labels_"
   ]
  },
  {
   "cell_type": "code",
   "execution_count": 29,
   "id": "27c4852a-dc2d-4513-97cc-8f3eff8b29ca",
   "metadata": {},
   "outputs": [
    {
     "data": {
      "text/plain": [
       "8.477237626556294"
      ]
     },
     "execution_count": 29,
     "metadata": {},
     "output_type": "execute_result"
    }
   ],
   "source": [
    "km.inertia_"
   ]
  },
  {
   "cell_type": "code",
   "execution_count": 30,
   "id": "901122a6-2f2d-4f68-bcde-3b94df482b3d",
   "metadata": {},
   "outputs": [
    {
     "data": {
      "text/plain": [
       "array([[ 1.16540625,  1.25008684],\n",
       "       [-1.24429338, -1.26080305],\n",
       "       [-0.6719604 ,  0.62030356],\n",
       "       [ 0.75084754, -0.60958735]])"
      ]
     },
     "execution_count": 30,
     "metadata": {},
     "output_type": "execute_result"
    }
   ],
   "source": [
    "km.cluster_centers_"
   ]
  },
  {
   "cell_type": "code",
   "execution_count": 31,
   "id": "16c45214-43cb-4291-b9a2-f00adf5c0019",
   "metadata": {},
   "outputs": [
    {
     "data": {
      "text/html": [
       "<div>\n",
       "<style scoped>\n",
       "    .dataframe tbody tr th:only-of-type {\n",
       "        vertical-align: middle;\n",
       "    }\n",
       "\n",
       "    .dataframe tbody tr th {\n",
       "        vertical-align: top;\n",
       "    }\n",
       "\n",
       "    .dataframe thead th {\n",
       "        text-align: right;\n",
       "    }\n",
       "</style>\n",
       "<table border=\"1\" class=\"dataframe\">\n",
       "  <thead>\n",
       "    <tr style=\"text-align: right;\">\n",
       "      <th></th>\n",
       "      <th>cgpa</th>\n",
       "      <th>iq</th>\n",
       "      <th>cluster</th>\n",
       "    </tr>\n",
       "  </thead>\n",
       "  <tbody>\n",
       "    <tr>\n",
       "      <th>0</th>\n",
       "      <td>5.13</td>\n",
       "      <td>88</td>\n",
       "      <td>1</td>\n",
       "    </tr>\n",
       "    <tr>\n",
       "      <th>1</th>\n",
       "      <td>5.90</td>\n",
       "      <td>113</td>\n",
       "      <td>2</td>\n",
       "    </tr>\n",
       "    <tr>\n",
       "      <th>2</th>\n",
       "      <td>8.36</td>\n",
       "      <td>93</td>\n",
       "      <td>3</td>\n",
       "    </tr>\n",
       "    <tr>\n",
       "      <th>3</th>\n",
       "      <td>8.27</td>\n",
       "      <td>97</td>\n",
       "      <td>3</td>\n",
       "    </tr>\n",
       "    <tr>\n",
       "      <th>4</th>\n",
       "      <td>5.45</td>\n",
       "      <td>110</td>\n",
       "      <td>2</td>\n",
       "    </tr>\n",
       "  </tbody>\n",
       "</table>\n",
       "</div>"
      ],
      "text/plain": [
       "   cgpa   iq  cluster\n",
       "0  5.13   88        1\n",
       "1  5.90  113        2\n",
       "2  8.36   93        3\n",
       "3  8.27   97        3\n",
       "4  5.45  110        2"
      ]
     },
     "execution_count": 31,
     "metadata": {},
     "output_type": "execute_result"
    }
   ],
   "source": [
    "df.head()"
   ]
  },
  {
   "cell_type": "code",
   "execution_count": 35,
   "id": "85e68223-b2c7-43e9-a13a-3567ec710c38",
   "metadata": {},
   "outputs": [
    {
     "data": {
      "text/plain": [
       "<Axes: xlabel='cgpa', ylabel='iq'>"
      ]
     },
     "execution_count": 35,
     "metadata": {},
     "output_type": "execute_result"
    },
    {
     "data": {
      "image/png": "[encoded data removed]",
      "text/plain": [
       "<Figure size 640x480 with 1 Axes>"
      ]
     },
     "metadata": {},
     "output_type": "display_data"
    }
   ],
   "source": [
    "sns.scatterplot(x=df['cgpa'], y=df['iq'], hue=df['cluster'], palette='inferno')"
   ]
  },
  {
   "cell_type": "code",
   "execution_count": null,
   "id": "35d57b70-2442-4b99-871d-af0ac488b287",
   "metadata": {},
   "outputs": [],
   "source": []
  }
 ],
 "metadata": {
  "kernelspec": {
   "display_name": "Python 3 (ipykernel)",
   "language": "python",
   "name": "python3"
  },
  "language_info": {
   "codemirror_mode": {
    "name": "ipython",
    "version": 3
   },
   "file_extension": ".py",
   "mimetype": "text/x-python",
   "name": "python",
   "nbconvert_exporter": "python",
   "pygments_lexer": "ipython3",
   "version": "3.11.7"
  }
 },
 "nbformat": 4,
 "nbformat_minor": 5
}
