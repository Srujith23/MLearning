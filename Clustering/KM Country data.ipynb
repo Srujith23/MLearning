{
 "cells": [
  {
   "cell_type": "code",
   "execution_count": 12,
   "id": "8a4e4bfb-744a-4131-af21-9f9f88d000f1",
   "metadata": {},
   "outputs": [],
   "source": [
    "import pandas as pd\n",
    "import numpy as np\n",
    "import seaborn as sns\n",
    "from sklearn.cluster import KMeans\n",
    "from sklearn.preprocessing import StandardScaler\n",
    "from sklearn.metrics import silhouette_score"
   ]
  },
  {
   "cell_type": "code",
   "execution_count": 2,
   "id": "4e4dfac7-c0f1-45b8-b52d-7232fbbaa98c",
   "metadata": {},
   "outputs": [],
   "source": [
    "df = pd.read_csv('../../Datasets/Country-data.csv')"
   ]
  },
  {
   "cell_type": "code",
   "execution_count": 3,
   "id": "1eec561b-ca3a-419b-849c-04b38e1607b5",
   "metadata": {},
   "outputs": [
    {
     "data": {
      "text/html": [
       "<div>\n",
       "<style scoped>\n",
       "    .dataframe tbody tr th:only-of-type {\n",
       "        vertical-align: middle;\n",
       "    }\n",
       "\n",
       "    .dataframe tbody tr th {\n",
       "        vertical-align: top;\n",
       "    }\n",
       "\n",
       "    .dataframe thead th {\n",
       "        text-align: right;\n",
       "    }\n",
       "</style>\n",
       "<table border=\"1\" class=\"dataframe\">\n",
       "  <thead>\n",
       "    <tr style=\"text-align: right;\">\n",
       "      <th></th>\n",
       "      <th>country</th>\n",
       "      <th>child_mort</th>\n",
       "      <th>exports</th>\n",
       "      <th>health</th>\n",
       "      <th>imports</th>\n",
       "      <th>income</th>\n",
       "      <th>inflation</th>\n",
       "      <th>life_expec</th>\n",
       "      <th>total_fer</th>\n",
       "      <th>gdpp</th>\n",
       "    </tr>\n",
       "  </thead>\n",
       "  <tbody>\n",
       "    <tr>\n",
       "      <th>0</th>\n",
       "      <td>Afghanistan</td>\n",
       "      <td>90.2</td>\n",
       "      <td>10.0</td>\n",
       "      <td>7.58</td>\n",
       "      <td>44.9</td>\n",
       "      <td>1610</td>\n",
       "      <td>9.44</td>\n",
       "      <td>56.2</td>\n",
       "      <td>5.82</td>\n",
       "      <td>553</td>\n",
       "    </tr>\n",
       "    <tr>\n",
       "      <th>1</th>\n",
       "      <td>Albania</td>\n",
       "      <td>16.6</td>\n",
       "      <td>28.0</td>\n",
       "      <td>6.55</td>\n",
       "      <td>48.6</td>\n",
       "      <td>9930</td>\n",
       "      <td>4.49</td>\n",
       "      <td>76.3</td>\n",
       "      <td>1.65</td>\n",
       "      <td>4090</td>\n",
       "    </tr>\n",
       "    <tr>\n",
       "      <th>2</th>\n",
       "      <td>Algeria</td>\n",
       "      <td>27.3</td>\n",
       "      <td>38.4</td>\n",
       "      <td>4.17</td>\n",
       "      <td>31.4</td>\n",
       "      <td>12900</td>\n",
       "      <td>16.10</td>\n",
       "      <td>76.5</td>\n",
       "      <td>2.89</td>\n",
       "      <td>4460</td>\n",
       "    </tr>\n",
       "    <tr>\n",
       "      <th>3</th>\n",
       "      <td>Angola</td>\n",
       "      <td>119.0</td>\n",
       "      <td>62.3</td>\n",
       "      <td>2.85</td>\n",
       "      <td>42.9</td>\n",
       "      <td>5900</td>\n",
       "      <td>22.40</td>\n",
       "      <td>60.1</td>\n",
       "      <td>6.16</td>\n",
       "      <td>3530</td>\n",
       "    </tr>\n",
       "    <tr>\n",
       "      <th>4</th>\n",
       "      <td>Antigua and Barbuda</td>\n",
       "      <td>10.3</td>\n",
       "      <td>45.5</td>\n",
       "      <td>6.03</td>\n",
       "      <td>58.9</td>\n",
       "      <td>19100</td>\n",
       "      <td>1.44</td>\n",
       "      <td>76.8</td>\n",
       "      <td>2.13</td>\n",
       "      <td>12200</td>\n",
       "    </tr>\n",
       "  </tbody>\n",
       "</table>\n",
       "</div>"
      ],
      "text/plain": [
       "               country  child_mort  exports  health  imports  income  \\\n",
       "0          Afghanistan        90.2     10.0    7.58     44.9    1610   \n",
       "1              Albania        16.6     28.0    6.55     48.6    9930   \n",
       "2              Algeria        27.3     38.4    4.17     31.4   12900   \n",
       "3               Angola       119.0     62.3    2.85     42.9    5900   \n",
       "4  Antigua and Barbuda        10.3     45.5    6.03     58.9   19100   \n",
       "\n",
       "   inflation  life_expec  total_fer   gdpp  \n",
       "0       9.44        56.2       5.82    553  \n",
       "1       4.49        76.3       1.65   4090  \n",
       "2      16.10        76.5       2.89   4460  \n",
       "3      22.40        60.1       6.16   3530  \n",
       "4       1.44        76.8       2.13  12200  "
      ]
     },
     "execution_count": 3,
     "metadata": {},
     "output_type": "execute_result"
    }
   ],
   "source": [
    "df.head()"
   ]
  },
  {
   "cell_type": "code",
   "execution_count": 4,
   "id": "30803cf2-54bb-4ce8-b775-0e75d1eff73f",
   "metadata": {},
   "outputs": [],
   "source": [
    "df2 = df.drop(['country'], axis=1)"
   ]
  },
  {
   "cell_type": "code",
   "execution_count": 6,
   "id": "87f3f1f1-d76d-4329-a23f-ea671d0f48df",
   "metadata": {},
   "outputs": [],
   "source": [
    "X_scaled = StandardScaler().fit_transform(df2)"
   ]
  },
  {
   "cell_type": "code",
   "execution_count": 7,
   "id": "1a7e6bde-6a8a-45b7-88ae-67df7df1f2a7",
   "metadata": {},
   "outputs": [
    {
     "data": {
      "text/plain": [
       "array([[ 1.29153238, -1.13827979,  0.27908825, ..., -1.61909203,\n",
       "         1.90288227, -0.67917961],\n",
       "       [-0.5389489 , -0.47965843, -0.09701618, ...,  0.64786643,\n",
       "        -0.85997281, -0.48562324],\n",
       "       [-0.27283273, -0.09912164, -0.96607302, ...,  0.67042323,\n",
       "        -0.0384044 , -0.46537561],\n",
       "       ...,\n",
       "       [-0.37231541,  1.13030491,  0.0088773 , ...,  0.28695762,\n",
       "        -0.66120626, -0.63775406],\n",
       "       [ 0.44841668, -0.40647827, -0.59727159, ..., -0.34463279,\n",
       "         1.14094382, -0.63775406],\n",
       "       [ 1.11495062, -0.15034774, -0.33801514, ..., -2.09278484,\n",
       "         1.6246091 , -0.62954556]])"
      ]
     },
     "execution_count": 7,
     "metadata": {},
     "output_type": "execute_result"
    }
   ],
   "source": [
    "X_scaled"
   ]
  },
  {
   "cell_type": "code",
   "execution_count": 8,
   "id": "e063bab8-fdb0-4263-8ba5-394be2b4bed5",
   "metadata": {},
   "outputs": [
    {
     "name": "stderr",
     "output_type": "stream",
     "text": [
      "D:\\PythonDS\\Lib\\site-packages\\sklearn\\cluster\\_kmeans.py:1419: UserWarning: KMeans is known to have a memory leak on Windows with MKL, when there are less chunks than available threads. You can avoid it by setting the environment variable OMP_NUM_THREADS=1.\n",
      "  warnings.warn(\n",
      "D:\\PythonDS\\Lib\\site-packages\\sklearn\\cluster\\_kmeans.py:1419: UserWarning: KMeans is known to have a memory leak on Windows with MKL, when there are less chunks than available threads. You can avoid it by setting the environment variable OMP_NUM_THREADS=1.\n",
      "  warnings.warn(\n",
      "D:\\PythonDS\\Lib\\site-packages\\sklearn\\cluster\\_kmeans.py:1419: UserWarning: KMeans is known to have a memory leak on Windows with MKL, when there are less chunks than available threads. You can avoid it by setting the environment variable OMP_NUM_THREADS=1.\n",
      "  warnings.warn(\n",
      "D:\\PythonDS\\Lib\\site-packages\\sklearn\\cluster\\_kmeans.py:1419: UserWarning: KMeans is known to have a memory leak on Windows with MKL, when there are less chunks than available threads. You can avoid it by setting the environment variable OMP_NUM_THREADS=1.\n",
      "  warnings.warn(\n",
      "D:\\PythonDS\\Lib\\site-packages\\sklearn\\cluster\\_kmeans.py:1419: UserWarning: KMeans is known to have a memory leak on Windows with MKL, when there are less chunks than available threads. You can avoid it by setting the environment variable OMP_NUM_THREADS=1.\n",
      "  warnings.warn(\n",
      "D:\\PythonDS\\Lib\\site-packages\\sklearn\\cluster\\_kmeans.py:1419: UserWarning: KMeans is known to have a memory leak on Windows with MKL, when there are less chunks than available threads. You can avoid it by setting the environment variable OMP_NUM_THREADS=1.\n",
      "  warnings.warn(\n",
      "D:\\PythonDS\\Lib\\site-packages\\sklearn\\cluster\\_kmeans.py:1419: UserWarning: KMeans is known to have a memory leak on Windows with MKL, when there are less chunks than available threads. You can avoid it by setting the environment variable OMP_NUM_THREADS=1.\n",
      "  warnings.warn(\n",
      "D:\\PythonDS\\Lib\\site-packages\\sklearn\\cluster\\_kmeans.py:1419: UserWarning: KMeans is known to have a memory leak on Windows with MKL, when there are less chunks than available threads. You can avoid it by setting the environment variable OMP_NUM_THREADS=1.\n",
      "  warnings.warn(\n",
      "D:\\PythonDS\\Lib\\site-packages\\sklearn\\cluster\\_kmeans.py:1419: UserWarning: KMeans is known to have a memory leak on Windows with MKL, when there are less chunks than available threads. You can avoid it by setting the environment variable OMP_NUM_THREADS=1.\n",
      "  warnings.warn(\n",
      "D:\\PythonDS\\Lib\\site-packages\\sklearn\\cluster\\_kmeans.py:1419: UserWarning: KMeans is known to have a memory leak on Windows with MKL, when there are less chunks than available threads. You can avoid it by setting the environment variable OMP_NUM_THREADS=1.\n",
      "  warnings.warn(\n"
     ]
    }
   ],
   "source": [
    "wcss = []\n",
    "for i in range(1,11):\n",
    "    km = KMeans(n_clusters=i, init='k-means++', n_init=10)\n",
    "    km.fit_predict(X_scaled)\n",
    "    wcss.append(km.inertia_)"
   ]
  },
  {
   "cell_type": "code",
   "execution_count": 11,
   "id": "6f3b941a-2734-4d28-8013-c47968cda456",
   "metadata": {},
   "outputs": [
    {
     "data": {
      "text/plain": [
       "<Axes: >"
      ]
     },
     "execution_count": 11,
     "metadata": {},
     "output_type": "execute_result"
    },
    {
     "data": {
      "image/png": "[encoded data removed]",
      "text/plain": [
       "<Figure size 640x480 with 1 Axes>"
      ]
     },
     "metadata": {},
     "output_type": "display_data"
    }
   ],
   "source": [
    "sns.set(style='whitegrid')\n",
    "sns.lineplot(x=range(1,11), y=wcss)"
   ]
  },
  {
   "cell_type": "code",
   "execution_count": 33,
   "id": "76591e06-e661-4f47-9409-4a031beaa168",
   "metadata": {},
   "outputs": [],
   "source": [
    "km = KMeans(n_clusters=5, init='k-means++', n_init=10)"
   ]
  },
  {
   "cell_type": "code",
   "execution_count": 34,
   "id": "5274c3a2-8150-44b1-b0db-c64a80300ee7",
   "metadata": {},
   "outputs": [
    {
     "name": "stderr",
     "output_type": "stream",
     "text": [
      "D:\\PythonDS\\Lib\\site-packages\\sklearn\\cluster\\_kmeans.py:1419: UserWarning: KMeans is known to have a memory leak on Windows with MKL, when there are less chunks than available threads. You can avoid it by setting the environment variable OMP_NUM_THREADS=1.\n",
      "  warnings.warn(\n"
     ]
    }
   ],
   "source": [
    "labels = km.fit_predict(X_scaled)"
   ]
  },
  {
   "cell_type": "code",
   "execution_count": 35,
   "id": "82a2a87d-19bc-4a8b-80c0-d0189de6916d",
   "metadata": {},
   "outputs": [
    {
     "data": {
      "text/plain": [
       "631.3877859960571"
      ]
     },
     "execution_count": 35,
     "metadata": {},
     "output_type": "execute_result"
    }
   ],
   "source": [
    "km.inertia_"
   ]
  },
  {
   "cell_type": "code",
   "execution_count": 36,
   "id": "eab92e21-bc6e-475d-865b-84e75342297e",
   "metadata": {},
   "outputs": [
    {
     "data": {
      "text/plain": [
       "array([[-0.82629395,  0.14381033,  0.88523713, -0.34020983,  1.52062129,\n",
       "        -0.46696693,  1.11229484, -0.74497217,  1.74235844],\n",
       "       [-0.2825192 , -0.43364255, -0.52798919, -0.65662715, -0.21749001,\n",
       "         0.4281497 ,  0.23294002, -0.28442159, -0.37150208],\n",
       "       [-0.52971805,  0.34896606,  0.06182404,  0.56146558, -0.18420445,\n",
       "        -0.37970164,  0.31168335, -0.54423979, -0.27029119],\n",
       "       [ 1.39052846, -0.44568534, -0.17203068, -0.18179731, -0.69679938,\n",
       "         0.39266281, -1.30182572,  1.37139779, -0.60730886],\n",
       "       [-0.84900324,  4.93567278, -0.00816303,  4.54805768,  2.4395424 ,\n",
       "        -0.50420614,  1.22682431, -1.03886271,  2.44079735]])"
      ]
     },
     "execution_count": 36,
     "metadata": {},
     "output_type": "execute_result"
    }
   ],
   "source": [
    "km.cluster_centers_"
   ]
  },
  {
   "cell_type": "code",
   "execution_count": 37,
   "id": "fcfb6a05-8249-4c02-b00b-b907c0421d9e",
   "metadata": {},
   "outputs": [
    {
     "name": "stdout",
     "output_type": "stream",
     "text": [
      "0.22327899566511256\n"
     ]
    }
   ],
   "source": [
    "score = silhouette_score(X_scaled, labels)\n",
    "print(score)"
   ]
  },
  {
   "cell_type": "markdown",
   "id": "414e7f2e-eac3-47c4-8a6f-4dd01f2d9a13",
   "metadata": {},
   "source": [
    "### PCA"
   ]
  },
  {
   "cell_type": "code",
   "execution_count": 39,
   "id": "20fe0a0a-edf9-46fc-83c2-83b76c377ca9",
   "metadata": {},
   "outputs": [],
   "source": [
    "from sklearn.decomposition import PCA"
   ]
  },
  {
   "cell_type": "code",
   "execution_count": 40,
   "id": "c6361ac0-af0a-4ee3-b6a2-a62fd67bea39",
   "metadata": {},
   "outputs": [],
   "source": [
    "pca = PCA()"
   ]
  },
  {
   "cell_type": "code",
   "execution_count": 41,
   "id": "d2495346-5062-426f-9dcc-e77287313f07",
   "metadata": {},
   "outputs": [],
   "source": [
    "components = pca.fit_transform(X_scaled)"
   ]
  },
  {
   "cell_type": "code",
   "execution_count": 42,
   "id": "a34243b0-8654-47c2-887a-a7f328ff6d52",
   "metadata": {},
   "outputs": [
    {
     "data": {
      "text/plain": [
       "array([4.16057017, 1.55566165, 1.1774338 , 1.00077724, 0.66459866,\n",
       "       0.224928  , 0.1141221 , 0.08884738, 0.06727787])"
      ]
     },
     "execution_count": 42,
     "metadata": {},
     "output_type": "execute_result"
    }
   ],
   "source": [
    "pca.explained_variance_"
   ]
  },
  {
   "cell_type": "code",
   "execution_count": 44,
   "id": "ce53d71d-f5a1-4674-9b51-cc327c37e0cf",
   "metadata": {},
   "outputs": [
    {
     "data": {
      "text/plain": [
       "array([0.4595174 , 0.17181626, 0.13004259, 0.11053162, 0.07340211,\n",
       "       0.02484235, 0.0126043 , 0.00981282, 0.00743056])"
      ]
     },
     "execution_count": 44,
     "metadata": {},
     "output_type": "execute_result"
    }
   ],
   "source": [
    "pca.explained_variance_ratio_"
   ]
  },
  {
   "cell_type": "code",
   "execution_count": 45,
   "id": "e6c435a1-68e4-4d1b-a7d3-1b143c870b8f",
   "metadata": {},
   "outputs": [],
   "source": [
    "cumsum = np.cumsum(pca.explained_variance_ratio_)"
   ]
  },
  {
   "cell_type": "code",
   "execution_count": 49,
   "id": "3a05117f-0cfe-4e92-9531-77b26f8c4345",
   "metadata": {},
   "outputs": [
    {
     "data": {
      "text/plain": [
       "<Axes: >"
      ]
     },
     "execution_count": 49,
     "metadata": {},
     "output_type": "execute_result"
    },
    {
     "data": {
      "image/png": "[encoded data removed]",
      "text/plain": [
       "<Figure size 640x480 with 1 Axes>"
      ]
     },
     "metadata": {},
     "output_type": "display_data"
    }
   ],
   "source": [
    "sns.lineplot(x=range(1, len(cumsum)+1), y=cumsum, marker='o')"
   ]
  },
  {
   "cell_type": "code",
   "execution_count": 50,
   "id": "6018ee57-d977-4a66-8da4-0fbed51ac6f7",
   "metadata": {},
   "outputs": [],
   "source": [
    "pca = PCA(n_components=2)"
   ]
  },
  {
   "cell_type": "code",
   "execution_count": 52,
   "id": "6599adcc-feec-43b0-8fc8-1a79d47a9f2c",
   "metadata": {},
   "outputs": [],
   "source": [
    "p_components = pca.fit_transform(X_scaled)"
   ]
  },
  {
   "cell_type": "code",
   "execution_count": 53,
   "id": "de782187-7dd2-437c-bcd3-0e3b0f5bc1b9",
   "metadata": {},
   "outputs": [],
   "source": [
    "import plotly.express as px"
   ]
  },
  {
   "cell_type": "code",
   "execution_count": 58,
   "id": "d3ffd5c5-7936-4a0a-9f42-0c56f11e3ec1",
   "metadata": {},
   "outputs": [],
   "source": [
    "plot_df = pd.DataFrame(p_components, columns=['PCA 1', 'PCA 2'])\n",
    "plot_df['clusters']=labels\n",
    "plot_df['country'] = df['country'].values"
   ]
  },
  {
   "cell_type": "code",
   "execution_count": 59,
   "id": "a605f540-53c8-499f-b7a6-58ab939ebb45",
   "metadata": {},
   "outputs": [
    {
     "data": {
      "text/html": [
       "<div>\n",
       "<style scoped>\n",
       "    .dataframe tbody tr th:only-of-type {\n",
       "        vertical-align: middle;\n",
       "    }\n",
       "\n",
       "    .dataframe tbody tr th {\n",
       "        vertical-align: top;\n",
       "    }\n",
       "\n",
       "    .dataframe thead th {\n",
       "        text-align: right;\n",
       "    }\n",
       "</style>\n",
       "<table border=\"1\" class=\"dataframe\">\n",
       "  <thead>\n",
       "    <tr style=\"text-align: right;\">\n",
       "      <th></th>\n",
       "      <th>PCA 1</th>\n",
       "      <th>PCA 2</th>\n",
       "      <th>clusters</th>\n",
       "      <th>country</th>\n",
       "    </tr>\n",
       "  </thead>\n",
       "  <tbody>\n",
       "    <tr>\n",
       "      <th>0</th>\n",
       "      <td>-2.913025</td>\n",
       "      <td>0.095621</td>\n",
       "      <td>3</td>\n",
       "      <td>Afghanistan</td>\n",
       "    </tr>\n",
       "    <tr>\n",
       "      <th>1</th>\n",
       "      <td>0.429911</td>\n",
       "      <td>-0.588156</td>\n",
       "      <td>2</td>\n",
       "      <td>Albania</td>\n",
       "    </tr>\n",
       "    <tr>\n",
       "      <th>2</th>\n",
       "      <td>-0.285225</td>\n",
       "      <td>-0.455174</td>\n",
       "      <td>1</td>\n",
       "      <td>Algeria</td>\n",
       "    </tr>\n",
       "    <tr>\n",
       "      <th>3</th>\n",
       "      <td>-2.932423</td>\n",
       "      <td>1.695555</td>\n",
       "      <td>3</td>\n",
       "      <td>Angola</td>\n",
       "    </tr>\n",
       "    <tr>\n",
       "      <th>4</th>\n",
       "      <td>1.033576</td>\n",
       "      <td>0.136659</td>\n",
       "      <td>2</td>\n",
       "      <td>Antigua and Barbuda</td>\n",
       "    </tr>\n",
       "    <tr>\n",
       "      <th>...</th>\n",
       "      <td>...</td>\n",
       "      <td>...</td>\n",
       "      <td>...</td>\n",
       "      <td>...</td>\n",
       "    </tr>\n",
       "    <tr>\n",
       "      <th>162</th>\n",
       "      <td>-0.820631</td>\n",
       "      <td>0.639570</td>\n",
       "      <td>2</td>\n",
       "      <td>Vanuatu</td>\n",
       "    </tr>\n",
       "    <tr>\n",
       "      <th>163</th>\n",
       "      <td>-0.551036</td>\n",
       "      <td>-1.233886</td>\n",
       "      <td>1</td>\n",
       "      <td>Venezuela</td>\n",
       "    </tr>\n",
       "    <tr>\n",
       "      <th>164</th>\n",
       "      <td>0.498524</td>\n",
       "      <td>1.390744</td>\n",
       "      <td>2</td>\n",
       "      <td>Vietnam</td>\n",
       "    </tr>\n",
       "    <tr>\n",
       "      <th>165</th>\n",
       "      <td>-1.887451</td>\n",
       "      <td>-0.109453</td>\n",
       "      <td>3</td>\n",
       "      <td>Yemen</td>\n",
       "    </tr>\n",
       "    <tr>\n",
       "      <th>166</th>\n",
       "      <td>-2.864064</td>\n",
       "      <td>0.485998</td>\n",
       "      <td>3</td>\n",
       "      <td>Zambia</td>\n",
       "    </tr>\n",
       "  </tbody>\n",
       "</table>\n",
       "<p>167 rows × 4 columns</p>\n",
       "</div>"
      ],
      "text/plain": [
       "        PCA 1     PCA 2  clusters              country\n",
       "0   -2.913025  0.095621         3          Afghanistan\n",
       "1    0.429911 -0.588156         2              Albania\n",
       "2   -0.285225 -0.455174         1              Algeria\n",
       "3   -2.932423  1.695555         3               Angola\n",
       "4    1.033576  0.136659         2  Antigua and Barbuda\n",
       "..        ...       ...       ...                  ...\n",
       "162 -0.820631  0.639570         2              Vanuatu\n",
       "163 -0.551036 -1.233886         1            Venezuela\n",
       "164  0.498524  1.390744         2              Vietnam\n",
       "165 -1.887451 -0.109453         3                Yemen\n",
       "166 -2.864064  0.485998         3               Zambia\n",
       "\n",
       "[167 rows x 4 columns]"
      ]
     },
     "execution_count": 59,
     "metadata": {},
     "output_type": "execute_result"
    }
   ],
   "source": [
    "plot_df"
   ]
  },
  {
   "cell_type": "code",
   "execution_count": 62,
   "id": "3c08da97-12bc-4056-a783-405292c060f3",
   "metadata": {},
   "outputs": [
    {
     "data": {
      "application/vnd.plotly.v1+json": {
       "config": {
        "plotlyServerURL": "https://plot.ly"
       },
       "data": [
        {
         "hovertemplate": "<b>%{hovertext}</b><br><br>PCA 1=%{x}<br>PCA 2=%{y}<br>clusters=%{marker.color}<extra></extra>",
         "hovertext": [
          "Afghanistan",
          "Albania",
          "Algeria",
          "Angola",
          "Antigua and Barbuda",
          "Argentina",
          "Armenia",
          "Australia",
          "Austria",
          "Azerbaijan",
          "Bahamas",
          "Bahrain",
          "Bangladesh",
          "Barbados",
          "Belarus",
          "Belgium",
          "Belize",
          "Benin",
          "Bhutan",
          "Bolivia",
          "Bosnia and Herzegovina",
          "Botswana",
          "Brazil",
          "Brunei",
          "Bulgaria",
          "Burkina Faso",
          "Burundi",
          "Cambodia",
          "Cameroon",
          "Canada",
          "Cape Verde",
          "Central African Republic",
          "Chad",
          "Chile",
          "China",
          "Colombia",
          "Comoros",
          "Congo, Dem. Rep.",
          "Congo, Rep.",
          "Costa Rica",
          "Cote d'Ivoire",
          "Croatia",
          "Cyprus",
          "Czech Republic",
          "Denmark",
          "Dominican Republic",
          "Ecuador",
          "Egypt",
          "El Salvador",
          "Equatorial Guinea",
          "Eritrea",
          "Estonia",
          "Fiji",
          "Finland",
          "France",
          "Gabon",
          "Gambia",
          "Georgia",
          "Germany",
          "Ghana",
          "Greece",
          "Grenada",
          "Guatemala",
          "Guinea",
          "Guinea-Bissau",
          "Guyana",
          "Haiti",
          "Hungary",
          "Iceland",
          "India",
          "Indonesia",
          "Iran",
          "Iraq",
          "Ireland",
          "Israel",
          "Italy",
          "Jamaica",
          "Japan",
          "Jordan",
          "Kazakhstan",
          "Kenya",
          "Kiribati",
          "Kuwait",
          "Kyrgyz Republic",
          "Lao",
          "Latvia",
          "Lebanon",
          "Lesotho",
          "Liberia",
          "Libya",
          "Lithuania",
          "Luxembourg",
          "Macedonia, FYR",
          "Madagascar",
          "Malawi",
          "Malaysia",
          "Maldives",
          "Mali",
          "Malta",
          "Mauritania",
          "Mauritius",
          "Micronesia, Fed. Sts.",
          "Moldova",
          "Mongolia",
          "Montenegro",
          "Morocco",
          "Mozambique",
          "Myanmar",
          "Namibia",
          "Nepal",
          "Netherlands",
          "New Zealand",
          "Niger",
          "Nigeria",
          "Norway",
          "Oman",
          "Pakistan",
          "Panama",
          "Paraguay",
          "Peru",
          "Philippines",
          "Poland",
          "Portugal",
          "Qatar",
          "Romania",
          "Russia",
          "Rwanda",
          "Samoa",
          "Saudi Arabia",
          "Senegal",
          "Serbia",
          "Seychelles",
          "Sierra Leone",
          "Singapore",
          "Slovak Republic",
          "Slovenia",
          "Solomon Islands",
          "South Africa",
          "South Korea",
          "Spain",
          "Sri Lanka",
          "St. Vincent and the Grenadines",
          "Sudan",
          "Suriname",
          "Sweden",
          "Switzerland",
          "Tajikistan",
          "Tanzania",
          "Thailand",
          "Timor-Leste",
          "Togo",
          "Tonga",
          "Tunisia",
          "Turkey",
          "Turkmenistan",
          "Uganda",
          "Ukraine",
          "United Arab Emirates",
          "United Kingdom",
          "United States",
          "Uruguay",
          "Uzbekistan",
          "Vanuatu",
          "Venezuela",
          "Vietnam",
          "Yemen",
          "Zambia"
         ],
         "legendgroup": "",
         "marker": {
          "color": [
           3,
           2,
           1,
           3,
           2,
           1,
           1,
           0,
           0,
           1,
           2,
           2,
           1,
           2,
           2,
           0,
           2,
           3,
           2,
           1,
           2,
           3,
           1,
           0,
           2,
           3,
           3,
           2,
           3,
           0,
           2,
           3,
           3,
           1,
           1,
           1,
           3,
           3,
           3,
           2,
           3,
           2,
           0,
           2,
           0,
           1,
           1,
           1,
           2,
           3,
           3,
           2,
           2,
           0,
           0,
           3,
           3,
           2,
           0,
           3,
           0,
           2,
           1,
           3,
           3,
           2,
           3,
           2,
           0,
           1,
           1,
           1,
           1,
           0,
           0,
           0,
           1,
           0,
           2,
           1,
           3,
           3,
           0,
           2,
           3,
           2,
           2,
           3,
           3,
           1,
           2,
           4,
           2,
           3,
           3,
           2,
           2,
           3,
           4,
           3,
           2,
           2,
           2,
           1,
           2,
           1,
           3,
           1,
           3,
           1,
           0,
           0,
           3,
           3,
           0,
           1,
           3,
           2,
           2,
           1,
           1,
           2,
           0,
           0,
           1,
           1,
           3,
           2,
           1,
           3,
           2,
           2,
           3,
           4,
           2,
           2,
           2,
           3,
           2,
           0,
           1,
           2,
           3,
           2,
           0,
           0,
           1,
           3,
           2,
           3,
           3,
           1,
           2,
           1,
           2,
           3,
           2,
           0,
           0,
           0,
           1,
           1,
           2,
           1,
           2,
           3,
           3
          ],
          "coloraxis": "coloraxis",
          "size": 13,
          "symbol": "circle"
         },
         "mode": "markers",
         "name": "",
         "orientation": "v",
         "showlegend": false,
         "type": "scatter",
         "x": [
          -2.9130245873965848,
          0.4299113299319378,
          -0.2852250773700539,
          -2.932422654229272,
          1.0335758664708317,
          0.022407261573744217,
          -0.10158373658107388,
          2.34216460968588,
          2.9737636642043026,
          -0.18148699731199286,
          1.2687438639868223,
          1.6709963959114862,
          -1.123850934504571,
          1.081374196994727,
          0.5800251522399512,
          3.143785961263135,
          0.21125544693609755,
          -2.672313879357943,
          -0.1565709622345521,
          -0.7938515610201603,
          0.995867142809994,
          -0.8820876389925545,
          0.1407813609175989,
          2.4600860882799904,
          0.9065945150342386,
          -3.122053436409142,
          -2.8989706793026753,
          -0.5824118671980256,
          -2.807908574902407,
          2.543630550006368,
          -0.15580145212391805,
          -3.9649640194894387,
          -3.557555202700274,
          0.9516560554273618,
          0.05748198032756686,
          0.12114611965106957,
          -2.0935564308403007,
          -3.1733701154043663,
          -1.7256764076372633,
          0.9378266149945528,
          -2.581706232957865,
          1.1488634359443193,
          2.1744549200988756,
          2.0532632868341665,
          3.0104918213767737,
          -0.2311029227744664,
          0.009618332404326434,
          -0.8481866985512946,
          0.08186784453623124,
          -1.2934228376741683,
          -2.4746958976218325,
          1.6590833964277003,
          -0.188828409072514,
          2.4589601917945183,
          2.254270795309826,
          -1.4217145532419777,
          -2.2136695827033805,
          0.3219422066451583,
          2.6714219518476896,
          -2.054166929516788,
          1.7794929410031517,
          0.1455047992657878,
          -0.6635031249243215,
          -2.9695294733720394,
          -2.833616472861324,
          -0.32278146485573067,
          -4.409717274974023,
          1.839160126489531,
          2.4809239567775334,
          -1.3428257947703686,
          -0.9547501236855872,
          -0.0010646119252021395,
          -1.0292281606558102,
          3.668628044515041,
          1.485316658889605,
          2.1658099505088515,
          0.018609300222762224,
          2.265881986853444,
          0.16014264327314684,
          -0.29334649971037086,
          -1.8747024727806476,
          -1.2392168622446296,
          2.4656587034837143,
          -0.3399698801949051,
          -1.5277699460302676,
          1.188839844881242,
          1.1719907605412023,
          -1.8031513987910837,
          -1.77358023171766,
          0.8189430506398372,
          1.4097881234543037,
          6.917754960193371,
          0.733210319106409,
          -2.1360086738058874,
          -2.9798852527902886,
          1.230828421240836,
          1.1086010069884453,
          -3.412255127439311,
          3.679542597256496,
          -1.9539274713989838,
          0.8997750553071053,
          -0.38092879543955677,
          0.5095394527308873,
          -0.9449755375621793,
          1.026683891552108,
          -0.23287015644280776,
          -2.9205405089267207,
          -1.8371977355130806,
          -1.0433747144410404,
          -1.3070898468495713,
          3.3791572717097287,
          1.8157466593464606,
          -3.450167737011513,
          -4.912066145268673,
          3.7211951316445826,
          1.127386652371411,
          -2.3603471819217496,
          1.1637842932406408,
          0.11784622431902812,
          -0.02063545187582185,
          -0.782745870666241,
          1.2178275360138828,
          1.8140674832663026,
          4.242296344683002,
          0.5727927042682188,
          0.16376154366827406,
          -1.6797035613689006,
          -0.5628976320853284,
          0.8559358125570654,
          -1.91217030678987,
          0.8324201868879182,
          1.6025977456332416,
          -3.3816247855884756,
          5.783376296512415,
          2.0297236995727883,
          2.279491706438034,
          -0.8062091357080178,
          -1.191837355829424,
          1.918062451534529,
          2.019197211127389,
          -0.5755721548711342,
          0.026623465166129796,
          -2.3194238672962304,
          0.17167473056172078,
          2.8183228570177103,
          4.088544125700126,
          -1.2444643640093265,
          -2.5540491881613594,
          0.9260927074506508,
          -2.371970474867684,
          -1.9976422478014042,
          -0.7550085380741284,
          0.6022316119482019,
          0.4014377045807748,
          -0.46393616539244137,
          -2.854836240303578,
          0.3022997997848768,
          2.427141252940282,
          2.067989933317087,
          2.6412058310387385,
          0.6173125975107275,
          -0.8535289439327004,
          -0.8206311312965878,
          -0.5510355640952448,
          0.49852438549309436,
          -1.8874510567821299,
          -2.864063918124878
         ],
         "xaxis": "x",
         "y": [
          0.09562057550551138,
          -0.5881556664216985,
          -0.4551744133397675,
          1.6955550705215476,
          0.13665870884235137,
          -1.7791865758294874,
          -0.5682517238414162,
          -1.988459153961992,
          -0.7346886586078281,
          -0.40286587348363606,
          -0.6565883632526901,
          0.5611624925384963,
          -0.9613974045352944,
          -0.48196953013634797,
          0.5353268339800483,
          0.663547920750987,
          0.6992426623417223,
          0.4181721245790088,
          0.7773956172959956,
          -0.12026108495343903,
          -0.9718884391705789,
          0.45736818032562726,
          -2.1510773058294337,
          0.016454043645934675,
          0.030277605445238158,
          0.0387749687918409,
          -0.42266332787881167,
          0.8948203322738487,
          0.07864889686740477,
          -1.7270946979437063,
          0.3512354576145572,
          0.38661931942066885,
          1.2891280920966872,
          -1.0764282701637695,
          -1.189996519829346,
          -1.7689091360987828,
          0.3436009878116028,
          1.050381633237967,
          2.1763489504338636,
          -1.3504723760959652,
          1.2078734222116319,
          -0.844812046428475,
          -0.004510447367102884,
          0.4231982799720617,
          -0.8655487291060775,
          -0.8806413020766549,
          -1.0452209670773602,
          -0.8198189017563547,
          -0.5678039433428756,
          2.3636945517207617,
          -0.6180252364945537,
          1.0215644729461166,
          1.0717645827004334,
          -1.0761429369309732,
          -1.866638129167075,
          0.3197233583730015,
          0.22349589624451785,
          -0.5182552248417759,
          -1.2736099005828208,
          0.38003439318869636,
          -1.7653969323374872,
          -0.4313363663231749,
          -0.6139108370318462,
          0.7285337855948659,
          -0.0911281950129983,
          1.361341358802573,
          1.7422304851976316,
          1.2729649266968388,
          -0.6347019259054008,
          -0.5351389457527038,
          -0.7323617864118175,
          -1.3343495948884097,
          -0.28326932294249796,
          1.7294931689378277,
          -1.0492243637123568,
          -1.7724854795157483,
          -0.23896130429128098,
          -2.435593833582056,
          0.5410651720875439,
          -0.23752543410728383,
          -0.1710299672655436,
          0.36913841094404326,
          0.08804977845740085,
          1.2981964120287288,
          0.5457868911492434,
          0.16204003453331478,
          -0.25629511214232154,
          2.037850979263368,
          1.053398665726388,
          0.38984165994536835,
          0.7298331976042449,
          4.849843686160695,
          -0.09486743144697724,
          0.3427330416914549,
          0.2166224191339924,
          1.601748635119906,
          1.009314260930252,
          0.5614685136080777,
          4.7654860502454826,
          1.3833845233477762,
          0.41647978070974123,
          0.10177362904942387,
          0.16165834016735056,
          0.5297995619111008,
          -0.2576415663057138,
          -0.28102776867821855,
          0.8932702935199464,
          -1.6136689946078093,
          1.0028411182968007,
          -0.7890486310126509,
          0.11570244168414674,
          -1.5847236873694535,
          0.9699224522576156,
          -0.09449868457583378,
          -1.4472549790076843,
          0.49161113599579664,
          -0.47939964609917274,
          1.1152762035505948,
          0.36103114009082715,
          -1.0866174117971674,
          -0.09649809045121047,
          -0.6591689610716244,
          -1.4508865366121566,
          -0.19560367370630063,
          -0.6373848425228669,
          -1.0666784817397432,
          -1.0016286214160548,
          -0.02210439599746419,
          -0.18344075868103943,
          0.09155993466113896,
          -0.869325996462672,
          2.939120570125814,
          -0.23630151587373,
          6.68209028392162,
          1.0504074455853813,
          0.1952752262626331,
          1.3034905887085475,
          -0.5567571642158569,
          -0.42746824472560935,
          -1.784382455889175,
          -0.9975514782350956,
          -0.016064081509923438,
          -0.7694073280346786,
          -0.09480764089342551,
          -0.9144809676023482,
          -0.42946190887019675,
          -0.02891743163179,
          -0.21502795550980003,
          0.828230655266384,
          -1.177512945689319,
          0.9583615863528245,
          -0.08789385675038974,
          0.17343570796484598,
          -1.4119897338384433,
          1.2918734692462943,
          -0.3520823821824595,
          -0.09757106690803857,
          1.1518130739301624,
          -1.535313494196245,
          -2.9973644598194547,
          -1.4304772329442983,
          -0.6544851120419425,
          0.6395700721266834,
          -1.2338861818339935,
          1.3907443156342516,
          -0.10945301487766552,
          0.4859979854996449
         ],
         "yaxis": "y"
        }
       ],
       "layout": {
        "autosize": true,
        "coloraxis": {
         "colorbar": {
          "title": {
           "text": "clusters"
          }
         },
         "colorscale": [
          [
           0,
           "#0d0887"
          ],
          [
           0.1111111111111111,
           "#46039f"
          ],
          [
           0.2222222222222222,
           "#7201a8"
          ],
          [
           0.3333333333333333,
           "#9c179e"
          ],
          [
           0.4444444444444444,
           "#bd3786"
          ],
          [
           0.5555555555555556,
           "#d8576b"
          ],
          [
           0.6666666666666666,
           "#ed7953"
          ],
          [
           0.7777777777777778,
           "#fb9f3a"
          ],
          [
           0.8888888888888888,
           "#fdca26"
          ],
          [
           1,
           "#f0f921"
          ]
         ]
        },
        "legend": {
         "tracegroupgap": 0
        },
        "margin": {
         "t": 60
        },
        "template": {
         "data": {
          "bar": [
           {
            "error_x": {
             "color": "#2a3f5f"
            },
            "error_y": {
             "color": "#2a3f5f"
            },
            "marker": {
             "line": {
              "color": "#E5ECF6",
              "width": 0.5
             },
             "pattern": {
              "fillmode": "overlay",
              "size": 10,
              "solidity": 0.2
             }
            },
            "type": "bar"
           }
          ],
          "barpolar": [
           {
            "marker": {
             "line": {
              "color": "#E5ECF6",
              "width": 0.5
             },
             "pattern": {
              "fillmode": "overlay",
              "size": 10,
              "solidity": 0.2
             }
            },
            "type": "barpolar"
           }
          ],
          "carpet": [
           {
            "aaxis": {
             "endlinecolor": "#2a3f5f",
             "gridcolor": "white",
             "linecolor": "white",
             "minorgridcolor": "white",
             "startlinecolor": "#2a3f5f"
            },
            "baxis": {
             "endlinecolor": "#2a3f5f",
             "gridcolor": "white",
             "linecolor": "white",
             "minorgridcolor": "white",
             "startlinecolor": "#2a3f5f"
            },
            "type": "carpet"
           }
          ],
          "choropleth": [
           {
            "colorbar": {
             "outlinewidth": 0,
             "ticks": ""
            },
            "type": "choropleth"
           }
          ],
          "contour": [
           {
            "colorbar": {
             "outlinewidth": 0,
             "ticks": ""
            },
            "colorscale": [
             [
              0,
              "#0d0887"
             ],
             [
              0.1111111111111111,
              "#46039f"
             ],
             [
              0.2222222222222222,
              "#7201a8"
             ],
             [
              0.3333333333333333,
              "#9c179e"
             ],
             [
              0.4444444444444444,
              "#bd3786"
             ],
             [
              0.5555555555555556,
              "#d8576b"
             ],
             [
              0.6666666666666666,
              "#ed7953"
             ],
             [
              0.7777777777777778,
              "#fb9f3a"
             ],
             [
              0.8888888888888888,
              "#fdca26"
             ],
             [
              1,
              "#f0f921"
             ]
            ],
            "type": "contour"
           }
          ],
          "contourcarpet": [
           {
            "colorbar": {
             "outlinewidth": 0,
             "ticks": ""
            },
            "type": "contourcarpet"
           }
          ],
          "heatmap": [
           {
            "colorbar": {
             "outlinewidth": 0,
             "ticks": ""
            },
            "colorscale": [
             [
              0,
              "#0d0887"
             ],
             [
              0.1111111111111111,
              "#46039f"
             ],
             [
              0.2222222222222222,
              "#7201a8"
             ],
             [
              0.3333333333333333,
              "#9c179e"
             ],
             [
              0.4444444444444444,
              "#bd3786"
             ],
             [
              0.5555555555555556,
              "#d8576b"
             ],
             [
              0.6666666666666666,
              "#ed7953"
             ],
             [
              0.7777777777777778,
              "#fb9f3a"
             ],
             [
              0.8888888888888888,
              "#fdca26"
             ],
             [
              1,
              "#f0f921"
             ]
            ],
            "type": "heatmap"
           }
          ],
          "heatmapgl": [
           {
            "colorbar": {
             "outlinewidth": 0,
             "ticks": ""
            },
            "colorscale": [
             [
              0,
              "#0d0887"
             ],
             [
              0.1111111111111111,
              "#46039f"
             ],
             [
              0.2222222222222222,
              "#7201a8"
             ],
             [
              0.3333333333333333,
              "#9c179e"
             ],
             [
              0.4444444444444444,
              "#bd3786"
             ],
             [
              0.5555555555555556,
              "#d8576b"
             ],
             [
              0.6666666666666666,
              "#ed7953"
             ],
             [
              0.7777777777777778,
              "#fb9f3a"
             ],
             [
              0.8888888888888888,
              "#fdca26"
             ],
             [
              1,
              "#f0f921"
             ]
            ],
            "type": "heatmapgl"
           }
          ],
          "histogram": [
           {
            "marker": {
             "pattern": {
              "fillmode": "overlay",
              "size": 10,
              "solidity": 0.2
             }
            },
            "type": "histogram"
           }
          ],
          "histogram2d": [
           {
            "colorbar": {
             "outlinewidth": 0,
             "ticks": ""
            },
            "colorscale": [
             [
              0,
              "#0d0887"
             ],
             [
              0.1111111111111111,
              "#46039f"
             ],
             [
              0.2222222222222222,
              "#7201a8"
             ],
             [
              0.3333333333333333,
              "#9c179e"
             ],
             [
              0.4444444444444444,
              "#bd3786"
             ],
             [
              0.5555555555555556,
              "#d8576b"
             ],
             [
              0.6666666666666666,
              "#ed7953"
             ],
             [
              0.7777777777777778,
              "#fb9f3a"
             ],
             [
              0.8888888888888888,
              "#fdca26"
             ],
             [
              1,
              "#f0f921"
             ]
            ],
            "type": "histogram2d"
           }
          ],
          "histogram2dcontour": [
           {
            "colorbar": {
             "outlinewidth": 0,
             "ticks": ""
            },
            "colorscale": [
             [
              0,
              "#0d0887"
             ],
             [
              0.1111111111111111,
              "#46039f"
             ],
             [
              0.2222222222222222,
              "#7201a8"
             ],
             [
              0.3333333333333333,
              "#9c179e"
             ],
             [
              0.4444444444444444,
              "#bd3786"
             ],
             [
              0.5555555555555556,
              "#d8576b"
             ],
             [
              0.6666666666666666,
              "#ed7953"
             ],
             [
              0.7777777777777778,
              "#fb9f3a"
             ],
             [
              0.8888888888888888,
              "#fdca26"
             ],
             [
              1,
              "#f0f921"
             ]
            ],
            "type": "histogram2dcontour"
           }
          ],
          "mesh3d": [
           {
            "colorbar": {
             "outlinewidth": 0,
             "ticks": ""
            },
            "type": "mesh3d"
           }
          ],
          "parcoords": [
           {
            "line": {
             "colorbar": {
              "outlinewidth": 0,
              "ticks": ""
             }
            },
            "type": "parcoords"
           }
          ],
          "pie": [
           {
            "automargin": true,
            "type": "pie"
           }
          ],
          "scatter": [
           {
            "fillpattern": {
             "fillmode": "overlay",
             "size": 10,
             "solidity": 0.2
            },
            "type": "scatter"
           }
          ],
          "scatter3d": [
           {
            "line": {
             "colorbar": {
              "outlinewidth": 0,
              "ticks": ""
             }
            },
            "marker": {
             "colorbar": {
              "outlinewidth": 0,
              "ticks": ""
             }
            },
            "type": "scatter3d"
           }
          ],
          "scattercarpet": [
           {
            "marker": {
             "colorbar": {
              "outlinewidth": 0,
              "ticks": ""
             }
            },
            "type": "scattercarpet"
           }
          ],
          "scattergeo": [
           {
            "marker": {
             "colorbar": {
              "outlinewidth": 0,
              "ticks": ""
             }
            },
            "type": "scattergeo"
           }
          ],
          "scattergl": [
           {
            "marker": {
             "colorbar": {
              "outlinewidth": 0,
              "ticks": ""
             }
            },
            "type": "scattergl"
           }
          ],
          "scattermapbox": [
           {
            "marker": {
             "colorbar": {
              "outlinewidth": 0,
              "ticks": ""
             }
            },
            "type": "scattermapbox"
           }
          ],
          "scatterpolar": [
           {
            "marker": {
             "colorbar": {
              "outlinewidth": 0,
              "ticks": ""
             }
            },
            "type": "scatterpolar"
           }
          ],
          "scatterpolargl": [
           {
            "marker": {
             "colorbar": {
              "outlinewidth": 0,
              "ticks": ""
             }
            },
            "type": "scatterpolargl"
           }
          ],
          "scatterternary": [
           {
            "marker": {
             "colorbar": {
              "outlinewidth": 0,
              "ticks": ""
             }
            },
            "type": "scatterternary"
           }
          ],
          "surface": [
           {
            "colorbar": {
             "outlinewidth": 0,
             "ticks": ""
            },
            "colorscale": [
             [
              0,
              "#0d0887"
             ],
             [
              0.1111111111111111,
              "#46039f"
             ],
             [
              0.2222222222222222,
              "#7201a8"
             ],
             [
              0.3333333333333333,
              "#9c179e"
             ],
             [
              0.4444444444444444,
              "#bd3786"
             ],
             [
              0.5555555555555556,
              "#d8576b"
             ],
             [
              0.6666666666666666,
              "#ed7953"
             ],
             [
              0.7777777777777778,
              "#fb9f3a"
             ],
             [
              0.8888888888888888,
              "#fdca26"
             ],
             [
              1,
              "#f0f921"
             ]
            ],
            "type": "surface"
           }
          ],
          "table": [
           {
            "cells": {
             "fill": {
              "color": "#EBF0F8"
             },
             "line": {
              "color": "white"
             }
            },
            "header": {
             "fill": {
              "color": "#C8D4E3"
             },
             "line": {
              "color": "white"
             }
            },
            "type": "table"
           }
          ]
         },
         "layout": {
          "annotationdefaults": {
           "arrowcolor": "#2a3f5f",
           "arrowhead": 0,
           "arrowwidth": 1
          },
          "autotypenumbers": "strict",
          "coloraxis": {
           "colorbar": {
            "outlinewidth": 0,
            "ticks": ""
           }
          },
          "colorscale": {
           "diverging": [
            [
             0,
             "#8e0152"
            ],
            [
             0.1,
             "#c51b7d"
            ],
            [
             0.2,
             "#de77ae"
            ],
            [
             0.3,
             "#f1b6da"
            ],
            [
             0.4,
             "#fde0ef"
            ],
            [
             0.5,
             "#f7f7f7"
            ],
            [
             0.6,
             "#e6f5d0"
            ],
            [
             0.7,
             "#b8e186"
            ],
            [
             0.8,
             "#7fbc41"
            ],
            [
             0.9,
             "#4d9221"
            ],
            [
             1,
             "#276419"
            ]
           ],
           "sequential": [
            [
             0,
             "#0d0887"
            ],
            [
             0.1111111111111111,
             "#46039f"
            ],
            [
             0.2222222222222222,
             "#7201a8"
            ],
            [
             0.3333333333333333,
             "#9c179e"
            ],
            [
             0.4444444444444444,
             "#bd3786"
            ],
            [
             0.5555555555555556,
             "#d8576b"
            ],
            [
             0.6666666666666666,
             "#ed7953"
            ],
            [
             0.7777777777777778,
             "#fb9f3a"
            ],
            [
             0.8888888888888888,
             "#fdca26"
            ],
            [
             1,
             "#f0f921"
            ]
           ],
           "sequentialminus": [
            [
             0,
             "#0d0887"
            ],
            [
             0.1111111111111111,
             "#46039f"
            ],
            [
             0.2222222222222222,
             "#7201a8"
            ],
            [
             0.3333333333333333,
             "#9c179e"
            ],
            [
             0.4444444444444444,
             "#bd3786"
            ],
            [
             0.5555555555555556,
             "#d8576b"
            ],
            [
             0.6666666666666666,
             "#ed7953"
            ],
            [
             0.7777777777777778,
             "#fb9f3a"
            ],
            [
             0.8888888888888888,
             "#fdca26"
            ],
            [
             1,
             "#f0f921"
            ]
           ]
          },
          "colorway": [
           "#636efa",
           "#EF553B",
           "#00cc96",
           "#ab63fa",
           "#FFA15A",
           "#19d3f3",
           "#FF6692",
           "#B6E880",
           "#FF97FF",
           "#FECB52"
          ],
          "font": {
           "color": "#2a3f5f"
          },
          "geo": {
           "bgcolor": "white",
           "lakecolor": "white",
           "landcolor": "#E5ECF6",
           "showlakes": true,
           "showland": true,
           "subunitcolor": "white"
          },
          "hoverlabel": {
           "align": "left"
          },
          "hovermode": "closest",
          "mapbox": {
           "style": "light"
          },
          "paper_bgcolor": "white",
          "plot_bgcolor": "#E5ECF6",
          "polar": {
           "angularaxis": {
            "gridcolor": "white",
            "linecolor": "white",
            "ticks": ""
           },
           "bgcolor": "#E5ECF6",
           "radialaxis": {
            "gridcolor": "white",
            "linecolor": "white",
            "ticks": ""
           }
          },
          "scene": {
           "xaxis": {
            "backgroundcolor": "#E5ECF6",
            "gridcolor": "white",
            "gridwidth": 2,
            "linecolor": "white",
            "showbackground": true,
            "ticks": "",
            "zerolinecolor": "white"
           },
           "yaxis": {
            "backgroundcolor": "#E5ECF6",
            "gridcolor": "white",
            "gridwidth": 2,
            "linecolor": "white",
            "showbackground": true,
            "ticks": "",
            "zerolinecolor": "white"
           },
           "zaxis": {
            "backgroundcolor": "#E5ECF6",
            "gridcolor": "white",
            "gridwidth": 2,
            "linecolor": "white",
            "showbackground": true,
            "ticks": "",
            "zerolinecolor": "white"
           }
          },
          "shapedefaults": {
           "line": {
            "color": "#2a3f5f"
           }
          },
          "ternary": {
           "aaxis": {
            "gridcolor": "white",
            "linecolor": "white",
            "ticks": ""
           },
           "baxis": {
            "gridcolor": "white",
            "linecolor": "white",
            "ticks": ""
           },
           "bgcolor": "#E5ECF6",
           "caxis": {
            "gridcolor": "white",
            "linecolor": "white",
            "ticks": ""
           }
          },
          "title": {
           "x": 0.05
          },
          "xaxis": {
           "automargin": true,
           "gridcolor": "white",
           "linecolor": "white",
           "ticks": "",
           "title": {
            "standoff": 15
           },
           "zerolinecolor": "white",
           "zerolinewidth": 2
          },
          "yaxis": {
           "automargin": true,
           "gridcolor": "white",
           "linecolor": "white",
           "ticks": "",
           "title": {
            "standoff": 15
           },
           "zerolinecolor": "white",
           "zerolinewidth": 2
          }
         }
        },
        "xaxis": {
         "anchor": "y",
         "autorange": true,
         "domain": [
          0,
          1
         ],
         "range": [
          -5.701428396227085,
          7.707117211151783
         ],
         "title": {
          "text": "PCA 1"
         },
         "type": "linear"
        },
        "yaxis": {
         "anchor": "x",
         "autorange": true,
         "domain": [
          0,
          1
         ],
         "range": [
          -3.686360697528415,
          7.3710865216305805
         ],
         "title": {
          "text": "PCA 2"
         },
         "type": "linear"
        }
       }
      },
      "image/png": "[encoded data removed]",
      "text/html": [
       "<div>                            <div id=\"d6a5c7e2-d915-4621-8469-08d5ff3009d3\" class=\"plotly-graph-div\" style=\"height:800px; width:100%;\"></div>            <script type=\"text/javascript\">                require([\"plotly\"], function(Plotly) {                    window.PLOTLYENV=window.PLOTLYENV || {};                                    if (document.getElementById(\"d6a5c7e2-d915-4621-8469-08d5ff3009d3\")) {                    Plotly.newPlot(                        \"d6a5c7e2-d915-4621-8469-08d5ff3009d3\",                        [{\"hovertemplate\":\"<b>%{hovertext}</b><br><br>PCA 1=%{x}<br>PCA 2=%{y}<br>clusters=%{marker.color}<extra></extra>\",\"hovertext\":[\"Afghanistan\",\"Albania\",\"Algeria\",\"Angola\",\"Antigua and Barbuda\",\"Argentina\",\"Armenia\",\"Australia\",\"Austria\",\"Azerbaijan\",\"Bahamas\",\"Bahrain\",\"Bangladesh\",\"Barbados\",\"Belarus\",\"Belgium\",\"Belize\",\"Benin\",\"Bhutan\",\"Bolivia\",\"Bosnia and Herzegovina\",\"Botswana\",\"Brazil\",\"Brunei\",\"Bulgaria\",\"Burkina Faso\",\"Burundi\",\"Cambodia\",\"Cameroon\",\"Canada\",\"Cape Verde\",\"Central African Republic\",\"Chad\",\"Chile\",\"China\",\"Colombia\",\"Comoros\",\"Congo, Dem. Rep.\",\"Congo, Rep.\",\"Costa Rica\",\"Cote d'Ivoire\",\"Croatia\",\"Cyprus\",\"Czech Republic\",\"Denmark\",\"Dominican Republic\",\"Ecuador\",\"Egypt\",\"El Salvador\",\"Equatorial Guinea\",\"Eritrea\",\"Estonia\",\"Fiji\",\"Finland\",\"France\",\"Gabon\",\"Gambia\",\"Georgia\",\"Germany\",\"Ghana\",\"Greece\",\"Grenada\",\"Guatemala\",\"Guinea\",\"Guinea-Bissau\",\"Guyana\",\"Haiti\",\"Hungary\",\"Iceland\",\"India\",\"Indonesia\",\"Iran\",\"Iraq\",\"Ireland\",\"Israel\",\"Italy\",\"Jamaica\",\"Japan\",\"Jordan\",\"Kazakhstan\",\"Kenya\",\"Kiribati\",\"Kuwait\",\"Kyrgyz Republic\",\"Lao\",\"Latvia\",\"Lebanon\",\"Lesotho\",\"Liberia\",\"Libya\",\"Lithuania\",\"Luxembourg\",\"Macedonia, FYR\",\"Madagascar\",\"Malawi\",\"Malaysia\",\"Maldives\",\"Mali\",\"Malta\",\"Mauritania\",\"Mauritius\",\"Micronesia, Fed. Sts.\",\"Moldova\",\"Mongolia\",\"Montenegro\",\"Morocco\",\"Mozambique\",\"Myanmar\",\"Namibia\",\"Nepal\",\"Netherlands\",\"New Zealand\",\"Niger\",\"Nigeria\",\"Norway\",\"Oman\",\"Pakistan\",\"Panama\",\"Paraguay\",\"Peru\",\"Philippines\",\"Poland\",\"Portugal\",\"Qatar\",\"Romania\",\"Russia\",\"Rwanda\",\"Samoa\",\"Saudi Arabia\",\"Senegal\",\"Serbia\",\"Seychelles\",\"Sierra Leone\",\"Singapore\",\"Slovak Republic\",\"Slovenia\",\"Solomon Islands\",\"South Africa\",\"South Korea\",\"Spain\",\"Sri Lanka\",\"St. Vincent and the Grenadines\",\"Sudan\",\"Suriname\",\"Sweden\",\"Switzerland\",\"Tajikistan\",\"Tanzania\",\"Thailand\",\"Timor-Leste\",\"Togo\",\"Tonga\",\"Tunisia\",\"Turkey\",\"Turkmenistan\",\"Uganda\",\"Ukraine\",\"United Arab Emirates\",\"United Kingdom\",\"United States\",\"Uruguay\",\"Uzbekistan\",\"Vanuatu\",\"Venezuela\",\"Vietnam\",\"Yemen\",\"Zambia\"],\"legendgroup\":\"\",\"marker\":{\"color\":[3,2,1,3,2,1,1,0,0,1,2,2,1,2,2,0,2,3,2,1,2,3,1,0,2,3,3,2,3,0,2,3,3,1,1,1,3,3,3,2,3,2,0,2,0,1,1,1,2,3,3,2,2,0,0,3,3,2,0,3,0,2,1,3,3,2,3,2,0,1,1,1,1,0,0,0,1,0,2,1,3,3,0,2,3,2,2,3,3,1,2,4,2,3,3,2,2,3,4,3,2,2,2,1,2,1,3,1,3,1,0,0,3,3,0,1,3,2,2,1,1,2,0,0,1,1,3,2,1,3,2,2,3,4,2,2,2,3,2,0,1,2,3,2,0,0,1,3,2,3,3,1,2,1,2,3,2,0,0,0,1,1,2,1,2,3,3],\"coloraxis\":\"coloraxis\",\"symbol\":\"circle\",\"size\":13},\"mode\":\"markers\",\"name\":\"\",\"orientation\":\"v\",\"showlegend\":false,\"x\":[-2.9130245873965848,0.4299113299319378,-0.2852250773700539,-2.932422654229272,1.0335758664708317,0.022407261573744217,-0.10158373658107388,2.34216460968588,2.9737636642043026,-0.18148699731199286,1.2687438639868223,1.6709963959114862,-1.123850934504571,1.081374196994727,0.5800251522399512,3.143785961263135,0.21125544693609755,-2.672313879357943,-0.1565709622345521,-0.7938515610201603,0.995867142809994,-0.8820876389925545,0.1407813609175989,2.4600860882799904,0.9065945150342386,-3.122053436409142,-2.8989706793026753,-0.5824118671980256,-2.807908574902407,2.543630550006368,-0.15580145212391805,-3.9649640194894387,-3.557555202700274,0.9516560554273618,0.05748198032756686,0.12114611965106957,-2.0935564308403007,-3.1733701154043663,-1.7256764076372633,0.9378266149945528,-2.581706232957865,1.1488634359443193,2.1744549200988756,2.0532632868341665,3.0104918213767737,-0.2311029227744664,0.009618332404326434,-0.8481866985512946,0.08186784453623124,-1.2934228376741683,-2.4746958976218325,1.6590833964277003,-0.188828409072514,2.4589601917945183,2.254270795309826,-1.4217145532419777,-2.2136695827033805,0.3219422066451583,2.6714219518476896,-2.054166929516788,1.7794929410031517,0.1455047992657878,-0.6635031249243215,-2.9695294733720394,-2.833616472861324,-0.32278146485573067,-4.409717274974023,1.839160126489531,2.4809239567775334,-1.3428257947703686,-0.9547501236855872,-0.0010646119252021395,-1.0292281606558102,3.668628044515041,1.485316658889605,2.1658099505088515,0.018609300222762224,2.265881986853444,0.16014264327314684,-0.29334649971037086,-1.8747024727806476,-1.2392168622446296,2.4656587034837143,-0.3399698801949051,-1.5277699460302676,1.188839844881242,1.1719907605412023,-1.8031513987910837,-1.77358023171766,0.8189430506398372,1.4097881234543037,6.917754960193371,0.733210319106409,-2.1360086738058874,-2.9798852527902886,1.230828421240836,1.1086010069884453,-3.412255127439311,3.679542597256496,-1.9539274713989838,0.8997750553071053,-0.38092879543955677,0.5095394527308873,-0.9449755375621793,1.026683891552108,-0.23287015644280776,-2.9205405089267207,-1.8371977355130806,-1.0433747144410404,-1.3070898468495713,3.3791572717097287,1.8157466593464606,-3.450167737011513,-4.912066145268673,3.7211951316445826,1.127386652371411,-2.3603471819217496,1.1637842932406408,0.11784622431902812,-0.02063545187582185,-0.782745870666241,1.2178275360138828,1.8140674832663026,4.242296344683002,0.5727927042682188,0.16376154366827406,-1.6797035613689006,-0.5628976320853284,0.8559358125570654,-1.91217030678987,0.8324201868879182,1.6025977456332416,-3.3816247855884756,5.783376296512415,2.0297236995727883,2.279491706438034,-0.8062091357080178,-1.191837355829424,1.918062451534529,2.019197211127389,-0.5755721548711342,0.026623465166129796,-2.3194238672962304,0.17167473056172078,2.8183228570177103,4.088544125700126,-1.2444643640093265,-2.5540491881613594,0.9260927074506508,-2.371970474867684,-1.9976422478014042,-0.7550085380741284,0.6022316119482019,0.4014377045807748,-0.46393616539244137,-2.854836240303578,0.3022997997848768,2.427141252940282,2.067989933317087,2.6412058310387385,0.6173125975107275,-0.8535289439327004,-0.8206311312965878,-0.5510355640952448,0.49852438549309436,-1.8874510567821299,-2.864063918124878],\"xaxis\":\"x\",\"y\":[0.09562057550551138,-0.5881556664216985,-0.4551744133397675,1.6955550705215476,0.13665870884235137,-1.7791865758294874,-0.5682517238414162,-1.988459153961992,-0.7346886586078281,-0.40286587348363606,-0.6565883632526901,0.5611624925384963,-0.9613974045352944,-0.48196953013634797,0.5353268339800483,0.663547920750987,0.6992426623417223,0.4181721245790088,0.7773956172959956,-0.12026108495343903,-0.9718884391705789,0.45736818032562726,-2.1510773058294337,0.016454043645934675,0.030277605445238158,0.0387749687918409,-0.42266332787881167,0.8948203322738487,0.07864889686740477,-1.7270946979437063,0.3512354576145572,0.38661931942066885,1.2891280920966872,-1.0764282701637695,-1.189996519829346,-1.7689091360987828,0.3436009878116028,1.050381633237967,2.1763489504338636,-1.3504723760959652,1.2078734222116319,-0.844812046428475,-0.004510447367102884,0.4231982799720617,-0.8655487291060775,-0.8806413020766549,-1.0452209670773602,-0.8198189017563547,-0.5678039433428756,2.3636945517207617,-0.6180252364945537,1.0215644729461166,1.0717645827004334,-1.0761429369309732,-1.866638129167075,0.3197233583730015,0.22349589624451785,-0.5182552248417759,-1.2736099005828208,0.38003439318869636,-1.7653969323374872,-0.4313363663231749,-0.6139108370318462,0.7285337855948659,-0.0911281950129983,1.361341358802573,1.7422304851976316,1.2729649266968388,-0.6347019259054008,-0.5351389457527038,-0.7323617864118175,-1.3343495948884097,-0.28326932294249796,1.7294931689378277,-1.0492243637123568,-1.7724854795157483,-0.23896130429128098,-2.435593833582056,0.5410651720875439,-0.23752543410728383,-0.1710299672655436,0.36913841094404326,0.08804977845740085,1.2981964120287288,0.5457868911492434,0.16204003453331478,-0.25629511214232154,2.037850979263368,1.053398665726388,0.38984165994536835,0.7298331976042449,4.849843686160695,-0.09486743144697724,0.3427330416914549,0.2166224191339924,1.601748635119906,1.009314260930252,0.5614685136080777,4.7654860502454826,1.3833845233477762,0.41647978070974123,0.10177362904942387,0.16165834016735056,0.5297995619111008,-0.2576415663057138,-0.28102776867821855,0.8932702935199464,-1.6136689946078093,1.0028411182968007,-0.7890486310126509,0.11570244168414674,-1.5847236873694535,0.9699224522576156,-0.09449868457583378,-1.4472549790076843,0.49161113599579664,-0.47939964609917274,1.1152762035505948,0.36103114009082715,-1.0866174117971674,-0.09649809045121047,-0.6591689610716244,-1.4508865366121566,-0.19560367370630063,-0.6373848425228669,-1.0666784817397432,-1.0016286214160548,-0.02210439599746419,-0.18344075868103943,0.09155993466113896,-0.869325996462672,2.939120570125814,-0.23630151587373,6.68209028392162,1.0504074455853813,0.1952752262626331,1.3034905887085475,-0.5567571642158569,-0.42746824472560935,-1.784382455889175,-0.9975514782350956,-0.016064081509923438,-0.7694073280346786,-0.09480764089342551,-0.9144809676023482,-0.42946190887019675,-0.02891743163179,-0.21502795550980003,0.828230655266384,-1.177512945689319,0.9583615863528245,-0.08789385675038974,0.17343570796484598,-1.4119897338384433,1.2918734692462943,-0.3520823821824595,-0.09757106690803857,1.1518130739301624,-1.535313494196245,-2.9973644598194547,-1.4304772329442983,-0.6544851120419425,0.6395700721266834,-1.2338861818339935,1.3907443156342516,-0.10945301487766552,0.4859979854996449],\"yaxis\":\"y\",\"type\":\"scatter\"}],                        {\"template\":{\"data\":{\"histogram2dcontour\":[{\"type\":\"histogram2dcontour\",\"colorbar\":{\"outlinewidth\":0,\"ticks\":\"\"},\"colorscale\":[[0.0,\"#0d0887\"],[0.1111111111111111,\"#46039f\"],[0.2222222222222222,\"#7201a8\"],[0.3333333333333333,\"#9c179e\"],[0.4444444444444444,\"#bd3786\"],[0.5555555555555556,\"#d8576b\"],[0.6666666666666666,\"#ed7953\"],[0.7777777777777778,\"#fb9f3a\"],[0.8888888888888888,\"#fdca26\"],[1.0,\"#f0f921\"]]}],\"choropleth\":[{\"type\":\"choropleth\",\"colorbar\":{\"outlinewidth\":0,\"ticks\":\"\"}}],\"histogram2d\":[{\"type\":\"histogram2d\",\"colorbar\":{\"outlinewidth\":0,\"ticks\":\"\"},\"colorscale\":[[0.0,\"#0d0887\"],[0.1111111111111111,\"#46039f\"],[0.2222222222222222,\"#7201a8\"],[0.3333333333333333,\"#9c179e\"],[0.4444444444444444,\"#bd3786\"],[0.5555555555555556,\"#d8576b\"],[0.6666666666666666,\"#ed7953\"],[0.7777777777777778,\"#fb9f3a\"],[0.8888888888888888,\"#fdca26\"],[1.0,\"#f0f921\"]]}],\"heatmap\":[{\"type\":\"heatmap\",\"colorbar\":{\"outlinewidth\":0,\"ticks\":\"\"},\"colorscale\":[[0.0,\"#0d0887\"],[0.1111111111111111,\"#46039f\"],[0.2222222222222222,\"#7201a8\"],[0.3333333333333333,\"#9c179e\"],[0.4444444444444444,\"#bd3786\"],[0.5555555555555556,\"#d8576b\"],[0.6666666666666666,\"#ed7953\"],[0.7777777777777778,\"#fb9f3a\"],[0.8888888888888888,\"#fdca26\"],[1.0,\"#f0f921\"]]}],\"heatmapgl\":[{\"type\":\"heatmapgl\",\"colorbar\":{\"outlinewidth\":0,\"ticks\":\"\"},\"colorscale\":[[0.0,\"#0d0887\"],[0.1111111111111111,\"#46039f\"],[0.2222222222222222,\"#7201a8\"],[0.3333333333333333,\"#9c179e\"],[0.4444444444444444,\"#bd3786\"],[0.5555555555555556,\"#d8576b\"],[0.6666666666666666,\"#ed7953\"],[0.7777777777777778,\"#fb9f3a\"],[0.8888888888888888,\"#fdca26\"],[1.0,\"#f0f921\"]]}],\"contourcarpet\":[{\"type\":\"contourcarpet\",\"colorbar\":{\"outlinewidth\":0,\"ticks\":\"\"}}],\"contour\":[{\"type\":\"contour\",\"colorbar\":{\"outlinewidth\":0,\"ticks\":\"\"},\"colorscale\":[[0.0,\"#0d0887\"],[0.1111111111111111,\"#46039f\"],[0.2222222222222222,\"#7201a8\"],[0.3333333333333333,\"#9c179e\"],[0.4444444444444444,\"#bd3786\"],[0.5555555555555556,\"#d8576b\"],[0.6666666666666666,\"#ed7953\"],[0.7777777777777778,\"#fb9f3a\"],[0.8888888888888888,\"#fdca26\"],[1.0,\"#f0f921\"]]}],\"surface\":[{\"type\":\"surface\",\"colorbar\":{\"outlinewidth\":0,\"ticks\":\"\"},\"colorscale\":[[0.0,\"#0d0887\"],[0.1111111111111111,\"#46039f\"],[0.2222222222222222,\"#7201a8\"],[0.3333333333333333,\"#9c179e\"],[0.4444444444444444,\"#bd3786\"],[0.5555555555555556,\"#d8576b\"],[0.6666666666666666,\"#ed7953\"],[0.7777777777777778,\"#fb9f3a\"],[0.8888888888888888,\"#fdca26\"],[1.0,\"#f0f921\"]]}],\"mesh3d\":[{\"type\":\"mesh3d\",\"colorbar\":{\"outlinewidth\":0,\"ticks\":\"\"}}],\"scatter\":[{\"fillpattern\":{\"fillmode\":\"overlay\",\"size\":10,\"solidity\":0.2},\"type\":\"scatter\"}],\"parcoords\":[{\"type\":\"parcoords\",\"line\":{\"colorbar\":{\"outlinewidth\":0,\"ticks\":\"\"}}}],\"scatterpolargl\":[{\"type\":\"scatterpolargl\",\"marker\":{\"colorbar\":{\"outlinewidth\":0,\"ticks\":\"\"}}}],\"bar\":[{\"error_x\":{\"color\":\"#2a3f5f\"},\"error_y\":{\"color\":\"#2a3f5f\"},\"marker\":{\"line\":{\"color\":\"#E5ECF6\",\"width\":0.5},\"pattern\":{\"fillmode\":\"overlay\",\"size\":10,\"solidity\":0.2}},\"type\":\"bar\"}],\"scattergeo\":[{\"type\":\"scattergeo\",\"marker\":{\"colorbar\":{\"outlinewidth\":0,\"ticks\":\"\"}}}],\"scatterpolar\":[{\"type\":\"scatterpolar\",\"marker\":{\"colorbar\":{\"outlinewidth\":0,\"ticks\":\"\"}}}],\"histogram\":[{\"marker\":{\"pattern\":{\"fillmode\":\"overlay\",\"size\":10,\"solidity\":0.2}},\"type\":\"histogram\"}],\"scattergl\":[{\"type\":\"scattergl\",\"marker\":{\"colorbar\":{\"outlinewidth\":0,\"ticks\":\"\"}}}],\"scatter3d\":[{\"type\":\"scatter3d\",\"line\":{\"colorbar\":{\"outlinewidth\":0,\"ticks\":\"\"}},\"marker\":{\"colorbar\":{\"outlinewidth\":0,\"ticks\":\"\"}}}],\"scattermapbox\":[{\"type\":\"scattermapbox\",\"marker\":{\"colorbar\":{\"outlinewidth\":0,\"ticks\":\"\"}}}],\"scatterternary\":[{\"type\":\"scatterternary\",\"marker\":{\"colorbar\":{\"outlinewidth\":0,\"ticks\":\"\"}}}],\"scattercarpet\":[{\"type\":\"scattercarpet\",\"marker\":{\"colorbar\":{\"outlinewidth\":0,\"ticks\":\"\"}}}],\"carpet\":[{\"aaxis\":{\"endlinecolor\":\"#2a3f5f\",\"gridcolor\":\"white\",\"linecolor\":\"white\",\"minorgridcolor\":\"white\",\"startlinecolor\":\"#2a3f5f\"},\"baxis\":{\"endlinecolor\":\"#2a3f5f\",\"gridcolor\":\"white\",\"linecolor\":\"white\",\"minorgridcolor\":\"white\",\"startlinecolor\":\"#2a3f5f\"},\"type\":\"carpet\"}],\"table\":[{\"cells\":{\"fill\":{\"color\":\"#EBF0F8\"},\"line\":{\"color\":\"white\"}},\"header\":{\"fill\":{\"color\":\"#C8D4E3\"},\"line\":{\"color\":\"white\"}},\"type\":\"table\"}],\"barpolar\":[{\"marker\":{\"line\":{\"color\":\"#E5ECF6\",\"width\":0.5},\"pattern\":{\"fillmode\":\"overlay\",\"size\":10,\"solidity\":0.2}},\"type\":\"barpolar\"}],\"pie\":[{\"automargin\":true,\"type\":\"pie\"}]},\"layout\":{\"autotypenumbers\":\"strict\",\"colorway\":[\"#636efa\",\"#EF553B\",\"#00cc96\",\"#ab63fa\",\"#FFA15A\",\"#19d3f3\",\"#FF6692\",\"#B6E880\",\"#FF97FF\",\"#FECB52\"],\"font\":{\"color\":\"#2a3f5f\"},\"hovermode\":\"closest\",\"hoverlabel\":{\"align\":\"left\"},\"paper_bgcolor\":\"white\",\"plot_bgcolor\":\"#E5ECF6\",\"polar\":{\"bgcolor\":\"#E5ECF6\",\"angularaxis\":{\"gridcolor\":\"white\",\"linecolor\":\"white\",\"ticks\":\"\"},\"radialaxis\":{\"gridcolor\":\"white\",\"linecolor\":\"white\",\"ticks\":\"\"}},\"ternary\":{\"bgcolor\":\"#E5ECF6\",\"aaxis\":{\"gridcolor\":\"white\",\"linecolor\":\"white\",\"ticks\":\"\"},\"baxis\":{\"gridcolor\":\"white\",\"linecolor\":\"white\",\"ticks\":\"\"},\"caxis\":{\"gridcolor\":\"white\",\"linecolor\":\"white\",\"ticks\":\"\"}},\"coloraxis\":{\"colorbar\":{\"outlinewidth\":0,\"ticks\":\"\"}},\"colorscale\":{\"sequential\":[[0.0,\"#0d0887\"],[0.1111111111111111,\"#46039f\"],[0.2222222222222222,\"#7201a8\"],[0.3333333333333333,\"#9c179e\"],[0.4444444444444444,\"#bd3786\"],[0.5555555555555556,\"#d8576b\"],[0.6666666666666666,\"#ed7953\"],[0.7777777777777778,\"#fb9f3a\"],[0.8888888888888888,\"#fdca26\"],[1.0,\"#f0f921\"]],\"sequentialminus\":[[0.0,\"#0d0887\"],[0.1111111111111111,\"#46039f\"],[0.2222222222222222,\"#7201a8\"],[0.3333333333333333,\"#9c179e\"],[0.4444444444444444,\"#bd3786\"],[0.5555555555555556,\"#d8576b\"],[0.6666666666666666,\"#ed7953\"],[0.7777777777777778,\"#fb9f3a\"],[0.8888888888888888,\"#fdca26\"],[1.0,\"#f0f921\"]],\"diverging\":[[0,\"#8e0152\"],[0.1,\"#c51b7d\"],[0.2,\"#de77ae\"],[0.3,\"#f1b6da\"],[0.4,\"#fde0ef\"],[0.5,\"#f7f7f7\"],[0.6,\"#e6f5d0\"],[0.7,\"#b8e186\"],[0.8,\"#7fbc41\"],[0.9,\"#4d9221\"],[1,\"#276419\"]]},\"xaxis\":{\"gridcolor\":\"white\",\"linecolor\":\"white\",\"ticks\":\"\",\"title\":{\"standoff\":15},\"zerolinecolor\":\"white\",\"automargin\":true,\"zerolinewidth\":2},\"yaxis\":{\"gridcolor\":\"white\",\"linecolor\":\"white\",\"ticks\":\"\",\"title\":{\"standoff\":15},\"zerolinecolor\":\"white\",\"automargin\":true,\"zerolinewidth\":2},\"scene\":{\"xaxis\":{\"backgroundcolor\":\"#E5ECF6\",\"gridcolor\":\"white\",\"linecolor\":\"white\",\"showbackground\":true,\"ticks\":\"\",\"zerolinecolor\":\"white\",\"gridwidth\":2},\"yaxis\":{\"backgroundcolor\":\"#E5ECF6\",\"gridcolor\":\"white\",\"linecolor\":\"white\",\"showbackground\":true,\"ticks\":\"\",\"zerolinecolor\":\"white\",\"gridwidth\":2},\"zaxis\":{\"backgroundcolor\":\"#E5ECF6\",\"gridcolor\":\"white\",\"linecolor\":\"white\",\"showbackground\":true,\"ticks\":\"\",\"zerolinecolor\":\"white\",\"gridwidth\":2}},\"shapedefaults\":{\"line\":{\"color\":\"#2a3f5f\"}},\"annotationdefaults\":{\"arrowcolor\":\"#2a3f5f\",\"arrowhead\":0,\"arrowwidth\":1},\"geo\":{\"bgcolor\":\"white\",\"landcolor\":\"#E5ECF6\",\"subunitcolor\":\"white\",\"showland\":true,\"showlakes\":true,\"lakecolor\":\"white\"},\"title\":{\"x\":0.05},\"mapbox\":{\"style\":\"light\"}}},\"xaxis\":{\"anchor\":\"y\",\"domain\":[0.0,1.0],\"title\":{\"text\":\"PCA 1\"}},\"yaxis\":{\"anchor\":\"x\",\"domain\":[0.0,1.0],\"title\":{\"text\":\"PCA 2\"}},\"coloraxis\":{\"colorbar\":{\"title\":{\"text\":\"clusters\"}},\"colorscale\":[[0.0,\"#0d0887\"],[0.1111111111111111,\"#46039f\"],[0.2222222222222222,\"#7201a8\"],[0.3333333333333333,\"#9c179e\"],[0.4444444444444444,\"#bd3786\"],[0.5555555555555556,\"#d8576b\"],[0.6666666666666666,\"#ed7953\"],[0.7777777777777778,\"#fb9f3a\"],[0.8888888888888888,\"#fdca26\"],[1.0,\"#f0f921\"]]},\"legend\":{\"tracegroupgap\":0},\"margin\":{\"t\":60},\"height\":800},                        {\"responsive\": true}                    ).then(function(){\n",
       "                            \n",
       "var gd = document.getElementById('d6a5c7e2-d915-4621-8469-08d5ff3009d3');\n",
       "var x = new MutationObserver(function (mutations, observer) {{\n",
       "        var display = window.getComputedStyle(gd).display;\n",
       "        if (!display || display === 'none') {{\n",
       "            console.log([gd, 'removed!']);\n",
       "            Plotly.purge(gd);\n",
       "            observer.disconnect();\n",
       "        }}\n",
       "}});\n",
       "\n",
       "// Listen for the removal of the full notebook cells\n",
       "var notebookContainer = gd.closest('#notebook-container');\n",
       "if (notebookContainer) {{\n",
       "    x.observe(notebookContainer, {childList: true});\n",
       "}}\n",
       "\n",
       "// Listen for the clearing of the current output cell\n",
       "var outputEl = gd.closest('.output');\n",
       "if (outputEl) {{\n",
       "    x.observe(outputEl, {childList: true});\n",
       "}}\n",
       "\n",
       "                        })                };                });            </script>        </div>"
      ]
     },
     "metadata": {},
     "output_type": "display_data"
    }
   ],
   "source": [
    "fig = px.scatter(\n",
    "    plot_df,\n",
    "    x='PCA 1',\n",
    "    y='PCA 2',\n",
    "    color='clusters',\n",
    "    hover_name = 'country',\n",
    "    height=800\n",
    ")\n",
    "fig.update_traces(marker=dict(size=13))\n",
    "fig.show()"
   ]
  },
  {
   "cell_type": "markdown",
   "id": "80c04ce5-d522-47f7-87a4-653bb3862435",
   "metadata": {},
   "source": [
    "### UMAP"
   ]
  },
  {
   "cell_type": "code",
   "execution_count": 88,
   "id": "1debec31-c458-41a6-adbb-03da7bca5c14",
   "metadata": {},
   "outputs": [],
   "source": [
    "import umap.umap_ as umap\n",
    "reducer = umap.UMAP(n_components=2, min_dist=1, n_neighbors=5, metric='euclidean', n_jobs=-1, random_state=42)"
   ]
  },
  {
   "cell_type": "code",
   "execution_count": 89,
   "id": "99c5a096-eea6-4d63-ac60-e67566cacbe0",
   "metadata": {},
   "outputs": [
    {
     "name": "stderr",
     "output_type": "stream",
     "text": [
      "D:\\PythonDS\\Lib\\site-packages\\sklearn\\utils\\deprecation.py:151: FutureWarning:\n",
      "\n",
      "'force_all_finite' was renamed to 'ensure_all_finite' in 1.6 and will be removed in 1.8.\n",
      "\n",
      "D:\\PythonDS\\Lib\\site-packages\\umap\\umap_.py:1952: UserWarning:\n",
      "\n",
      "n_jobs value 1 overridden to 1 by setting random_state. Use no seed for parallelism.\n",
      "\n"
     ]
    }
   ],
   "source": [
    "embedding = reducer.fit_transform(X_scaled)"
   ]
  },
  {
   "cell_type": "code",
   "execution_count": 90,
   "id": "f389254c-c120-4727-b79e-f825eb7136be",
   "metadata": {},
   "outputs": [],
   "source": [
    "plot_df = pd.DataFrame(embedding, columns=['UMAP 1', 'UMAP 2'])\n",
    "plot_df['clusters']=labels\n",
    "plot_df['country'] = df['country'].values"
   ]
  },
  {
   "cell_type": "code",
   "execution_count": 91,
   "id": "3c177800-07df-4d8a-bdf8-aedce66cffbe",
   "metadata": {},
   "outputs": [
    {
     "data": {
      "application/vnd.plotly.v1+json": {
       "config": {
        "plotlyServerURL": "https://plot.ly"
       },
       "data": [
        {
         "hovertemplate": "<b>%{hovertext}</b><br><br>UMAP 1=%{x}<br>UMAP 2=%{y}<br>clusters=%{marker.color}<extra></extra>",
         "hovertext": [
          "Afghanistan",
          "Albania",
          "Algeria",
          "Angola",
          "Antigua and Barbuda",
          "Argentina",
          "Armenia",
          "Australia",
          "Austria",
          "Azerbaijan",
          "Bahamas",
          "Bahrain",
          "Bangladesh",
          "Barbados",
          "Belarus",
          "Belgium",
          "Belize",
          "Benin",
          "Bhutan",
          "Bolivia",
          "Bosnia and Herzegovina",
          "Botswana",
          "Brazil",
          "Brunei",
          "Bulgaria",
          "Burkina Faso",
          "Burundi",
          "Cambodia",
          "Cameroon",
          "Canada",
          "Cape Verde",
          "Central African Republic",
          "Chad",
          "Chile",
          "China",
          "Colombia",
          "Comoros",
          "Congo, Dem. Rep.",
          "Congo, Rep.",
          "Costa Rica",
          "Cote d'Ivoire",
          "Croatia",
          "Cyprus",
          "Czech Republic",
          "Denmark",
          "Dominican Republic",
          "Ecuador",
          "Egypt",
          "El Salvador",
          "Equatorial Guinea",
          "Eritrea",
          "Estonia",
          "Fiji",
          "Finland",
          "France",
          "Gabon",
          "Gambia",
          "Georgia",
          "Germany",
          "Ghana",
          "Greece",
          "Grenada",
          "Guatemala",
          "Guinea",
          "Guinea-Bissau",
          "Guyana",
          "Haiti",
          "Hungary",
          "Iceland",
          "India",
          "Indonesia",
          "Iran",
          "Iraq",
          "Ireland",
          "Israel",
          "Italy",
          "Jamaica",
          "Japan",
          "Jordan",
          "Kazakhstan",
          "Kenya",
          "Kiribati",
          "Kuwait",
          "Kyrgyz Republic",
          "Lao",
          "Latvia",
          "Lebanon",
          "Lesotho",
          "Liberia",
          "Libya",
          "Lithuania",
          "Luxembourg",
          "Macedonia, FYR",
          "Madagascar",
          "Malawi",
          "Malaysia",
          "Maldives",
          "Mali",
          "Malta",
          "Mauritania",
          "Mauritius",
          "Micronesia, Fed. Sts.",
          "Moldova",
          "Mongolia",
          "Montenegro",
          "Morocco",
          "Mozambique",
          "Myanmar",
          "Namibia",
          "Nepal",
          "Netherlands",
          "New Zealand",
          "Niger",
          "Nigeria",
          "Norway",
          "Oman",
          "Pakistan",
          "Panama",
          "Paraguay",
          "Peru",
          "Philippines",
          "Poland",
          "Portugal",
          "Qatar",
          "Romania",
          "Russia",
          "Rwanda",
          "Samoa",
          "Saudi Arabia",
          "Senegal",
          "Serbia",
          "Seychelles",
          "Sierra Leone",
          "Singapore",
          "Slovak Republic",
          "Slovenia",
          "Solomon Islands",
          "South Africa",
          "South Korea",
          "Spain",
          "Sri Lanka",
          "St. Vincent and the Grenadines",
          "Sudan",
          "Suriname",
          "Sweden",
          "Switzerland",
          "Tajikistan",
          "Tanzania",
          "Thailand",
          "Timor-Leste",
          "Togo",
          "Tonga",
          "Tunisia",
          "Turkey",
          "Turkmenistan",
          "Uganda",
          "Ukraine",
          "United Arab Emirates",
          "United Kingdom",
          "United States",
          "Uruguay",
          "Uzbekistan",
          "Vanuatu",
          "Venezuela",
          "Vietnam",
          "Yemen",
          "Zambia"
         ],
         "legendgroup": "",
         "marker": {
          "color": [
           3,
           2,
           1,
           3,
           2,
           1,
           1,
           0,
           0,
           1,
           2,
           2,
           1,
           2,
           2,
           0,
           2,
           3,
           2,
           1,
           2,
           3,
           1,
           0,
           2,
           3,
           3,
           2,
           3,
           0,
           2,
           3,
           3,
           1,
           1,
           1,
           3,
           3,
           3,
           2,
           3,
           2,
           0,
           2,
           0,
           1,
           1,
           1,
           2,
           3,
           3,
           2,
           2,
           0,
           0,
           3,
           3,
           2,
           0,
           3,
           0,
           2,
           1,
           3,
           3,
           2,
           3,
           2,
           0,
           1,
           1,
           1,
           1,
           0,
           0,
           0,
           1,
           0,
           2,
           1,
           3,
           3,
           0,
           2,
           3,
           2,
           2,
           3,
           3,
           1,
           2,
           4,
           2,
           3,
           3,
           2,
           2,
           3,
           4,
           3,
           2,
           2,
           2,
           1,
           2,
           1,
           3,
           1,
           3,
           1,
           0,
           0,
           3,
           3,
           0,
           1,
           3,
           2,
           2,
           1,
           1,
           2,
           0,
           0,
           1,
           1,
           3,
           2,
           1,
           3,
           2,
           2,
           3,
           4,
           2,
           2,
           2,
           3,
           2,
           0,
           1,
           2,
           3,
           2,
           0,
           0,
           1,
           3,
           2,
           3,
           3,
           1,
           2,
           1,
           2,
           3,
           2,
           0,
           0,
           0,
           1,
           1,
           2,
           1,
           2,
           3,
           3
          ],
          "coloraxis": "coloraxis",
          "size": 13,
          "symbol": "circle"
         },
         "mode": "markers",
         "name": "",
         "orientation": "v",
         "showlegend": false,
         "type": "scatter",
         "x": [
          8.557760238647461,
          9.6322660446167,
          12.910643577575684,
          10.755950927734375,
          6.958210468292236,
          12.916829109191895,
          10.00890064239502,
          -1.465128779411316,
          0.37509238719940186,
          12.896902084350586,
          9.771464347839355,
          6.652392387390137,
          11.479449272155762,
          9.030891418457031,
          7.847433090209961,
          2.035714864730835,
          7.213545799255371,
          7.674633979797363,
          6.994070053100586,
          11.221417427062988,
          9.852179527282715,
          7.628372669219971,
          12.434671401977539,
          6.187496185302734,
          7.2771687507629395,
          7.0234599113464355,
          9.348101615905762,
          7.570417404174805,
          7.426553249359131,
          -0.6235121488571167,
          8.62491512298584,
          6.549872398376465,
          6.661410808563232,
          11.095449447631836,
          11.70337200164795,
          12.655280113220215,
          8.675210952758789,
          9.860457420349121,
          11.774149894714355,
          10.903016090393066,
          7.765683650970459,
          9.94490909576416,
          6.308979511260986,
          5.095729351043701,
          0.04040093347430229,
          11.45615291595459,
          11.538290023803711,
          11.792118072509766,
          10.53016471862793,
          11.58848762512207,
          9.941901206970215,
          4.546957492828369,
          7.232519149780273,
          -1.6444207429885864,
          -0.6916100978851318,
          12.626006126403809,
          8.39411735534668,
          9.364367485046387,
          0.07355812191963196,
          11.217605590820312,
          -3.2483811378479004,
          9.620826721191406,
          10.862051963806152,
          9.75067138671875,
          7.954739093780518,
          6.34315299987793,
          6.512916088104248,
          4.233273983001709,
          -1.230647325515747,
          11.117486953735352,
          12.316949844360352,
          13.207799911499023,
          12.374119758605957,
          2.7893998622894287,
          -1.9132733345031738,
          -2.3554437160491943,
          8.93891716003418,
          -1.6487631797790527,
          5.953919887542725,
          13.485486030578613,
          9.270468711853027,
          5.810495376586914,
          5.493393421173096,
          5.906275749206543,
          10.926515579223633,
          6.47039270401001,
          8.01870059967041,
          6.364200115203857,
          6.1768035888671875,
          7.243202209472656,
          5.205583572387695,
          2.1558375358581543,
          8.016239166259766,
          10.033867835998535,
          8.947747230529785,
          4.859020233154297,
          5.241762161254883,
          6.87896203994751,
          3.1341168880462646,
          11.320107460021973,
          6.779757022857666,
          5.396034240722656,
          9.115317344665527,
          13.64547348022461,
          8.748275756835938,
          10.244876861572266,
          8.459152221679688,
          11.385364532470703,
          7.13997220993042,
          11.602163314819336,
          1.3476812839508057,
          -2.7500627040863037,
          6.300022125244141,
          13.84877872467041,
          -0.2649291455745697,
          6.997285842895508,
          10.445599555969238,
          5.092604637145996,
          7.021347522735596,
          12.217759132385254,
          10.43346881866455,
          9.37553596496582,
          -3.501274824142456,
          5.187065601348877,
          10.335865020751953,
          13.38788890838623,
          8.717087745666504,
          9.942281723022461,
          6.435006141662598,
          9.193146705627441,
          10.232254028320312,
          3.914022445678711,
          9.184103012084961,
          2.575822353363037,
          4.187730312347412,
          4.131932735443115,
          5.97023344039917,
          8.301461219787598,
          6.927327632904053,
          -2.83203387260437,
          13.660869598388672,
          8.835466384887695,
          11.910523414611816,
          7.8447265625,
          -0.6639707684516907,
          0.6172742247581482,
          10.378998756408691,
          9.186660766601562,
          5.969504356384277,
          12.894879341125488,
          7.421714782714844,
          9.541352272033691,
          6.993167877197266,
          12.443683624267578,
          8.015338897705078,
          9.635564804077148,
          8.496658325195312,
          6.273767471313477,
          -2.0308170318603516,
          0.1913444846868515,
          11.65577507019043,
          12.445908546447754,
          8.314068794250488,
          14.113682746887207,
          6.0308403968811035,
          12.546256065368652,
          9.08803939819336
         ],
         "xaxis": "x",
         "y": [
          14.171607971191406,
          5.238558769226074,
          7.976821422576904,
          12.829314231872559,
          3.4076287746429443,
          5.012939929962158,
          5.904036521911621,
          5.5599045753479,
          4.206240177154541,
          7.720630168914795,
          3.470593214035034,
          0.8198959231376648,
          8.557446479797363,
          3.112959384918213,
          5.001724720001221,
          2.9228930473327637,
          7.018746376037598,
          12.757805824279785,
          7.443749904632568,
          8.05390453338623,
          1.9940801858901978,
          9.29987907409668,
          4.0538554191589355,
          -1.0825953483581543,
          4.214880466461182,
          14.325357437133789,
          15.18532657623291,
          8.09778118133545,
          13.654860496520996,
          5.863334655761719,
          7.082491397857666,
          13.543730735778809,
          12.673108100891113,
          3.6925013065338135,
          6.094377517700195,
          3.512589693069458,
          11.406882286071777,
          13.673355102539062,
          12.884827613830566,
          2.358652353286743,
          12.128133773803711,
          3.631152629852295,
          2.1638104915618896,
          2.9255499839782715,
          4.322430610656738,
          6.344609260559082,
          5.0503950119018555,
          7.676753997802734,
          5.863541603088379,
          13.167949676513672,
          10.381103515625,
          4.165519714355469,
          7.903057098388672,
          4.597490310668945,
          6.029341220855713,
          10.016144752502441,
          12.13850212097168,
          1.918597936630249,
          5.293522834777832,
          11.198898315429688,
          6.161593437194824,
          6.3237199783325195,
          6.965585708618164,
          12.59457015991211,
          14.713976860046387,
          8.008367538452148,
          12.292435646057129,
          4.696076393127441,
          4.218258380889893,
          9.120063781738281,
          8.554977416992188,
          6.082983493804932,
          10.937663078308105,
          3.2288496494293213,
          6.544943809509277,
          6.260997295379639,
          5.83841609954834,
          6.68763542175293,
          6.290318489074707,
          8.729107856750488,
          10.789320945739746,
          10.146728515625,
          -0.5567017197608948,
          7.3852128982543945,
          10.18011474609375,
          3.697559118270874,
          2.8525278568267822,
          10.912753105163574,
          10.596602439880371,
          0.5115878582000732,
          3.9556190967559814,
          3.892540454864502,
          3.7701616287231445,
          10.94459342956543,
          13.59716796875,
          4.9651031494140625,
          5.086974143981934,
          13.384408950805664,
          4.1192755699157715,
          12.132915496826172,
          4.218917369842529,
          9.639674186706543,
          1.3519909381866455,
          9.876049995422363,
          2.3915438652038574,
          6.88404655456543,
          12.744097709655762,
          9.317787170410156,
          9.363238334655762,
          8.570884704589844,
          3.382331371307373,
          5.68696928024292,
          13.190528869628906,
          10.514266967773438,
          3.478837251663208,
          -0.07146644592285156,
          9.911298751831055,
          5.300047397613525,
          6.178563117980957,
          5.710716724395752,
          8.116750717163086,
          4.021114826202393,
          6.504159927368164,
          -0.8867430090904236,
          5.176668643951416,
          7.082393169403076,
          14.318779945373535,
          7.308192729949951,
          0.23093663156032562,
          11.557774543762207,
          1.3954483270645142,
          4.9595208168029785,
          14.87517261505127,
          4.449477195739746,
          3.603626012802124,
          2.865616798400879,
          8.701482772827148,
          9.640484809875488,
          2.9463868141174316,
          6.732720375061035,
          8.19832992553711,
          6.217101573944092,
          11.594916343688965,
          5.426225185394287,
          3.831618070602417,
          3.4477219581604004,
          8.591439247131348,
          12.770259857177734,
          4.61811637878418,
          11.902745246887207,
          10.913853645324707,
          7.866843223571777,
          5.062749862670898,
          4.370489597320557,
          7.519109725952148,
          14.323529243469238,
          4.12628698348999,
          -0.1628396064043045,
          5.535560131072998,
          5.906334400177002,
          3.7888689041137695,
          8.297508239746094,
          8.443920135498047,
          9.348865509033203,
          5.991167068481445,
          10.80195140838623,
          13.156109809875488
         ],
         "yaxis": "y"
        }
       ],
       "layout": {
        "autosize": true,
        "coloraxis": {
         "colorbar": {
          "title": {
           "text": "clusters"
          }
         },
         "colorscale": [
          [
           0,
           "#0d0887"
          ],
          [
           0.1111111111111111,
           "#46039f"
          ],
          [
           0.2222222222222222,
           "#7201a8"
          ],
          [
           0.3333333333333333,
           "#9c179e"
          ],
          [
           0.4444444444444444,
           "#bd3786"
          ],
          [
           0.5555555555555556,
           "#d8576b"
          ],
          [
           0.6666666666666666,
           "#ed7953"
          ],
          [
           0.7777777777777778,
           "#fb9f3a"
          ],
          [
           0.8888888888888888,
           "#fdca26"
          ],
          [
           1,
           "#f0f921"
          ]
         ]
        },
        "legend": {
         "tracegroupgap": 0
        },
        "margin": {
         "t": 60
        },
        "template": {
         "data": {
          "bar": [
           {
            "error_x": {
             "color": "#2a3f5f"
            },
            "error_y": {
             "color": "#2a3f5f"
            },
            "marker": {
             "line": {
              "color": "#E5ECF6",
              "width": 0.5
             },
             "pattern": {
              "fillmode": "overlay",
              "size": 10,
              "solidity": 0.2
             }
            },
            "type": "bar"
           }
          ],
          "barpolar": [
           {
            "marker": {
             "line": {
              "color": "#E5ECF6",
              "width": 0.5
             },
             "pattern": {
              "fillmode": "overlay",
              "size": 10,
              "solidity": 0.2
             }
            },
            "type": "barpolar"
           }
          ],
          "carpet": [
           {
            "aaxis": {
             "endlinecolor": "#2a3f5f",
             "gridcolor": "white",
             "linecolor": "white",
             "minorgridcolor": "white",
             "startlinecolor": "#2a3f5f"
            },
            "baxis": {
             "endlinecolor": "#2a3f5f",
             "gridcolor": "white",
             "linecolor": "white",
             "minorgridcolor": "white",
             "startlinecolor": "#2a3f5f"
            },
            "type": "carpet"
           }
          ],
          "choropleth": [
           {
            "colorbar": {
             "outlinewidth": 0,
             "ticks": ""
            },
            "type": "choropleth"
           }
          ],
          "contour": [
           {
            "colorbar": {
             "outlinewidth": 0,
             "ticks": ""
            },
            "colorscale": [
             [
              0,
              "#0d0887"
             ],
             [
              0.1111111111111111,
              "#46039f"
             ],
             [
              0.2222222222222222,
              "#7201a8"
             ],
             [
              0.3333333333333333,
              "#9c179e"
             ],
             [
              0.4444444444444444,
              "#bd3786"
             ],
             [
              0.5555555555555556,
              "#d8576b"
             ],
             [
              0.6666666666666666,
              "#ed7953"
             ],
             [
              0.7777777777777778,
              "#fb9f3a"
             ],
             [
              0.8888888888888888,
              "#fdca26"
             ],
             [
              1,
              "#f0f921"
             ]
            ],
            "type": "contour"
           }
          ],
          "contourcarpet": [
           {
            "colorbar": {
             "outlinewidth": 0,
             "ticks": ""
            },
            "type": "contourcarpet"
           }
          ],
          "heatmap": [
           {
            "colorbar": {
             "outlinewidth": 0,
             "ticks": ""
            },
            "colorscale": [
             [
              0,
              "#0d0887"
             ],
             [
              0.1111111111111111,
              "#46039f"
             ],
             [
              0.2222222222222222,
              "#7201a8"
             ],
             [
              0.3333333333333333,
              "#9c179e"
             ],
             [
              0.4444444444444444,
              "#bd3786"
             ],
             [
              0.5555555555555556,
              "#d8576b"
             ],
             [
              0.6666666666666666,
              "#ed7953"
             ],
             [
              0.7777777777777778,
              "#fb9f3a"
             ],
             [
              0.8888888888888888,
              "#fdca26"
             ],
             [
              1,
              "#f0f921"
             ]
            ],
            "type": "heatmap"
           }
          ],
          "heatmapgl": [
           {
            "colorbar": {
             "outlinewidth": 0,
             "ticks": ""
            },
            "colorscale": [
             [
              0,
              "#0d0887"
             ],
             [
              0.1111111111111111,
              "#46039f"
             ],
             [
              0.2222222222222222,
              "#7201a8"
             ],
             [
              0.3333333333333333,
              "#9c179e"
             ],
             [
              0.4444444444444444,
              "#bd3786"
             ],
             [
              0.5555555555555556,
              "#d8576b"
             ],
             [
              0.6666666666666666,
              "#ed7953"
             ],
             [
              0.7777777777777778,
              "#fb9f3a"
             ],
             [
              0.8888888888888888,
              "#fdca26"
             ],
             [
              1,
              "#f0f921"
             ]
            ],
            "type": "heatmapgl"
           }
          ],
          "histogram": [
           {
            "marker": {
             "pattern": {
              "fillmode": "overlay",
              "size": 10,
              "solidity": 0.2
             }
            },
            "type": "histogram"
           }
          ],
          "histogram2d": [
           {
            "colorbar": {
             "outlinewidth": 0,
             "ticks": ""
            },
            "colorscale": [
             [
              0,
              "#0d0887"
             ],
             [
              0.1111111111111111,
              "#46039f"
             ],
             [
              0.2222222222222222,
              "#7201a8"
             ],
             [
              0.3333333333333333,
              "#9c179e"
             ],
             [
              0.4444444444444444,
              "#bd3786"
             ],
             [
              0.5555555555555556,
              "#d8576b"
             ],
             [
              0.6666666666666666,
              "#ed7953"
             ],
             [
              0.7777777777777778,
              "#fb9f3a"
             ],
             [
              0.8888888888888888,
              "#fdca26"
             ],
             [
              1,
              "#f0f921"
             ]
            ],
            "type": "histogram2d"
           }
          ],
          "histogram2dcontour": [
           {
            "colorbar": {
             "outlinewidth": 0,
             "ticks": ""
            },
            "colorscale": [
             [
              0,
              "#0d0887"
             ],
             [
              0.1111111111111111,
              "#46039f"
             ],
             [
              0.2222222222222222,
              "#7201a8"
             ],
             [
              0.3333333333333333,
              "#9c179e"
             ],
             [
              0.4444444444444444,
              "#bd3786"
             ],
             [
              0.5555555555555556,
              "#d8576b"
             ],
             [
              0.6666666666666666,
              "#ed7953"
             ],
             [
              0.7777777777777778,
              "#fb9f3a"
             ],
             [
              0.8888888888888888,
              "#fdca26"
             ],
             [
              1,
              "#f0f921"
             ]
            ],
            "type": "histogram2dcontour"
           }
          ],
          "mesh3d": [
           {
            "colorbar": {
             "outlinewidth": 0,
             "ticks": ""
            },
            "type": "mesh3d"
           }
          ],
          "parcoords": [
           {
            "line": {
             "colorbar": {
              "outlinewidth": 0,
              "ticks": ""
             }
            },
            "type": "parcoords"
           }
          ],
          "pie": [
           {
            "automargin": true,
            "type": "pie"
           }
          ],
          "scatter": [
           {
            "fillpattern": {
             "fillmode": "overlay",
             "size": 10,
             "solidity": 0.2
            },
            "type": "scatter"
           }
          ],
          "scatter3d": [
           {
            "line": {
             "colorbar": {
              "outlinewidth": 0,
              "ticks": ""
             }
            },
            "marker": {
             "colorbar": {
              "outlinewidth": 0,
              "ticks": ""
             }
            },
            "type": "scatter3d"
           }
          ],
          "scattercarpet": [
           {
            "marker": {
             "colorbar": {
              "outlinewidth": 0,
              "ticks": ""
             }
            },
            "type": "scattercarpet"
           }
          ],
          "scattergeo": [
           {
            "marker": {
             "colorbar": {
              "outlinewidth": 0,
              "ticks": ""
             }
            },
            "type": "scattergeo"
           }
          ],
          "scattergl": [
           {
            "marker": {
             "colorbar": {
              "outlinewidth": 0,
              "ticks": ""
             }
            },
            "type": "scattergl"
           }
          ],
          "scattermapbox": [
           {
            "marker": {
             "colorbar": {
              "outlinewidth": 0,
              "ticks": ""
             }
            },
            "type": "scattermapbox"
           }
          ],
          "scatterpolar": [
           {
            "marker": {
             "colorbar": {
              "outlinewidth": 0,
              "ticks": ""
             }
            },
            "type": "scatterpolar"
           }
          ],
          "scatterpolargl": [
           {
            "marker": {
             "colorbar": {
              "outlinewidth": 0,
              "ticks": ""
             }
            },
            "type": "scatterpolargl"
           }
          ],
          "scatterternary": [
           {
            "marker": {
             "colorbar": {
              "outlinewidth": 0,
              "ticks": ""
             }
            },
            "type": "scatterternary"
           }
          ],
          "surface": [
           {
            "colorbar": {
             "outlinewidth": 0,
             "ticks": ""
            },
            "colorscale": [
             [
              0,
              "#0d0887"
             ],
             [
              0.1111111111111111,
              "#46039f"
             ],
             [
              0.2222222222222222,
              "#7201a8"
             ],
             [
              0.3333333333333333,
              "#9c179e"
             ],
             [
              0.4444444444444444,
              "#bd3786"
             ],
             [
              0.5555555555555556,
              "#d8576b"
             ],
             [
              0.6666666666666666,
              "#ed7953"
             ],
             [
              0.7777777777777778,
              "#fb9f3a"
             ],
             [
              0.8888888888888888,
              "#fdca26"
             ],
             [
              1,
              "#f0f921"
             ]
            ],
            "type": "surface"
           }
          ],
          "table": [
           {
            "cells": {
             "fill": {
              "color": "#EBF0F8"
             },
             "line": {
              "color": "white"
             }
            },
            "header": {
             "fill": {
              "color": "#C8D4E3"
             },
             "line": {
              "color": "white"
             }
            },
            "type": "table"
           }
          ]
         },
         "layout": {
          "annotationdefaults": {
           "arrowcolor": "#2a3f5f",
           "arrowhead": 0,
           "arrowwidth": 1
          },
          "autotypenumbers": "strict",
          "coloraxis": {
           "colorbar": {
            "outlinewidth": 0,
            "ticks": ""
           }
          },
          "colorscale": {
           "diverging": [
            [
             0,
             "#8e0152"
            ],
            [
             0.1,
             "#c51b7d"
            ],
            [
             0.2,
             "#de77ae"
            ],
            [
             0.3,
             "#f1b6da"
            ],
            [
             0.4,
             "#fde0ef"
            ],
            [
             0.5,
             "#f7f7f7"
            ],
            [
             0.6,
             "#e6f5d0"
            ],
            [
             0.7,
             "#b8e186"
            ],
            [
             0.8,
             "#7fbc41"
            ],
            [
             0.9,
             "#4d9221"
            ],
            [
             1,
             "#276419"
            ]
           ],
           "sequential": [
            [
             0,
             "#0d0887"
            ],
            [
             0.1111111111111111,
             "#46039f"
            ],
            [
             0.2222222222222222,
             "#7201a8"
            ],
            [
             0.3333333333333333,
             "#9c179e"
            ],
            [
             0.4444444444444444,
             "#bd3786"
            ],
            [
             0.5555555555555556,
             "#d8576b"
            ],
            [
             0.6666666666666666,
             "#ed7953"
            ],
            [
             0.7777777777777778,
             "#fb9f3a"
            ],
            [
             0.8888888888888888,
             "#fdca26"
            ],
            [
             1,
             "#f0f921"
            ]
           ],
           "sequentialminus": [
            [
             0,
             "#0d0887"
            ],
            [
             0.1111111111111111,
             "#46039f"
            ],
            [
             0.2222222222222222,
             "#7201a8"
            ],
            [
             0.3333333333333333,
             "#9c179e"
            ],
            [
             0.4444444444444444,
             "#bd3786"
            ],
            [
             0.5555555555555556,
             "#d8576b"
            ],
            [
             0.6666666666666666,
             "#ed7953"
            ],
            [
             0.7777777777777778,
             "#fb9f3a"
            ],
            [
             0.8888888888888888,
             "#fdca26"
            ],
            [
             1,
             "#f0f921"
            ]
           ]
          },
          "colorway": [
           "#636efa",
           "#EF553B",
           "#00cc96",
           "#ab63fa",
           "#FFA15A",
           "#19d3f3",
           "#FF6692",
           "#B6E880",
           "#FF97FF",
           "#FECB52"
          ],
          "font": {
           "color": "#2a3f5f"
          },
          "geo": {
           "bgcolor": "white",
           "lakecolor": "white",
           "landcolor": "#E5ECF6",
           "showlakes": true,
           "showland": true,
           "subunitcolor": "white"
          },
          "hoverlabel": {
           "align": "left"
          },
          "hovermode": "closest",
          "mapbox": {
           "style": "light"
          },
          "paper_bgcolor": "white",
          "plot_bgcolor": "#E5ECF6",
          "polar": {
           "angularaxis": {
            "gridcolor": "white",
            "linecolor": "white",
            "ticks": ""
           },
           "bgcolor": "#E5ECF6",
           "radialaxis": {
            "gridcolor": "white",
            "linecolor": "white",
            "ticks": ""
           }
          },
          "scene": {
           "xaxis": {
            "backgroundcolor": "#E5ECF6",
            "gridcolor": "white",
            "gridwidth": 2,
            "linecolor": "white",
            "showbackground": true,
            "ticks": "",
            "zerolinecolor": "white"
           },
           "yaxis": {
            "backgroundcolor": "#E5ECF6",
            "gridcolor": "white",
            "gridwidth": 2,
            "linecolor": "white",
            "showbackground": true,
            "ticks": "",
            "zerolinecolor": "white"
           },
           "zaxis": {
            "backgroundcolor": "#E5ECF6",
            "gridcolor": "white",
            "gridwidth": 2,
            "linecolor": "white",
            "showbackground": true,
            "ticks": "",
            "zerolinecolor": "white"
           }
          },
          "shapedefaults": {
           "line": {
            "color": "#2a3f5f"
           }
          },
          "ternary": {
           "aaxis": {
            "gridcolor": "white",
            "linecolor": "white",
            "ticks": ""
           },
           "baxis": {
            "gridcolor": "white",
            "linecolor": "white",
            "ticks": ""
           },
           "bgcolor": "#E5ECF6",
           "caxis": {
            "gridcolor": "white",
            "linecolor": "white",
            "ticks": ""
           }
          },
          "title": {
           "x": 0.05
          },
          "xaxis": {
           "automargin": true,
           "gridcolor": "white",
           "linecolor": "white",
           "ticks": "",
           "title": {
            "standoff": 15
           },
           "zerolinecolor": "white",
           "zerolinewidth": 2
          },
          "yaxis": {
           "automargin": true,
           "gridcolor": "white",
           "linecolor": "white",
           "ticks": "",
           "title": {
            "standoff": 15
           },
           "zerolinecolor": "white",
           "zerolinewidth": 2
          }
         }
        },
        "xaxis": {
         "anchor": "y",
         "autorange": true,
         "domain": [
          0,
          1
         ],
         "range": [
          -4.6766588333211665,
          15.289066756065917
         ],
         "title": {
          "text": "UMAP 1"
         },
         "type": "linear"
        },
        "yaxis": {
         "anchor": "x",
         "autorange": true,
         "domain": [
          0,
          1
         ],
         "range": [
          -2.2874721900308392,
          16.390203417905596
         ],
         "title": {
          "text": "UMAP 2"
         },
         "type": "linear"
        }
       }
      },
      "image/png": "[encoded data removed]",
      "text/html": [
       "<div>                            <div id=\"8cc312fb-e172-4f24-8c35-dd00f999d866\" class=\"plotly-graph-div\" style=\"height:700px; width:100%;\"></div>            <script type=\"text/javascript\">                require([\"plotly\"], function(Plotly) {                    window.PLOTLYENV=window.PLOTLYENV || {};                                    if (document.getElementById(\"8cc312fb-e172-4f24-8c35-dd00f999d866\")) {                    Plotly.newPlot(                        \"8cc312fb-e172-4f24-8c35-dd00f999d866\",                        [{\"hovertemplate\":\"<b>%{hovertext}</b><br><br>UMAP 1=%{x}<br>UMAP 2=%{y}<br>clusters=%{marker.color}<extra></extra>\",\"hovertext\":[\"Afghanistan\",\"Albania\",\"Algeria\",\"Angola\",\"Antigua and Barbuda\",\"Argentina\",\"Armenia\",\"Australia\",\"Austria\",\"Azerbaijan\",\"Bahamas\",\"Bahrain\",\"Bangladesh\",\"Barbados\",\"Belarus\",\"Belgium\",\"Belize\",\"Benin\",\"Bhutan\",\"Bolivia\",\"Bosnia and Herzegovina\",\"Botswana\",\"Brazil\",\"Brunei\",\"Bulgaria\",\"Burkina Faso\",\"Burundi\",\"Cambodia\",\"Cameroon\",\"Canada\",\"Cape Verde\",\"Central African Republic\",\"Chad\",\"Chile\",\"China\",\"Colombia\",\"Comoros\",\"Congo, Dem. Rep.\",\"Congo, Rep.\",\"Costa Rica\",\"Cote d'Ivoire\",\"Croatia\",\"Cyprus\",\"Czech Republic\",\"Denmark\",\"Dominican Republic\",\"Ecuador\",\"Egypt\",\"El Salvador\",\"Equatorial Guinea\",\"Eritrea\",\"Estonia\",\"Fiji\",\"Finland\",\"France\",\"Gabon\",\"Gambia\",\"Georgia\",\"Germany\",\"Ghana\",\"Greece\",\"Grenada\",\"Guatemala\",\"Guinea\",\"Guinea-Bissau\",\"Guyana\",\"Haiti\",\"Hungary\",\"Iceland\",\"India\",\"Indonesia\",\"Iran\",\"Iraq\",\"Ireland\",\"Israel\",\"Italy\",\"Jamaica\",\"Japan\",\"Jordan\",\"Kazakhstan\",\"Kenya\",\"Kiribati\",\"Kuwait\",\"Kyrgyz Republic\",\"Lao\",\"Latvia\",\"Lebanon\",\"Lesotho\",\"Liberia\",\"Libya\",\"Lithuania\",\"Luxembourg\",\"Macedonia, FYR\",\"Madagascar\",\"Malawi\",\"Malaysia\",\"Maldives\",\"Mali\",\"Malta\",\"Mauritania\",\"Mauritius\",\"Micronesia, Fed. Sts.\",\"Moldova\",\"Mongolia\",\"Montenegro\",\"Morocco\",\"Mozambique\",\"Myanmar\",\"Namibia\",\"Nepal\",\"Netherlands\",\"New Zealand\",\"Niger\",\"Nigeria\",\"Norway\",\"Oman\",\"Pakistan\",\"Panama\",\"Paraguay\",\"Peru\",\"Philippines\",\"Poland\",\"Portugal\",\"Qatar\",\"Romania\",\"Russia\",\"Rwanda\",\"Samoa\",\"Saudi Arabia\",\"Senegal\",\"Serbia\",\"Seychelles\",\"Sierra Leone\",\"Singapore\",\"Slovak Republic\",\"Slovenia\",\"Solomon Islands\",\"South Africa\",\"South Korea\",\"Spain\",\"Sri Lanka\",\"St. Vincent and the Grenadines\",\"Sudan\",\"Suriname\",\"Sweden\",\"Switzerland\",\"Tajikistan\",\"Tanzania\",\"Thailand\",\"Timor-Leste\",\"Togo\",\"Tonga\",\"Tunisia\",\"Turkey\",\"Turkmenistan\",\"Uganda\",\"Ukraine\",\"United Arab Emirates\",\"United Kingdom\",\"United States\",\"Uruguay\",\"Uzbekistan\",\"Vanuatu\",\"Venezuela\",\"Vietnam\",\"Yemen\",\"Zambia\"],\"legendgroup\":\"\",\"marker\":{\"color\":[3,2,1,3,2,1,1,0,0,1,2,2,1,2,2,0,2,3,2,1,2,3,1,0,2,3,3,2,3,0,2,3,3,1,1,1,3,3,3,2,3,2,0,2,0,1,1,1,2,3,3,2,2,0,0,3,3,2,0,3,0,2,1,3,3,2,3,2,0,1,1,1,1,0,0,0,1,0,2,1,3,3,0,2,3,2,2,3,3,1,2,4,2,3,3,2,2,3,4,3,2,2,2,1,2,1,3,1,3,1,0,0,3,3,0,1,3,2,2,1,1,2,0,0,1,1,3,2,1,3,2,2,3,4,2,2,2,3,2,0,1,2,3,2,0,0,1,3,2,3,3,1,2,1,2,3,2,0,0,0,1,1,2,1,2,3,3],\"coloraxis\":\"coloraxis\",\"symbol\":\"circle\",\"size\":13},\"mode\":\"markers\",\"name\":\"\",\"orientation\":\"v\",\"showlegend\":false,\"x\":[8.557760238647461,9.6322660446167,12.910643577575684,10.755950927734375,6.958210468292236,12.916829109191895,10.00890064239502,-1.465128779411316,0.37509238719940186,12.896902084350586,9.771464347839355,6.652392387390137,11.479449272155762,9.030891418457031,7.847433090209961,2.035714864730835,7.213545799255371,7.674633979797363,6.994070053100586,11.221417427062988,9.852179527282715,7.628372669219971,12.434671401977539,6.187496185302734,7.2771687507629395,7.0234599113464355,9.348101615905762,7.570417404174805,7.426553249359131,-0.6235121488571167,8.62491512298584,6.549872398376465,6.661410808563232,11.095449447631836,11.70337200164795,12.655280113220215,8.675210952758789,9.860457420349121,11.774149894714355,10.903016090393066,7.765683650970459,9.94490909576416,6.308979511260986,5.095729351043701,0.04040093347430229,11.45615291595459,11.538290023803711,11.792118072509766,10.53016471862793,11.58848762512207,9.941901206970215,4.546957492828369,7.232519149780273,-1.6444207429885864,-0.6916100978851318,12.626006126403809,8.39411735534668,9.364367485046387,0.07355812191963196,11.217605590820312,-3.2483811378479004,9.620826721191406,10.862051963806152,9.75067138671875,7.954739093780518,6.34315299987793,6.512916088104248,4.233273983001709,-1.230647325515747,11.117486953735352,12.316949844360352,13.207799911499023,12.374119758605957,2.7893998622894287,-1.9132733345031738,-2.3554437160491943,8.93891716003418,-1.6487631797790527,5.953919887542725,13.485486030578613,9.270468711853027,5.810495376586914,5.493393421173096,5.906275749206543,10.926515579223633,6.47039270401001,8.01870059967041,6.364200115203857,6.1768035888671875,7.243202209472656,5.205583572387695,2.1558375358581543,8.016239166259766,10.033867835998535,8.947747230529785,4.859020233154297,5.241762161254883,6.87896203994751,3.1341168880462646,11.320107460021973,6.779757022857666,5.396034240722656,9.115317344665527,13.64547348022461,8.748275756835938,10.244876861572266,8.459152221679688,11.385364532470703,7.13997220993042,11.602163314819336,1.3476812839508057,-2.7500627040863037,6.300022125244141,13.84877872467041,-0.2649291455745697,6.997285842895508,10.445599555969238,5.092604637145996,7.021347522735596,12.217759132385254,10.43346881866455,9.37553596496582,-3.501274824142456,5.187065601348877,10.335865020751953,13.38788890838623,8.717087745666504,9.942281723022461,6.435006141662598,9.193146705627441,10.232254028320312,3.914022445678711,9.184103012084961,2.575822353363037,4.187730312347412,4.131932735443115,5.97023344039917,8.301461219787598,6.927327632904053,-2.83203387260437,13.660869598388672,8.835466384887695,11.910523414611816,7.8447265625,-0.6639707684516907,0.6172742247581482,10.378998756408691,9.186660766601562,5.969504356384277,12.894879341125488,7.421714782714844,9.541352272033691,6.993167877197266,12.443683624267578,8.015338897705078,9.635564804077148,8.496658325195312,6.273767471313477,-2.0308170318603516,0.1913444846868515,11.65577507019043,12.445908546447754,8.314068794250488,14.113682746887207,6.0308403968811035,12.546256065368652,9.08803939819336],\"xaxis\":\"x\",\"y\":[14.171607971191406,5.238558769226074,7.976821422576904,12.829314231872559,3.4076287746429443,5.012939929962158,5.904036521911621,5.5599045753479,4.206240177154541,7.720630168914795,3.470593214035034,0.8198959231376648,8.557446479797363,3.112959384918213,5.001724720001221,2.9228930473327637,7.018746376037598,12.757805824279785,7.443749904632568,8.05390453338623,1.9940801858901978,9.29987907409668,4.0538554191589355,-1.0825953483581543,4.214880466461182,14.325357437133789,15.18532657623291,8.09778118133545,13.654860496520996,5.863334655761719,7.082491397857666,13.543730735778809,12.673108100891113,3.6925013065338135,6.094377517700195,3.512589693069458,11.406882286071777,13.673355102539062,12.884827613830566,2.358652353286743,12.128133773803711,3.631152629852295,2.1638104915618896,2.9255499839782715,4.322430610656738,6.344609260559082,5.0503950119018555,7.676753997802734,5.863541603088379,13.167949676513672,10.381103515625,4.165519714355469,7.903057098388672,4.597490310668945,6.029341220855713,10.016144752502441,12.13850212097168,1.918597936630249,5.293522834777832,11.198898315429688,6.161593437194824,6.3237199783325195,6.965585708618164,12.59457015991211,14.713976860046387,8.008367538452148,12.292435646057129,4.696076393127441,4.218258380889893,9.120063781738281,8.554977416992188,6.082983493804932,10.937663078308105,3.2288496494293213,6.544943809509277,6.260997295379639,5.83841609954834,6.68763542175293,6.290318489074707,8.729107856750488,10.789320945739746,10.146728515625,-0.5567017197608948,7.3852128982543945,10.18011474609375,3.697559118270874,2.8525278568267822,10.912753105163574,10.596602439880371,0.5115878582000732,3.9556190967559814,3.892540454864502,3.7701616287231445,10.94459342956543,13.59716796875,4.9651031494140625,5.086974143981934,13.384408950805664,4.1192755699157715,12.132915496826172,4.218917369842529,9.639674186706543,1.3519909381866455,9.876049995422363,2.3915438652038574,6.88404655456543,12.744097709655762,9.317787170410156,9.363238334655762,8.570884704589844,3.382331371307373,5.68696928024292,13.190528869628906,10.514266967773438,3.478837251663208,-0.07146644592285156,9.911298751831055,5.300047397613525,6.178563117980957,5.710716724395752,8.116750717163086,4.021114826202393,6.504159927368164,-0.8867430090904236,5.176668643951416,7.082393169403076,14.318779945373535,7.308192729949951,0.23093663156032562,11.557774543762207,1.3954483270645142,4.9595208168029785,14.87517261505127,4.449477195739746,3.603626012802124,2.865616798400879,8.701482772827148,9.640484809875488,2.9463868141174316,6.732720375061035,8.19832992553711,6.217101573944092,11.594916343688965,5.426225185394287,3.831618070602417,3.4477219581604004,8.591439247131348,12.770259857177734,4.61811637878418,11.902745246887207,10.913853645324707,7.866843223571777,5.062749862670898,4.370489597320557,7.519109725952148,14.323529243469238,4.12628698348999,-0.1628396064043045,5.535560131072998,5.906334400177002,3.7888689041137695,8.297508239746094,8.443920135498047,9.348865509033203,5.991167068481445,10.80195140838623,13.156109809875488],\"yaxis\":\"y\",\"type\":\"scatter\"}],                        {\"template\":{\"data\":{\"histogram2dcontour\":[{\"type\":\"histogram2dcontour\",\"colorbar\":{\"outlinewidth\":0,\"ticks\":\"\"},\"colorscale\":[[0.0,\"#0d0887\"],[0.1111111111111111,\"#46039f\"],[0.2222222222222222,\"#7201a8\"],[0.3333333333333333,\"#9c179e\"],[0.4444444444444444,\"#bd3786\"],[0.5555555555555556,\"#d8576b\"],[0.6666666666666666,\"#ed7953\"],[0.7777777777777778,\"#fb9f3a\"],[0.8888888888888888,\"#fdca26\"],[1.0,\"#f0f921\"]]}],\"choropleth\":[{\"type\":\"choropleth\",\"colorbar\":{\"outlinewidth\":0,\"ticks\":\"\"}}],\"histogram2d\":[{\"type\":\"histogram2d\",\"colorbar\":{\"outlinewidth\":0,\"ticks\":\"\"},\"colorscale\":[[0.0,\"#0d0887\"],[0.1111111111111111,\"#46039f\"],[0.2222222222222222,\"#7201a8\"],[0.3333333333333333,\"#9c179e\"],[0.4444444444444444,\"#bd3786\"],[0.5555555555555556,\"#d8576b\"],[0.6666666666666666,\"#ed7953\"],[0.7777777777777778,\"#fb9f3a\"],[0.8888888888888888,\"#fdca26\"],[1.0,\"#f0f921\"]]}],\"heatmap\":[{\"type\":\"heatmap\",\"colorbar\":{\"outlinewidth\":0,\"ticks\":\"\"},\"colorscale\":[[0.0,\"#0d0887\"],[0.1111111111111111,\"#46039f\"],[0.2222222222222222,\"#7201a8\"],[0.3333333333333333,\"#9c179e\"],[0.4444444444444444,\"#bd3786\"],[0.5555555555555556,\"#d8576b\"],[0.6666666666666666,\"#ed7953\"],[0.7777777777777778,\"#fb9f3a\"],[0.8888888888888888,\"#fdca26\"],[1.0,\"#f0f921\"]]}],\"heatmapgl\":[{\"type\":\"heatmapgl\",\"colorbar\":{\"outlinewidth\":0,\"ticks\":\"\"},\"colorscale\":[[0.0,\"#0d0887\"],[0.1111111111111111,\"#46039f\"],[0.2222222222222222,\"#7201a8\"],[0.3333333333333333,\"#9c179e\"],[0.4444444444444444,\"#bd3786\"],[0.5555555555555556,\"#d8576b\"],[0.6666666666666666,\"#ed7953\"],[0.7777777777777778,\"#fb9f3a\"],[0.8888888888888888,\"#fdca26\"],[1.0,\"#f0f921\"]]}],\"contourcarpet\":[{\"type\":\"contourcarpet\",\"colorbar\":{\"outlinewidth\":0,\"ticks\":\"\"}}],\"contour\":[{\"type\":\"contour\",\"colorbar\":{\"outlinewidth\":0,\"ticks\":\"\"},\"colorscale\":[[0.0,\"#0d0887\"],[0.1111111111111111,\"#46039f\"],[0.2222222222222222,\"#7201a8\"],[0.3333333333333333,\"#9c179e\"],[0.4444444444444444,\"#bd3786\"],[0.5555555555555556,\"#d8576b\"],[0.6666666666666666,\"#ed7953\"],[0.7777777777777778,\"#fb9f3a\"],[0.8888888888888888,\"#fdca26\"],[1.0,\"#f0f921\"]]}],\"surface\":[{\"type\":\"surface\",\"colorbar\":{\"outlinewidth\":0,\"ticks\":\"\"},\"colorscale\":[[0.0,\"#0d0887\"],[0.1111111111111111,\"#46039f\"],[0.2222222222222222,\"#7201a8\"],[0.3333333333333333,\"#9c179e\"],[0.4444444444444444,\"#bd3786\"],[0.5555555555555556,\"#d8576b\"],[0.6666666666666666,\"#ed7953\"],[0.7777777777777778,\"#fb9f3a\"],[0.8888888888888888,\"#fdca26\"],[1.0,\"#f0f921\"]]}],\"mesh3d\":[{\"type\":\"mesh3d\",\"colorbar\":{\"outlinewidth\":0,\"ticks\":\"\"}}],\"scatter\":[{\"fillpattern\":{\"fillmode\":\"overlay\",\"size\":10,\"solidity\":0.2},\"type\":\"scatter\"}],\"parcoords\":[{\"type\":\"parcoords\",\"line\":{\"colorbar\":{\"outlinewidth\":0,\"ticks\":\"\"}}}],\"scatterpolargl\":[{\"type\":\"scatterpolargl\",\"marker\":{\"colorbar\":{\"outlinewidth\":0,\"ticks\":\"\"}}}],\"bar\":[{\"error_x\":{\"color\":\"#2a3f5f\"},\"error_y\":{\"color\":\"#2a3f5f\"},\"marker\":{\"line\":{\"color\":\"#E5ECF6\",\"width\":0.5},\"pattern\":{\"fillmode\":\"overlay\",\"size\":10,\"solidity\":0.2}},\"type\":\"bar\"}],\"scattergeo\":[{\"type\":\"scattergeo\",\"marker\":{\"colorbar\":{\"outlinewidth\":0,\"ticks\":\"\"}}}],\"scatterpolar\":[{\"type\":\"scatterpolar\",\"marker\":{\"colorbar\":{\"outlinewidth\":0,\"ticks\":\"\"}}}],\"histogram\":[{\"marker\":{\"pattern\":{\"fillmode\":\"overlay\",\"size\":10,\"solidity\":0.2}},\"type\":\"histogram\"}],\"scattergl\":[{\"type\":\"scattergl\",\"marker\":{\"colorbar\":{\"outlinewidth\":0,\"ticks\":\"\"}}}],\"scatter3d\":[{\"type\":\"scatter3d\",\"line\":{\"colorbar\":{\"outlinewidth\":0,\"ticks\":\"\"}},\"marker\":{\"colorbar\":{\"outlinewidth\":0,\"ticks\":\"\"}}}],\"scattermapbox\":[{\"type\":\"scattermapbox\",\"marker\":{\"colorbar\":{\"outlinewidth\":0,\"ticks\":\"\"}}}],\"scatterternary\":[{\"type\":\"scatterternary\",\"marker\":{\"colorbar\":{\"outlinewidth\":0,\"ticks\":\"\"}}}],\"scattercarpet\":[{\"type\":\"scattercarpet\",\"marker\":{\"colorbar\":{\"outlinewidth\":0,\"ticks\":\"\"}}}],\"carpet\":[{\"aaxis\":{\"endlinecolor\":\"#2a3f5f\",\"gridcolor\":\"white\",\"linecolor\":\"white\",\"minorgridcolor\":\"white\",\"startlinecolor\":\"#2a3f5f\"},\"baxis\":{\"endlinecolor\":\"#2a3f5f\",\"gridcolor\":\"white\",\"linecolor\":\"white\",\"minorgridcolor\":\"white\",\"startlinecolor\":\"#2a3f5f\"},\"type\":\"carpet\"}],\"table\":[{\"cells\":{\"fill\":{\"color\":\"#EBF0F8\"},\"line\":{\"color\":\"white\"}},\"header\":{\"fill\":{\"color\":\"#C8D4E3\"},\"line\":{\"color\":\"white\"}},\"type\":\"table\"}],\"barpolar\":[{\"marker\":{\"line\":{\"color\":\"#E5ECF6\",\"width\":0.5},\"pattern\":{\"fillmode\":\"overlay\",\"size\":10,\"solidity\":0.2}},\"type\":\"barpolar\"}],\"pie\":[{\"automargin\":true,\"type\":\"pie\"}]},\"layout\":{\"autotypenumbers\":\"strict\",\"colorway\":[\"#636efa\",\"#EF553B\",\"#00cc96\",\"#ab63fa\",\"#FFA15A\",\"#19d3f3\",\"#FF6692\",\"#B6E880\",\"#FF97FF\",\"#FECB52\"],\"font\":{\"color\":\"#2a3f5f\"},\"hovermode\":\"closest\",\"hoverlabel\":{\"align\":\"left\"},\"paper_bgcolor\":\"white\",\"plot_bgcolor\":\"#E5ECF6\",\"polar\":{\"bgcolor\":\"#E5ECF6\",\"angularaxis\":{\"gridcolor\":\"white\",\"linecolor\":\"white\",\"ticks\":\"\"},\"radialaxis\":{\"gridcolor\":\"white\",\"linecolor\":\"white\",\"ticks\":\"\"}},\"ternary\":{\"bgcolor\":\"#E5ECF6\",\"aaxis\":{\"gridcolor\":\"white\",\"linecolor\":\"white\",\"ticks\":\"\"},\"baxis\":{\"gridcolor\":\"white\",\"linecolor\":\"white\",\"ticks\":\"\"},\"caxis\":{\"gridcolor\":\"white\",\"linecolor\":\"white\",\"ticks\":\"\"}},\"coloraxis\":{\"colorbar\":{\"outlinewidth\":0,\"ticks\":\"\"}},\"colorscale\":{\"sequential\":[[0.0,\"#0d0887\"],[0.1111111111111111,\"#46039f\"],[0.2222222222222222,\"#7201a8\"],[0.3333333333333333,\"#9c179e\"],[0.4444444444444444,\"#bd3786\"],[0.5555555555555556,\"#d8576b\"],[0.6666666666666666,\"#ed7953\"],[0.7777777777777778,\"#fb9f3a\"],[0.8888888888888888,\"#fdca26\"],[1.0,\"#f0f921\"]],\"sequentialminus\":[[0.0,\"#0d0887\"],[0.1111111111111111,\"#46039f\"],[0.2222222222222222,\"#7201a8\"],[0.3333333333333333,\"#9c179e\"],[0.4444444444444444,\"#bd3786\"],[0.5555555555555556,\"#d8576b\"],[0.6666666666666666,\"#ed7953\"],[0.7777777777777778,\"#fb9f3a\"],[0.8888888888888888,\"#fdca26\"],[1.0,\"#f0f921\"]],\"diverging\":[[0,\"#8e0152\"],[0.1,\"#c51b7d\"],[0.2,\"#de77ae\"],[0.3,\"#f1b6da\"],[0.4,\"#fde0ef\"],[0.5,\"#f7f7f7\"],[0.6,\"#e6f5d0\"],[0.7,\"#b8e186\"],[0.8,\"#7fbc41\"],[0.9,\"#4d9221\"],[1,\"#276419\"]]},\"xaxis\":{\"gridcolor\":\"white\",\"linecolor\":\"white\",\"ticks\":\"\",\"title\":{\"standoff\":15},\"zerolinecolor\":\"white\",\"automargin\":true,\"zerolinewidth\":2},\"yaxis\":{\"gridcolor\":\"white\",\"linecolor\":\"white\",\"ticks\":\"\",\"title\":{\"standoff\":15},\"zerolinecolor\":\"white\",\"automargin\":true,\"zerolinewidth\":2},\"scene\":{\"xaxis\":{\"backgroundcolor\":\"#E5ECF6\",\"gridcolor\":\"white\",\"linecolor\":\"white\",\"showbackground\":true,\"ticks\":\"\",\"zerolinecolor\":\"white\",\"gridwidth\":2},\"yaxis\":{\"backgroundcolor\":\"#E5ECF6\",\"gridcolor\":\"white\",\"linecolor\":\"white\",\"showbackground\":true,\"ticks\":\"\",\"zerolinecolor\":\"white\",\"gridwidth\":2},\"zaxis\":{\"backgroundcolor\":\"#E5ECF6\",\"gridcolor\":\"white\",\"linecolor\":\"white\",\"showbackground\":true,\"ticks\":\"\",\"zerolinecolor\":\"white\",\"gridwidth\":2}},\"shapedefaults\":{\"line\":{\"color\":\"#2a3f5f\"}},\"annotationdefaults\":{\"arrowcolor\":\"#2a3f5f\",\"arrowhead\":0,\"arrowwidth\":1},\"geo\":{\"bgcolor\":\"white\",\"landcolor\":\"#E5ECF6\",\"subunitcolor\":\"white\",\"showland\":true,\"showlakes\":true,\"lakecolor\":\"white\"},\"title\":{\"x\":0.05},\"mapbox\":{\"style\":\"light\"}}},\"xaxis\":{\"anchor\":\"y\",\"domain\":[0.0,1.0],\"title\":{\"text\":\"UMAP 1\"}},\"yaxis\":{\"anchor\":\"x\",\"domain\":[0.0,1.0],\"title\":{\"text\":\"UMAP 2\"}},\"coloraxis\":{\"colorbar\":{\"title\":{\"text\":\"clusters\"}},\"colorscale\":[[0.0,\"#0d0887\"],[0.1111111111111111,\"#46039f\"],[0.2222222222222222,\"#7201a8\"],[0.3333333333333333,\"#9c179e\"],[0.4444444444444444,\"#bd3786\"],[0.5555555555555556,\"#d8576b\"],[0.6666666666666666,\"#ed7953\"],[0.7777777777777778,\"#fb9f3a\"],[0.8888888888888888,\"#fdca26\"],[1.0,\"#f0f921\"]]},\"legend\":{\"tracegroupgap\":0},\"margin\":{\"t\":60},\"height\":700},                        {\"responsive\": true}                    ).then(function(){\n",
       "                            \n",
       "var gd = document.getElementById('8cc312fb-e172-4f24-8c35-dd00f999d866');\n",
       "var x = new MutationObserver(function (mutations, observer) {{\n",
       "        var display = window.getComputedStyle(gd).display;\n",
       "        if (!display || display === 'none') {{\n",
       "            console.log([gd, 'removed!']);\n",
       "            Plotly.purge(gd);\n",
       "            observer.disconnect();\n",
       "        }}\n",
       "}});\n",
       "\n",
       "// Listen for the removal of the full notebook cells\n",
       "var notebookContainer = gd.closest('#notebook-container');\n",
       "if (notebookContainer) {{\n",
       "    x.observe(notebookContainer, {childList: true});\n",
       "}}\n",
       "\n",
       "// Listen for the clearing of the current output cell\n",
       "var outputEl = gd.closest('.output');\n",
       "if (outputEl) {{\n",
       "    x.observe(outputEl, {childList: true});\n",
       "}}\n",
       "\n",
       "                        })                };                });            </script>        </div>"
      ]
     },
     "metadata": {},
     "output_type": "display_data"
    }
   ],
   "source": [
    "fig = px.scatter(\n",
    "    plot_df,\n",
    "    x='UMAP 1',\n",
    "    y='UMAP 2',\n",
    "    color='clusters',\n",
    "    hover_name = 'country',\n",
    "    height=700\n",
    ")\n",
    "fig.update_traces(marker=dict(size=13))\n",
    "fig.show()"
   ]
  },
  {
   "cell_type": "markdown",
   "id": "b9920cbd-e0e0-42f2-8d68-72ce3ea97b54",
   "metadata": {},
   "source": [
    "### Kernel PCA"
   ]
  },
  {
   "cell_type": "code",
   "execution_count": 93,
   "id": "adc5bfc3-293d-4cb5-a6af-5e590b5c9068",
   "metadata": {},
   "outputs": [],
   "source": [
    "from sklearn.decomposition import KernelPCA"
   ]
  },
  {
   "cell_type": "code",
   "execution_count": 115,
   "id": "351357e9-69ad-465b-baa8-c5e1f5d988ff",
   "metadata": {},
   "outputs": [],
   "source": [
    "rbf_pca = KernelPCA(n_components=2, kernel='rbf', gamma=0.6)"
   ]
  },
  {
   "cell_type": "code",
   "execution_count": 116,
   "id": "cc95b3d8-19ef-415e-b8f3-0ec2aa1d05fa",
   "metadata": {},
   "outputs": [],
   "source": [
    "r_comps = rbf_pca.fit_transform(X_scaled)"
   ]
  },
  {
   "cell_type": "code",
   "execution_count": 117,
   "id": "6b59d657-4f52-4caf-9bd6-e0d00b743079",
   "metadata": {},
   "outputs": [],
   "source": [
    "plot_df = pd.DataFrame(r_comps, columns=['KPCA 1', 'KPCA 2'])\n",
    "plot_df['clusters']=labels\n",
    "plot_df['country'] = df['country'].values"
   ]
  },
  {
   "cell_type": "code",
   "execution_count": 118,
   "id": "b9801a39-e5ae-41f4-9ba6-13576f0a1973",
   "metadata": {},
   "outputs": [
    {
     "data": {
      "application/vnd.plotly.v1+json": {
       "config": {
        "plotlyServerURL": "https://plot.ly"
       },
       "data": [
        {
         "hovertemplate": "<b>%{hovertext}</b><br><br>KPCA 1=%{x}<br>KPCA 2=%{y}<br>clusters=%{marker.color}<extra></extra>",
         "hovertext": [
          "Afghanistan",
          "Albania",
          "Algeria",
          "Angola",
          "Antigua and Barbuda",
          "Argentina",
          "Armenia",
          "Australia",
          "Austria",
          "Azerbaijan",
          "Bahamas",
          "Bahrain",
          "Bangladesh",
          "Barbados",
          "Belarus",
          "Belgium",
          "Belize",
          "Benin",
          "Bhutan",
          "Bolivia",
          "Bosnia and Herzegovina",
          "Botswana",
          "Brazil",
          "Brunei",
          "Bulgaria",
          "Burkina Faso",
          "Burundi",
          "Cambodia",
          "Cameroon",
          "Canada",
          "Cape Verde",
          "Central African Republic",
          "Chad",
          "Chile",
          "China",
          "Colombia",
          "Comoros",
          "Congo, Dem. Rep.",
          "Congo, Rep.",
          "Costa Rica",
          "Cote d'Ivoire",
          "Croatia",
          "Cyprus",
          "Czech Republic",
          "Denmark",
          "Dominican Republic",
          "Ecuador",
          "Egypt",
          "El Salvador",
          "Equatorial Guinea",
          "Eritrea",
          "Estonia",
          "Fiji",
          "Finland",
          "France",
          "Gabon",
          "Gambia",
          "Georgia",
          "Germany",
          "Ghana",
          "Greece",
          "Grenada",
          "Guatemala",
          "Guinea",
          "Guinea-Bissau",
          "Guyana",
          "Haiti",
          "Hungary",
          "Iceland",
          "India",
          "Indonesia",
          "Iran",
          "Iraq",
          "Ireland",
          "Israel",
          "Italy",
          "Jamaica",
          "Japan",
          "Jordan",
          "Kazakhstan",
          "Kenya",
          "Kiribati",
          "Kuwait",
          "Kyrgyz Republic",
          "Lao",
          "Latvia",
          "Lebanon",
          "Lesotho",
          "Liberia",
          "Libya",
          "Lithuania",
          "Luxembourg",
          "Macedonia, FYR",
          "Madagascar",
          "Malawi",
          "Malaysia",
          "Maldives",
          "Mali",
          "Malta",
          "Mauritania",
          "Mauritius",
          "Micronesia, Fed. Sts.",
          "Moldova",
          "Mongolia",
          "Montenegro",
          "Morocco",
          "Mozambique",
          "Myanmar",
          "Namibia",
          "Nepal",
          "Netherlands",
          "New Zealand",
          "Niger",
          "Nigeria",
          "Norway",
          "Oman",
          "Pakistan",
          "Panama",
          "Paraguay",
          "Peru",
          "Philippines",
          "Poland",
          "Portugal",
          "Qatar",
          "Romania",
          "Russia",
          "Rwanda",
          "Samoa",
          "Saudi Arabia",
          "Senegal",
          "Serbia",
          "Seychelles",
          "Sierra Leone",
          "Singapore",
          "Slovak Republic",
          "Slovenia",
          "Solomon Islands",
          "South Africa",
          "South Korea",
          "Spain",
          "Sri Lanka",
          "St. Vincent and the Grenadines",
          "Sudan",
          "Suriname",
          "Sweden",
          "Switzerland",
          "Tajikistan",
          "Tanzania",
          "Thailand",
          "Timor-Leste",
          "Togo",
          "Tonga",
          "Tunisia",
          "Turkey",
          "Turkmenistan",
          "Uganda",
          "Ukraine",
          "United Arab Emirates",
          "United Kingdom",
          "United States",
          "Uruguay",
          "Uzbekistan",
          "Vanuatu",
          "Venezuela",
          "Vietnam",
          "Yemen",
          "Zambia"
         ],
         "legendgroup": "",
         "marker": {
          "color": [
           3,
           2,
           1,
           3,
           2,
           1,
           1,
           0,
           0,
           1,
           2,
           2,
           1,
           2,
           2,
           0,
           2,
           3,
           2,
           1,
           2,
           3,
           1,
           0,
           2,
           3,
           3,
           2,
           3,
           0,
           2,
           3,
           3,
           1,
           1,
           1,
           3,
           3,
           3,
           2,
           3,
           2,
           0,
           2,
           0,
           1,
           1,
           1,
           2,
           3,
           3,
           2,
           2,
           0,
           0,
           3,
           3,
           2,
           0,
           3,
           0,
           2,
           1,
           3,
           3,
           2,
           3,
           2,
           0,
           1,
           1,
           1,
           1,
           0,
           0,
           0,
           1,
           0,
           2,
           1,
           3,
           3,
           0,
           2,
           3,
           2,
           2,
           3,
           3,
           1,
           2,
           4,
           2,
           3,
           3,
           2,
           2,
           3,
           4,
           3,
           2,
           2,
           2,
           1,
           2,
           1,
           3,
           1,
           3,
           1,
           0,
           0,
           3,
           3,
           0,
           1,
           3,
           2,
           2,
           1,
           1,
           2,
           0,
           0,
           1,
           1,
           3,
           2,
           1,
           3,
           2,
           2,
           3,
           4,
           2,
           2,
           2,
           3,
           2,
           0,
           1,
           2,
           3,
           2,
           0,
           0,
           1,
           3,
           2,
           3,
           3,
           1,
           2,
           1,
           2,
           3,
           2,
           0,
           0,
           0,
           1,
           1,
           2,
           1,
           2,
           3,
           3
          ],
          "coloraxis": "coloraxis",
          "size": 13,
          "symbol": "circle"
         },
         "mode": "markers",
         "name": "",
         "orientation": "v",
         "showlegend": false,
         "type": "scatter",
         "x": [
          -0.29455121992821776,
          0.6062417321708647,
          0.08533250793066731,
          -0.14234928032999028,
          0.539995993043251,
          -0.042521920599514554,
          0.34993984175414306,
          -0.26865041042804,
          -0.29781333882962885,
          0.03703175019463661,
          0.13574694547552393,
          -0.03429540802779978,
          0.0065955385651797595,
          0.4744976233027676,
          0.1451155936150666,
          -0.15938539208244448,
          0.364977417017844,
          -0.2936882985875852,
          0.25809087780352963,
          0.1487502484114063,
          0.06346896491111026,
          -0.1057274437293592,
          0.011369176049633936,
          -0.12813168885811668,
          0.6092232068390512,
          -0.32313575118871823,
          -0.1555342254241487,
          0.12217566524315387,
          -0.31258827481442225,
          -0.3426064331475018,
          0.3041244495063988,
          -0.15192552322498792,
          -0.2065725283856702,
          0.25834968222864874,
          0.26757844382422374,
          0.18035696545163996,
          -0.2538257547506139,
          -0.17064855336564025,
          -0.12480284152649734,
          0.04064349627429068,
          -0.27216904184580576,
          0.41309426264631866,
          0.004613102862562292,
          0.11610018362757603,
          -0.26555812967226033,
          0.40246389921207787,
          0.31993078470647013,
          0.1136278647597624,
          0.5744499758478613,
          -0.11833052012947282,
          -0.18087915855221465,
          0.155937962998595,
          0.15468192606625356,
          -0.32571911935835846,
          -0.3178701289647821,
          -0.1339423516621515,
          -0.29949484637951157,
          0.15926367713702133,
          -0.32726388569932857,
          -0.24470791932912908,
          -0.21103243576736863,
          0.5114484800289815,
          0.22792819597540165,
          -0.295835359466226,
          -0.24523596927696273,
          0.05849627660329036,
          -0.11556925098961261,
          0.04793814733246331,
          -0.26561863861952023,
          -0.03500347446770503,
          -0.029680630538994966,
          0.08846809557344372,
          -0.10620367449996776,
          -0.12479972350056655,
          -0.10509290332633962,
          -0.3190037772275915,
          0.44942581641951496,
          -0.2579158758844815,
          0.09838373759118649,
          -0.020899506030275367,
          -0.23181835943091328,
          -0.13012267160692254,
          -0.12944823865165708,
          0.030231269364462503,
          -0.13240708045501184,
          0.476370633625951,
          0.4577729025669727,
          -0.11744822134954966,
          -0.1263158397800022,
          -0.015957415111934985,
          0.2859207344177235,
          -0.11553051193737536,
          0.5961974744988268,
          -0.2626692899505557,
          -0.32500498222863333,
          0.006263313674100214,
          0.1752169324437191,
          -0.25004894426384305,
          -0.11553660235836256,
          -0.15856511137847937,
          0.5354878239718018,
          -0.1208005520573242,
          -0.07781832045632428,
          -0.11575513936422811,
          0.32592260430056114,
          0.4525336202684213,
          -0.3403892314853637,
          -0.11762565828417361,
          -0.11292160492880295,
          -0.012040784164843348,
          -0.18773933653759672,
          -0.29017453165201,
          -0.19716758928310893,
          -0.11552969879579708,
          -0.12365492265473595,
          -0.11690236194309993,
          -0.1671669440278472,
          0.08595959453471504,
          0.4439777940528265,
          0.27695208590992487,
          0.1389530439978212,
          0.46017641998906744,
          -0.14631644017381876,
          -0.11559186028637781,
          0.5402583008750824,
          0.04608548667587997,
          -0.14236387650987217,
          0.07326275717614901,
          -0.1046561559903223,
          -0.2765284019441796,
          0.1601450003896724,
          -0.10887893644693993,
          -0.1194807486811355,
          -0.11553333366796446,
          0.013499658784826469,
          -0.008514408273070064,
          -0.10371556897631179,
          -0.12080153580080981,
          0.13068061246874144,
          -0.2616655650838698,
          -0.06374347410036212,
          0.43354874827612094,
          -0.1863413842976189,
          0.3663459886805773,
          -0.31517660153109084,
          -0.14963520549992518,
          -0.032993945003544446,
          -0.33456773893410824,
          0.1968188752621967,
          -0.12460642850302793,
          -0.2246376371055569,
          0.04379883427475652,
          0.5935013512708761,
          0.27618724184808685,
          -0.06994765030344781,
          -0.23700242850891928,
          0.22833440774996436,
          -0.12097079135912697,
          -0.3426926634047008,
          -0.11786249203904843,
          0.24766561145463675,
          0.06306593189550043,
          0.037094090354010865,
          -0.11621843126491367,
          0.025110929792738688,
          -0.1630202779510355,
          -0.2725940496514037
         ],
         "xaxis": "x",
         "y": [
          -0.1752664896164024,
          0.03210668318042644,
          -0.24708959138682218,
          -0.03600354829048337,
          0.23016100793444524,
          -0.04716591194398857,
          -0.22933488187166426,
          0.3250053210626324,
          0.3506131590106567,
          -0.1494516837086882,
          0.35973747296952346,
          0.0754105326739317,
          -0.2920870496985013,
          0.3646637239525957,
          -0.0013041293172000843,
          0.06570175815842937,
          -0.06876131014581513,
          -0.1976654640139801,
          -0.13609081075645613,
          -0.3867006262687957,
          0.15858506694757538,
          -0.08969899929731978,
          0.018161305403635582,
          -0.01674152024816864,
          0.25528614484918055,
          -0.19409006931668235,
          -0.04414426779844851,
          -0.20056358258668577,
          -0.2057760756073229,
          0.47051451888767354,
          -0.18506729425935908,
          -0.044450671320962094,
          -0.08516897830516333,
          0.20390115759176378,
          -0.19115694605242345,
          -0.02788957454442926,
          -0.23736291701056683,
          -0.05963693848266141,
          -0.025411895413770782,
          0.17743953466086126,
          -0.16163897728304405,
          0.35944935594857463,
          0.2261728812159065,
          0.2892123148236471,
          0.2522462398201844,
          -0.250654029800029,
          -0.054073908201770715,
          -0.3888439193121042,
          -0.0676379371187432,
          -0.016510027062375882,
          -0.14737736980205665,
          0.20127621456752437,
          -0.13760627420344268,
          0.5009161611140664,
          0.4538427706224268,
          -0.08957718633673527,
          -0.24470122635635308,
          0.0962596759122892,
          0.45444557184892753,
          -0.25281170413450654,
          0.5101498456617858,
          -0.09311842687065808,
          -0.2997549098399441,
          -0.18610726229814412,
          -0.1271499337944218,
          -0.1153194266611195,
          -0.014984134887266163,
          0.154642180893857,
          0.3788990997903851,
          -0.34374869806077973,
          -0.2622117184881809,
          -0.1737594710178213,
          -0.10427086834977282,
          -0.004179307993983034,
          0.3034605328128592,
          0.5784992430273888,
          -0.22317006344360163,
          0.3239944131964391,
          -0.02003645356930076,
          -0.1771985092758887,
          -0.3050825198403429,
          -0.02499864263898898,
          -0.016313860005159393,
          -0.09286536510695113,
          -0.2728789894676946,
          0.2902712535831585,
          0.25905416551520377,
          -0.015806919979069835,
          -0.019692366258243367,
          -0.025573766368250015,
          0.25809871371299903,
          -0.01496619135590217,
          0.19372120566791953,
          -0.29142692799727826,
          -0.2070652976137933,
          0.05128458778830673,
          0.12091994083781187,
          -0.1238890082438556,
          -0.014965876903436415,
          -0.07546539084074476,
          0.19555886222514937,
          -0.015668135068556754,
          0.011965512452186026,
          -0.02023911135572716,
          0.252220638553537,
          -0.26231969739794386,
          -0.22251920240072562,
          -0.07312989818568949,
          -0.15139436817584945,
          -0.2901904873378359,
          0.09447229454954921,
          0.5654595469144611,
          -0.08046103260013547,
          -0.014966051446539317,
          -0.004522706291135322,
          -0.016422305348852275,
          -0.13251918218417086,
          0.11403686568605112,
          -0.10292275960694545,
          -0.2129164032654268,
          -0.36562665557508306,
          0.36536172127777766,
          0.43502117447612954,
          -0.014976627154584518,
          0.015408775745074108,
          -0.13323342757379675,
          -0.059260091945663125,
          -0.18207688888136667,
          -0.023391374124357343,
          -0.2882261265358099,
          0.19402146581304788,
          -0.008356926097300437,
          -0.017239048006812373,
          -0.014966677152332217,
          0.15918158789733924,
          0.25102918116758555,
          -0.05535250025628646,
          -0.049432450095937906,
          0.35212908731432435,
          0.5487809284951752,
          -0.13498578231263145,
          -0.1798959900544849,
          -0.12464853324367127,
          -0.06290122275591827,
          0.39403201670997307,
          0.030412882897890573,
          -0.23756720122846045,
          -0.2585194774142854,
          0.05420012549456673,
          -0.024375381400067918,
          -0.1401318588839983,
          -0.19105911077396784,
          0.09239641753338775,
          -0.012588208613787514,
          -0.06728425293593,
          -0.11823530763371569,
          0.010847695285304146,
          -0.006814359782174645,
          0.6157841058794713,
          -0.010514277985088942,
          0.16452738281327361,
          -0.2981637364762452,
          -0.23865901238542173,
          -0.016651319334911097,
          0.009833824491251633,
          -0.14123801274378794,
          -0.16270857524957
         ],
         "yaxis": "y"
        }
       ],
       "layout": {
        "autosize": true,
        "coloraxis": {
         "colorbar": {
          "title": {
           "text": "clusters"
          }
         },
         "colorscale": [
          [
           0,
           "#0d0887"
          ],
          [
           0.1111111111111111,
           "#46039f"
          ],
          [
           0.2222222222222222,
           "#7201a8"
          ],
          [
           0.3333333333333333,
           "#9c179e"
          ],
          [
           0.4444444444444444,
           "#bd3786"
          ],
          [
           0.5555555555555556,
           "#d8576b"
          ],
          [
           0.6666666666666666,
           "#ed7953"
          ],
          [
           0.7777777777777778,
           "#fb9f3a"
          ],
          [
           0.8888888888888888,
           "#fdca26"
          ],
          [
           1,
           "#f0f921"
          ]
         ]
        },
        "legend": {
         "tracegroupgap": 0
        },
        "margin": {
         "t": 60
        },
        "template": {
         "data": {
          "bar": [
           {
            "error_x": {
             "color": "#2a3f5f"
            },
            "error_y": {
             "color": "#2a3f5f"
            },
            "marker": {
             "line": {
              "color": "#E5ECF6",
              "width": 0.5
             },
             "pattern": {
              "fillmode": "overlay",
              "size": 10,
              "solidity": 0.2
             }
            },
            "type": "bar"
           }
          ],
          "barpolar": [
           {
            "marker": {
             "line": {
              "color": "#E5ECF6",
              "width": 0.5
             },
             "pattern": {
              "fillmode": "overlay",
              "size": 10,
              "solidity": 0.2
             }
            },
            "type": "barpolar"
           }
          ],
          "carpet": [
           {
            "aaxis": {
             "endlinecolor": "#2a3f5f",
             "gridcolor": "white",
             "linecolor": "white",
             "minorgridcolor": "white",
             "startlinecolor": "#2a3f5f"
            },
            "baxis": {
             "endlinecolor": "#2a3f5f",
             "gridcolor": "white",
             "linecolor": "white",
             "minorgridcolor": "white",
             "startlinecolor": "#2a3f5f"
            },
            "type": "carpet"
           }
          ],
          "choropleth": [
           {
            "colorbar": {
             "outlinewidth": 0,
             "ticks": ""
            },
            "type": "choropleth"
           }
          ],
          "contour": [
           {
            "colorbar": {
             "outlinewidth": 0,
             "ticks": ""
            },
            "colorscale": [
             [
              0,
              "#0d0887"
             ],
             [
              0.1111111111111111,
              "#46039f"
             ],
             [
              0.2222222222222222,
              "#7201a8"
             ],
             [
              0.3333333333333333,
              "#9c179e"
             ],
             [
              0.4444444444444444,
              "#bd3786"
             ],
             [
              0.5555555555555556,
              "#d8576b"
             ],
             [
              0.6666666666666666,
              "#ed7953"
             ],
             [
              0.7777777777777778,
              "#fb9f3a"
             ],
             [
              0.8888888888888888,
              "#fdca26"
             ],
             [
              1,
              "#f0f921"
             ]
            ],
            "type": "contour"
           }
          ],
          "contourcarpet": [
           {
            "colorbar": {
             "outlinewidth": 0,
             "ticks": ""
            },
            "type": "contourcarpet"
           }
          ],
          "heatmap": [
           {
            "colorbar": {
             "outlinewidth": 0,
             "ticks": ""
            },
            "colorscale": [
             [
              0,
              "#0d0887"
             ],
             [
              0.1111111111111111,
              "#46039f"
             ],
             [
              0.2222222222222222,
              "#7201a8"
             ],
             [
              0.3333333333333333,
              "#9c179e"
             ],
             [
              0.4444444444444444,
              "#bd3786"
             ],
             [
              0.5555555555555556,
              "#d8576b"
             ],
             [
              0.6666666666666666,
              "#ed7953"
             ],
             [
              0.7777777777777778,
              "#fb9f3a"
             ],
             [
              0.8888888888888888,
              "#fdca26"
             ],
             [
              1,
              "#f0f921"
             ]
            ],
            "type": "heatmap"
           }
          ],
          "heatmapgl": [
           {
            "colorbar": {
             "outlinewidth": 0,
             "ticks": ""
            },
            "colorscale": [
             [
              0,
              "#0d0887"
             ],
             [
              0.1111111111111111,
              "#46039f"
             ],
             [
              0.2222222222222222,
              "#7201a8"
             ],
             [
              0.3333333333333333,
              "#9c179e"
             ],
             [
              0.4444444444444444,
              "#bd3786"
             ],
             [
              0.5555555555555556,
              "#d8576b"
             ],
             [
              0.6666666666666666,
              "#ed7953"
             ],
             [
              0.7777777777777778,
              "#fb9f3a"
             ],
             [
              0.8888888888888888,
              "#fdca26"
             ],
             [
              1,
              "#f0f921"
             ]
            ],
            "type": "heatmapgl"
           }
          ],
          "histogram": [
           {
            "marker": {
             "pattern": {
              "fillmode": "overlay",
              "size": 10,
              "solidity": 0.2
             }
            },
            "type": "histogram"
           }
          ],
          "histogram2d": [
           {
            "colorbar": {
             "outlinewidth": 0,
             "ticks": ""
            },
            "colorscale": [
             [
              0,
              "#0d0887"
             ],
             [
              0.1111111111111111,
              "#46039f"
             ],
             [
              0.2222222222222222,
              "#7201a8"
             ],
             [
              0.3333333333333333,
              "#9c179e"
             ],
             [
              0.4444444444444444,
              "#bd3786"
             ],
             [
              0.5555555555555556,
              "#d8576b"
             ],
             [
              0.6666666666666666,
              "#ed7953"
             ],
             [
              0.7777777777777778,
              "#fb9f3a"
             ],
             [
              0.8888888888888888,
              "#fdca26"
             ],
             [
              1,
              "#f0f921"
             ]
            ],
            "type": "histogram2d"
           }
          ],
          "histogram2dcontour": [
           {
            "colorbar": {
             "outlinewidth": 0,
             "ticks": ""
            },
            "colorscale": [
             [
              0,
              "#0d0887"
             ],
             [
              0.1111111111111111,
              "#46039f"
             ],
             [
              0.2222222222222222,
              "#7201a8"
             ],
             [
              0.3333333333333333,
              "#9c179e"
             ],
             [
              0.4444444444444444,
              "#bd3786"
             ],
             [
              0.5555555555555556,
              "#d8576b"
             ],
             [
              0.6666666666666666,
              "#ed7953"
             ],
             [
              0.7777777777777778,
              "#fb9f3a"
             ],
             [
              0.8888888888888888,
              "#fdca26"
             ],
             [
              1,
              "#f0f921"
             ]
            ],
            "type": "histogram2dcontour"
           }
          ],
          "mesh3d": [
           {
            "colorbar": {
             "outlinewidth": 0,
             "ticks": ""
            },
            "type": "mesh3d"
           }
          ],
          "parcoords": [
           {
            "line": {
             "colorbar": {
              "outlinewidth": 0,
              "ticks": ""
             }
            },
            "type": "parcoords"
           }
          ],
          "pie": [
           {
            "automargin": true,
            "type": "pie"
           }
          ],
          "scatter": [
           {
            "fillpattern": {
             "fillmode": "overlay",
             "size": 10,
             "solidity": 0.2
            },
            "type": "scatter"
           }
          ],
          "scatter3d": [
           {
            "line": {
             "colorbar": {
              "outlinewidth": 0,
              "ticks": ""
             }
            },
            "marker": {
             "colorbar": {
              "outlinewidth": 0,
              "ticks": ""
             }
            },
            "type": "scatter3d"
           }
          ],
          "scattercarpet": [
           {
            "marker": {
             "colorbar": {
              "outlinewidth": 0,
              "ticks": ""
             }
            },
            "type": "scattercarpet"
           }
          ],
          "scattergeo": [
           {
            "marker": {
             "colorbar": {
              "outlinewidth": 0,
              "ticks": ""
             }
            },
            "type": "scattergeo"
           }
          ],
          "scattergl": [
           {
            "marker": {
             "colorbar": {
              "outlinewidth": 0,
              "ticks": ""
             }
            },
            "type": "scattergl"
           }
          ],
          "scattermapbox": [
           {
            "marker": {
             "colorbar": {
              "outlinewidth": 0,
              "ticks": ""
             }
            },
            "type": "scattermapbox"
           }
          ],
          "scatterpolar": [
           {
            "marker": {
             "colorbar": {
              "outlinewidth": 0,
              "ticks": ""
             }
            },
            "type": "scatterpolar"
           }
          ],
          "scatterpolargl": [
           {
            "marker": {
             "colorbar": {
              "outlinewidth": 0,
              "ticks": ""
             }
            },
            "type": "scatterpolargl"
           }
          ],
          "scatterternary": [
           {
            "marker": {
             "colorbar": {
              "outlinewidth": 0,
              "ticks": ""
             }
            },
            "type": "scatterternary"
           }
          ],
          "surface": [
           {
            "colorbar": {
             "outlinewidth": 0,
             "ticks": ""
            },
            "colorscale": [
             [
              0,
              "#0d0887"
             ],
             [
              0.1111111111111111,
              "#46039f"
             ],
             [
              0.2222222222222222,
              "#7201a8"
             ],
             [
              0.3333333333333333,
              "#9c179e"
             ],
             [
              0.4444444444444444,
              "#bd3786"
             ],
             [
              0.5555555555555556,
              "#d8576b"
             ],
             [
              0.6666666666666666,
              "#ed7953"
             ],
             [
              0.7777777777777778,
              "#fb9f3a"
             ],
             [
              0.8888888888888888,
              "#fdca26"
             ],
             [
              1,
              "#f0f921"
             ]
            ],
            "type": "surface"
           }
          ],
          "table": [
           {
            "cells": {
             "fill": {
              "color": "#EBF0F8"
             },
             "line": {
              "color": "white"
             }
            },
            "header": {
             "fill": {
              "color": "#C8D4E3"
             },
             "line": {
              "color": "white"
             }
            },
            "type": "table"
           }
          ]
         },
         "layout": {
          "annotationdefaults": {
           "arrowcolor": "#2a3f5f",
           "arrowhead": 0,
           "arrowwidth": 1
          },
          "autotypenumbers": "strict",
          "coloraxis": {
           "colorbar": {
            "outlinewidth": 0,
            "ticks": ""
           }
          },
          "colorscale": {
           "diverging": [
            [
             0,
             "#8e0152"
            ],
            [
             0.1,
             "#c51b7d"
            ],
            [
             0.2,
             "#de77ae"
            ],
            [
             0.3,
             "#f1b6da"
            ],
            [
             0.4,
             "#fde0ef"
            ],
            [
             0.5,
             "#f7f7f7"
            ],
            [
             0.6,
             "#e6f5d0"
            ],
            [
             0.7,
             "#b8e186"
            ],
            [
             0.8,
             "#7fbc41"
            ],
            [
             0.9,
             "#4d9221"
            ],
            [
             1,
             "#276419"
            ]
           ],
           "sequential": [
            [
             0,
             "#0d0887"
            ],
            [
             0.1111111111111111,
             "#46039f"
            ],
            [
             0.2222222222222222,
             "#7201a8"
            ],
            [
             0.3333333333333333,
             "#9c179e"
            ],
            [
             0.4444444444444444,
             "#bd3786"
            ],
            [
             0.5555555555555556,
             "#d8576b"
            ],
            [
             0.6666666666666666,
             "#ed7953"
            ],
            [
             0.7777777777777778,
             "#fb9f3a"
            ],
            [
             0.8888888888888888,
             "#fdca26"
            ],
            [
             1,
             "#f0f921"
            ]
           ],
           "sequentialminus": [
            [
             0,
             "#0d0887"
            ],
            [
             0.1111111111111111,
             "#46039f"
            ],
            [
             0.2222222222222222,
             "#7201a8"
            ],
            [
             0.3333333333333333,
             "#9c179e"
            ],
            [
             0.4444444444444444,
             "#bd3786"
            ],
            [
             0.5555555555555556,
             "#d8576b"
            ],
            [
             0.6666666666666666,
             "#ed7953"
            ],
            [
             0.7777777777777778,
             "#fb9f3a"
            ],
            [
             0.8888888888888888,
             "#fdca26"
            ],
            [
             1,
             "#f0f921"
            ]
           ]
          },
          "colorway": [
           "#636efa",
           "#EF553B",
           "#00cc96",
           "#ab63fa",
           "#FFA15A",
           "#19d3f3",
           "#FF6692",
           "#B6E880",
           "#FF97FF",
           "#FECB52"
          ],
          "font": {
           "color": "#2a3f5f"
          },
          "geo": {
           "bgcolor": "white",
           "lakecolor": "white",
           "landcolor": "#E5ECF6",
           "showlakes": true,
           "showland": true,
           "subunitcolor": "white"
          },
          "hoverlabel": {
           "align": "left"
          },
          "hovermode": "closest",
          "mapbox": {
           "style": "light"
          },
          "paper_bgcolor": "white",
          "plot_bgcolor": "#E5ECF6",
          "polar": {
           "angularaxis": {
            "gridcolor": "white",
            "linecolor": "white",
            "ticks": ""
           },
           "bgcolor": "#E5ECF6",
           "radialaxis": {
            "gridcolor": "white",
            "linecolor": "white",
            "ticks": ""
           }
          },
          "scene": {
           "xaxis": {
            "backgroundcolor": "#E5ECF6",
            "gridcolor": "white",
            "gridwidth": 2,
            "linecolor": "white",
            "showbackground": true,
            "ticks": "",
            "zerolinecolor": "white"
           },
           "yaxis": {
            "backgroundcolor": "#E5ECF6",
            "gridcolor": "white",
            "gridwidth": 2,
            "linecolor": "white",
            "showbackground": true,
            "ticks": "",
            "zerolinecolor": "white"
           },
           "zaxis": {
            "backgroundcolor": "#E5ECF6",
            "gridcolor": "white",
            "gridwidth": 2,
            "linecolor": "white",
            "showbackground": true,
            "ticks": "",
            "zerolinecolor": "white"
           }
          },
          "shapedefaults": {
           "line": {
            "color": "#2a3f5f"
           }
          },
          "ternary": {
           "aaxis": {
            "gridcolor": "white",
            "linecolor": "white",
            "ticks": ""
           },
           "baxis": {
            "gridcolor": "white",
            "linecolor": "white",
            "ticks": ""
           },
           "bgcolor": "#E5ECF6",
           "caxis": {
            "gridcolor": "white",
            "linecolor": "white",
            "ticks": ""
           }
          },
          "title": {
           "x": 0.05
          },
          "xaxis": {
           "automargin": true,
           "gridcolor": "white",
           "linecolor": "white",
           "ticks": "",
           "title": {
            "standoff": 15
           },
           "zerolinecolor": "white",
           "zerolinewidth": 2
          },
          "yaxis": {
           "automargin": true,
           "gridcolor": "white",
           "linecolor": "white",
           "ticks": "",
           "title": {
            "standoff": 15
           },
           "zerolinecolor": "white",
           "zerolinewidth": 2
          }
         }
        },
        "xaxis": {
         "anchor": "y",
         "autorange": true,
         "domain": [
          0,
          1
         ],
         "range": [
          -0.4062106530141722,
          0.6727411964485226
         ],
         "title": {
          "text": "KPCA 1"
         },
         "type": "linear"
        },
        "yaxis": {
         "anchor": "x",
         "autorange": true,
         "domain": [
          0,
          1
         ],
         "range": [
          -0.46325127433013735,
          0.6901914608975045
         ],
         "title": {
          "text": "KPCA 2"
         },
         "type": "linear"
        }
       }
      },
      "image/png": "[encoded data removed]",
      "text/html": [
       "<div>                            <div id=\"35d8bcb4-859a-4809-810b-0ebaa735d30c\" class=\"plotly-graph-div\" style=\"height:700px; width:100%;\"></div>            <script type=\"text/javascript\">                require([\"plotly\"], function(Plotly) {                    window.PLOTLYENV=window.PLOTLYENV || {};                                    if (document.getElementById(\"35d8bcb4-859a-4809-810b-0ebaa735d30c\")) {                    Plotly.newPlot(                        \"35d8bcb4-859a-4809-810b-0ebaa735d30c\",                        [{\"hovertemplate\":\"<b>%{hovertext}</b><br><br>KPCA 1=%{x}<br>KPCA 2=%{y}<br>clusters=%{marker.color}<extra></extra>\",\"hovertext\":[\"Afghanistan\",\"Albania\",\"Algeria\",\"Angola\",\"Antigua and Barbuda\",\"Argentina\",\"Armenia\",\"Australia\",\"Austria\",\"Azerbaijan\",\"Bahamas\",\"Bahrain\",\"Bangladesh\",\"Barbados\",\"Belarus\",\"Belgium\",\"Belize\",\"Benin\",\"Bhutan\",\"Bolivia\",\"Bosnia and Herzegovina\",\"Botswana\",\"Brazil\",\"Brunei\",\"Bulgaria\",\"Burkina Faso\",\"Burundi\",\"Cambodia\",\"Cameroon\",\"Canada\",\"Cape Verde\",\"Central African Republic\",\"Chad\",\"Chile\",\"China\",\"Colombia\",\"Comoros\",\"Congo, Dem. Rep.\",\"Congo, Rep.\",\"Costa Rica\",\"Cote d'Ivoire\",\"Croatia\",\"Cyprus\",\"Czech Republic\",\"Denmark\",\"Dominican Republic\",\"Ecuador\",\"Egypt\",\"El Salvador\",\"Equatorial Guinea\",\"Eritrea\",\"Estonia\",\"Fiji\",\"Finland\",\"France\",\"Gabon\",\"Gambia\",\"Georgia\",\"Germany\",\"Ghana\",\"Greece\",\"Grenada\",\"Guatemala\",\"Guinea\",\"Guinea-Bissau\",\"Guyana\",\"Haiti\",\"Hungary\",\"Iceland\",\"India\",\"Indonesia\",\"Iran\",\"Iraq\",\"Ireland\",\"Israel\",\"Italy\",\"Jamaica\",\"Japan\",\"Jordan\",\"Kazakhstan\",\"Kenya\",\"Kiribati\",\"Kuwait\",\"Kyrgyz Republic\",\"Lao\",\"Latvia\",\"Lebanon\",\"Lesotho\",\"Liberia\",\"Libya\",\"Lithuania\",\"Luxembourg\",\"Macedonia, FYR\",\"Madagascar\",\"Malawi\",\"Malaysia\",\"Maldives\",\"Mali\",\"Malta\",\"Mauritania\",\"Mauritius\",\"Micronesia, Fed. Sts.\",\"Moldova\",\"Mongolia\",\"Montenegro\",\"Morocco\",\"Mozambique\",\"Myanmar\",\"Namibia\",\"Nepal\",\"Netherlands\",\"New Zealand\",\"Niger\",\"Nigeria\",\"Norway\",\"Oman\",\"Pakistan\",\"Panama\",\"Paraguay\",\"Peru\",\"Philippines\",\"Poland\",\"Portugal\",\"Qatar\",\"Romania\",\"Russia\",\"Rwanda\",\"Samoa\",\"Saudi Arabia\",\"Senegal\",\"Serbia\",\"Seychelles\",\"Sierra Leone\",\"Singapore\",\"Slovak Republic\",\"Slovenia\",\"Solomon Islands\",\"South Africa\",\"South Korea\",\"Spain\",\"Sri Lanka\",\"St. Vincent and the Grenadines\",\"Sudan\",\"Suriname\",\"Sweden\",\"Switzerland\",\"Tajikistan\",\"Tanzania\",\"Thailand\",\"Timor-Leste\",\"Togo\",\"Tonga\",\"Tunisia\",\"Turkey\",\"Turkmenistan\",\"Uganda\",\"Ukraine\",\"United Arab Emirates\",\"United Kingdom\",\"United States\",\"Uruguay\",\"Uzbekistan\",\"Vanuatu\",\"Venezuela\",\"Vietnam\",\"Yemen\",\"Zambia\"],\"legendgroup\":\"\",\"marker\":{\"color\":[3,2,1,3,2,1,1,0,0,1,2,2,1,2,2,0,2,3,2,1,2,3,1,0,2,3,3,2,3,0,2,3,3,1,1,1,3,3,3,2,3,2,0,2,0,1,1,1,2,3,3,2,2,0,0,3,3,2,0,3,0,2,1,3,3,2,3,2,0,1,1,1,1,0,0,0,1,0,2,1,3,3,0,2,3,2,2,3,3,1,2,4,2,3,3,2,2,3,4,3,2,2,2,1,2,1,3,1,3,1,0,0,3,3,0,1,3,2,2,1,1,2,0,0,1,1,3,2,1,3,2,2,3,4,2,2,2,3,2,0,1,2,3,2,0,0,1,3,2,3,3,1,2,1,2,3,2,0,0,0,1,1,2,1,2,3,3],\"coloraxis\":\"coloraxis\",\"symbol\":\"circle\",\"size\":13},\"mode\":\"markers\",\"name\":\"\",\"orientation\":\"v\",\"showlegend\":false,\"x\":[-0.29455121992821776,0.6062417321708647,0.08533250793066731,-0.14234928032999028,0.539995993043251,-0.042521920599514554,0.34993984175414306,-0.26865041042804,-0.29781333882962885,0.03703175019463661,0.13574694547552393,-0.03429540802779978,0.0065955385651797595,0.4744976233027676,0.1451155936150666,-0.15938539208244448,0.364977417017844,-0.2936882985875852,0.25809087780352963,0.1487502484114063,0.06346896491111026,-0.1057274437293592,0.011369176049633936,-0.12813168885811668,0.6092232068390512,-0.32313575118871823,-0.1555342254241487,0.12217566524315387,-0.31258827481442225,-0.3426064331475018,0.3041244495063988,-0.15192552322498792,-0.2065725283856702,0.25834968222864874,0.26757844382422374,0.18035696545163996,-0.2538257547506139,-0.17064855336564025,-0.12480284152649734,0.04064349627429068,-0.27216904184580576,0.41309426264631866,0.004613102862562292,0.11610018362757603,-0.26555812967226033,0.40246389921207787,0.31993078470647013,0.1136278647597624,0.5744499758478613,-0.11833052012947282,-0.18087915855221465,0.155937962998595,0.15468192606625356,-0.32571911935835846,-0.3178701289647821,-0.1339423516621515,-0.29949484637951157,0.15926367713702133,-0.32726388569932857,-0.24470791932912908,-0.21103243576736863,0.5114484800289815,0.22792819597540165,-0.295835359466226,-0.24523596927696273,0.05849627660329036,-0.11556925098961261,0.04793814733246331,-0.26561863861952023,-0.03500347446770503,-0.029680630538994966,0.08846809557344372,-0.10620367449996776,-0.12479972350056655,-0.10509290332633962,-0.3190037772275915,0.44942581641951496,-0.2579158758844815,0.09838373759118649,-0.020899506030275367,-0.23181835943091328,-0.13012267160692254,-0.12944823865165708,0.030231269364462503,-0.13240708045501184,0.476370633625951,0.4577729025669727,-0.11744822134954966,-0.1263158397800022,-0.015957415111934985,0.2859207344177235,-0.11553051193737536,0.5961974744988268,-0.2626692899505557,-0.32500498222863333,0.006263313674100214,0.1752169324437191,-0.25004894426384305,-0.11553660235836256,-0.15856511137847937,0.5354878239718018,-0.1208005520573242,-0.07781832045632428,-0.11575513936422811,0.32592260430056114,0.4525336202684213,-0.3403892314853637,-0.11762565828417361,-0.11292160492880295,-0.012040784164843348,-0.18773933653759672,-0.29017453165201,-0.19716758928310893,-0.11552969879579708,-0.12365492265473595,-0.11690236194309993,-0.1671669440278472,0.08595959453471504,0.4439777940528265,0.27695208590992487,0.1389530439978212,0.46017641998906744,-0.14631644017381876,-0.11559186028637781,0.5402583008750824,0.04608548667587997,-0.14236387650987217,0.07326275717614901,-0.1046561559903223,-0.2765284019441796,0.1601450003896724,-0.10887893644693993,-0.1194807486811355,-0.11553333366796446,0.013499658784826469,-0.008514408273070064,-0.10371556897631179,-0.12080153580080981,0.13068061246874144,-0.2616655650838698,-0.06374347410036212,0.43354874827612094,-0.1863413842976189,0.3663459886805773,-0.31517660153109084,-0.14963520549992518,-0.032993945003544446,-0.33456773893410824,0.1968188752621967,-0.12460642850302793,-0.2246376371055569,0.04379883427475652,0.5935013512708761,0.27618724184808685,-0.06994765030344781,-0.23700242850891928,0.22833440774996436,-0.12097079135912697,-0.3426926634047008,-0.11786249203904843,0.24766561145463675,0.06306593189550043,0.037094090354010865,-0.11621843126491367,0.025110929792738688,-0.1630202779510355,-0.2725940496514037],\"xaxis\":\"x\",\"y\":[-0.1752664896164024,0.03210668318042644,-0.24708959138682218,-0.03600354829048337,0.23016100793444524,-0.04716591194398857,-0.22933488187166426,0.3250053210626324,0.3506131590106567,-0.1494516837086882,0.35973747296952346,0.0754105326739317,-0.2920870496985013,0.3646637239525957,-0.0013041293172000843,0.06570175815842937,-0.06876131014581513,-0.1976654640139801,-0.13609081075645613,-0.3867006262687957,0.15858506694757538,-0.08969899929731978,0.018161305403635582,-0.01674152024816864,0.25528614484918055,-0.19409006931668235,-0.04414426779844851,-0.20056358258668577,-0.2057760756073229,0.47051451888767354,-0.18506729425935908,-0.044450671320962094,-0.08516897830516333,0.20390115759176378,-0.19115694605242345,-0.02788957454442926,-0.23736291701056683,-0.05963693848266141,-0.025411895413770782,0.17743953466086126,-0.16163897728304405,0.35944935594857463,0.2261728812159065,0.2892123148236471,0.2522462398201844,-0.250654029800029,-0.054073908201770715,-0.3888439193121042,-0.0676379371187432,-0.016510027062375882,-0.14737736980205665,0.20127621456752437,-0.13760627420344268,0.5009161611140664,0.4538427706224268,-0.08957718633673527,-0.24470122635635308,0.0962596759122892,0.45444557184892753,-0.25281170413450654,0.5101498456617858,-0.09311842687065808,-0.2997549098399441,-0.18610726229814412,-0.1271499337944218,-0.1153194266611195,-0.014984134887266163,0.154642180893857,0.3788990997903851,-0.34374869806077973,-0.2622117184881809,-0.1737594710178213,-0.10427086834977282,-0.004179307993983034,0.3034605328128592,0.5784992430273888,-0.22317006344360163,0.3239944131964391,-0.02003645356930076,-0.1771985092758887,-0.3050825198403429,-0.02499864263898898,-0.016313860005159393,-0.09286536510695113,-0.2728789894676946,0.2902712535831585,0.25905416551520377,-0.015806919979069835,-0.019692366258243367,-0.025573766368250015,0.25809871371299903,-0.01496619135590217,0.19372120566791953,-0.29142692799727826,-0.2070652976137933,0.05128458778830673,0.12091994083781187,-0.1238890082438556,-0.014965876903436415,-0.07546539084074476,0.19555886222514937,-0.015668135068556754,0.011965512452186026,-0.02023911135572716,0.252220638553537,-0.26231969739794386,-0.22251920240072562,-0.07312989818568949,-0.15139436817584945,-0.2901904873378359,0.09447229454954921,0.5654595469144611,-0.08046103260013547,-0.014966051446539317,-0.004522706291135322,-0.016422305348852275,-0.13251918218417086,0.11403686568605112,-0.10292275960694545,-0.2129164032654268,-0.36562665557508306,0.36536172127777766,0.43502117447612954,-0.014976627154584518,0.015408775745074108,-0.13323342757379675,-0.059260091945663125,-0.18207688888136667,-0.023391374124357343,-0.2882261265358099,0.19402146581304788,-0.008356926097300437,-0.017239048006812373,-0.014966677152332217,0.15918158789733924,0.25102918116758555,-0.05535250025628646,-0.049432450095937906,0.35212908731432435,0.5487809284951752,-0.13498578231263145,-0.1798959900544849,-0.12464853324367127,-0.06290122275591827,0.39403201670997307,0.030412882897890573,-0.23756720122846045,-0.2585194774142854,0.05420012549456673,-0.024375381400067918,-0.1401318588839983,-0.19105911077396784,0.09239641753338775,-0.012588208613787514,-0.06728425293593,-0.11823530763371569,0.010847695285304146,-0.006814359782174645,0.6157841058794713,-0.010514277985088942,0.16452738281327361,-0.2981637364762452,-0.23865901238542173,-0.016651319334911097,0.009833824491251633,-0.14123801274378794,-0.16270857524957],\"yaxis\":\"y\",\"type\":\"scatter\"}],                        {\"template\":{\"data\":{\"histogram2dcontour\":[{\"type\":\"histogram2dcontour\",\"colorbar\":{\"outlinewidth\":0,\"ticks\":\"\"},\"colorscale\":[[0.0,\"#0d0887\"],[0.1111111111111111,\"#46039f\"],[0.2222222222222222,\"#7201a8\"],[0.3333333333333333,\"#9c179e\"],[0.4444444444444444,\"#bd3786\"],[0.5555555555555556,\"#d8576b\"],[0.6666666666666666,\"#ed7953\"],[0.7777777777777778,\"#fb9f3a\"],[0.8888888888888888,\"#fdca26\"],[1.0,\"#f0f921\"]]}],\"choropleth\":[{\"type\":\"choropleth\",\"colorbar\":{\"outlinewidth\":0,\"ticks\":\"\"}}],\"histogram2d\":[{\"type\":\"histogram2d\",\"colorbar\":{\"outlinewidth\":0,\"ticks\":\"\"},\"colorscale\":[[0.0,\"#0d0887\"],[0.1111111111111111,\"#46039f\"],[0.2222222222222222,\"#7201a8\"],[0.3333333333333333,\"#9c179e\"],[0.4444444444444444,\"#bd3786\"],[0.5555555555555556,\"#d8576b\"],[0.6666666666666666,\"#ed7953\"],[0.7777777777777778,\"#fb9f3a\"],[0.8888888888888888,\"#fdca26\"],[1.0,\"#f0f921\"]]}],\"heatmap\":[{\"type\":\"heatmap\",\"colorbar\":{\"outlinewidth\":0,\"ticks\":\"\"},\"colorscale\":[[0.0,\"#0d0887\"],[0.1111111111111111,\"#46039f\"],[0.2222222222222222,\"#7201a8\"],[0.3333333333333333,\"#9c179e\"],[0.4444444444444444,\"#bd3786\"],[0.5555555555555556,\"#d8576b\"],[0.6666666666666666,\"#ed7953\"],[0.7777777777777778,\"#fb9f3a\"],[0.8888888888888888,\"#fdca26\"],[1.0,\"#f0f921\"]]}],\"heatmapgl\":[{\"type\":\"heatmapgl\",\"colorbar\":{\"outlinewidth\":0,\"ticks\":\"\"},\"colorscale\":[[0.0,\"#0d0887\"],[0.1111111111111111,\"#46039f\"],[0.2222222222222222,\"#7201a8\"],[0.3333333333333333,\"#9c179e\"],[0.4444444444444444,\"#bd3786\"],[0.5555555555555556,\"#d8576b\"],[0.6666666666666666,\"#ed7953\"],[0.7777777777777778,\"#fb9f3a\"],[0.8888888888888888,\"#fdca26\"],[1.0,\"#f0f921\"]]}],\"contourcarpet\":[{\"type\":\"contourcarpet\",\"colorbar\":{\"outlinewidth\":0,\"ticks\":\"\"}}],\"contour\":[{\"type\":\"contour\",\"colorbar\":{\"outlinewidth\":0,\"ticks\":\"\"},\"colorscale\":[[0.0,\"#0d0887\"],[0.1111111111111111,\"#46039f\"],[0.2222222222222222,\"#7201a8\"],[0.3333333333333333,\"#9c179e\"],[0.4444444444444444,\"#bd3786\"],[0.5555555555555556,\"#d8576b\"],[0.6666666666666666,\"#ed7953\"],[0.7777777777777778,\"#fb9f3a\"],[0.8888888888888888,\"#fdca26\"],[1.0,\"#f0f921\"]]}],\"surface\":[{\"type\":\"surface\",\"colorbar\":{\"outlinewidth\":0,\"ticks\":\"\"},\"colorscale\":[[0.0,\"#0d0887\"],[0.1111111111111111,\"#46039f\"],[0.2222222222222222,\"#7201a8\"],[0.3333333333333333,\"#9c179e\"],[0.4444444444444444,\"#bd3786\"],[0.5555555555555556,\"#d8576b\"],[0.6666666666666666,\"#ed7953\"],[0.7777777777777778,\"#fb9f3a\"],[0.8888888888888888,\"#fdca26\"],[1.0,\"#f0f921\"]]}],\"mesh3d\":[{\"type\":\"mesh3d\",\"colorbar\":{\"outlinewidth\":0,\"ticks\":\"\"}}],\"scatter\":[{\"fillpattern\":{\"fillmode\":\"overlay\",\"size\":10,\"solidity\":0.2},\"type\":\"scatter\"}],\"parcoords\":[{\"type\":\"parcoords\",\"line\":{\"colorbar\":{\"outlinewidth\":0,\"ticks\":\"\"}}}],\"scatterpolargl\":[{\"type\":\"scatterpolargl\",\"marker\":{\"colorbar\":{\"outlinewidth\":0,\"ticks\":\"\"}}}],\"bar\":[{\"error_x\":{\"color\":\"#2a3f5f\"},\"error_y\":{\"color\":\"#2a3f5f\"},\"marker\":{\"line\":{\"color\":\"#E5ECF6\",\"width\":0.5},\"pattern\":{\"fillmode\":\"overlay\",\"size\":10,\"solidity\":0.2}},\"type\":\"bar\"}],\"scattergeo\":[{\"type\":\"scattergeo\",\"marker\":{\"colorbar\":{\"outlinewidth\":0,\"ticks\":\"\"}}}],\"scatterpolar\":[{\"type\":\"scatterpolar\",\"marker\":{\"colorbar\":{\"outlinewidth\":0,\"ticks\":\"\"}}}],\"histogram\":[{\"marker\":{\"pattern\":{\"fillmode\":\"overlay\",\"size\":10,\"solidity\":0.2}},\"type\":\"histogram\"}],\"scattergl\":[{\"type\":\"scattergl\",\"marker\":{\"colorbar\":{\"outlinewidth\":0,\"ticks\":\"\"}}}],\"scatter3d\":[{\"type\":\"scatter3d\",\"line\":{\"colorbar\":{\"outlinewidth\":0,\"ticks\":\"\"}},\"marker\":{\"colorbar\":{\"outlinewidth\":0,\"ticks\":\"\"}}}],\"scattermapbox\":[{\"type\":\"scattermapbox\",\"marker\":{\"colorbar\":{\"outlinewidth\":0,\"ticks\":\"\"}}}],\"scatterternary\":[{\"type\":\"scatterternary\",\"marker\":{\"colorbar\":{\"outlinewidth\":0,\"ticks\":\"\"}}}],\"scattercarpet\":[{\"type\":\"scattercarpet\",\"marker\":{\"colorbar\":{\"outlinewidth\":0,\"ticks\":\"\"}}}],\"carpet\":[{\"aaxis\":{\"endlinecolor\":\"#2a3f5f\",\"gridcolor\":\"white\",\"linecolor\":\"white\",\"minorgridcolor\":\"white\",\"startlinecolor\":\"#2a3f5f\"},\"baxis\":{\"endlinecolor\":\"#2a3f5f\",\"gridcolor\":\"white\",\"linecolor\":\"white\",\"minorgridcolor\":\"white\",\"startlinecolor\":\"#2a3f5f\"},\"type\":\"carpet\"}],\"table\":[{\"cells\":{\"fill\":{\"color\":\"#EBF0F8\"},\"line\":{\"color\":\"white\"}},\"header\":{\"fill\":{\"color\":\"#C8D4E3\"},\"line\":{\"color\":\"white\"}},\"type\":\"table\"}],\"barpolar\":[{\"marker\":{\"line\":{\"color\":\"#E5ECF6\",\"width\":0.5},\"pattern\":{\"fillmode\":\"overlay\",\"size\":10,\"solidity\":0.2}},\"type\":\"barpolar\"}],\"pie\":[{\"automargin\":true,\"type\":\"pie\"}]},\"layout\":{\"autotypenumbers\":\"strict\",\"colorway\":[\"#636efa\",\"#EF553B\",\"#00cc96\",\"#ab63fa\",\"#FFA15A\",\"#19d3f3\",\"#FF6692\",\"#B6E880\",\"#FF97FF\",\"#FECB52\"],\"font\":{\"color\":\"#2a3f5f\"},\"hovermode\":\"closest\",\"hoverlabel\":{\"align\":\"left\"},\"paper_bgcolor\":\"white\",\"plot_bgcolor\":\"#E5ECF6\",\"polar\":{\"bgcolor\":\"#E5ECF6\",\"angularaxis\":{\"gridcolor\":\"white\",\"linecolor\":\"white\",\"ticks\":\"\"},\"radialaxis\":{\"gridcolor\":\"white\",\"linecolor\":\"white\",\"ticks\":\"\"}},\"ternary\":{\"bgcolor\":\"#E5ECF6\",\"aaxis\":{\"gridcolor\":\"white\",\"linecolor\":\"white\",\"ticks\":\"\"},\"baxis\":{\"gridcolor\":\"white\",\"linecolor\":\"white\",\"ticks\":\"\"},\"caxis\":{\"gridcolor\":\"white\",\"linecolor\":\"white\",\"ticks\":\"\"}},\"coloraxis\":{\"colorbar\":{\"outlinewidth\":0,\"ticks\":\"\"}},\"colorscale\":{\"sequential\":[[0.0,\"#0d0887\"],[0.1111111111111111,\"#46039f\"],[0.2222222222222222,\"#7201a8\"],[0.3333333333333333,\"#9c179e\"],[0.4444444444444444,\"#bd3786\"],[0.5555555555555556,\"#d8576b\"],[0.6666666666666666,\"#ed7953\"],[0.7777777777777778,\"#fb9f3a\"],[0.8888888888888888,\"#fdca26\"],[1.0,\"#f0f921\"]],\"sequentialminus\":[[0.0,\"#0d0887\"],[0.1111111111111111,\"#46039f\"],[0.2222222222222222,\"#7201a8\"],[0.3333333333333333,\"#9c179e\"],[0.4444444444444444,\"#bd3786\"],[0.5555555555555556,\"#d8576b\"],[0.6666666666666666,\"#ed7953\"],[0.7777777777777778,\"#fb9f3a\"],[0.8888888888888888,\"#fdca26\"],[1.0,\"#f0f921\"]],\"diverging\":[[0,\"#8e0152\"],[0.1,\"#c51b7d\"],[0.2,\"#de77ae\"],[0.3,\"#f1b6da\"],[0.4,\"#fde0ef\"],[0.5,\"#f7f7f7\"],[0.6,\"#e6f5d0\"],[0.7,\"#b8e186\"],[0.8,\"#7fbc41\"],[0.9,\"#4d9221\"],[1,\"#276419\"]]},\"xaxis\":{\"gridcolor\":\"white\",\"linecolor\":\"white\",\"ticks\":\"\",\"title\":{\"standoff\":15},\"zerolinecolor\":\"white\",\"automargin\":true,\"zerolinewidth\":2},\"yaxis\":{\"gridcolor\":\"white\",\"linecolor\":\"white\",\"ticks\":\"\",\"title\":{\"standoff\":15},\"zerolinecolor\":\"white\",\"automargin\":true,\"zerolinewidth\":2},\"scene\":{\"xaxis\":{\"backgroundcolor\":\"#E5ECF6\",\"gridcolor\":\"white\",\"linecolor\":\"white\",\"showbackground\":true,\"ticks\":\"\",\"zerolinecolor\":\"white\",\"gridwidth\":2},\"yaxis\":{\"backgroundcolor\":\"#E5ECF6\",\"gridcolor\":\"white\",\"linecolor\":\"white\",\"showbackground\":true,\"ticks\":\"\",\"zerolinecolor\":\"white\",\"gridwidth\":2},\"zaxis\":{\"backgroundcolor\":\"#E5ECF6\",\"gridcolor\":\"white\",\"linecolor\":\"white\",\"showbackground\":true,\"ticks\":\"\",\"zerolinecolor\":\"white\",\"gridwidth\":2}},\"shapedefaults\":{\"line\":{\"color\":\"#2a3f5f\"}},\"annotationdefaults\":{\"arrowcolor\":\"#2a3f5f\",\"arrowhead\":0,\"arrowwidth\":1},\"geo\":{\"bgcolor\":\"white\",\"landcolor\":\"#E5ECF6\",\"subunitcolor\":\"white\",\"showland\":true,\"showlakes\":true,\"lakecolor\":\"white\"},\"title\":{\"x\":0.05},\"mapbox\":{\"style\":\"light\"}}},\"xaxis\":{\"anchor\":\"y\",\"domain\":[0.0,1.0],\"title\":{\"text\":\"KPCA 1\"}},\"yaxis\":{\"anchor\":\"x\",\"domain\":[0.0,1.0],\"title\":{\"text\":\"KPCA 2\"}},\"coloraxis\":{\"colorbar\":{\"title\":{\"text\":\"clusters\"}},\"colorscale\":[[0.0,\"#0d0887\"],[0.1111111111111111,\"#46039f\"],[0.2222222222222222,\"#7201a8\"],[0.3333333333333333,\"#9c179e\"],[0.4444444444444444,\"#bd3786\"],[0.5555555555555556,\"#d8576b\"],[0.6666666666666666,\"#ed7953\"],[0.7777777777777778,\"#fb9f3a\"],[0.8888888888888888,\"#fdca26\"],[1.0,\"#f0f921\"]]},\"legend\":{\"tracegroupgap\":0},\"margin\":{\"t\":60},\"height\":700},                        {\"responsive\": true}                    ).then(function(){\n",
       "                            \n",
       "var gd = document.getElementById('35d8bcb4-859a-4809-810b-0ebaa735d30c');\n",
       "var x = new MutationObserver(function (mutations, observer) {{\n",
       "        var display = window.getComputedStyle(gd).display;\n",
       "        if (!display || display === 'none') {{\n",
       "            console.log([gd, 'removed!']);\n",
       "            Plotly.purge(gd);\n",
       "            observer.disconnect();\n",
       "        }}\n",
       "}});\n",
       "\n",
       "// Listen for the removal of the full notebook cells\n",
       "var notebookContainer = gd.closest('#notebook-container');\n",
       "if (notebookContainer) {{\n",
       "    x.observe(notebookContainer, {childList: true});\n",
       "}}\n",
       "\n",
       "// Listen for the clearing of the current output cell\n",
       "var outputEl = gd.closest('.output');\n",
       "if (outputEl) {{\n",
       "    x.observe(outputEl, {childList: true});\n",
       "}}\n",
       "\n",
       "                        })                };                });            </script>        </div>"
      ]
     },
     "metadata": {},
     "output_type": "display_data"
    }
   ],
   "source": [
    "fig = px.scatter(\n",
    "    plot_df,\n",
    "    x='KPCA 1',\n",
    "    y='KPCA 2',\n",
    "    color='clusters',\n",
    "    hover_name = 'country',\n",
    "    height=700\n",
    ")\n",
    "fig.update_traces(marker=dict(size=13))\n",
    "fig.show()"
   ]
  },
  {
   "cell_type": "code",
   "execution_count": null,
   "id": "080aac8e-aa59-4278-84b5-c953f8b612c2",
   "metadata": {},
   "outputs": [],
   "source": []
  }
 ],
 "metadata": {
  "kernelspec": {
   "display_name": "Python 3 (ipykernel)",
   "language": "python",
   "name": "python3"
  },
  "language_info": {
   "codemirror_mode": {
    "name": "ipython",
    "version": 3
   },
   "file_extension": ".py",
   "mimetype": "text/x-python",
   "name": "python",
   "nbconvert_exporter": "python",
   "pygments_lexer": "ipython3",
   "version": "3.11.7"
  }
 },
 "nbformat": 4,
 "nbformat_minor": 5
}
